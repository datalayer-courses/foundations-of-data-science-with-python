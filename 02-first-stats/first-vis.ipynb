{
 "cells": [
  {
   "cell_type": "code",
   "execution_count": 1,
   "metadata": {
    "tags": [
     "remove-cell"
    ]
   },
   "outputs": [],
   "source": [
    "import random\n",
    "\n",
    "faces = [\"H\", \"T\"]"
   ]
  },
  {
   "cell_type": "markdown",
   "metadata": {},
   "source": [
    "# First Visualizations: Scatter Plots and Histograms"
   ]
  },
  {
   "cell_type": "markdown",
   "metadata": {},
   "source": [
    "```{index} plot; scatter\n",
    "```\n",
    "\n",
    "Before we try to answer the question about whether the coin is fair, we take a minute to consider how we can visualize the experimental results generated in the simulation. The most straight-forward plot to create from a sequence of numerical data is a *scatter plot*:\n",
    "````{panels}\n",
    "DEFINITION\n",
    "^^^\n",
    "```{glossary}\n",
    "scatter plot\n",
    "  A (two-dimensional) scatter plot takes two sequences $\\mathbf{x}= (x_0, x_1, \\ldots)$ and $\\mathbf{y}=(y_0, y_1, \\ldots)$ and plots symbols (called *markers*) that represent the locations of the points $(x_0, y_0), (x_1, y_1), \\ldots$ in two dimensions. \n",
    "```\n",
    "````\n",
    "\n",
    " For our purposes, we will plot the observed data versus the experiment number.\n",
    "\n",
    "Our first step in creating a scatter plot is to store all the data generated during the simulation. A list is a good container for this purpose:"
   ]
  },
  {
   "cell_type": "code",
   "execution_count": 2,
   "metadata": {},
   "outputs": [],
   "source": [
    "num_sims = 100\n",
    "flips = 20\n",
    "\n",
    "results = []\n",
    "for sim in range(num_sims):  # The simulation loop\n",
    "    coins = random.choices(faces, k=flips)  # Simulate all coin flips for one experiment\n",
    "    results += [\n",
    "        coins.count(\"H\")\n",
    "    ]  # Add the number of 'H's in this experiment to our results list"
   ]
  },
  {
   "cell_type": "markdown",
   "metadata": {},
   "source": [
    "```{index} Python; plotting\n",
    "```\n",
    "\n",
    "```{index} Matplotlib\n",
    "```\n",
    "\n",
    "There are many different libraries for generating plots in Python. The most common and popular is `matplotlib`, which is based on MATLAB's plotting commands. We usually import the `pyplot` module from `matplotlib` to the `plt` namespace:"
   ]
  },
  {
   "cell_type": "code",
   "execution_count": 3,
   "metadata": {},
   "outputs": [],
   "source": [
    "import matplotlib.pyplot as plt"
   ]
  },
  {
   "cell_type": "markdown",
   "metadata": {},
   "source": [
    "You may also want to use a Jupyter magic to make sure plots show up inline with your code and writing in your Jupyter notebook. We will typically use `%matplotlib inline`, but an alternative is `%matplotlib notebook`, which will make plots interactive."
   ]
  },
  {
   "cell_type": "code",
   "execution_count": 4,
   "metadata": {},
   "outputs": [],
   "source": [
    "%matplotlib inline"
   ]
  },
  {
   "cell_type": "code",
   "execution_count": 5,
   "metadata": {},
   "outputs": [
    {
     "data": {
      "text/plain": [
       "<matplotlib.collections.PathCollection at 0x7ff3beb39790>"
      ]
     },
     "execution_count": 5,
     "metadata": {},
     "output_type": "execute_result"
    },
    {
     "data": {
      "image/png": "[encoded data removed]",
      "text/plain": [
       "<Figure size 432x288 with 1 Axes>"
      ]
     },
     "metadata": {
      "needs_background": "light"
     },
     "output_type": "display_data"
    }
   ],
   "source": [
    "plt.scatter(range(num_sims), results)"
   ]
  },
  {
   "cell_type": "markdown",
   "metadata": {},
   "source": [
    "It is helpful to label the axes and provide a title for future reference:"
   ]
  },
  {
   "cell_type": "code",
   "execution_count": 6,
   "metadata": {},
   "outputs": [
    {
     "data": {
      "text/plain": [
       "Text(0.5, 1.0, 'Experimental Numbers of Heads Observed when a Coin is Flipped 20 Times')"
      ]
     },
     "execution_count": 6,
     "metadata": {},
     "output_type": "execute_result"
    },
    {
     "data": {
      "image/png": "[encoded data removed]",
      "text/plain": [
       "<Figure size 432x288 with 1 Axes>"
      ]
     },
     "metadata": {
      "needs_background": "light"
     },
     "output_type": "display_data"
    }
   ],
   "source": [
    "plt.scatter(range(num_sims), results)\n",
    "plt.xlabel(\"Experiment Number\")\n",
    "plt.ylabel(\"Number of Heads Observed\")\n",
    "plt.title(\"Experimental Numbers of Heads Observed when a Coin is Flipped 20 Times\")"
   ]
  },
  {
   "cell_type": "markdown",
   "metadata": {},
   "source": [
    "It should be clear that most of the results are around 8-12.  It might be easier to visualize this if we plot the number of experiments in which value for the number of heads is observed. We can understand how to create this from a physical perspective: Imagine if we took the graph above and rotated it $90^\\circ$ to the left and that the circular markers were turned into balls that were allowed to drop down until they fell onto the axis or another ball. Let's build exactly this type of visualization one ball at a time:"
   ]
  },
  {
   "cell_type": "markdown",
   "metadata": {},
   "source": [
    "![BallDropHistogram](ball-histogram.gif \"Counting Occurrences of Different Die Outcomes\")\n"
   ]
  },
  {
   "cell_type": "markdown",
   "metadata": {},
   "source": [
    "When the balls have finished dropping, the resulting plot shows the number of occurrences of each outcome. (See the code to generate this in the [Jupyter Notebook to Generate Ball Drop Graph](https://github.com/jmshea/Foundations-of-Data-Science-with-Python/blob/main/02/ball-drop-histogram.ipynb)).\n",
    "\n",
    "For reference, a static version of the final figure is here:\n",
    "![BallDropHistogramStatic](ball-histogram-static.png \"Counting Occurrences of Different Die Outcomes\")\n",
    "\n",
    "\n",
    "\n",
    "This plot is a type of *histogram*: "
   ]
  },
  {
   "cell_type": "markdown",
   "metadata": {},
   "source": [
    "```{index} plot; histogram\n",
    "```\n",
    "\n",
    "\n",
    "````{panels}\n",
    "DEFINITION\n",
    "^^^\n",
    "```{glossary}\n",
    "histogram\n",
    "  a type of bar graph in which the heights of the bars is proportional to the number of occurrences of the outcomes spanned by the width of the bars \n",
    "```\n",
    "````"
   ]
  },
  {
   "cell_type": "markdown",
   "metadata": {},
   "source": [
    "Histograms are often used for continuous data that may take on any real value within some range. The width of the bars correpond to `bins`, and outcomes anywhere within those bins are counted toward that bar. \n",
    "\n",
    "Matplotlib offers a `hist` function to create histograms, but it is designed for continuous data, and the bins Matplotlab's `hist` function chooses will often result in confusing visualizations for discrete data, where the data can only occur a specific points.\n",
    "\n",
    "For instance, here is the data used to create the visualization above along with the histogram created using the default bins:"
   ]
  },
  {
   "cell_type": "code",
   "execution_count": 7,
   "metadata": {},
   "outputs": [
    {
     "data": {
      "text/plain": [
       "(array([ 1.,  1.,  1.,  3.,  8., 30., 17., 13., 14., 12.]),\n",
       " array([ 2. ,  3.2,  4.4,  5.6,  6.8,  8. ,  9.2, 10.4, 11.6, 12.8, 14. ]),\n",
       " <BarContainer object of 10 artists>)"
      ]
     },
     "execution_count": 7,
     "metadata": {},
     "output_type": "execute_result"
    },
    {
     "data": {
      "image/png": "[encoded data removed]",
      "text/plain": [
       "<Figure size 432x288 with 1 Axes>"
      ]
     },
     "metadata": {
      "needs_background": "light"
     },
     "output_type": "display_data"
    }
   ],
   "source": [
    "results = [\n",
    "    11,\n",
    "    11,\n",
    "    8,\n",
    "    10,\n",
    "    10,\n",
    "    12,\n",
    "    10,\n",
    "    7,\n",
    "    12,\n",
    "    10,\n",
    "    11,\n",
    "    11,\n",
    "    7,\n",
    "    11,\n",
    "    10,\n",
    "    8,\n",
    "    10,\n",
    "    13,\n",
    "    6,\n",
    "    9,\n",
    "    11,\n",
    "    12,\n",
    "    11,\n",
    "    14,\n",
    "    5,\n",
    "    11,\n",
    "    10,\n",
    "    9,\n",
    "    8,\n",
    "    9,\n",
    "    11,\n",
    "    9,\n",
    "    6,\n",
    "    8,\n",
    "    9,\n",
    "    9,\n",
    "    6,\n",
    "    7,\n",
    "    12,\n",
    "    9,\n",
    "    13,\n",
    "    12,\n",
    "    9,\n",
    "    8,\n",
    "    8,\n",
    "    10,\n",
    "    8,\n",
    "    14,\n",
    "    10,\n",
    "    10,\n",
    "    9,\n",
    "    7,\n",
    "    10,\n",
    "    13,\n",
    "    10,\n",
    "    13,\n",
    "    8,\n",
    "    13,\n",
    "    7,\n",
    "    12,\n",
    "    9,\n",
    "    9,\n",
    "    12,\n",
    "    7,\n",
    "    11,\n",
    "    9,\n",
    "    14,\n",
    "    12,\n",
    "    8,\n",
    "    2,\n",
    "    12,\n",
    "    12,\n",
    "    9,\n",
    "    12,\n",
    "    9,\n",
    "    13,\n",
    "    12,\n",
    "    9,\n",
    "    13,\n",
    "    11,\n",
    "    10,\n",
    "    7,\n",
    "    13,\n",
    "    10,\n",
    "    9,\n",
    "    11,\n",
    "    13,\n",
    "    10,\n",
    "    12,\n",
    "    12,\n",
    "    7,\n",
    "    8,\n",
    "    11,\n",
    "    10,\n",
    "    10,\n",
    "    4,\n",
    "    9,\n",
    "    8,\n",
    "    9,\n",
    "    8,\n",
    "]\n",
    "plt.hist(results)"
   ]
  },
  {
   "cell_type": "markdown",
   "metadata": {},
   "source": [
    "We can see the counts and bin edges from the first two outputs of the `plt.hist()` function, respectively. The third output is a Matplotlib object that we will not cover in this book.\n",
    "\n",
    "The histogram created by Matplotlib with the default bins looks distinctly different than the one we created. This is because the default is to create 10 bins that are evenly spaced between the minimum and maximum values. In this case, it results in bins that are 1.2 units wide, so some bins contain multiple different numbers of heads. For instance, there is a bin from 8 to 9.2 that includes both the values of 8 heads and 9 heads, resulting in the large spike in the middle. There is also a bin from 12.8 to 14, which includes both the values of 13 and 14 heads, resulting in the last bin on the right side being much taller than in the ball-drop histogram. \n",
    "\n",
    "In some cases, applying Matplotlib's `hist` function to discrete data will result in bins with the expected heights mixed with empty bins. For instance, we can specify `bins=15` to get 15 uniformly space bins, but again the result does not accurately reflect the distribution of the data, because now it has a large empty space in the middle:"
   ]
  },
  {
   "cell_type": "code",
   "execution_count": 8,
   "metadata": {},
   "outputs": [
    {
     "data": {
      "text/plain": [
       "(array([ 1.,  0.,  1.,  1.,  0.,  3.,  8., 12., 18.,  0., 17., 13., 14.,\n",
       "         9.,  3.]),\n",
       " array([ 2. ,  2.8,  3.6,  4.4,  5.2,  6. ,  6.8,  7.6,  8.4,  9.2, 10. ,\n",
       "        10.8, 11.6, 12.4, 13.2, 14. ]),\n",
       " <BarContainer object of 15 artists>)"
      ]
     },
     "execution_count": 8,
     "metadata": {},
     "output_type": "execute_result"
    },
    {
     "data": {
      "image/png": "[encoded data removed]",
      "text/plain": [
       "<Figure size 432x288 with 1 Axes>"
      ]
     },
     "metadata": {
      "needs_background": "light"
     },
     "output_type": "display_data"
    }
   ],
   "source": [
    "plt.hist(results, bins=15)"
   ]
  },
  {
   "cell_type": "markdown",
   "metadata": {},
   "source": [
    "\n",
    "We can make a much better histogram by specifying the bins.  We will do so by specifying a list of bin edges. When working with integer data, it is typically best to make bins that are one unit wide with bin edges that are 0.5 to each side of the bin centers. To span the observed values in this dataset, we would need bin edges at $1.5, 2.5, \\dots, 14.5$\n",
    "\n",
    "We could make a list of these bin edges by typing them individually or by writing a `for` loop to add them to a list. However, let's take the opportunity to introduce the numpy function `np.linspace()` that can create a uniformly spaced array of points between (and including) two edges.  We need 15 points between 1.5 and 14.5, but a general approach to creating bin edges with `np.linspace()` as shown below. (The +2 in the number of bins is because 1) the number of points between two integers, inclusive of both, is one more than the difference of the integres, and 2) there is one more bin edge than there are bin centers.) "
   ]
  },
  {
   "cell_type": "code",
   "execution_count": 9,
   "metadata": {},
   "outputs": [
    {
     "name": "stdout",
     "output_type": "stream",
     "text": [
      "[ 1.5  2.5  3.5  4.5  5.5  6.5  7.5  8.5  9.5 10.5 11.5 12.5 13.5 14.5]\n"
     ]
    }
   ],
   "source": [
    "import numpy as np\n",
    "\n",
    "edges = np.linspace(\n",
    "    min(results) - 0.5, max(results) + 0.5, max(results) - min(results) + 2\n",
    ")\n",
    "print(edges)"
   ]
  },
  {
   "cell_type": "markdown",
   "metadata": {},
   "source": [
    "Take a look at the call signature of `np.linspace` and you see that it requires a `start` and a `stop`, but `num` (the number of points between the start and stop) takes a default value of 50 if it is not provided.\n",
    "\n",
    "Now we are ready to regenerate the histogram with the correct bins:"
   ]
  },
  {
   "cell_type": "code",
   "execution_count": 10,
   "metadata": {},
   "outputs": [
    {
     "data": {
      "text/plain": [
       "(array([ 1.,  0.,  1.,  1.,  3.,  8., 12., 18., 17., 13., 14.,  9.,  3.]),\n",
       " array([ 1.5,  2.5,  3.5,  4.5,  5.5,  6.5,  7.5,  8.5,  9.5, 10.5, 11.5,\n",
       "        12.5, 13.5, 14.5]),\n",
       " <BarContainer object of 13 artists>)"
      ]
     },
     "execution_count": 10,
     "metadata": {},
     "output_type": "execute_result"
    },
    {
     "data": {
      "image/png": "[encoded data removed]",
      "text/plain": [
       "<Figure size 432x288 with 1 Axes>"
      ]
     },
     "metadata": {
      "needs_background": "light"
     },
     "output_type": "display_data"
    }
   ],
   "source": [
    "plt.hist(results, bins=edges)"
   ]
  },
  {
   "cell_type": "markdown",
   "metadata": {},
   "source": [
    "This graph is not ideal for a variety of reasons. First, all the bars run together because they are the same color. Second, the $y$-axis labels are not appropriate because we have quantities that are integers, not real numbers. Third, it is a hard to read off the heights of the bars if they are far from the labeled $y$-axes. Finally, the axes are not labeled and the graph is not titled, so someone looking at the graph will have no idea what it is trying to convey. Fortunately, these are all easily remedied:\n",
    "1. We can pass the `edgecolor` keyword parameter to the `plt.hist` function with value of `black`\n",
    "1. We can specify the locations of the labeled \"ticks\" on the $y$-axis using `plt.yticks()`\n",
    "1. We can add grid lines for the $y$-axis (at each tick) using `plt.grid()`\n",
    "1. We can label our axes using `plt.xlabel()` and `plt.ylabel()`\n",
    "1. We can add a title using `plt.title()`"
   ]
  },
  {
   "cell_type": "code",
   "execution_count": 11,
   "metadata": {},
   "outputs": [
    {
     "data": {
      "image/png": "[encoded data removed]",
      "text/plain": [
       "<Figure size 432x288 with 1 Axes>"
      ]
     },
     "metadata": {
      "needs_background": "light"
     },
     "output_type": "display_data"
    }
   ],
   "source": [
    "plt.hist(results, bins=edges, edgecolor=\"black\")\n",
    "plt.yticks(np.arange(0, 22, 2))\n",
    "plt.grid(axis=\"y\")\n",
    "plt.xlabel(\"Die value\")\n",
    "plt.ylabel(\"Number of occurrences\")\n",
    "plt.title(\"Histogram of 100 die rolls \");"
   ]
  },
  {
   "cell_type": "markdown",
   "metadata": {},
   "source": [
    "The **counts** of the outcomes can be used to estimate the **probabilities** of the outcomes if we turn them into relative frequencies:"
   ]
  },
  {
   "cell_type": "markdown",
   "metadata": {},
   "source": [
    "````{panels}\n",
    "DEFINITION\n",
    "^^^\n",
    "```{glossary}\n",
    "relative frequency\n",
    "   the proportion of times that we observe a result matching our criteria during repeated experiments (including simulation); i.e., the number of times that an event occurs divided by the number of times the experiment is conducted.\n",
    "```\n",
    "````\n"
   ]
  },
  {
   "cell_type": "markdown",
   "metadata": {},
   "source": [
    "For many experiments, the relative frequencies (results measured from experimentation) will converge to the true probabilities (mathematical descriptions fundamental to the experiments) when the number of experiments is large. (At this point in the book, we have any formal framework for calculating probabilities, but we will refine these statements in later chapters."
   ]
  },
  {
   "cell_type": "markdown",
   "metadata": {},
   "source": [
    "Let's consider two different approaches to getting the relative frequencies. The first is via `plt.hist`. **IF** the bin widths are equal to 1, then the relative frequencies can be found by setting the keyword parameter `density=True`. "
   ]
  },
  {
   "cell_type": "code",
   "execution_count": 12,
   "metadata": {},
   "outputs": [
    {
     "data": {
      "text/plain": [
       "(array([0.01, 0.  , 0.01, 0.01, 0.03, 0.08, 0.12, 0.18, 0.17, 0.13, 0.14,\n",
       "        0.09, 0.03]),\n",
       " array([ 1.5,  2.5,  3.5,  4.5,  5.5,  6.5,  7.5,  8.5,  9.5, 10.5, 11.5,\n",
       "        12.5, 13.5, 14.5]),\n",
       " <BarContainer object of 13 artists>)"
      ]
     },
     "execution_count": 12,
     "metadata": {},
     "output_type": "execute_result"
    },
    {
     "data": {
      "image/png": "[encoded data removed]",
      "text/plain": [
       "<Figure size 432x288 with 1 Axes>"
      ]
     },
     "metadata": {
      "needs_background": "light"
     },
     "output_type": "display_data"
    }
   ],
   "source": [
    "plt.hist(results, bins=edges, edgecolor=\"black\", density=True)"
   ]
  },
  {
   "cell_type": "markdown",
   "metadata": {},
   "source": [
    "Note that when `plt.hist()` is called with `density=True` and bins that are 1 unit wide, the first output will be the relative frequencies (the `density` parameter is useful in other situations when the bins are not 1 unit wide, but we defer the discussion of this to **CHAPTER ???**). We can verify the relative frequencies from `plt.hist` by directly counting and then normalizing. We could do this with a `for` loop, but NumPy makes this much easier using the `np.unique()` function, which will return a list of the unique values in a list or array. If `return_counts=True` is also passed to that function, it will also return an array that contains a count of each unique item:"
   ]
  },
  {
   "cell_type": "code",
   "execution_count": 13,
   "metadata": {},
   "outputs": [
    {
     "name": "stdout",
     "output_type": "stream",
     "text": [
      "[ 2  4  5  6  7  8  9 10 11 12 13 14] [ 1  1  1  3  8 12 18 17 13 14  9  3]\n"
     ]
    }
   ],
   "source": [
    "vals, counts = np.unique(results, return_counts=True)\n",
    "print(vals, counts)"
   ]
  },
  {
   "cell_type": "markdown",
   "metadata": {},
   "source": [
    "Then we can calculate the relative frequencies by dividing the counts by the\n",
    "sum of the counts:"
   ]
  },
  {
   "cell_type": "code",
   "execution_count": 14,
   "metadata": {},
   "outputs": [
    {
     "data": {
      "text/plain": [
       "array([0.01, 0.01, 0.01, 0.03, 0.08, 0.12, 0.18, 0.17, 0.13, 0.14, 0.09,\n",
       "       0.03])"
      ]
     },
     "execution_count": 14,
     "metadata": {},
     "output_type": "execute_result"
    }
   ],
   "source": [
    "counts / counts.sum()"
   ]
  },
  {
   "cell_type": "markdown",
   "metadata": {},
   "source": [
    "The relative frequencies calculated using numpy are identical to those returned via `plt.hist()`. As we anticipated, the relative frequencies are highest around 10 heads and lowest for very few or very high numbers of heads. For instance, we see that the relative frequency of  6 heads is 0.03, which gives a good indication that this seeing 6  heads is rare. However, to determine whether it is rare enough for us to conclude that the coin must be biased requires some additional work:\n",
    "$\\!\\;$"
   ]
  },
  {
   "cell_type": "code",
   "execution_count": 15,
   "metadata": {
    "tags": [
     "remove-input"
    ]
   },
   "outputs": [
    {
     "data": {
      "text/html": [
       "<style>\n",
       ":root{\n",
       "--asparagus: #87a878ff;\n",
       "--terra-cotta: #e26d5aff;\n",
       "--cyan-process: #5bc0ebff;\n",
       "--dark-blue-gray: #666a86ff;\n",
       "--snow: #fffafbff;\n",
       "--rich-black-fogra-39: #090c08ff;\n",
       "}\n",
       "\n",
       "\n",
       "/* entire container, keeps perspective */\n",
       ".flip-container {\n",
       "\tperspective: 1000px;\n",
       "  touch-action: pinch-zoom pan-y;\n",
       "}\n",
       "\n",
       "\n",
       ".flip-container.flip .flipper {\n",
       "\ttransform: rotateY(180deg)  translateX(-10%);\n",
       "}\n",
       "\n",
       "\n",
       ".flip-container.slide .flipper.frontcard {\n",
       "    filter: brightness(90%);\n",
       "    position:absolute;\n",
       "    z-index: -20;\n",
       "}\n",
       "\n",
       ".flip-container.prepare .flipper.backcard {\n",
       "    opacity:1;\n",
       "    transform:  translateX(20px); \n",
       "    transition: display 0s;\n",
       "}\n",
       "\n",
       "\n",
       ".flip-container.slide .flipper.backcard {\n",
       "    filter: brightness(115%);\n",
       "    height: 360px;\n",
       "    opacity:1;\n",
       "\t  transform:  rotateY(3deg)  translateX(700px) translateZ(20px) scale(1, 1.05) rotate(3deg);\n",
       "    z-index: 20;\n",
       "}\n",
       "\n",
       "\n",
       "\n",
       "\n",
       ".flip-container.slideback .flipper.backcard {\n",
       "    filter: brightness(100%);\n",
       "    opacity: 1;\n",
       "\t  transform: translateX(0px) translateZ(20px) rotateY(0deg);\n",
       "    z-index: 10;\n",
       "}\n",
       "\n",
       ".flip-container.slideback .flipper.frontcard {\n",
       "    filter: brightness(90%);\n",
       "    transform: translateX(0px) translateZ(-20px);\n",
       "    z-index: -10;\n",
       "}\n",
       "\n",
       "\n",
       ".flip-container, .front, .back {\n",
       "\t  height: 300px;\n",
       "\t  width: 640px;\n",
       "}\n",
       "\n",
       ".flipper.frontcard {\n",
       "    position:absolute;\n",
       "\t  transform: translateX(0px) rotateY(0deg) translateZ(20px);\n",
       "    z-index: 10;\n",
       "}\n",
       "\n",
       ".flipper.backcard {\n",
       "    filter: brightness(90%);\n",
       "    opacity:0;\n",
       "    position:absolute;\n",
       "    transform: translateX(0px) translateZ(-20px);\n",
       "    z-index: -10;\n",
       "}\n",
       "\n",
       "\n",
       "\n",
       "\n",
       "/* flip speed goes here */\n",
       ".flipper {\n",
       "    cursor:pointer;\n",
       "\t  height: 200px;\n",
       "    margin-left:20px;\n",
       "\t  position: absolute;\n",
       "    top: 0;\n",
       "\t  transform-style: preserve-3d;\n",
       "\t  transition: 0.6s;\n",
       "    width: 600px;\n",
       "}\n",
       "\n",
       "/* hide back of pane during swap */\n",
       ".front, .back {\n",
       "    -webkit-backface-visibility: hidden;\n",
       "\t  backface-visibility: hidden;\n",
       "\t  left: 0;\n",
       "\t  position: absolute;\n",
       "\t  top: 0;\n",
       "}\n",
       "\n",
       "/* front pane, placed above back */\n",
       ".front {\n",
       "\t  backface-visibility: hidden;\n",
       "    background: var(--asparagus);\n",
       "    transform: rotateY(0deg);\n",
       "\t  z-index: 2;\n",
       "}\n",
       "\n",
       "/* back, initially hidden pane */\n",
       ".back {\n",
       "\t  backface-visibility: hidden;\n",
       "    background: var(--dark-blue-gray);\n",
       "\t  transform: rotateY(180deg);\n",
       "}\n",
       "\n",
       ".next {\n",
       "    color: var(--rich-black-fogra-39);\n",
       "    cursor:pointer;\n",
       "    font-size: 16pt;\n",
       "    left:600px;\n",
       "    opacity:0.3;\n",
       "    position:relative; \n",
       "    top:20px;\n",
       "}\n",
       "\n",
       ".next.flipped {\n",
       "    opacity:1;\n",
       "}\n",
       "\n",
       ".next.hide {\n",
       "    opacity:0;\n",
       "}\n",
       "\n",
       "\n",
       ".flashcard{\n",
       "    border-radius: 10px;\n",
       "    color: #fafafa;\n",
       "    display:block;\n",
       "    padding:10px;\n",
       "  \n",
       "}\n",
       ".flashcardtext{\n",
       "    color: var(--snow);\n",
       "    font-size: 20pt;\n",
       "    margin-left:3%;\n",
       "    position:absolute;\n",
       "    text-align:center;\n",
       "    top: 50%;\n",
       "    transform: translate(0, -50%);\n",
       "    width:90%;\n",
       "  }\n",
       "\n",
       "</style><script type=\"text/Javascript\">\n",
       "/*!\n",
       " * swiped-events.js - v1.1.4\n",
       " * Pure JavaScript swipe events\n",
       " * https://github.com/john-doherty/swiped-events\n",
       " * @inspiration https://stackoverflow.com/questions/16348031/disable-scrolling-when-touch-moving-certain-element\n",
       " * @author John Doherty <www.johndoherty.info>\n",
       " * @license MIT\n",
       " */\n",
       "!function(t,e){\"use strict\";\"function\"!=typeof t.CustomEvent&&(t.CustomEvent=function(t,n){n=n||{bubbles:!1,cancelable:!1,detail:void 0};var a=e.createEvent(\"CustomEvent\");return a.initCustomEvent(t,n.bubbles,n.cancelable,n.detail),a},t.CustomEvent.prototype=t.Event.prototype),e.addEventListener(\"touchstart\",function(t){if(\"true\"===t.target.getAttribute(\"data-swipe-ignore\"))return;s=t.target,r=Date.now(),n=t.touches[0].clientX,a=t.touches[0].clientY,u=0,i=0},!1),e.addEventListener(\"touchmove\",function(t){if(!n||!a)return;var e=t.touches[0].clientX,r=t.touches[0].clientY;u=n-e,i=a-r},!1),e.addEventListener(\"touchend\",function(t){if(s!==t.target)return;var e=parseInt(l(s,\"data-swipe-threshold\",\"20\"),10),o=parseInt(l(s,\"data-swipe-timeout\",\"500\"),10),c=Date.now()-r,d=\"\",p=t.changedTouches||t.touches||[];Math.abs(u)>Math.abs(i)?Math.abs(u)>e&&c<o&&(d=u>0?\"swiped-left\":\"swiped-right\"):Math.abs(i)>e&&c<o&&(d=i>0?\"swiped-up\":\"swiped-down\");if(\"\"!==d){var b={dir:d.replace(/swiped-/,\"\"),xStart:parseInt(n,10),xEnd:parseInt((p[0]||{}).clientX||-1,10),yStart:parseInt(a,10),yEnd:parseInt((p[0]||{}).clientY||-1,10)};s.dispatchEvent(new CustomEvent(\"swiped\",{bubbles:!0,cancelable:!0,detail:b})),s.dispatchEvent(new CustomEvent(d,{bubbles:!0,cancelable:!0,detail:b}))}n=null,a=null,r=null},!1);var n=null,a=null,u=null,i=null,r=null,s=null;function l(t,n,a){for(;t&&t!==e.documentElement;){var u=t.getAttribute(n);if(u)return u;t=t.parentNode}return a}}(window,document);\n",
       "\n",
       "function jaxify(string) {\n",
       "    var mystring = string;\n",
       "    console.log(mystring);\n",
       "\n",
       "    count = 0;\n",
       "    var loc = mystring.search(/([^\\\\]|^)(\\$)/);\n",
       "\n",
       "    count2 = 0;\n",
       "    var loc2 = mystring.search(/([^\\\\]|^)(\\$\\$)/);\n",
       "\n",
       "    //console.log(loc);\n",
       "\n",
       "    while ((loc >= 0) || (loc2 >= 0)) {\n",
       "\n",
       "        /* Have to replace all the double $$ first with current implementation */\n",
       "        if (loc2 >= 0) {\n",
       "            if (count2 % 2 == 0) {\n",
       "                mystring = mystring.replace(/([^\\\\]|^)(\\$\\$)/, \"$1\\\\[\");\n",
       "            } else {\n",
       "                mystring = mystring.replace(/([^\\\\]|^)(\\$\\$)/, \"$1\\\\]\");\n",
       "            }\n",
       "            count2++;\n",
       "        } else {\n",
       "            if (count % 2 == 0) {\n",
       "                mystring = mystring.replace(/([^\\\\]|^)(\\$)/, \"$1\\\\(\");\n",
       "            } else {\n",
       "                mystring = mystring.replace(/([^\\\\]|^)(\\$)/, \"$1\\\\)\");\n",
       "            }\n",
       "            count++;\n",
       "        }\n",
       "        loc = mystring.search(/([^\\\\]|^)(\\$)/);\n",
       "        loc2 = mystring.search(/([^\\\\]|^)(\\$\\$)/);\n",
       "        //console.log(mystring,\", loc:\",loc,\", loc2:\",loc2);\n",
       "    }\n",
       "\n",
       "    //console.log(mystring);\n",
       "    return mystring;\n",
       "}\n",
       "\n",
       "function flip(ths) {\n",
       "    console.log(ths);\n",
       "    console.log(ths.id);\n",
       "    ths.classList.toggle(\"flip\"); \n",
       "    var next=document.getElementById(ths.id+'-next');\n",
       "    next.style.pointerEvents='none';\n",
       "    next.classList.add('flipped');\n",
       "    if (typeof MathJax != 'undefined') {\n",
       "        var version = MathJax.version;\n",
       "        console.log('MathJax version', version);\n",
       "        if (version[0] == \"2\") {\n",
       "            MathJax.Hub.Queue([\"Typeset\", MathJax.Hub]);\n",
       "        } else if (version[0] == \"3\") {\n",
       "            MathJax.typeset([ths]);\n",
       "        }\n",
       "    } else {\n",
       "        console.log('MathJax not detected');\n",
       "    }\n",
       "\n",
       "\n",
       "    setTimeout(reenableNext, 700, next);\n",
       "}\n",
       "\n",
       "function reenableNext(next) {\n",
       "    next.style.pointerEvents='auto';\n",
       "}\n",
       "\n",
       "\n",
       "\n",
       "function slide2(containerId) {\n",
       "    var container = document.getElementById(containerId);\n",
       "    var next=document.getElementById(containerId+'-next');\n",
       "    var frontcard = container.children[0];\n",
       "    var backcard = container.children[1];\n",
       "    container.style.pointerEvents='none';\n",
       "    //backcard.style.pointerEvents='none';\n",
       "    next.style.pointerEvents='none';\n",
       "    next.classList.remove('flipped');\n",
       "    next.classList.add('hide');\n",
       "\n",
       "    //container.classList.add(\"prepare\");\n",
       "    \n",
       "    container.className=\"flip-container slide\";\n",
       "    backcard.parentElement.removeChild(frontcard);\n",
       "    backcard.parentElement.appendChild(frontcard);\n",
       "    setTimeout(slideback, 600, container, frontcard, backcard, next);\n",
       "    \n",
       "}\n",
       "\n",
       "\n",
       "function checkFlip(containerId) {\n",
       "    var container = document.getElementById(containerId);\n",
       "\n",
       "\n",
       "    if (container.classList.contains('flip')) {\n",
       "        container.classList.remove('flip');\n",
       "        setTimeout(slide2, 600, containerId);\n",
       "    } \n",
       "    else {\n",
       "        slide2(containerId);\n",
       "    }\n",
       "}\n",
       "\n",
       "\n",
       "function slideback(container, frontcard, backcard, next) {\n",
       "    container.className=\"flip-container slideback\";\n",
       "    setTimeout(cleanup, 600, container, frontcard, backcard, next);\n",
       "}\n",
       "\n",
       "function cleanup(container, frontcard, backcard, next) {\n",
       "    container.removeChild(frontcard);\n",
       "    backcard.className=\"flipper frontcard\";\n",
       "    container.className=\"flip-container\";\n",
       "\n",
       "    var cardnum=parseInt(container.dataset.cardnum);\n",
       "    var cards=eval('cards'+container.id);\n",
       "    var flipper=createOneCard(container, false, cards, cardnum);\n",
       "    container.append(flipper);\n",
       "    cardnum= (cardnum+1) % parseInt(container.dataset.numCards);\n",
       "    container.dataset.cardnum=cardnum;\n",
       "    if (cardnum != 1){\n",
       "        next.innerHTML=\"Next >\";\n",
       "    } else {\n",
       "        next.innerHTML=\"Reload \\\\(\\\\circlearrowleft\\\\) \";\n",
       "        if (typeof MathJax != 'undefined') {\n",
       "            var version = MathJax.version;\n",
       "            console.log('MathJax version', version);\n",
       "            if (version[0] == \"2\") {\n",
       "                MathJax.Hub.Queue([\"Typeset\", MathJax.Hub]);\n",
       "            } else if (version[0] == \"3\") {\n",
       "                MathJax.typeset([next]);\n",
       "            }\n",
       "        } else {\n",
       "            console.log('MathJax not detected');\n",
       "        }\n",
       "\n",
       "\n",
       "    }\n",
       "\n",
       "    if (typeof MathJax != 'undefined') {\n",
       "        var version = MathJax.version;\n",
       "        console.log('MathJax version', version);\n",
       "        if (version[0] == \"2\") {\n",
       "            MathJax.Hub.Queue([\"Typeset\", MathJax.Hub]);\n",
       "        } else if (version[0] == \"3\") {\n",
       "            MathJax.typeset();\n",
       "        }\n",
       "    } else {\n",
       "        console.log('MathJax not detected');\n",
       "    }\n",
       "\n",
       "\n",
       "    next.style.pointerEvents='auto';\n",
       "    container.style.pointerEvents='auto';\n",
       "    next.classList.remove('hide');\n",
       "    container.addEventListener('swiped-left', function(e) {\n",
       "        /*\n",
       "          console.log(e.detail);\n",
       "          console.log(id);\n",
       "        */\n",
       "        checkFlip(container.id);\n",
       "    }, {once: true });\n",
       "\n",
       "\n",
       "}\n",
       "\n",
       "\n",
       "function createOneCard  (mydiv, frontCard, cards, cardnum) {\n",
       "    colors=[\n",
       "        '--asparagus',\n",
       "        '--terra-cotta',\n",
       "        '--cyan-process'\n",
       "    ]\n",
       "\n",
       "    var flipper = document.createElement('div');\n",
       "    if (frontCard){\n",
       "        flipper.className=\"flipper frontcard\";    \n",
       "    }\n",
       "    else {\n",
       "        flipper.className=\"flipper backcard\";   \n",
       "    }\n",
       "\n",
       "    var front = document.createElement('div');\n",
       "    front.className='front flashcard';\n",
       "\n",
       "    var frontSpan= document.createElement('span');\n",
       "    frontSpan.className='flashcardtext';\n",
       "    frontSpan.innerHTML=jaxify(cards[cardnum]['front']);\n",
       "    //frontSpan.textContent=jaxify(cards[cardnum]['front']);\n",
       "    front.style.background='var(' + colors[cardnum % colors.length] + ')';\n",
       "\n",
       "\n",
       "    front.append(frontSpan);\n",
       "    flipper.append(front);\n",
       "\n",
       "    var back = document.createElement('div');\n",
       "    back.className='back flashcard';\n",
       "\n",
       "    var backSpan= document.createElement('span');\n",
       "    backSpan.className='flashcardtext';\n",
       "    backSpan.innerHTML=jaxify(cards[cardnum]['back']);\n",
       "    back.append(backSpan);\n",
       "\n",
       "    flipper.append(back);\n",
       "\n",
       "    return flipper;\n",
       "\n",
       "}\n",
       "\n",
       "\n",
       "\n",
       "\n",
       "\n",
       "function createCards(id) {\n",
       "    console.log(id);\n",
       "    \n",
       "    var mydiv=document.getElementById(id);\n",
       "    \n",
       "    var cards=eval('cards'+id);\n",
       "    mydiv.dataset.cardnum=0;\n",
       "    mydiv.dataset.numCards=cards.length;\n",
       "    mydiv.addEventListener('swiped-left', function(e) {\n",
       "        /*\n",
       "          console.log(e.detail);\n",
       "          console.log(id);\n",
       "        */\n",
       "        checkFlip(id);\n",
       "    }, {once: true});\n",
       "\n",
       "    var cardnum=0;\n",
       "    \n",
       "    for (var i=0; i<2; i++) {\n",
       "    \n",
       "        var flipper;\n",
       "        if (i==0){\n",
       "            flipper=createOneCard(mydiv, true, cards, cardnum);\n",
       "        }\n",
       "        else {\n",
       "            flipper=createOneCard(mydiv, false, cards, cardnum);\n",
       "        }\n",
       "\n",
       "        mydiv.append(flipper);\n",
       "        if (typeof MathJax != 'undefined') {\n",
       "            var version = MathJax.version;\n",
       "            if (typeof version == 'undefined') {\n",
       "                setTimeout(function(){\n",
       "                    var version = MathJax.version;\n",
       "                    console.log('After sleep, MathJax version', version);\n",
       "                    if (version[0] == \"2\") {\n",
       "                        MathJax.Hub.Queue([\"Typeset\", MathJax.Hub]);\n",
       "                    } else if (version[0] == \"3\") {\n",
       "                        MathJax.typeset([flipper]);\n",
       "                    }\n",
       "                }, 500);\n",
       "            } else{\n",
       "                console.log('MathJax version', version);\n",
       "                if (version[0] == \"2\") {\n",
       "                    MathJax.Hub.Queue([\"Typeset\", MathJax.Hub]);\n",
       "                } else if (version[0] == \"3\") {\n",
       "                    MathJax.typeset([flipper]);\n",
       "                }\n",
       "            }\n",
       "        } else {\n",
       "            console.log('MathJax not detected');\n",
       "        }\n",
       "\n",
       "\n",
       "        cardnum = (cardnum + 1) % mydiv.dataset.numCards;\n",
       "    }\n",
       "    mydiv.dataset.cardnum = cardnum;\n",
       "\n",
       "    var next=document.getElementById(id+'-next');\n",
       "    if (cards.length==1) {\n",
       "        // Don't show next if no other cards!\n",
       "        next.style.pointerEvents='none';\n",
       "        next.classList.add('hide');\n",
       "    } else {\n",
       "        next.innerHTML=\"Next >\";\n",
       "    }\n",
       "\n",
       "    return flipper;\n",
       "}\n",
       "\n",
       "\n",
       "\n",
       "\n",
       "\n",
       "</script><script type=\"text/Javascript\">\n",
       "    \n",
       "    cardsrGxSguEyLbQt=[\n",
       "    {\n",
       "        \"front\": \"scatter plot\",\n",
       "        \"back\": \"A (two-dimensional) scatter plot takes two sequences $\\\\mathbf{x}= (x_0, x_1, \\\\ldots)$ and $\\\\mathbf{y}=(y_0, y_1, \\\\ldots)$ and plots symbols (called <i>markers</i>) that represent the locations of the points $(x_0, y_0), (x_1, y_1), \\\\ldots$ in two dimensions. \"\n",
       "    },\n",
       "    {\n",
       "        \"front\": \"histogram\",\n",
       "        \"back\": \"a type of bar graph in which the heights of the bars is proportional to the number of occurrences of the outcomes spanned by the width of the bars \"\n",
       "    },\n",
       "    {\n",
       "        \"front\": \"relative frequency\",\n",
       "        \"back\": \"the proportion of times that we observe a result matching our criteria during repeated experiments (including simulation); i.e., the number of times that an event occurs divided by the number of times the experiment is conducted. \"\n",
       "    }\n",
       "]\n",
       ";\n",
       "    \n",
       "\n",
       "        {\n",
       "        const jmscontroller = new AbortController();\n",
       "        const signal = jmscontroller.signal;\n",
       "\n",
       "        setTimeout(() => jmscontroller.abort(), 5000);\n",
       "\n",
       "        fetch(\"https://raw.githubusercontent.com/jmshea/Foundations-of-Data-Science-with-Python/main/02-first-stats/flashcards/first-vis.json\", {signal})\n",
       "        .then(response => response.json())\n",
       "        .then(json => createCards(\"rGxSguEyLbQt\"))\n",
       "        .catch(err => {\n",
       "        console.log(\"Fetch error or timeout\");\n",
       "        createCards(\"rGxSguEyLbQt\");\n",
       "        });\n",
       "        }\n",
       "        </script>\n",
       "        <div style=\"height:40px\"></div><div class=\"flip-container\" id=\"rGxSguEyLbQt\" onclick=\"flip(this)\"></div><div style=\"height:40px\"></div><div class=\"next\" id=\"rGxSguEyLbQt-next\" onclick=\"checkFlip('rGxSguEyLbQt')\"> </div> <div style=\"height:40px\"></div>"
      ],
      "text/plain": [
       "<IPython.core.display.HTML object>"
      ]
     },
     "metadata": {},
     "output_type": "display_data"
    }
   ],
   "source": [
    "\n",
    "from jupytercards import display_flashcards\n",
    "\n",
    "github='https://raw.githubusercontent.com/jmshea/Foundations-of-Data-Science-with-Python/main/02-first-stats/flashcards/'\n",
    "display_flashcards(github+'first-vis.json')"
   ]
  }
 ],
 "metadata": {
  "kernelspec": {
   "display_name": "Python 3 (ipykernel)",
   "language": "python",
   "name": "python3"
  },
  "language_info": {
   "codemirror_mode": {
    "name": "ipython",
    "version": 3
   },
   "file_extension": ".py",
   "mimetype": "text/x-python",
   "name": "python",
   "nbconvert_exporter": "python",
   "pygments_lexer": "ipython3",
   "version": "3.9.12"
  }
 },
 "nbformat": 4,
 "nbformat_minor": 4
}
