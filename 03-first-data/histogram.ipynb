{
 "cells": [
  {
   "cell_type": "markdown",
   "metadata": {},
   "source": [
    "# Visualizing Multiple Data Sets - Part 2: Histograms for Partitioned Data"
   ]
  },
  {
   "cell_type": "markdown",
   "metadata": {},
   "source": [
    "Now we return to our Covid data set and apply what we have learned about partitions and summary statistics to set up what we call binary comparisons: these are comparisons between two groups. As before, we begin by importing the data from the CSV file:"
   ]
  },
  {
   "cell_type": "code",
   "execution_count": 1,
   "metadata": {},
   "outputs": [],
   "source": [
    "import matplotlib.pyplot as plt\n",
    "import numpy as np\n",
    "import pandas as pd\n",
    "\n",
    "df = pd.read_csv(\n",
    "    \"https://raw.githubusercontent.com/jmshea/Foundations-of-Data-Science-with-Python/main/03-first-data/covid-merged.csv\"\n",
    ")\n",
    "df.set_index(\"state\", inplace=True)\n",
    "df[\"cases_norm\"] = df[\"cases\"] / df[\"population\"] * 1000"
   ]
  },
  {
   "cell_type": "markdown",
   "metadata": {},
   "source": [
    "In the following subsections, we will partition the data based on normalized gdp and how urban the state’s population is. In each case, we will partition the data into two sets by comparing the metric being studied to the median value of that metric. Here, we have chosen median because it will result in the data set being partitioned into subsets that are approximately equal in size."
   ]
  },
  {
   "cell_type": "markdown",
   "metadata": {},
   "source": [
    "## Partitioning Based on GDP\n",
    "\n",
    "The gross domestic product (GDP) provides a measure of how affluent a state is. As we expect that GDP will increase along with population, we first add normalized GDP (in millions) per capita (in thousands) to our dataframe[^per-capita].\n",
    "\n",
    "[^per-capita]: Since both Covid cases and GDP are being normalized per capita, the normalization could actually be dropped. However, we keep it here to be consistent with the analysis of the effect of the urban index."
   ]
  },
  {
   "cell_type": "code",
   "execution_count": 2,
   "metadata": {},
   "outputs": [],
   "source": [
    "df[\"gdp_norm\"] = df[\"gdp\"] / df[\"population\"] * 1000"
   ]
  },
  {
   "cell_type": "markdown",
   "metadata": {},
   "source": [
    "We will partition the data around the median of the normalized GDP, which is"
   ]
  },
  {
   "cell_type": "code",
   "execution_count": 3,
   "metadata": {},
   "outputs": [
    {
     "data": {
      "text/plain": [
       "61.04737129841516"
      ]
     },
     "execution_count": 3,
     "metadata": {},
     "output_type": "execute_result"
    }
   ],
   "source": [
    "m_gdp = df[\"gdp_norm\"].median()\n",
    "m_gdp"
   ]
  },
  {
   "cell_type": "markdown",
   "metadata": {},
   "source": [
    "To partition the data let's first see what happens when a numerical column of a dataframe is compared to a value:"
   ]
  },
  {
   "cell_type": "code",
   "execution_count": 4,
   "metadata": {},
   "outputs": [
    {
     "data": {
      "text/plain": [
       "state\n",
       "Alabama           False\n",
       "Alaska             True\n",
       "Arizona           False\n",
       "Arkansas          False\n",
       "California         True\n",
       "Colorado           True\n",
       "Connecticut        True\n",
       "Delaware           True\n",
       "Florida           False\n",
       "Georgia           False\n",
       "Hawaii             True\n",
       "Idaho             False\n",
       "Illinois           True\n",
       "Indiana           False\n",
       "Iowa               True\n",
       "Kansas             True\n",
       "Kentucky          False\n",
       "Louisiana         False\n",
       "Maine             False\n",
       "Maryland           True\n",
       "Massachusetts      True\n",
       "Michigan          False\n",
       "Minnesota          True\n",
       "Mississippi       False\n",
       "Missouri          False\n",
       "Montana           False\n",
       "Nebraska           True\n",
       "Nevada            False\n",
       "New Hampshire      True\n",
       "New Jersey         True\n",
       "New Mexico        False\n",
       "New York           True\n",
       "North Carolina    False\n",
       "North Dakota       True\n",
       "Ohio              False\n",
       "Oklahoma          False\n",
       "Oregon             True\n",
       "Pennsylvania       True\n",
       "Rhode Island      False\n",
       "South Carolina    False\n",
       "South Dakota       True\n",
       "Tennessee         False\n",
       "Texas              True\n",
       "Utah               True\n",
       "Vermont           False\n",
       "Virginia           True\n",
       "Washington         True\n",
       "West Virginia     False\n",
       "Wisconsin         False\n",
       "Wyoming            True\n",
       "Name: gdp_norm, dtype: bool"
      ]
     },
     "execution_count": 4,
     "metadata": {},
     "output_type": "execute_result"
    }
   ],
   "source": [
    "df[\"gdp_norm\"] > m_gdp"
   ]
  },
  {
   "cell_type": "markdown",
   "metadata": {},
   "source": [
    "Pandas returns a series that contains Boolean values indicating whether the comparison for the value at each index was true or false. We can use such a series to partition our dataframe if we pass it as the index (in square brackets) to the data frame. So, we can create a dataframe with states that have population higher than the median as follows:"
   ]
  },
  {
   "cell_type": "code",
   "execution_count": 5,
   "metadata": {},
   "outputs": [
    {
     "data": {
      "text/html": [
       "<div>\n",
       "<style scoped>\n",
       "    .dataframe tbody tr th:only-of-type {\n",
       "        vertical-align: middle;\n",
       "    }\n",
       "\n",
       "    .dataframe tbody tr th {\n",
       "        vertical-align: top;\n",
       "    }\n",
       "\n",
       "    .dataframe thead th {\n",
       "        text-align: right;\n",
       "    }\n",
       "</style>\n",
       "<table border=\"1\" class=\"dataframe\">\n",
       "  <thead>\n",
       "    <tr style=\"text-align: right;\">\n",
       "      <th></th>\n",
       "      <th>cases</th>\n",
       "      <th>population</th>\n",
       "      <th>gdp</th>\n",
       "      <th>urban</th>\n",
       "      <th>cases_norm</th>\n",
       "      <th>gdp_norm</th>\n",
       "    </tr>\n",
       "    <tr>\n",
       "      <th>state</th>\n",
       "      <th></th>\n",
       "      <th></th>\n",
       "      <th></th>\n",
       "      <th></th>\n",
       "      <th></th>\n",
       "      <th></th>\n",
       "    </tr>\n",
       "  </thead>\n",
       "  <tbody>\n",
       "    <tr>\n",
       "      <th>Alaska</th>\n",
       "      <td>353</td>\n",
       "      <td>731545</td>\n",
       "      <td>54674.7</td>\n",
       "      <td>66.02</td>\n",
       "      <td>0.482540</td>\n",
       "      <td>74.738670</td>\n",
       "    </tr>\n",
       "    <tr>\n",
       "      <th>California</th>\n",
       "      <td>50470</td>\n",
       "      <td>39512223</td>\n",
       "      <td>3205000.1</td>\n",
       "      <td>94.95</td>\n",
       "      <td>1.277326</td>\n",
       "      <td>81.114143</td>\n",
       "    </tr>\n",
       "    <tr>\n",
       "      <th>Colorado</th>\n",
       "      <td>15207</td>\n",
       "      <td>5758736</td>\n",
       "      <td>400863.4</td>\n",
       "      <td>86.15</td>\n",
       "      <td>2.640684</td>\n",
       "      <td>69.609616</td>\n",
       "    </tr>\n",
       "    <tr>\n",
       "      <th>Connecticut</th>\n",
       "      <td>27700</td>\n",
       "      <td>3565287</td>\n",
       "      <td>290703.0</td>\n",
       "      <td>87.99</td>\n",
       "      <td>7.769361</td>\n",
       "      <td>81.537054</td>\n",
       "    </tr>\n",
       "    <tr>\n",
       "      <th>Delaware</th>\n",
       "      <td>4734</td>\n",
       "      <td>973764</td>\n",
       "      <td>77879.4</td>\n",
       "      <td>83.30</td>\n",
       "      <td>4.861548</td>\n",
       "      <td>79.977695</td>\n",
       "    </tr>\n",
       "    <tr>\n",
       "      <th>Hawaii</th>\n",
       "      <td>609</td>\n",
       "      <td>1415872</td>\n",
       "      <td>97001.1</td>\n",
       "      <td>91.93</td>\n",
       "      <td>0.430124</td>\n",
       "      <td>68.509795</td>\n",
       "    </tr>\n",
       "    <tr>\n",
       "      <th>Illinois</th>\n",
       "      <td>52918</td>\n",
       "      <td>12671821</td>\n",
       "      <td>893355.5</td>\n",
       "      <td>88.49</td>\n",
       "      <td>4.176038</td>\n",
       "      <td>70.499378</td>\n",
       "    </tr>\n",
       "    <tr>\n",
       "      <th>Iowa</th>\n",
       "      <td>7145</td>\n",
       "      <td>3155070</td>\n",
       "      <td>196247.4</td>\n",
       "      <td>64.02</td>\n",
       "      <td>2.264609</td>\n",
       "      <td>62.200648</td>\n",
       "    </tr>\n",
       "    <tr>\n",
       "      <th>Kansas</th>\n",
       "      <td>4305</td>\n",
       "      <td>2913314</td>\n",
       "      <td>178605.1</td>\n",
       "      <td>74.20</td>\n",
       "      <td>1.477699</td>\n",
       "      <td>61.306505</td>\n",
       "    </tr>\n",
       "    <tr>\n",
       "      <th>Maryland</th>\n",
       "      <td>21825</td>\n",
       "      <td>6045680</td>\n",
       "      <td>432997.8</td>\n",
       "      <td>87.20</td>\n",
       "      <td>3.610016</td>\n",
       "      <td>71.621025</td>\n",
       "    </tr>\n",
       "    <tr>\n",
       "      <th>Massachusetts</th>\n",
       "      <td>62205</td>\n",
       "      <td>6892503</td>\n",
       "      <td>603209.6</td>\n",
       "      <td>91.97</td>\n",
       "      <td>9.025023</td>\n",
       "      <td>87.516770</td>\n",
       "    </tr>\n",
       "    <tr>\n",
       "      <th>Minnesota</th>\n",
       "      <td>5136</td>\n",
       "      <td>5639632</td>\n",
       "      <td>389503.7</td>\n",
       "      <td>73.27</td>\n",
       "      <td>0.910698</td>\n",
       "      <td>69.065446</td>\n",
       "    </tr>\n",
       "    <tr>\n",
       "      <th>Nebraska</th>\n",
       "      <td>4332</td>\n",
       "      <td>1934408</td>\n",
       "      <td>133201.0</td>\n",
       "      <td>73.13</td>\n",
       "      <td>2.239445</td>\n",
       "      <td>68.858793</td>\n",
       "    </tr>\n",
       "    <tr>\n",
       "      <th>New Hampshire</th>\n",
       "      <td>2146</td>\n",
       "      <td>1359711</td>\n",
       "      <td>88014.8</td>\n",
       "      <td>60.30</td>\n",
       "      <td>1.578277</td>\n",
       "      <td>64.730520</td>\n",
       "    </tr>\n",
       "    <tr>\n",
       "      <th>New Jersey</th>\n",
       "      <td>118652</td>\n",
       "      <td>8882190</td>\n",
       "      <td>642967.7</td>\n",
       "      <td>94.68</td>\n",
       "      <td>13.358417</td>\n",
       "      <td>72.388420</td>\n",
       "    </tr>\n",
       "    <tr>\n",
       "      <th>New York</th>\n",
       "      <td>309696</td>\n",
       "      <td>19453561</td>\n",
       "      <td>1791566.8</td>\n",
       "      <td>87.87</td>\n",
       "      <td>15.919759</td>\n",
       "      <td>92.094542</td>\n",
       "    </tr>\n",
       "    <tr>\n",
       "      <th>North Dakota</th>\n",
       "      <td>1067</td>\n",
       "      <td>762062</td>\n",
       "      <td>57471.9</td>\n",
       "      <td>59.90</td>\n",
       "      <td>1.400149</td>\n",
       "      <td>75.416305</td>\n",
       "    </tr>\n",
       "    <tr>\n",
       "      <th>Oregon</th>\n",
       "      <td>2510</td>\n",
       "      <td>4217737</td>\n",
       "      <td>258692.6</td>\n",
       "      <td>81.03</td>\n",
       "      <td>0.595106</td>\n",
       "      <td>61.334455</td>\n",
       "    </tr>\n",
       "    <tr>\n",
       "      <th>Pennsylvania</th>\n",
       "      <td>48224</td>\n",
       "      <td>12801989</td>\n",
       "      <td>818448.6</td>\n",
       "      <td>78.66</td>\n",
       "      <td>3.766915</td>\n",
       "      <td>63.931363</td>\n",
       "    </tr>\n",
       "    <tr>\n",
       "      <th>South Dakota</th>\n",
       "      <td>2450</td>\n",
       "      <td>884659</td>\n",
       "      <td>56051.9</td>\n",
       "      <td>56.65</td>\n",
       "      <td>2.769429</td>\n",
       "      <td>63.359893</td>\n",
       "    </tr>\n",
       "    <tr>\n",
       "      <th>Texas</th>\n",
       "      <td>29072</td>\n",
       "      <td>28995881</td>\n",
       "      <td>1861581.9</td>\n",
       "      <td>84.70</td>\n",
       "      <td>1.002625</td>\n",
       "      <td>64.201598</td>\n",
       "    </tr>\n",
       "    <tr>\n",
       "      <th>Utah</th>\n",
       "      <td>4672</td>\n",
       "      <td>3205958</td>\n",
       "      <td>196639.4</td>\n",
       "      <td>90.58</td>\n",
       "      <td>1.457287</td>\n",
       "      <td>61.335613</td>\n",
       "    </tr>\n",
       "    <tr>\n",
       "      <th>Virginia</th>\n",
       "      <td>15846</td>\n",
       "      <td>8535519</td>\n",
       "      <td>566529.4</td>\n",
       "      <td>75.45</td>\n",
       "      <td>1.856478</td>\n",
       "      <td>66.373164</td>\n",
       "    </tr>\n",
       "    <tr>\n",
       "      <th>Washington</th>\n",
       "      <td>14814</td>\n",
       "      <td>7614893</td>\n",
       "      <td>624861.4</td>\n",
       "      <td>84.05</td>\n",
       "      <td>1.945398</td>\n",
       "      <td>82.057804</td>\n",
       "    </tr>\n",
       "    <tr>\n",
       "      <th>Wyoming</th>\n",
       "      <td>559</td>\n",
       "      <td>578759</td>\n",
       "      <td>40764.3</td>\n",
       "      <td>64.76</td>\n",
       "      <td>0.965860</td>\n",
       "      <td>70.433980</td>\n",
       "    </tr>\n",
       "  </tbody>\n",
       "</table>\n",
       "</div>"
      ],
      "text/plain": [
       "                cases  population        gdp  urban  cases_norm   gdp_norm\n",
       "state                                                                     \n",
       "Alaska            353      731545    54674.7  66.02    0.482540  74.738670\n",
       "California      50470    39512223  3205000.1  94.95    1.277326  81.114143\n",
       "Colorado        15207     5758736   400863.4  86.15    2.640684  69.609616\n",
       "Connecticut     27700     3565287   290703.0  87.99    7.769361  81.537054\n",
       "Delaware         4734      973764    77879.4  83.30    4.861548  79.977695\n",
       "Hawaii            609     1415872    97001.1  91.93    0.430124  68.509795\n",
       "Illinois        52918    12671821   893355.5  88.49    4.176038  70.499378\n",
       "Iowa             7145     3155070   196247.4  64.02    2.264609  62.200648\n",
       "Kansas           4305     2913314   178605.1  74.20    1.477699  61.306505\n",
       "Maryland        21825     6045680   432997.8  87.20    3.610016  71.621025\n",
       "Massachusetts   62205     6892503   603209.6  91.97    9.025023  87.516770\n",
       "Minnesota        5136     5639632   389503.7  73.27    0.910698  69.065446\n",
       "Nebraska         4332     1934408   133201.0  73.13    2.239445  68.858793\n",
       "New Hampshire    2146     1359711    88014.8  60.30    1.578277  64.730520\n",
       "New Jersey     118652     8882190   642967.7  94.68   13.358417  72.388420\n",
       "New York       309696    19453561  1791566.8  87.87   15.919759  92.094542\n",
       "North Dakota     1067      762062    57471.9  59.90    1.400149  75.416305\n",
       "Oregon           2510     4217737   258692.6  81.03    0.595106  61.334455\n",
       "Pennsylvania    48224    12801989   818448.6  78.66    3.766915  63.931363\n",
       "South Dakota     2450      884659    56051.9  56.65    2.769429  63.359893\n",
       "Texas           29072    28995881  1861581.9  84.70    1.002625  64.201598\n",
       "Utah             4672     3205958   196639.4  90.58    1.457287  61.335613\n",
       "Virginia        15846     8535519   566529.4  75.45    1.856478  66.373164\n",
       "Washington      14814     7614893   624861.4  84.05    1.945398  82.057804\n",
       "Wyoming           559      578759    40764.3  64.76    0.965860  70.433980"
      ]
     },
     "execution_count": 5,
     "metadata": {},
     "output_type": "execute_result"
    }
   ],
   "source": [
    "higher_gdp = df[df[\"gdp_norm\"] > m_gdp]\n",
    "higher_gdp"
   ]
  },
  {
   "cell_type": "markdown",
   "metadata": {},
   "source": [
    "Note the exceptionally high normalized case rate for New York (15.92) and New Jersey (13.4). "
   ]
  },
  {
   "cell_type": "markdown",
   "metadata": {},
   "source": [
    "By changine the inequality to $\\le$, we can create a dataframe with states at or below the median population:"
   ]
  },
  {
   "cell_type": "code",
   "execution_count": 6,
   "metadata": {},
   "outputs": [
    {
     "data": {
      "text/html": [
       "<div>\n",
       "<style scoped>\n",
       "    .dataframe tbody tr th:only-of-type {\n",
       "        vertical-align: middle;\n",
       "    }\n",
       "\n",
       "    .dataframe tbody tr th {\n",
       "        vertical-align: top;\n",
       "    }\n",
       "\n",
       "    .dataframe thead th {\n",
       "        text-align: right;\n",
       "    }\n",
       "</style>\n",
       "<table border=\"1\" class=\"dataframe\">\n",
       "  <thead>\n",
       "    <tr style=\"text-align: right;\">\n",
       "      <th></th>\n",
       "      <th>cases</th>\n",
       "      <th>population</th>\n",
       "      <th>gdp</th>\n",
       "      <th>urban</th>\n",
       "      <th>cases_norm</th>\n",
       "      <th>gdp_norm</th>\n",
       "    </tr>\n",
       "    <tr>\n",
       "      <th>state</th>\n",
       "      <th></th>\n",
       "      <th></th>\n",
       "      <th></th>\n",
       "      <th></th>\n",
       "      <th></th>\n",
       "      <th></th>\n",
       "    </tr>\n",
       "  </thead>\n",
       "  <tbody>\n",
       "    <tr>\n",
       "      <th>Alabama</th>\n",
       "      <td>7068</td>\n",
       "      <td>4903185</td>\n",
       "      <td>230750.1</td>\n",
       "      <td>59.04</td>\n",
       "      <td>1.441512</td>\n",
       "      <td>47.061267</td>\n",
       "    </tr>\n",
       "    <tr>\n",
       "      <th>Arizona</th>\n",
       "      <td>7648</td>\n",
       "      <td>7278717</td>\n",
       "      <td>379018.8</td>\n",
       "      <td>89.81</td>\n",
       "      <td>1.050735</td>\n",
       "      <td>52.072199</td>\n",
       "    </tr>\n",
       "    <tr>\n",
       "      <th>Arkansas</th>\n",
       "      <td>3281</td>\n",
       "      <td>3017804</td>\n",
       "      <td>132596.4</td>\n",
       "      <td>56.16</td>\n",
       "      <td>1.087214</td>\n",
       "      <td>43.938042</td>\n",
       "    </tr>\n",
       "    <tr>\n",
       "      <th>Florida</th>\n",
       "      <td>33683</td>\n",
       "      <td>21477737</td>\n",
       "      <td>1126510.3</td>\n",
       "      <td>91.16</td>\n",
       "      <td>1.568275</td>\n",
       "      <td>52.450139</td>\n",
       "    </tr>\n",
       "    <tr>\n",
       "      <th>Georgia</th>\n",
       "      <td>25431</td>\n",
       "      <td>10617423</td>\n",
       "      <td>634137.5</td>\n",
       "      <td>75.07</td>\n",
       "      <td>2.395214</td>\n",
       "      <td>59.726122</td>\n",
       "    </tr>\n",
       "    <tr>\n",
       "      <th>Idaho</th>\n",
       "      <td>2016</td>\n",
       "      <td>1787065</td>\n",
       "      <td>85791.1</td>\n",
       "      <td>70.58</td>\n",
       "      <td>1.128107</td>\n",
       "      <td>48.006704</td>\n",
       "    </tr>\n",
       "    <tr>\n",
       "      <th>Indiana</th>\n",
       "      <td>18099</td>\n",
       "      <td>6732219</td>\n",
       "      <td>384871.7</td>\n",
       "      <td>72.44</td>\n",
       "      <td>2.688415</td>\n",
       "      <td>57.168624</td>\n",
       "    </tr>\n",
       "    <tr>\n",
       "      <th>Kentucky</th>\n",
       "      <td>4708</td>\n",
       "      <td>4467673</td>\n",
       "      <td>218426.1</td>\n",
       "      <td>58.38</td>\n",
       "      <td>1.053792</td>\n",
       "      <td>48.890351</td>\n",
       "    </tr>\n",
       "    <tr>\n",
       "      <th>Louisiana</th>\n",
       "      <td>28044</td>\n",
       "      <td>4648794</td>\n",
       "      <td>259079.3</td>\n",
       "      <td>73.19</td>\n",
       "      <td>6.032532</td>\n",
       "      <td>55.730432</td>\n",
       "    </tr>\n",
       "    <tr>\n",
       "      <th>Maine</th>\n",
       "      <td>1095</td>\n",
       "      <td>1344212</td>\n",
       "      <td>68984.9</td>\n",
       "      <td>38.66</td>\n",
       "      <td>0.814604</td>\n",
       "      <td>51.319955</td>\n",
       "    </tr>\n",
       "    <tr>\n",
       "      <th>Michigan</th>\n",
       "      <td>41348</td>\n",
       "      <td>9986857</td>\n",
       "      <td>543489.4</td>\n",
       "      <td>74.57</td>\n",
       "      <td>4.140242</td>\n",
       "      <td>54.420465</td>\n",
       "    </tr>\n",
       "    <tr>\n",
       "      <th>Mississippi</th>\n",
       "      <td>6815</td>\n",
       "      <td>2976149</td>\n",
       "      <td>117642.3</td>\n",
       "      <td>49.35</td>\n",
       "      <td>2.289872</td>\n",
       "      <td>39.528364</td>\n",
       "    </tr>\n",
       "    <tr>\n",
       "      <th>Missouri</th>\n",
       "      <td>7563</td>\n",
       "      <td>6137428</td>\n",
       "      <td>332659.7</td>\n",
       "      <td>70.44</td>\n",
       "      <td>1.232275</td>\n",
       "      <td>54.201809</td>\n",
       "    </tr>\n",
       "    <tr>\n",
       "      <th>Montana</th>\n",
       "      <td>452</td>\n",
       "      <td>1068778</td>\n",
       "      <td>54034.7</td>\n",
       "      <td>55.89</td>\n",
       "      <td>0.422913</td>\n",
       "      <td>50.557459</td>\n",
       "    </tr>\n",
       "    <tr>\n",
       "      <th>Nevada</th>\n",
       "      <td>5053</td>\n",
       "      <td>3080156</td>\n",
       "      <td>181751.6</td>\n",
       "      <td>94.20</td>\n",
       "      <td>1.640501</td>\n",
       "      <td>59.007271</td>\n",
       "    </tr>\n",
       "    <tr>\n",
       "      <th>New Mexico</th>\n",
       "      <td>3411</td>\n",
       "      <td>2096829</td>\n",
       "      <td>106914.4</td>\n",
       "      <td>77.43</td>\n",
       "      <td>1.626742</td>\n",
       "      <td>50.988612</td>\n",
       "    </tr>\n",
       "    <tr>\n",
       "      <th>North Carolina</th>\n",
       "      <td>10507</td>\n",
       "      <td>10488084</td>\n",
       "      <td>601787.9</td>\n",
       "      <td>66.09</td>\n",
       "      <td>1.001804</td>\n",
       "      <td>57.378249</td>\n",
       "    </tr>\n",
       "    <tr>\n",
       "      <th>Ohio</th>\n",
       "      <td>18027</td>\n",
       "      <td>11689100</td>\n",
       "      <td>703368.9</td>\n",
       "      <td>77.92</td>\n",
       "      <td>1.542206</td>\n",
       "      <td>60.173059</td>\n",
       "    </tr>\n",
       "    <tr>\n",
       "      <th>Oklahoma</th>\n",
       "      <td>3618</td>\n",
       "      <td>3956971</td>\n",
       "      <td>201604.3</td>\n",
       "      <td>66.24</td>\n",
       "      <td>0.914336</td>\n",
       "      <td>50.949148</td>\n",
       "    </tr>\n",
       "    <tr>\n",
       "      <th>Rhode Island</th>\n",
       "      <td>8621</td>\n",
       "      <td>1059361</td>\n",
       "      <td>62335.4</td>\n",
       "      <td>90.73</td>\n",
       "      <td>8.137925</td>\n",
       "      <td>58.842453</td>\n",
       "    </tr>\n",
       "    <tr>\n",
       "      <th>South Carolina</th>\n",
       "      <td>6095</td>\n",
       "      <td>5148714</td>\n",
       "      <td>251664.5</td>\n",
       "      <td>66.33</td>\n",
       "      <td>1.183791</td>\n",
       "      <td>48.879099</td>\n",
       "    </tr>\n",
       "    <tr>\n",
       "      <th>Tennessee</th>\n",
       "      <td>10506</td>\n",
       "      <td>6829174</td>\n",
       "      <td>380823.0</td>\n",
       "      <td>66.39</td>\n",
       "      <td>1.538400</td>\n",
       "      <td>55.764138</td>\n",
       "    </tr>\n",
       "    <tr>\n",
       "      <th>Vermont</th>\n",
       "      <td>866</td>\n",
       "      <td>623989</td>\n",
       "      <td>34320.2</td>\n",
       "      <td>38.90</td>\n",
       "      <td>1.387845</td>\n",
       "      <td>55.001290</td>\n",
       "    </tr>\n",
       "    <tr>\n",
       "      <th>West Virginia</th>\n",
       "      <td>1126</td>\n",
       "      <td>1792147</td>\n",
       "      <td>78480.5</td>\n",
       "      <td>48.72</td>\n",
       "      <td>0.628297</td>\n",
       "      <td>43.791330</td>\n",
       "    </tr>\n",
       "    <tr>\n",
       "      <th>Wisconsin</th>\n",
       "      <td>6973</td>\n",
       "      <td>5822434</td>\n",
       "      <td>353935.5</td>\n",
       "      <td>70.15</td>\n",
       "      <td>1.197609</td>\n",
       "      <td>60.788237</td>\n",
       "    </tr>\n",
       "  </tbody>\n",
       "</table>\n",
       "</div>"
      ],
      "text/plain": [
       "                cases  population        gdp  urban  cases_norm   gdp_norm\n",
       "state                                                                     \n",
       "Alabama          7068     4903185   230750.1  59.04    1.441512  47.061267\n",
       "Arizona          7648     7278717   379018.8  89.81    1.050735  52.072199\n",
       "Arkansas         3281     3017804   132596.4  56.16    1.087214  43.938042\n",
       "Florida         33683    21477737  1126510.3  91.16    1.568275  52.450139\n",
       "Georgia         25431    10617423   634137.5  75.07    2.395214  59.726122\n",
       "Idaho            2016     1787065    85791.1  70.58    1.128107  48.006704\n",
       "Indiana         18099     6732219   384871.7  72.44    2.688415  57.168624\n",
       "Kentucky         4708     4467673   218426.1  58.38    1.053792  48.890351\n",
       "Louisiana       28044     4648794   259079.3  73.19    6.032532  55.730432\n",
       "Maine            1095     1344212    68984.9  38.66    0.814604  51.319955\n",
       "Michigan        41348     9986857   543489.4  74.57    4.140242  54.420465\n",
       "Mississippi      6815     2976149   117642.3  49.35    2.289872  39.528364\n",
       "Missouri         7563     6137428   332659.7  70.44    1.232275  54.201809\n",
       "Montana           452     1068778    54034.7  55.89    0.422913  50.557459\n",
       "Nevada           5053     3080156   181751.6  94.20    1.640501  59.007271\n",
       "New Mexico       3411     2096829   106914.4  77.43    1.626742  50.988612\n",
       "North Carolina  10507    10488084   601787.9  66.09    1.001804  57.378249\n",
       "Ohio            18027    11689100   703368.9  77.92    1.542206  60.173059\n",
       "Oklahoma         3618     3956971   201604.3  66.24    0.914336  50.949148\n",
       "Rhode Island     8621     1059361    62335.4  90.73    8.137925  58.842453\n",
       "South Carolina   6095     5148714   251664.5  66.33    1.183791  48.879099\n",
       "Tennessee       10506     6829174   380823.0  66.39    1.538400  55.764138\n",
       "Vermont           866      623989    34320.2  38.90    1.387845  55.001290\n",
       "West Virginia    1126     1792147    78480.5  48.72    0.628297  43.791330\n",
       "Wisconsin        6973     5822434   353935.5  70.15    1.197609  60.788237"
      ]
     },
     "execution_count": 6,
     "metadata": {},
     "output_type": "execute_result"
    }
   ],
   "source": [
    "lower_gdp = df[df[\"gdp_norm\"] <= m_gdp]\n",
    "lower_gdp"
   ]
  },
  {
   "cell_type": "markdown",
   "metadata": {},
   "source": [
    "As expected, the two dataframes have the same size:"
   ]
  },
  {
   "cell_type": "code",
   "execution_count": 7,
   "metadata": {},
   "outputs": [
    {
     "data": {
      "text/plain": [
       "(25, 25)"
      ]
     },
     "execution_count": 7,
     "metadata": {},
     "output_type": "execute_result"
    }
   ],
   "source": [
    "len(higher_gdp), len(lower_gdp)"
   ]
  },
  {
   "cell_type": "markdown",
   "metadata": {},
   "source": [
    "Let's generate histograms for case data for both the higher GDP and lower GDP data sets. We plot them on the same axes to make it easier to compare them:"
   ]
  },
  {
   "cell_type": "code",
   "execution_count": 8,
   "metadata": {},
   "outputs": [
    {
     "data": {
      "text/plain": [
       "Text(0, 0.5, 'Count')"
      ]
     },
     "execution_count": 8,
     "metadata": {},
     "output_type": "execute_result"
    },
    {
     "data": {
      "image/png": "[encoded data removed]",
      "text/plain": [
       "<Figure size 432x288 with 1 Axes>"
      ]
     },
     "metadata": {
      "needs_background": "light"
     },
     "output_type": "display_data"
    }
   ],
   "source": [
    "plt.hist(higher_gdp[\"cases_norm\"], alpha=0.7, label=\"GDP/pop > median\")\n",
    "plt.hist(lower_gdp[\"cases_norm\"], alpha=0.7, label=\"GDP/pop <= median\")\n",
    "\n",
    "plt.legend()\n",
    "plt.xlabel(\"Cases per population in thousands\")\n",
    "plt.ylabel(\"Count\")"
   ]
  },
  {
   "cell_type": "markdown",
   "metadata": {},
   "source": [
    "An issue that arises when plotting histograms on the same axes is that it becomes hard to compare values when the histograms use different bins. For example, from about 0.5 to 1.8, the histogram for the higher GDP group has a single bar with 13 entries. On the other hand, the histogram for the lower GDP group has two bars, but together those two bars sum up to 19. \n",
    "\n",
    "To resolve this issue, lets just pass bins that span the region as the bins for each histogram:"
   ]
  },
  {
   "cell_type": "code",
   "execution_count": 9,
   "metadata": {},
   "outputs": [
    {
     "data": {
      "text/plain": [
       "array([ 0,  2,  4,  6,  8, 10, 12, 14, 16])"
      ]
     },
     "execution_count": 9,
     "metadata": {},
     "output_type": "execute_result"
    }
   ],
   "source": [
    "mybins = np.arange(0, 18, 2)\n",
    "mybins"
   ]
  },
  {
   "cell_type": "code",
   "execution_count": 10,
   "metadata": {},
   "outputs": [
    {
     "data": {
      "text/plain": [
       "Text(0, 0.5, 'Count')"
      ]
     },
     "execution_count": 10,
     "metadata": {},
     "output_type": "execute_result"
    },
    {
     "data": {
      "image/png": "[encoded data removed]",
      "text/plain": [
       "<Figure size 432x288 with 1 Axes>"
      ]
     },
     "metadata": {
      "needs_background": "light"
     },
     "output_type": "display_data"
    }
   ],
   "source": [
    "plt.hist(higher_gdp[\"cases_norm\"], alpha=0.7, label=\"GDP/pop > median\", bins=mybins)\n",
    "plt.hist(lower_gdp[\"cases_norm\"], alpha=0.7, label=\"GDP/pop <= median\", bins=mybins)\n",
    "\n",
    "plt.legend()\n",
    "plt.xlabel(\"Cases per population in thousands\")\n",
    "plt.ylabel(\"Count\")"
   ]
  },
  {
   "cell_type": "markdown",
   "metadata": {},
   "source": [
    "The histogram shows that states with GDPs over the median have higher case counts in general (for instance, the larger bars in the range 2-5), as well as larger maximum values (above 8).  One reason for this might be that states with higher GDPs may have network effects, where more of the population interacts with a larger number of people. For instance, such states may have more of their population employed in office jobs and likely to travel for their work. "
   ]
  },
  {
   "cell_type": "markdown",
   "metadata": {},
   "source": [
    "When an effect is observed visually, we usually want to quantify that effect in some way and then test whether any observed difference is \"real\" (rather than just caused by randomness). Let's compare the average of the normalized number of cases for these two different groups:"
   ]
  },
  {
   "cell_type": "code",
   "execution_count": 11,
   "metadata": {},
   "outputs": [
    {
     "data": {
      "text/plain": [
       "(3.511232264232122, 1.9258062634390536)"
      ]
     },
     "execution_count": 11,
     "metadata": {},
     "output_type": "execute_result"
    }
   ],
   "source": [
    "hgdp_mu = higher_gdp[\"cases_norm\"].mean()\n",
    "lgdp_mu = lower_gdp[\"cases_norm\"].mean()\n",
    "hgdp_mu, lgdp_mu"
   ]
  },
  {
   "cell_type": "markdown",
   "metadata": {},
   "source": [
    "There is a substantial difference between the two average values. However, the average is more sensitive to extreme values, such as the large normalized case rates of New York and New Jersey. One way to deal with this is to use a statistic that is not as sensitive to extrema; for example, the median is such a statistic:\n"
   ]
  },
  {
   "cell_type": "code",
   "execution_count": 12,
   "metadata": {},
   "outputs": [
    {
     "data": {
      "text/plain": [
       "(1.9453983135416348, 1.3878449780364717)"
      ]
     },
     "execution_count": 12,
     "metadata": {},
     "output_type": "execute_result"
    }
   ],
   "source": [
    "higher_gdp[\"cases_norm\"].median(), lower_gdp[\"cases_norm\"].median()"
   ]
  },
  {
   "cell_type": "markdown",
   "metadata": {},
   "source": [
    "**Exercise**\n",
    "\n",
    "A new data frame can be created that excludes New York and New Jersey using the following command:"
   ]
  },
  {
   "cell_type": "code",
   "execution_count": 13,
   "metadata": {},
   "outputs": [],
   "source": [
    "df2 = df.drop([\"New York\", \"New Jersey\"])"
   ]
  },
  {
   "cell_type": "markdown",
   "metadata": {},
   "source": [
    "Using this reduced data set, partition the data around the median normalized GDP, plot the histograms for the normalized Covid rates of the two partitions, and find the average normalized Covid rates for the two partitions."
   ]
  },
  {
   "cell_type": "markdown",
   "metadata": {},
   "source": [
    "**Exercise**\n",
    "\n",
    "Partition the data around the **mean** GDP. Plot the histograms and find the averages for this new grouping."
   ]
  },
  {
   "cell_type": "markdown",
   "metadata": {},
   "source": [
    "## Partitioning Based on Urban Index\n",
    "\n",
    "Some of the networking effects mentioned in the previous section may be associated with populations living in large, urban areas. In this section, we partition the data based on the urban index, which is the percentage of the population that is living in an urban area.  As before, we start by finding the median urban index for the states:"
   ]
  },
  {
   "cell_type": "code",
   "execution_count": 14,
   "metadata": {},
   "outputs": [
    {
     "data": {
      "text/plain": [
       "73.735"
      ]
     },
     "execution_count": 14,
     "metadata": {},
     "output_type": "execute_result"
    }
   ],
   "source": [
    "m_urban = df[\"urban\"].median()\n",
    "m_urban"
   ]
  },
  {
   "cell_type": "markdown",
   "metadata": {},
   "source": [
    "Now we use that median to partition the data and plot the histograms:"
   ]
  },
  {
   "cell_type": "code",
   "execution_count": 15,
   "metadata": {},
   "outputs": [],
   "source": [
    "higher_urban = df[df[\"urban\"] > m_urban]\n",
    "lower_urban = df[df[\"urban\"] <= m_urban]"
   ]
  },
  {
   "cell_type": "code",
   "execution_count": 16,
   "metadata": {},
   "outputs": [
    {
     "data": {
      "text/plain": [
       "Text(0, 0.5, 'Count')"
      ]
     },
     "execution_count": 16,
     "metadata": {},
     "output_type": "execute_result"
    },
    {
     "data": {
      "image/png": "[encoded data removed]",
      "text/plain": [
       "<Figure size 432x288 with 1 Axes>"
      ]
     },
     "metadata": {
      "needs_background": "light"
     },
     "output_type": "display_data"
    }
   ],
   "source": [
    "plt.hist(\n",
    "    higher_urban[\"cases_norm\"], alpha=0.7, label=\"Urban index > median\", bins=mybins\n",
    ")\n",
    "plt.hist(\n",
    "    lower_urban[\"cases_norm\"], alpha=0.7, label=\"Urban index <= median\", bins=mybins\n",
    ")\n",
    "plt.legend()\n",
    "plt.xlabel(\"Cases per population in thousands\")\n",
    "plt.ylabel(\"Count\")"
   ]
  },
  {
   "cell_type": "markdown",
   "metadata": {},
   "source": [
    "As with normalized GDP, a substantial difference in distribution of normalized number of Covid cases is seen for states that are more urban versus less urban. The average normalized case rates for these partitions are:"
   ]
  },
  {
   "cell_type": "code",
   "execution_count": 17,
   "metadata": {},
   "outputs": [
    {
     "data": {
      "text/plain": [
       "(3.8908656178327066, 1.5461729098384682)"
      ]
     },
     "execution_count": 17,
     "metadata": {},
     "output_type": "execute_result"
    }
   ],
   "source": [
    "higher_urban[\"cases_norm\"].mean(), lower_urban[\"cases_norm\"].mean()"
   ]
  },
  {
   "cell_type": "markdown",
   "metadata": {},
   "source": [
    "Again, a substantial difference in averages is observed.  Some additional tests are left as exercises for the reader:"
   ]
  },
  {
   "cell_type": "markdown",
   "metadata": {},
   "source": [
    "**Exercise** \n",
    "\n",
    "Compare the medians for these two groups."
   ]
  },
  {
   "cell_type": "markdown",
   "metadata": {},
   "source": [
    "**Exercise**\n",
    "\n",
    "Remove New York and New Jersey from the data set and recreate the histograms and averages for the partitioned data set without those two states."
   ]
  },
  {
   "cell_type": "markdown",
   "metadata": {},
   "source": [
    "## Reading Assignment\n",
    "\n",
    "* [Exploring Histograms](https://tinlizzie.org/histograms/)"
   ]
  }
 ],
 "metadata": {
  "kernelspec": {
   "display_name": "Python 3 (ipykernel)",
   "language": "python",
   "name": "python3"
  },
  "language_info": {
   "codemirror_mode": {
    "name": "ipython",
    "version": 3
   },
   "file_extension": ".py",
   "mimetype": "text/x-python",
   "name": "python",
   "nbconvert_exporter": "python",
   "pygments_lexer": "ipython3",
   "version": "3.9.12"
  },
  "latex_envs": {
   "LaTeX_envs_menu_present": true,
   "autoclose": true,
   "autocomplete": true,
   "bibliofile": "biblio.bib",
   "cite_by": "apalike",
   "current_citInitial": 1,
   "eqLabelWithNumbers": true,
   "eqNumInitial": 1,
   "hotkeys": {
    "equation": "Ctrl-E",
    "itemize": "Ctrl-I"
   },
   "labels_anchors": false,
   "latex_user_defs": false,
   "report_style_numbering": false,
   "user_envs_cfg": false
  }
 },
 "nbformat": 4,
 "nbformat_minor": 4
}
