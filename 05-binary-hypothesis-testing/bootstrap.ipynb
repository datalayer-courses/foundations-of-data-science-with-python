{
 "cells": [
  {
   "cell_type": "markdown",
   "id": "36f458cf-92c0-4852-80d1-38425fbf390a",
   "metadata": {},
   "source": [
    "# Bootstrap Tests and Confidence Intervals\n",
    "\n"
   ]
  },
  {
   "cell_type": "markdown",
   "id": "b2ae12c0-e086-4823-baf4-18cb4416f6fd",
   "metadata": {},
   "source": [
    "Let's begin by testing our two statistical questions using NHST with bootstrap resampling. The two questions are:\n",
    "1. Is the observed increase in median wealth ($\\Delta = 57,400$) between the undergrad and grad groups statistically significant?\n",
    "2. Is the observed increase in the relative frequency of millionaires between the undergrad and grad groups ($\\Delta \\approx 0.053$) statistically significant?"
   ]
  },
  {
   "cell_type": "markdown",
   "id": "6cf11400-e1bf-472d-85dd-1ba57eff0e3a",
   "metadata": {},
   "source": [
    "Let's start by importing the necessary libraries and loading the data:"
   ]
  },
  {
   "cell_type": "code",
   "execution_count": 32,
   "id": "48f4e2c3-07a9-4699-b50d-e98add7ac215",
   "metadata": {},
   "outputs": [],
   "source": [
    "import numpy as np\n",
    "import numpy.random as npr\n",
    "import pandas as pd\n",
    "\n",
    "import matplotlib.pyplot as plt\n",
    "\n"
   ]
  },
  {
   "cell_type": "code",
   "execution_count": 33,
   "id": "028f3f78-b738-4c34-bbbb-3cdaea293cf6",
   "metadata": {},
   "outputs": [],
   "source": [
    "#df = pd.read_csv('https://raw.githubusercontent.com/jmshea/Foundations-of-Data-Science-with-Python/main/05-binary-hypothesis-testing/nls/nls.csv')\n",
    "df = pd.read_csv('nls/nls.csv')\n",
    "\n",
    "\n",
    "remap = {'R0000100':'CASE_ID',\n",
    "         'T5597600': 'GENDER',\n",
    "         'T5684500': 'NET_WEALTH',\n",
    "         'T9900000': 'HIGHEST_GRADE_EVER'\n",
    "        }\n",
    "df.rename(columns=remap, inplace=True)\n",
    "df2=df.query('HIGHEST_GRADE_EVER > 0 & NET_WEALTH>0') \n",
    "undergrad = df2.query('HIGHEST_GRADE_EVER >= 16 & HIGHEST_GRADE_EVER <=17')['NET_WEALTH']                \n",
    "postbac = df2.query('HIGHEST_GRADE_EVER >= 18')['NET_WEALTH']\n",
    "\n",
    "pooled = df2.query('HIGHEST_GRADE_EVER >= 16')['NET_WEALTH']"
   ]
  },
  {
   "cell_type": "code",
   "execution_count": 34,
   "id": "3eb0e541-21bf-449f-92ef-f622d34f2414",
   "metadata": {},
   "outputs": [
    {
     "name": "stdout",
     "output_type": "stream",
     "text": [
      "The number of data points in each group is:\n",
      "\tUndergrad: 821\n",
      "\tPost-Bac: 473\n",
      "\tPooled: 1294\n"
     ]
    }
   ],
   "source": [
    "print('The number of data points in each group is:')\n",
    "print(f'\\tUndergrad: {len(undergrad)}')\n",
    "print(f'\\tPost-Bac: {len(postbac)}')\n",
    "print(f'\\tPooled: {len(pooled)}')"
   ]
  },
  {
   "cell_type": "markdown",
   "id": "8f3c721b-f67b-4c42-ab5f-082c396ce241",
   "metadata": {},
   "source": [
    "## Testing Whether Post-Baccalaureate Eduction Increases Median Net Family Wealth"
   ]
  },
  {
   "cell_type": "markdown",
   "id": "da7ead49-9e5d-42cc-8fd4-8050cd33913e",
   "metadata": {},
   "source": [
    "The median values of net family wealth for the undergraduate and post-baccalaureate groups are"
   ]
  },
  {
   "cell_type": "code",
   "execution_count": 35,
   "id": "44280d56-6916-4f2b-b81e-b5a97081c27d",
   "metadata": {},
   "outputs": [
    {
     "data": {
      "text/plain": [
       "427000.0"
      ]
     },
     "execution_count": 35,
     "metadata": {},
     "output_type": "execute_result"
    }
   ],
   "source": [
    "undergrad.median()"
   ]
  },
  {
   "cell_type": "code",
   "execution_count": 36,
   "id": "869ae3ad-d7f4-4701-9f5f-706c2133ffc1",
   "metadata": {},
   "outputs": [
    {
     "data": {
      "text/plain": [
       "484400.0"
      ]
     },
     "execution_count": 36,
     "metadata": {},
     "output_type": "execute_result"
    }
   ],
   "source": [
    "postbac.median()"
   ]
  },
  {
   "cell_type": "markdown",
   "id": "fe6baab8-0c2d-4b12-9c68-6694e13c8065",
   "metadata": {},
   "source": [
    "Then our test statistic is the difference  between these, and the observed value of the test statistic is  "
   ]
  },
  {
   "cell_type": "code",
   "execution_count": 37,
   "id": "1e4c5db7-9e15-48f8-a43c-5f451f2a6494",
   "metadata": {},
   "outputs": [
    {
     "data": {
      "text/plain": [
       "57400.0"
      ]
     },
     "execution_count": 37,
     "metadata": {},
     "output_type": "execute_result"
    }
   ],
   "source": [
    "diff1 = postbac.median() - undergrad.median()\n",
    "diff1"
   ]
  },
  {
   "cell_type": "markdown",
   "id": "a56427f0-a097-41df-bb1b-8877488dd5e5",
   "metadata": {},
   "source": [
    "Let's start with a standard NHST. We conduct a simulation for which in each iteration, we create two new sample groups by bootstrap sampling from the pooled data. We then compute the medians for each group and calculate the sample test statistic by subtracting the median for the `postbac` group from the `undergrad` group. We are evaluating whether post-baccalaureate education increases net family wealth, so we will use a one-sided test. So, we increment and counter if the test statistic exceeds the observed value. At the end of the iterations, we calculate the relative frequency of the test statistic exceeding the observed difference in median wealth. "
   ]
  },
  {
   "cell_type": "code",
   "execution_count": 48,
   "id": "ef98e585-400f-439e-a511-f54e196e5728",
   "metadata": {},
   "outputs": [
    {
     "name": "stdout",
     "output_type": "stream",
     "text": [
      "The relative frequency of observing a difference in medians as large as\n",
      "the difference in the original data (i.e., the p-value) is 0.08789\n"
     ]
    }
   ],
   "source": [
    "num_sims = 100_000\n",
    "count1 = 0\n",
    "\n",
    "for sim in range(num_sims):\n",
    "  # Bootstrap sampling\n",
    "  undergrad_sample = npr.choice(pooled, len(undergrad))\n",
    "  postbac_sample = npr.choice(pooled, len(postbac))\n",
    "  \n",
    "  # Compute value of test statistic\n",
    "  diff_sample = np.median(postbac_sample) - np.median(undergrad_sample) \n",
    "  \n",
    "  # Compare test statistic to observed value and count\n",
    "  if diff_sample >= diff1:\n",
    "    count1+=1\n",
    "  \n",
    "print(f'The relative frequency of observing a difference in medians as large as')\n",
    "print(f'the difference in the original data (i.e., the p-value) is {count1/num_sims}')\n",
    "  \n",
    "  "
   ]
  },
  {
   "cell_type": "markdown",
   "id": "4ddbbd1a-7f03-446f-998f-ae363aabdde1",
   "metadata": {},
   "source": [
    "Recall what this value means. If the net wealth data for the two groups come from the same distribution (i.e., there is no real difference between the undergraduate and graduate groups in terms of  the probability of having a certain family wealth), then we will still see a difference as large as the one we observed approximately 8.8% of the time when we have samples of these sizes. Since 8.8% is not insignificant, then we cannot be confident that the observed difference in net family wealth is significant. We say that \"we fail to reject the null hypothesis\" because $p=0.08$ is greater than our threshold $\\alpha=0.01$."
   ]
  },
  {
   "cell_type": "markdown",
   "id": "eb7e5e80-01e8-440e-a3ed-9b287852abae",
   "metadata": {},
   "source": [
    "## Testing Whether Post-Baccalaureate Education Increases Probability of Becoming a Millionaire"
   ]
  },
  {
   "cell_type": "markdown",
   "id": "dbad9e0a-b744-4702-8b40-cefd439a3fc9",
   "metadata": {},
   "source": [
    "Now consider whether post-baccalaureate education increases the probability of a family obtaining a net worth of over 1 million. We first determine the proportions of families with net wealth over $1 million in each group."
   ]
  },
  {
   "cell_type": "code",
   "execution_count": null,
   "id": "fa3b9fe1-d1be-4850-9d94-3bcc7568992b",
   "metadata": {},
   "outputs": [],
   "source": []
  }
 ],
 "metadata": {
  "kernelspec": {
   "display_name": "Python 3 (ipykernel)",
   "language": "python",
   "name": "python3"
  },
  "language_info": {
   "codemirror_mode": {
    "name": "ipython",
    "version": 3
   },
   "file_extension": ".py",
   "mimetype": "text/x-python",
   "name": "python",
   "nbconvert_exporter": "python",
   "pygments_lexer": "ipython3",
   "version": "3.9.12"
  }
 },
 "nbformat": 4,
 "nbformat_minor": 5
}
