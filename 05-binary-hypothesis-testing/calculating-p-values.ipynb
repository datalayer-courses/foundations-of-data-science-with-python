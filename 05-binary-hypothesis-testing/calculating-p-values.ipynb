{
 "cells": [
  {
   "cell_type": "markdown",
   "id": "17b8b39a-b385-4b39-983c-b4be5b0af1b1",
   "metadata": {},
   "source": [
    "# Calculating $p$-Values"
   ]
  },
  {
   "cell_type": "markdown",
   "id": "18a830f6-c6de-4e84-951c-2d9656a0aa81",
   "metadata": {},
   "source": [
    "The simplest and most common test for statistical significance is to estimate a $p$-value from the data, where $p$ is the probability of seeing a test difference  \"at least as extreme\" as the observed difference in summary statistics, $\\Delta$, **under the null hypothesis**. Let $E$ be the event that a test difference $\\tilde{\\Delta}$ for a random sample from the pooled data is \"at least as extreme\" as $\\Delta$. Then we use the notation $P(E|H_0)$ to denote the probability that $E$ occurs **under the null hypothesis**. (The vertical bar \"|\" denotes a conditional probability, and we delve more into the meaning of these types of probabilities in {doc}`Chapter 6<../06-conditional-prob/intro>`.)\n",
    "\n",
    "\n",
    "To estimate $p$ using resampling, we use a simulation of the form described in the last section. We estimate $P(E|H_0)$ by using the relative frequency \n",
    "\n",
    "$$\n",
    "r_E(N) = \\frac{ n_E(N)}{N},\n",
    "$$\n",
    "where $n_E(N)$ is the number of times $E$ is observed in $N$ trials. The only remaining issue to resolve is how to determine whether $E$ occurred based on the simulated test differences, $\\Delta_i$.\n",
    "\n",
    "## One-Tail or Two-Tail Tests\n",
    "\n",
    "NHSTs are classified as one-tailed or two-tailed (also called one-sided or two-sided) based on the way that \"at least as extreme\" as $\\Delta$ is interpreted.  Consider again our  statistical questions from the last section:\n",
    "1. Is the observed difference in median wealth ($\\Delta = 57,400$) between the undergrad and grad groups statistically significant?\n",
    "2. Is the observed difference in the relative frequency of millionaires between the undergrad and grad groups ($\\Delta \\approx 0.053$) statistically significant?\n",
    "\n"
   ]
  },
  {
   "cell_type": "markdown",
   "id": "8d390c32-6809-4e83-a583-172ef7759c8c",
   "metadata": {},
   "source": [
    "Let's use the first one of these as an example to understand one-tailed versus two-tailed tests, let $\\tilde{U}_i$ and $\\tilde{G}_i$ denote the **observed median values** for the $i$th undergrad and grad samples. Recall that we previously defined $\\Delta_i = \\tilde{G}_i - \\tilde{U}_i$.\n",
    "\n",
    "\n",
    "In many statistical tests, under the null hypothesis, the difference between summary statistics will result in values that are equally likely to be positive and negative, with most of the values centered around 0. (In Chapters 8 and 9, we will introduce formal terminology for this: the difference has zero mean and its distribution is symmetric around the mean.)\n",
    "\n",
    "Below is an example that shows the type of histrogram that we expect to encounter."
   ]
  },
  {
   "cell_type": "code",
   "execution_count": 4,
   "id": "ff0d2fb0-5af8-4db8-9ac9-857c47edad14",
   "metadata": {},
   "outputs": [
    {
     "data": {
      "image/png": "[encoded data removed]",
      "text/plain": [
       "<Figure size 432x288 with 1 Axes>"
      ]
     },
     "metadata": {
      "needs_background": "light"
     },
     "output_type": "display_data"
    }
   ],
   "source": [
    "import scipy.stats as stats\n",
    "import matplotlib.pyplot as plt\n",
    "import numpy as np\n",
    "T=stats.t(4)\n",
    "tvals=T.rvs(100_000)\n",
    "plt.hist(tvals, bins =np.arange(-4,4.5,0.5), alpha=0.5 );\n",
    "plt.xlabel('Difference Values')\n",
    "plt.ylabel('Number of Occurrences (out of 10,000)');"
   ]
  },
  {
   "cell_type": "markdown",
   "id": "2d9727ee-b0d1-4210-bd65-1b77ed5bc6e1",
   "metadata": {},
   "source": [
    "In this histogram, the values with the higher counts correspond to those with higher probability of occurring. The way the probabilities map to the values is called the *distribution* of the random values. (Again, this is discussed in more detail in Chapter 8.) We can define the *mode* for a distribution of random values:\n",
    "\n",
    "\n",
    "````{panels}\n",
    "DEFINITION\n",
    "^^^\n",
    "```{glossary}\n",
    "mode(s) of a distribution    \n",
    "    For a distribution of random values,  the value(s) with the maximum probability (or probability density -- see Chapter 8) are the *modes* of the distribution.\n",
    "```\n",
    "````\n"
   ]
  },
  {
   "cell_type": "markdown",
   "id": "fb5cb3a3-3e49-4b09-8840-193ec583db4c",
   "metadata": {},
   "source": [
    "We can also classify the type of distribution based on how many modes it has. The most common case, and the main one we will utilize in this book is when a distribution has a single mode:\n",
    "\n",
    "````{panels}\n",
    "DEFINITION\n",
    "^^^\n",
    "```{glossary}\n",
    "unimodal distribution    \n",
    "   A distribution of random values that has a single mode.\n",
    "```\n",
    "````\n",
    "\n"
   ]
  },
  {
   "cell_type": "markdown",
   "id": "5c1e30ff-5c9f-45ac-ab09-d004187f7e40",
   "metadata": {},
   "source": [
    "Because the total probability in the distribution must be 1, most unimodal distributions  have the probability decrease as the values get farther from the mode of the distribution. We can then define a *tail probability*:\n",
    "\n",
    "\n",
    "````{panels}\n",
    "DEFINITION\n",
    "^^^\n",
    "```{glossary}\n",
    "tail probability\n",
    "    For a unimodal distribution in which the probabilities decrease as some function of the distance from the mode, a *tail probability* is the probability of being at least some distance from the mode.\n",
    "```\n",
    "````"
   ]
  },
  {
   "cell_type": "markdown",
   "id": "d172d111-ad8f-4a01-bad4-723449a99c24",
   "metadata": {},
   "source": [
    "\n",
    "There are two types of tail probabilities: one-sided tails and two-sided tails. A one-sided tail can be written as either "
   ]
  },
  {
   "cell_type": "markdown",
   "id": "7c1938f0-b49e-47bb-bc5d-737781cd3f8c",
   "metadata": {},
   "source": [
    "### One-tailed Test\n",
    "\n",
    "A one-tailed test is **concerned about the particular direction of the observed difference** in test statistics between the two groups. A one-tailed test on median wealth estimates the probability of the grad group's median wealth at least \\\\$57,400 higher than the undergrad group's median wealth, under $H_0$. For a given test difference $\\Delta_i$, we say that $E$ occurs if $\\Delta_i \\ge 57,400$. Thus the one-tailed test estimate $P( \\Delta_i > 57,400 |H_0)$. \n",
    "\n",
    "\n"
   ]
  },
  {
   "cell_type": "markdown",
   "id": "1326339e-8328-4c36-82bb-50f43775ba39",
   "metadata": {},
   "source": [
    "If we collected all the values of $\\Delta_i$ in our simulation into an NumPy array `diffs`, then we can calculate the relative frequency of the observed difference `Delta_i` exceeding a threshold `thresh`,  by\n",
    "* comparing the array to the threshold `diffs >= thresh`, and\n",
    "* counting the number of `True` values; since `False` is counted as zero, we can do `np.count_nonzero(diffs >= thresh)`\n",
    "* dividing the number of values where `diffs >=thresh` by the number of simulated test differences\n",
    "\n",
    "\n"
   ]
  },
  {
   "cell_type": "markdown",
   "id": "ad4652ab-ffff-4e13-923b-564d9e155f34",
   "metadata": {},
   "source": [
    "\n",
    "Below we illustrate this idea by generating an array of 100 random values in the interval $[-0.5, 0.5)$ to represent an array of simulated differences. We estimate the probability that the simulated differences are bigger than 0.9. Run this code a few times and observe the outcomes. Increase the number of simulated differences to 100,000. What do you observe?"
   ]
  },
  {
   "cell_type": "code",
   "execution_count": 54,
   "id": "1017cc70-3b83-4918-acea-a70c80b3b206",
   "metadata": {},
   "outputs": [
    {
     "data": {
      "text/plain": [
       "0.09"
      ]
     },
     "execution_count": 54,
     "metadata": {},
     "output_type": "execute_result"
    }
   ],
   "source": [
    "import numpy as np\n",
    "import numpy.random as npr\n",
    "\n",
    "num_sims=100\n",
    "thresh = 0.4\n",
    "\n",
    "diffs = npr.rand(num_sims) - 0.5 # Random values on [-0.5, 0.5)\n",
    "np.count_nonzero( diffs >= thresh) / num_sims"
   ]
  },
  {
   "cell_type": "markdown",
   "id": "9edc2174-4247-4adf-9f61-f850e3e31afd",
   "metadata": {},
   "source": [
    "Note that if we only wish to estimate the $p$-value, then there is no need to store all the test differences. We can instead initialize a counter to 0 at the beginning of the simulation and then increment the counter for each test difference that exceeds the threshold."
   ]
  },
  {
   "cell_type": "markdown",
   "id": "e66d35cf-19de-4848-a979-a58d9f5a654a",
   "metadata": {},
   "source": [
    "\n",
    "**Two-sided Test**\n",
    "\n",
    "A two-sided test is only concerned that the test statistics of the two groups differ by at least as much as the observed difference $\\Delta$; it is **not concerned with the direction of the difference**. A two-sided test on median wealth estimates the probability that the difference in wealth between the two groups is at least \\\\$57,400. Unpacking the last sentence a bit, $E$ occurs if *either* $ \\tilde{G}_i - \\tilde{U}_i \\ge 57,400$ **or** $ \\tilde{U}_i - \\tilde{G}_i \\ge 57,400$. These two cases are mutually exclusive, and we can writ them in shorter notation as $|\\tilde{G}_i - \\tilde{U}_i | \\ge 57,400$, which is the same as $|\\Delta_i|  \\ge 57,400$, where the vertical bars indicate absolute value. Thus, the two sided test estimates \n",
    "\n",
    "$$\n",
    "P\\bigl(|\\Delta_i| > 57,400 \\bigl \\vert H_0 \\bigr .\\bigr).\n",
    "$$ \n",
    "In this last expression, the first pair of vertical bars indicate absolute value, whereas the last vertical bar indicates that we are calculating this probability under the null hypothesis, $H_0$.\n",
    "\n"
   ]
  },
  {
   "cell_type": "markdown",
   "id": "62b0d4fe-44c8-4458-8a29-16981aaecf5a",
   "metadata": {},
   "source": [
    "Given an array `diffs` of all the values of $\\Delta_i$ in our simulation, we can calculate the relative frequency of the absolute value of the difference `Delta_i` exceeding a threshold `thresh`  by\n",
    "* comparing the absolute value of the array to the threshold `np.abs(diffs) >= thresh`, and\n",
    "* counting the number of `True` values; since `False` is counted as zero, we can do `np.count_nonzero( np.abs(diffs) >= thresh)`\n",
    "* dividing the number of values where `np.abs(diffs) >=thresh` by the number of simulated test differences\n",
    "\n",
    "The Python code is just a minor modification of that for the one-sided test: we just take the *absolute value* of the test differences before comparing them to the threshold:"
   ]
  },
  {
   "cell_type": "code",
   "execution_count": 56,
   "id": "27e4a74f-7f4b-442c-b03e-a04210dc718c",
   "metadata": {},
   "outputs": [
    {
     "data": {
      "text/plain": [
       "0.21"
      ]
     },
     "execution_count": 56,
     "metadata": {},
     "output_type": "execute_result"
    }
   ],
   "source": [
    "import numpy as np\n",
    "import numpy.random as npr\n",
    "\n",
    "num_sims=1000\n",
    "thresh = 0.4\n",
    "\n",
    "diffs = npr.rand(num_sims) - 0.5\n",
    "np.count_nonzero( np.abs(diffs) >= thresh) / num_sims"
   ]
  },
  {
   "cell_type": "markdown",
   "id": "362335c0-a612-47a0-9c44-28f857f171a4",
   "metadata": {},
   "source": [
    "Note that the $p$-value for the two-sided test is always higher than for the one-sided test because the two-sided probability  is the union of the one-sided probability with another probability. "
   ]
  },
  {
   "cell_type": "markdown",
   "id": "936991fa-595a-4ec9-b192-07b53ade6fca",
   "metadata": {},
   "source": [
    "## Choosing Between a One-Sided or Two-Sided Test\n",
    "\n"
   ]
  },
  {
   "cell_type": "code",
   "execution_count": null,
   "id": "5ca5538d-5d1d-4cc1-80fb-883b02e3b85f",
   "metadata": {},
   "outputs": [],
   "source": []
  }
 ],
 "metadata": {
  "kernelspec": {
   "display_name": "Python 3 (ipykernel)",
   "language": "python",
   "name": "python3"
  },
  "language_info": {
   "codemirror_mode": {
    "name": "ipython",
    "version": 3
   },
   "file_extension": ".py",
   "mimetype": "text/x-python",
   "name": "python",
   "nbconvert_exporter": "python",
   "pygments_lexer": "ipython3",
   "version": "3.9.12"
  }
 },
 "nbformat": 4,
 "nbformat_minor": 5
}
