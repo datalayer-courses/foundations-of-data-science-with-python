{
 "cells": [
  {
   "cell_type": "markdown",
   "id": "23706f2d-2c91-4485-9ae4-dd6b97c6063f",
   "metadata": {},
   "source": [
    "# Null Hypothesis Tests"
   ]
  },
  {
   "cell_type": "markdown",
   "id": "c809fe74-985a-476a-a67d-bf938d3bc5b5",
   "metadata": {},
   "source": [
    "\n",
    "In {doc}`Chapter 2<../02-first-stats/intro>` and {doc}`Chapter 3<../03-first-data/intro>`, we introduced our first statistical tests. In each of these chapters, the examples ended with a test that was designed to determine whether some observed effect was \"significant\" in the sense that it is unlikely to have occurred under some default condition. In {doc}`Chapter 3<../03-first-data/intro>`, we began to formalize this by defining this default condition as a *null hypothesis*. We then introduced null hypothesis significance testing (NHST) as a way to conduct a statistical test to determine if an observed result can simply be explained by randomness in the data and limitations in the sample size. \n",
    "\n",
    "This chapter provides a deeper and more detailed discussion of NHST and different ways to conduct these tests using resampling. To better understand such tests and how they are applied in this book, I start with a discussion of the different types of studies and experiments that are usually encountered in statistics."
   ]
  }
 ],
 "metadata": {
  "kernelspec": {
   "display_name": "Python 3 (ipykernel)",
   "language": "python",
   "name": "python3"
  },
  "language_info": {
   "codemirror_mode": {
    "name": "ipython",
    "version": 3
   },
   "file_extension": ".py",
   "mimetype": "text/x-python",
   "name": "python",
   "nbconvert_exporter": "python",
   "pygments_lexer": "ipython3",
   "version": "3.9.12"
  }
 },
 "nbformat": 4,
 "nbformat_minor": 5
}
