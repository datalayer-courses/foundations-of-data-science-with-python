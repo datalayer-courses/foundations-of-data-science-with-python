{
 "cells": [
  {
   "cell_type": "markdown",
   "id": "bcec7874-9d71-431e-8ed6-7a19134d84eb",
   "metadata": {},
   "source": [
    "# Summary\n",
    "\n",
    "Hopefully this this chapter's detailed presentation of null hypothesis significance testing and how to use resampling to implement it will provide a firm foundation for the rest of the statistical analyses in this book. However, it is important to note that there has been a lot of discussion in the research community about the use (and abuse) of NHST. There are two main ways that the community has chosen to deal with:\n",
    "1. *New Statistics* replace $p$-values with other metrics, such as confidence intervals, and try to provide more nuanced discussion of significance than using a single threshold.\n",
    "2. *Bayesian Methods* try to estimate the probabilities associated with the phenomena of interest given that we observed the data.\n",
    "\n",
    "To understand Bayesian methods requires an understanding of one of the most important tools of probability -- conditional probabilities. Conditional probabilities allow us to decompose problems in different ways and allow us to precisely formulate questions about the dependence between events. {doc}`Chapter 6<../06-conditional-prob/intro>` covers the basics of independence, dependence, and conditional probability. {doc}`Chapter 7<../07-bayesian-methods/intro>` provides an introduction to Bayesian methods for statistical analysis."
   ]
  }
 ],
 "metadata": {
  "kernelspec": {
   "display_name": "Python 3 (ipykernel)",
   "language": "python",
   "name": "python3"
  },
  "language_info": {
   "codemirror_mode": {
    "name": "ipython",
    "version": 3
   },
   "file_extension": ".py",
   "mimetype": "text/x-python",
   "name": "python",
   "nbconvert_exporter": "python",
   "pygments_lexer": "ipython3",
   "version": "3.9.12"
  }
 },
 "nbformat": 4,
 "nbformat_minor": 5
}
