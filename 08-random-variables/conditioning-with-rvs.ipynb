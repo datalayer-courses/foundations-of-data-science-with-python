{
 "cells": [
  {
   "cell_type": "code",
   "execution_count": 90,
   "metadata": {
    "slideshow": {
     "slide_type": "skip"
    }
   },
   "outputs": [],
   "source": [
    "import numpy as np\n",
    "import numpy.random as npr\n",
    "import scipy.stats as stats\n",
    "\n",
    "def q(x):\n",
    "  return stats.norm.sf(x)\n",
    "\n",
    "import matplotlib.pyplot as plt\n",
    "%matplotlib inline"
   ]
  },
  {
   "cell_type": "markdown",
   "metadata": {
    "slideshow": {
     "slide_type": "slide"
    }
   },
   "source": [
    "# Conditioning with Random Variables"
   ]
  },
  {
   "cell_type": "markdown",
   "metadata": {
    "slideshow": {
     "slide_type": "subslide"
    }
   },
   "source": [
    "It is commonly said that \"all probabilities are conditional\". That is true for random variables, too.  Random variables can depend on events or on other random variables. Let's start with the simplest case. We are given a random variable for which the distribution of the random variable depends on some other event. This will be most clear through an example:"
   ]
  },
  {
   "cell_type": "markdown",
   "metadata": {
    "slideshow": {
     "slide_type": "slide"
    }
   },
   "source": [
    "**Motivating Example: Binary Communications**\n",
    "\n",
    "In a binary communication system, a transmitter attempts to communicate a stream of bits to a receiver. The received signal is a noisy version of the transmitted signal. After some signal processing, the received signal is converted into a *decision statistic*, $X$, which is a random variable that can be used to decide whether the transmitted signal was a 0 or a 1. For the decision statistic to be useful in deciding which bit was transmitted, its distribution must change depending on which bit was transmitted. In many cases, $X$ is a Normal random variable, and the standard deviation of $X$ does not depend on which bit was transmitted. The mean will change depending on which bit was transmitted. Let's use the following model:"
   ]
  },
  {
   "cell_type": "markdown",
   "metadata": {
    "slideshow": {
     "slide_type": "subslide"
    }
   },
   "source": [
    "\\begin{align*}\n",
    "  \\begin{cases}\n",
    "  X  \\sim \\mbox{Normal}(+1,\\sigma), & 0 \\mbox{ transmitted}\\\\\n",
    "  X  \\sim \\mbox{Normal}(-1,\\sigma), & 1 \\mbox{ transmitted}.\n",
    "  \\end{cases}\n",
    "\\end{align*}"
   ]
  },
  {
   "cell_type": "markdown",
   "metadata": {
    "slideshow": {
     "slide_type": "subslide"
    }
   },
   "source": [
    "Let $T_i$ denote the event that $i$ is transmitted.  Then can write a  conditional distribution function for $X$ given that $i$ was transmitted as\n",
    "\n",
    "$$\n",
    "F_X(x|T_i) = P(X \\le x | T_i).\n",
    "$$\n",
    "\n",
    "We can then easily extend this to a conditional pdf, which is defined as the derivative of the conditional cdf,\n",
    "\n",
    "$$\n",
    "f_X(x|T_i) = \\frac{d}{dx} F_X(x|T_i).\n",
    "$$\n"
   ]
  },
  {
   "cell_type": "markdown",
   "metadata": {},
   "source": [
    "An example of the conditional densities for this binary communication system example is shown below:"
   ]
  },
  {
   "cell_type": "code",
   "execution_count": 33,
   "metadata": {},
   "outputs": [
    {
     "data": {
      "image/png": "[encoded data removed]",
      "text/plain": [
       "<Figure size 432x288 with 1 Axes>"
      ]
     },
     "metadata": {
      "needs_background": "light"
     },
     "output_type": "display_data"
    }
   ],
   "source": [
    "sigma=0.75\n",
    "p0=1/2\n",
    "G0=stats.norm(loc=1,scale=sigma)\n",
    "G1=stats.norm(loc=-1,scale=sigma)\n",
    "x=np.linspace(-4,4,1001)\n",
    "p1=1-p0\n",
    "\n",
    "# plot the weighted densities:\n",
    "# these are proportional to the APPs\n",
    "plt.plot(x,p0*G0.pdf(x))\n",
    "plt.plot(x,p1*G1.pdf(x))\n",
    "\n",
    "# Fill under the regions found above\n",
    "plt.fill_between(x,p0*G0.pdf(x),alpha=0.3)\n",
    "plt.fill_between(x,p1*G1.pdf(x),alpha=0.3)\n",
    "\n",
    "ax=plt.gca()\n",
    "ax.spines['top'].set_visible(False)\n",
    "ax.spines['right'].set_visible(False)\n",
    "ax.spines['left'].set_visible(False)\n",
    "ax.get_yaxis().set_ticks([]);\n",
    "\n",
    "plt.annotate('$f_X(x|T_0)$', (2,0.2), fontsize=16)\n",
    "plt.annotate('$f_X(x|T_1)$', (-3.4,0.2), fontsize=16);"
   ]
  },
  {
   "cell_type": "markdown",
   "metadata": {
    "tags": [
     "hide-cell"
    ]
   },
   "source": [
    "Now let's see how we can use conditional densities and distributions:"
   ]
  },
  {
   "cell_type": "markdown",
   "metadata": {
    "slideshow": {
     "slide_type": "slide"
    }
   },
   "source": [
    "**Part a)** Calculate the probability that $X>2$ if $P(T_0)=0.25$ and $P(T_1)=0.75$ if $\\sigma=2$"
   ]
  },
  {
   "cell_type": "markdown",
   "metadata": {
    "slideshow": {
     "slide_type": "fragment"
    }
   },
   "source": [
    "Now that we have the concept of conditional distributions, we have the tools to solve this type of problem. The first thing to realize is that the problem is that we do not know the distribution of $X$: **we only know conditional distributions of $X$ given $T_i$**. We can consider $T_i$ to be the hidden state in this problem.  To find $P(X>2)$, we can apply the Law of Total Probability, where we condition on the hidden state:\n",
    "\n",
    "$$\n",
    "P(X>2) = P(X>2|T_0)P(T_0) + P(X>2|T_1)P(T_1).\n",
    "$$\n",
    "\n",
    "We are given $P(T_0)$ and $P(T_1)$ in the problem statement, and we know that conditioned on a particular $T_i$, $X$ is Normal with some mean $\\mu \\in \\{+1, -1\\}$ and standard deviation $\\sigma = 2$. Here are two different approaches to solve this problem using the conditional distributions:\n",
    "\n",
    "1. We can uses SciPy.stats to create each of the conditional distributions and then use the built in methods to evaluate the probability. Start by creating the two conditional distributions:\n",
    "\n"
   ]
  },
  {
   "cell_type": "code",
   "execution_count": 35,
   "metadata": {},
   "outputs": [],
   "source": [
    "XgivenT0 = stats.norm(1, 2)\n",
    "XgivenT1 = stats.norm(-1, 2)"
   ]
  },
  {
   "cell_type": "markdown",
   "metadata": {},
   "source": [
    "Then $P(X>2|T_i)$ is simply the survival function of $X$ using the conditional distribution given $T_i$. So, $P(X>2|T_0)$ can be evaluated as"
   ]
  },
  {
   "cell_type": "code",
   "execution_count": 36,
   "metadata": {},
   "outputs": [
    {
     "data": {
      "text/plain": [
       "0.3085375387259869"
      ]
     },
     "execution_count": 36,
     "metadata": {},
     "output_type": "execute_result"
    }
   ],
   "source": [
    "XgivenT0.sf(2)"
   ]
  },
  {
   "cell_type": "markdown",
   "metadata": {},
   "source": [
    "Similarly, we can evaluate $P(X>2|T_1)$ as"
   ]
  },
  {
   "cell_type": "code",
   "execution_count": 37,
   "metadata": {},
   "outputs": [
    {
     "data": {
      "text/plain": [
       "0.06680720126885807"
      ]
     },
     "execution_count": 37,
     "metadata": {},
     "output_type": "execute_result"
    }
   ],
   "source": [
    "XgivenT1.sf(2)"
   ]
  },
  {
   "cell_type": "markdown",
   "metadata": {},
   "source": [
    "Putting these values into the Total Probability expression gives the value for $P(X>2)$,"
   ]
  },
  {
   "cell_type": "code",
   "execution_count": 38,
   "metadata": {},
   "outputs": [
    {
     "data": {
      "text/plain": [
       "0.12723978563314026"
      ]
     },
     "execution_count": 38,
     "metadata": {},
     "output_type": "execute_result"
    }
   ],
   "source": [
    "XgivenT0.sf(2) * 0.25 + XgivenT1.sf(2) * 0.75"
   ]
  },
  {
   "cell_type": "markdown",
   "metadata": {},
   "source": [
    "2. Suppose that we wanted to give an expression for $P(X>2)$ in terms of the $Q()$ function instead. We could rewrite the forms $P(X>2|T_0)$ in terms of conditional distribution functions, like $P(X>2|T_0) = 1 - P(X \\le 2 |T_0) = 1- F_X(2|T_0)$.  It is more efficient to just realize that each conditional distribution is Normal, and thus we can directly apply our distance-based approaches to find the probabilities in terms of the $Q()$ function. Note that 2 is greater than either value of $\\mu$, so we are evaluating the probabilities of two right tails, as shown in the plots below:"
   ]
  },
  {
   "cell_type": "code",
   "execution_count": 88,
   "metadata": {
    "tags": [
     "remove-input"
    ]
   },
   "outputs": [
    {
     "data": {
      "image/png": "[encoded data removed]",
      "text/plain": [
       "<Figure size 864x288 with 2 Axes>"
      ]
     },
     "metadata": {
      "needs_background": "light"
     },
     "output_type": "display_data"
    }
   ],
   "source": [
    "sigma=2\n",
    "p0=1/2\n",
    "means = [1, -1]\n",
    "G0=stats.norm(loc=1,scale=sigma)\n",
    "G1=stats.norm(loc=-1,scale=sigma)\n",
    "x=np.arange(-3,7,0.1)\n",
    "greater2 = np.arange(2, 7, 0.1)\n",
    "p1=1-p0\n",
    "\n",
    "fig, axs = plt.subplots(1,2, figsize=(12,4))\n",
    "# plot the weighted densities:\n",
    "# these are proportional to the APPs\n",
    "axs[0].plot(x,p0*G0.pdf(x))\n",
    "axs[1].plot(x,p1*G1.pdf(x))\n",
    "\n",
    "# Fill under the regions found above\n",
    "axs[0].fill_between(greater2,p0*G0.pdf(greater2),alpha=0.3)\n",
    "axs[1].fill_between(greater2,p1*G1.pdf(greater2),alpha=0.3)\n",
    "\n",
    "for i, ax in enumerate(axs):\n",
    "  ax.spines['top'].set_visible(False)\n",
    "  ax.spines['right'].set_visible(False)\n",
    "  ax.spines['left'].set_visible(False)\n",
    "  ax.get_yaxis().set_ticks([]);\n",
    "  ax.axvline(2)\n",
    "  ax.axvline(means[i], color='black')\n",
    "  ax.annotate('', xy=(means[i],0.02), xytext=(2, 0.02), xycoords='data',             \n",
    "              arrowprops=dict(arrowstyle=\"<->\",\n",
    "                            connectionstyle=\"arc3\"), )\n",
    "  \n",
    "  ax.set_ylim(0, 0.1)\n",
    "\n",
    "axs[0].annotate('$d_0 = 2 - 1$', xy=(means[i],0.02), xytext=(-1.6, 0.03), xycoords='data', fontsize=14)\n",
    "axs[1].annotate('$d_1 = 2 - (-1)$', xy=(means[i],0.02), xytext=(2.4, 0.03), xycoords='data', fontsize=14)\n",
    "\n",
    "\n",
    "\n",
    "  \n",
    "plt.annotate('$f_X(x|T_0)$', (2,0.2), fontsize=16)\n",
    "plt.annotate('$f_X(x|T_1)$', (-3.4,0.2), fontsize=16);\n"
   ]
  },
  {
   "cell_type": "markdown",
   "metadata": {},
   "source": [
    "The probability $P(X>2)$ is "
   ]
  },
  {
   "cell_type": "markdown",
   "metadata": {},
   "source": [
    "\\begin{align}\n",
    "P(X>2) &= Q\\left(\\frac{d_0}{\\sigma} \\right)(0.25) +\n",
    "Q\\left(\\frac{d_1}{\\sigma} \\right)(0.75) \\\\\n",
    "&=Q\\left(\\frac{1}{2} \\right)(0.25) +\n",
    "Q\\left(\\frac{3}{2} \\right)(0.75) \n",
    "\\end{align}\n"
   ]
  },
  {
   "cell_type": "markdown",
   "metadata": {},
   "source": [
    "We can use our usual `q()` function to evaluate this probability:"
   ]
  },
  {
   "cell_type": "code",
   "execution_count": 91,
   "metadata": {
    "slideshow": {
     "slide_type": "fragment"
    }
   },
   "outputs": [
    {
     "data": {
      "text/plain": [
       "0.12723978563314026"
      ]
     },
     "execution_count": 91,
     "metadata": {},
     "output_type": "execute_result"
    }
   ],
   "source": [
    "q(1/2)*0.25+q(3/2)*0.75"
   ]
  },
  {
   "cell_type": "markdown",
   "metadata": {},
   "source": [
    "This result matches our previous answer."
   ]
  },
  {
   "cell_type": "markdown",
   "metadata": {
    "slideshow": {
     "slide_type": "slide"
    }
   },
   "source": [
    "**JMS: WORKING HERE**\n",
    "\n",
    "**Part b)** Calculate the probability of error if the decision rule is:\n",
    "\n",
    "$$\n",
    "\\begin{cases}\n",
    "\\hat{T}_0, & X \\ge 0\\\\\n",
    "\\hat{T}_1, & X<0,\n",
    "\\end{cases}\n",
    "$$\n",
    "where $\\hat{T}_i$ denotes deciding that $i$ was transmitted. Provide a numerical answer for $\\sigma^2=0.1$"
   ]
  },
  {
   "cell_type": "markdown",
   "metadata": {
    "slideshow": {
     "slide_type": "subslide"
    }
   },
   "source": [
    "\\begin{align}\n",
    "P(E) &= P(X\\ge 0 \\cap T_1) + P(X<0 \\cap T_0) \\\\\n",
    "&= P(X \\ge 0 \\vert T_1)P(T_1) + P(X<0 \\vert T_0) P(T_0)\\\\\n",
    "\\end{align}"
   ]
  },
  {
   "cell_type": "markdown",
   "metadata": {
    "slideshow": {
     "slide_type": "fragment"
    }
   },
   "source": [
    "\\begin{align}\n",
    "&= Q\\left(\\frac{1-0}{\\sigma}\\right) P(T_1) + Q(\\left(\\frac{1-0}{\\sigma} \\right) P(T_0) \\\\\n",
    "&= Q\\left(\\frac{1}{\\sigma}\\right)\\\\\n",
    "&=\n",
    "\\end{align}"
   ]
  },
  {
   "cell_type": "code",
   "execution_count": 18,
   "metadata": {
    "slideshow": {
     "slide_type": "fragment"
    }
   },
   "outputs": [
    {
     "data": {
      "text/plain": [
       "0.000782701129001274"
      ]
     },
     "execution_count": 18,
     "metadata": {},
     "output_type": "execute_result"
    }
   ],
   "source": [
    "stats.norm.sf(1/np.sqrt(0.1))"
   ]
  },
  {
   "cell_type": "markdown",
   "metadata": {
    "slideshow": {
     "slide_type": "slide"
    }
   },
   "source": [
    "## Optimal Decisions"
   ]
  },
  {
   "cell_type": "markdown",
   "metadata": {
    "slideshow": {
     "slide_type": "slide"
    }
   },
   "source": [
    "Now suppose that we want to make an optimal decision $\\hat{T}_i$ based on the observing the value of $X$ at the output of the receiver. I.e., given that we have $X=x$ for some value $x$"
   ]
  },
  {
   "cell_type": "markdown",
   "metadata": {
    "slideshow": {
     "slide_type": "fragment"
    }
   },
   "source": [
    "The MAP rule is to choose the most probable value that was transmitted given the observation. So, that corresponds to:\n",
    "\n",
    "* If $P(T_0 \\vert X=x) \\ge P(T_1 \\vert X=x)$, decide 0\n",
    "* If $P(T_1 \\vert X=x) > P(T_0 \\vert X=x)$, decide 1"
   ]
  },
  {
   "cell_type": "markdown",
   "metadata": {
    "slideshow": {
     "slide_type": "fragment"
    }
   },
   "source": [
    "and by the definition of conditional probability\n",
    "\n",
    "$$\n",
    "P(T_0|X=x) = \\frac{P(T_0 \\cap X=x)}{P(X=x)}\n",
    "$$\n",
    "\n",
    "But both the numerator and denominator are 0, because $X$ is a continuous random variable!"
   ]
  },
  {
   "cell_type": "markdown",
   "metadata": {
    "slideshow": {
     "slide_type": "slide"
    }
   },
   "source": [
    "## Point Conditioning"
   ]
  },
  {
   "cell_type": "markdown",
   "metadata": {
    "slideshow": {
     "slide_type": "subslide"
    }
   },
   "source": [
    "Suppose we want to evaluate the probability of an event $A$ given\n",
    "that $\\!X=\\!x$, where $X$ is a continuous random variable.  \n",
    "\n",
    "* Then, if we use the definition of conditional probability\n",
    "\\begin{align*}\n",
    "P(A|X = x) &=  \\frac{P(A \\cap X\\!=\\!x)}{P(X\\!=\\!x)}  = \\frac{0}{0}       ,\n",
    "\\end{align*}\n",
    "\n"
   ]
  },
  {
   "cell_type": "markdown",
   "metadata": {
    "slideshow": {
     "slide_type": "subslide"
    }
   },
   "source": [
    "This case is called *point conditioning*, and we treat it as a special case:\n",
    "\n",
    "\n",
    "\\begin{eqnarray*}\n",
    "P(A|X = x) \\! \\! &=& \\underset{ \\Delta x \\rightarrow 0}{\\lim} P(A| \n",
    " x < X \\le x+ \\Delta x  )   \\\\\n",
    "\\!\\!&=& \\underset{ \\Delta x \\rightarrow 0}{\\lim}\n",
    "\\frac{F_X(x + \\Delta x |A)- F_X(x|A)}{F_X(x+\\Delta x)-F_X(x)} \n",
    "P(A) \n",
    "\\end{eqnarray*}\n",
    "\n",
    "\n",
    "\n",
    "\n"
   ]
  },
  {
   "cell_type": "markdown",
   "metadata": {
    "slideshow": {
     "slide_type": "fragment"
    }
   },
   "source": [
    "\\begin{eqnarray*}\n",
    "&=& \\underset{ \\Delta x \\rightarrow 0}{\\lim}\n",
    "\\frac{\\frac{ F_X(x + \\Delta x |A)- F_X(x|A)}{ \\Delta x}}\n",
    "{ \\frac {F_X(x+\\Delta x)-F_X(x)}{ \\Delta x}} P(A) \\\\\n",
    "&=& \\frac{f_X(x|A)}{f_X(x)} P(A),\n",
    "\\end{eqnarray*}\n",
    "if $f_X(x|A)$ and $f_X(x)$ exist, and $f_X(x) \\ne 0$.\n",
    "\n",
    "(The result looks like what you would do if you didn't know any better -- treat the densities as if they were probabilities, and everything works out!)\n",
    "\n",
    "\n"
   ]
  },
  {
   "cell_type": "markdown",
   "metadata": {
    "slideshow": {
     "slide_type": "slide"
    }
   },
   "source": [
    "## Implications of Point Conditioning"
   ]
  },
  {
   "cell_type": "markdown",
   "metadata": {
    "slideshow": {
     "slide_type": "subslide"
    }
   },
   "source": [
    "Note that the form above is almost a Bayes' rule form: If $A$ is some input event and $f_X(x|A)$ is the likelihood of $X$ given $A$, then $P(A|X=x)$ is the *a posteriori* probability of $A$ given that the output of the system is $X=x$\n",
    "\n",
    "However, we don't know how to calculate $f_X(x)$ yet"
   ]
  },
  {
   "cell_type": "markdown",
   "metadata": {},
   "source": [
    "\n",
    "If  $\\left\\{A_i\\right\\}$ form a partition of $S$, then from our previous work on the Law of Total Probability, we have\n",
    "\\begin{align}\n",
    "F_X(x) &= P(X \\le x) \\\\\n",
    "&= \\sum_i P(X \\le x| A_i) P(A_i) \\\\\n",
    "&= \\sum_i F_X(x|A_i) P(A_i)\n",
    "\\end{align}\n",
    "    \n",
    "Since $ f_X(x) = \\frac{d}{dx} F_X(x)$ and $f_X(x|A_i) = \\frac{d}{dx} F_X(x|A_i)$,\n",
    "\\begin{align}\n",
    "f_X(x) &= \\frac{d}{dx} F_X(x) \\\\\n",
    "&= \\frac{d}{dx}\\sum_i F_X(x|A_i) P(A_i) \\\\\n",
    "&= \\sum_i \\left[\\frac{d}{dx} F_X(x|A_i) \\right]P(A_i)  \\\\\n",
    "&= \\sum_i f_X(x|A_i) P(A_i) \n",
    "\\end{align}\n",
    "   \n",
    "   **(Total Probability for Conditional Density Functions)**\n"
   ]
  },
  {
   "cell_type": "markdown",
   "metadata": {
    "slideshow": {
     "slide_type": "subslide"
    }
   },
   "source": [
    "* Note that \n",
    "\n",
    " \\begin{align*}\n",
    "   &P(A|X = x) = \\frac{f_X(x|A)}{f_X(x)} P(A) \\\\\n",
    "   \\mbox{ } \\\\\n",
    "   \\Rightarrow& P(A|X=x)f_X(x) = f_X(x|A)P(A) \\\\\n",
    "   \\mbox{ } \\\\\n",
    "   \\Rightarrow& \\int_{-\\infty}^{\\infty} P(A|X=x)f_X(x) dx \n",
    "   =  \\int_{-\\infty}^{\\infty} f_X(x|A) dx P(A) \\\\\n",
    " \\Rightarrow& P(A) =\\int_{-\\infty}^{\\infty} P(A|X=x)f_X(x) dx \n",
    " \\end{align*}\n",
    "**(Continuous Version of Law of Total Probability)** \n",
    "\n",
    " \n"
   ]
  },
  {
   "cell_type": "markdown",
   "metadata": {
    "slideshow": {
     "slide_type": "subslide"
    }
   },
   "source": [
    "\n",
    "\n",
    "**Point Conditioning Form of Baye's Rule:**\n",
    "\n",
    "  If $\\{A_i, ~i=0,1,\\ldots, n-1\\}$ form a partition of $S$, then\n",
    "\\begin{eqnarray*}\n",
    "   P(A_i|X \\!=\\! x)  &~=~& \\frac{f_X(x|A_i) P(A_i)}{\n",
    "      \\sum_{i=0}^{n-1}{f_X(x|A_i) P(A_i)}\n",
    "      }\n",
    "\\end{eqnarray*}\n",
    "\n"
   ]
  },
  {
   "cell_type": "markdown",
   "metadata": {
    "slideshow": {
     "slide_type": "slide"
    }
   },
   "source": [
    "**Example 3** Find the MAP decision rules for the binary communication system"
   ]
  },
  {
   "cell_type": "markdown",
   "metadata": {
    "slideshow": {
     "slide_type": "fragment"
    }
   },
   "source": [
    "The MAP rule is to choose $\\hat{T}_0$ if $T_0$ maximizes\n",
    "\\begin{align}\n",
    "P(T_0 \\vert X=x) & \\ge P(T_1 \\vert X=x) \\\\\n",
    "\\frac{f_X(x=x|T_0)P(T_0)}{f_X(x)} & \\ge \\frac{f_X(x=x|T_1)P(T_1)}{f_X(x)} \\\\\n",
    "f_X(x=x|T_0)P(T_0) & \\ge f_X(x=x|T_1)P(T_1)\n",
    "\\end{align}\n",
    "\n",
    "and choose $\\hat{T}_1$ otherwise"
   ]
  },
  {
   "cell_type": "markdown",
   "metadata": {
    "slideshow": {
     "slide_type": "fragment"
    }
   },
   "source": [
    "We could simplify this further by substituting in the conditional densities but plotting the weighted densities and the decision regions will give us much more insight:"
   ]
  },
  {
   "cell_type": "code",
   "execution_count": 19,
   "metadata": {
    "slideshow": {
     "slide_type": "subslide"
    }
   },
   "outputs": [],
   "source": [
    "def drawMAP(p0,sigma2=1):\n",
    "    ''' Draw the weighted densities for the binary communication system problem\n",
    "    and shade under them according to the MAP decision rule. \n",
    "    \n",
    "    Inputs:\n",
    "    p0= probability that 0 is transmitted \n",
    "    sigma2= variance of the Gaussian noise (default is 1)'''\n",
    "    \n",
    "    # Set up random varaibles \n",
    "    G0=stats.norm(loc=1,scale=np.sqrt(sigma2))\n",
    "    G1=stats.norm(loc=-1,scale=np.sqrt(sigma2))\n",
    "    x=np.linspace(-4,4,1001)\n",
    "    p1=1-p0\n",
    "        \n",
    "    # plot the weighted densities:\n",
    "    # these are proportional to the APPs\n",
    "    plt.plot(x,p0*G0.pdf(x))\n",
    "    plt.plot(x,p1*G1.pdf(x))\n",
    "    \n",
    "    # Determine the regions where the APP for 0 is \n",
    "    # bigger and the APP for 1 is bigger\n",
    "    R0=x[np.where(p0*G0.pdf(x)>= p1*G1.pdf(x))]\n",
    "    R1=x[np.where(p0*G0.pdf(x)< p1*G1.pdf(x))]\n",
    "\n",
    "    # Fill under the regions found above\n",
    "    plt.fill_between(R0,p0*G0.pdf(R0),alpha=0.3)\n",
    "    plt.fill_between(R1,p1*G1.pdf(R1),alpha=0.3)\n",
    "    \n",
    "    # Print the MAP threshold\n",
    "    print(\"MAP decision threshold is\",round(R0[0],2))"
   ]
  },
  {
   "cell_type": "code",
   "execution_count": 20,
   "metadata": {
    "slideshow": {
     "slide_type": "subslide"
    }
   },
   "outputs": [
    {
     "name": "stdout",
     "output_type": "stream",
     "text": [
      "MAP decision threshold is 0.0\n"
     ]
    },
    {
     "data": {
      "image/png": "[encoded data removed]",
      "text/plain": [
       "<Figure size 432x288 with 1 Axes>"
      ]
     },
     "metadata": {
      "needs_background": "light"
     },
     "output_type": "display_data"
    }
   ],
   "source": [
    "drawMAP(0.5)"
   ]
  },
  {
   "cell_type": "code",
   "execution_count": 21,
   "metadata": {
    "slideshow": {
     "slide_type": "subslide"
    }
   },
   "outputs": [
    {
     "name": "stdout",
     "output_type": "stream",
     "text": [
      "MAP decision threshold is 0.55\n"
     ]
    },
    {
     "data": {
      "image/png": "[encoded data removed]",
      "text/plain": [
       "<Figure size 432x288 with 1 Axes>"
      ]
     },
     "metadata": {
      "needs_background": "light"
     },
     "output_type": "display_data"
    }
   ],
   "source": [
    "drawMAP(0.25)"
   ]
  },
  {
   "cell_type": "code",
   "execution_count": 22,
   "metadata": {
    "slideshow": {
     "slide_type": "subslide"
    }
   },
   "outputs": [
    {
     "name": "stdout",
     "output_type": "stream",
     "text": [
      "MAP decision threshold is -0.54\n"
     ]
    },
    {
     "data": {
      "image/png": "[encoded data removed]",
      "text/plain": [
       "<Figure size 432x288 with 1 Axes>"
      ]
     },
     "metadata": {
      "needs_background": "light"
     },
     "output_type": "display_data"
    }
   ],
   "source": [
    "drawMAP(0.75)"
   ]
  },
  {
   "cell_type": "code",
   "execution_count": 23,
   "metadata": {
    "slideshow": {
     "slide_type": "subslide"
    }
   },
   "outputs": [
    {
     "name": "stdout",
     "output_type": "stream",
     "text": [
      "MAP decision threshold is -1.1\n"
     ]
    },
    {
     "data": {
      "image/png": "[encoded data removed]",
      "text/plain": [
       "<Figure size 432x288 with 1 Axes>"
      ]
     },
     "metadata": {
      "needs_background": "light"
     },
     "output_type": "display_data"
    }
   ],
   "source": [
    "drawMAP(0.9)"
   ]
  },
  {
   "cell_type": "code",
   "execution_count": 24,
   "metadata": {
    "slideshow": {
     "slide_type": "subslide"
    }
   },
   "outputs": [
    {
     "name": "stdout",
     "output_type": "stream",
     "text": [
      "MAP decision threshold is -1.47\n"
     ]
    },
    {
     "data": {
      "image/png": "[encoded data removed]",
      "text/plain": [
       "<Figure size 432x288 with 1 Axes>"
      ]
     },
     "metadata": {
      "needs_background": "light"
     },
     "output_type": "display_data"
    }
   ],
   "source": [
    "drawMAP(0.95)"
   ]
  }
 ],
 "metadata": {
  "celltoolbar": "Slideshow",
  "kernelspec": {
   "display_name": "Python 3 (ipykernel)",
   "language": "python",
   "name": "python3"
  },
  "language_info": {
   "codemirror_mode": {
    "name": "ipython",
    "version": 3
   },
   "file_extension": ".py",
   "mimetype": "text/x-python",
   "name": "python",
   "nbconvert_exporter": "python",
   "pygments_lexer": "ipython3",
   "version": "3.7.4"
  },
  "latex_envs": {
   "LaTeX_envs_menu_present": true,
   "autoclose": true,
   "autocomplete": true,
   "bibliofile": "biblio.bib",
   "cite_by": "apalike",
   "current_citInitial": 1,
   "eqLabelWithNumbers": true,
   "eqNumInitial": 1,
   "hotkeys": {
    "equation": "Ctrl-E",
    "itemize": "Ctrl-I"
   },
   "labels_anchors": false,
   "latex_user_defs": false,
   "report_style_numbering": false,
   "user_envs_cfg": false
  }
 },
 "nbformat": 4,
 "nbformat_minor": 4
}
