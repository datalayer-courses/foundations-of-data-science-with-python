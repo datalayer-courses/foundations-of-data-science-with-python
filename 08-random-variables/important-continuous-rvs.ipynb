{
 "cells": [
  {
   "cell_type": "code",
   "execution_count": 1,
   "metadata": {},
   "outputs": [],
   "source": [
    "import matplotlib.pyplot as plt\n",
    "import numpy as np\n",
    "import numpy.random as npr\n",
    "\n",
    "%matplotlib inline\n",
    "import scipy.stats as stats"
   ]
  },
  {
   "cell_type": "markdown",
   "metadata": {},
   "source": [
    "# Important Continuous Random Variables"
   ]
  },
  {
   "cell_type": "markdown",
   "metadata": {
    "tags": []
   },
   "source": [
    "There are numerous types of continuous random variables; in fact, Scipy.stats has over 100 (as of release 1.8.0).  A list of the continuous random variables in Scipy.stats can be found here:\n",
    "\n",
    "https://docs.scipy.org/doc/scipy/reference/stats.html#continuous-distributions\n",
    "\n",
    "In this section, we will present five continuous random variables that are used in the remainder of this textbook. Two of these we have already encountered: the continuous uniform random variable and the exponential random variable. We introduce three new continuous random variables: the Gaussian (or Normal), chi-squared, and Student's $t$ random variables."
   ]
  },
  {
   "cell_type": "markdown",
   "metadata": {
    "tags": []
   },
   "source": [
    "## Continuous Uniform Random Variable\n",
    "\n",
    "We introduced the continuous uniform random variable in {doc}`continuous-rvs`, where we used it to draw random arrival times for Poisson events observed on a fixed interval. We found the CDF to be linear over the random variable's range, and the pdf to be constant over the random variable's range. The range can be any interval (closed or open). If the range is $[a,b]$ for a uniform random variable $U$, then we write $U \\sim \\mbox{Uniform}[a,b]$ (read: \"$U$ is distributed uniform on $[A,B]$. Then a formal definition of a uniform random variable is below.\n",
    "\n",
    "````{panels}\n",
    ":column: col-lg-12\n",
    "\n",
    "DEFINITION\n",
    "^^^\n",
    "```{glossary}\n",
    "uniform random variable\n",
    "    If $U$ is a uniform random variable on the interval $[a,b]$, then the probability density function $f_U(u)$ is \n",
    "    \\begin{align} f_U(u) = \n",
    "    \\begin{cases} \n",
    "    \\frac{1}{b-a}, & u \\in [a,b] \\\\\n",
    "    0, & \\mbox{otherwise} \n",
    "    \\end{cases}\n",
    "    \\end{align}, \n",
    "    and the cumulative distribution function $F_U(u)$ is \n",
    "    \\begin{align} F_U(u) = \n",
    "    \\begin{cases} \n",
    "    0, & u < a \\\\\n",
    "    \\frac{u}{b-a}, & u \\in [a,b] \\\\\n",
    "    1, & u > b\n",
    "    \\end{cases}.\n",
    "    \\end{align} \n",
    "    Note that either or both endpoints may be excluded from the range of $U$, in which case the regions in the piecewise definition change slightly (for instance by dropping or adding an equality sign), but the functions are unchanged.\n",
    "```\n",
    "````"
   ]
  },
  {
   "cell_type": "markdown",
   "metadata": {},
   "source": [
    "We can use SciPy.stats to create a uniform distribution by using `stats.uniform(start, length)`.\n",
    "\n",
    "```{warning}\n",
    "\n",
    "Note carefully the form of `stats.uniform(start, length)` -- the range is thus [start, start+length]. To create a variable $U$ representing a uniform distribution on $[a,b]$, we need to do `U = stats.uniform(a, b-a)`.\n",
    "```"
   ]
  },
  {
   "cell_type": "markdown",
   "metadata": {},
   "source": [
    "The density function for several uniform random variables is shown below:"
   ]
  },
  {
   "cell_type": "code",
   "execution_count": 2,
   "metadata": {
    "tags": []
   },
   "outputs": [
    {
     "data": {
      "image/png": "[encoded data removed]",
      "text/plain": [
       "<Figure size 432x288 with 1 Axes>"
      ]
     },
     "metadata": {
      "needs_background": "light"
     },
     "output_type": "display_data"
    }
   ],
   "source": [
    "u = np.linspace(-1, 9, 201)\n",
    "U1 = stats.uniform(0, 1)\n",
    "U2 = stats.uniform(2, 0.2)\n",
    "U3 = stats.uniform(3, 5)\n",
    "\n",
    "plt.plot(u, U1.pdf(u), label=\"Uniform[0, 1]\")\n",
    "plt.plot(u, U2.pdf(u), label=\"Uniform[2, 2.2]\")\n",
    "plt.plot(u, U3.pdf(u), label=\"Uniform[3, 8]\")\n",
    "\n",
    "plt.legend()\n",
    "plt.title(\"Density function for Uniform random variables\");"
   ]
  },
  {
   "cell_type": "markdown",
   "metadata": {},
   "source": [
    "The figure below shows the distribution functions for these random variables:"
   ]
  },
  {
   "cell_type": "code",
   "execution_count": 3,
   "metadata": {
    "tags": []
   },
   "outputs": [
    {
     "data": {
      "image/png": "[encoded data removed]",
      "text/plain": [
       "<Figure size 432x288 with 1 Axes>"
      ]
     },
     "metadata": {
      "needs_background": "light"
     },
     "output_type": "display_data"
    }
   ],
   "source": [
    "plt.plot(u, U1.cdf(u), label=\"Uniform[0, 1]\")\n",
    "plt.plot(u, U2.cdf(u), label=\"Uniform[2, 2.2]\")\n",
    "plt.plot(u, U3.cdf(u), label=\"Uniform[3, 8]\")\n",
    "\n",
    "plt.legend()\n",
    "plt.title(\"Distribution function for Uniform random variables\");"
   ]
  },
  {
   "cell_type": "markdown",
   "metadata": {},
   "source": [
    "Note that the probability density is concentrated wherever the CDF is going up quickly.  Because the pdf is the derivative of the CDF, a steeper  slope in the CDF translates into a higher density in the pdf. "
   ]
  },
  {
   "cell_type": "markdown",
   "metadata": {},
   "source": [
    "**Applications:** Uniform random variables are used for any situation in which some random occurrence is equally likely to occur over a continuous range. For instance, it may model be used to model the random phase of packet in a wireless communication system. Most computer random number systems generate floating-point approximations of uniform random variables. The uniform distribution can also be shown to be the \"most random\" in a certain sense (maximizing a measure of randomness called entropy) over all distributions with finite range."
   ]
  },
  {
   "cell_type": "markdown",
   "metadata": {},
   "source": [
    "## Exponential Random Variable\n",
    "\n",
    "We found that the exponential random variable models the time until the first Poisson arrival in an observation period. The exponential random variable is an example of a continuous random variable with an infinite range, since it can take on any value from $[0, \\infty]$.  \n",
    "\n",
    "A formal definition of the exponential random variable follows.\n",
    "\n",
    "````{panels}\n",
    ":column: col-lg-12\n",
    "\n",
    "DEFINITION\n",
    "^^^\n",
    "```{glossary}\n",
    "exponential random variable\n",
    "    If $X$ is an exponential random variable with real parameter $\\lambda>0$, then the probability density function $f_X(x)$ is \n",
    "    \\begin{align} f_X(x) = \n",
    "    \\begin{cases} \n",
    "    0, & x <0 \\\\\n",
    "    \\lambda e^{-\\lambda x}, & x \\ge 0\n",
    "    \\end{cases}\n",
    "    \\end{align}, \n",
    "    and the cumulative distribution function $F_X(x)$ is \n",
    "    \\begin{align} F_X(x) = \n",
    "    \\begin{cases} \n",
    "    0, & x <0 \\\\\n",
    "    1 - e^{- \\lambda x}, & x \\ge 0 \\\\\n",
    "    \\end{cases}.\n",
    "    \\end{align} \n",
    "```\n",
    "````"
   ]
  },
  {
   "cell_type": "markdown",
   "metadata": {},
   "source": [
    "```{note}\n",
    "\n",
    "Some books specify the exponential distribution in terms of a parameter $\\mu$ such that $\\mu = 1/ \\lambda$. The two definitions are equivalent, but the forms of the pdf and CDF are simpler and easier to remember when specified in terms of $\\lambda$.\n",
    "\n",
    "Note that we can avoid the piecewise notation for the pdf and CDF by using the unit-step function, which we will define piecewise as\n",
    "\\begin{equation}\n",
    "u(x) = \n",
    "\\begin{cases}\n",
    "0, &x< 0 \\\\\n",
    "1, & x \\ge 0 \\\\\n",
    "\\end{cases}.\n",
    "\\end{equation}\n",
    "\n",
    "Then \n",
    "\n",
    "$$\n",
    "f_X(x) = \\lambda e^{-\\lambda x } u(x).\n",
    "$$\n",
    "\n",
    "\n",
    "(There are different versions of the unit step function that vary with how they handle the value at $x=0$. See https://en.wikipedia.org/wiki/Heaviside_step_function#Zero_argument for more details. We let $u(0)=1$ because we can use this $u(x)$ in the exponential density, which is usually defined to be non-zero for $x=0$. However, it usually does not matter for applications in probability because any one point has zero probability associated with .)\n",
    "```"
   ]
  },
  {
   "cell_type": "markdown",
   "metadata": {},
   "source": [
    "We can use SciPy.stats to create an exponential distribution with parameter `lam` using `stats.expon(scale= 1 / lam)`."
   ]
  },
  {
   "cell_type": "markdown",
   "metadata": {},
   "source": [
    "As we demonstrated before with the uniform random variable, it is possible for $f_X(x)$ to be greater than 1 because probability densities **are not probabilities**. In particular, at $x=0$, $f_X(0) = \\lambda$, so $f_X(0)>1$ whenever $\\lambda>1$. \n",
    "\n",
    "To further illustrate this, the pdf of lambda is shown below for a few different values of $\\lambda$.\n",
    "\n"
   ]
  },
  {
   "cell_type": "code",
   "execution_count": 4,
   "metadata": {
    "tags": []
   },
   "outputs": [
    {
     "data": {
      "image/png": "[encoded data removed]",
      "text/plain": [
       "<Figure size 432x288 with 1 Axes>"
      ]
     },
     "metadata": {
      "needs_background": "light"
     },
     "output_type": "display_data"
    }
   ],
   "source": [
    "x = np.linspace(0, 5, 101)\n",
    "lambdas = [1, 5, 1 / 2]\n",
    "for lam in lambdas:\n",
    "    X = stats.expon(scale=1 / lam)\n",
    "    plt.plot(x, X.pdf(x), label=\"$\\lambda  = \" + str(lam) + \"$\")\n",
    "\n",
    "plt.legend()\n",
    "plt.title(\"pdfs of exponential random variables\");"
   ]
  },
  {
   "cell_type": "markdown",
   "metadata": {},
   "source": [
    "The CDFs for these values of $\\lambda$ are shown below:"
   ]
  },
  {
   "cell_type": "code",
   "execution_count": 5,
   "metadata": {
    "tags": []
   },
   "outputs": [
    {
     "data": {
      "image/png": "[encoded data removed]",
      "text/plain": [
       "<Figure size 432x288 with 1 Axes>"
      ]
     },
     "metadata": {
      "needs_background": "light"
     },
     "output_type": "display_data"
    }
   ],
   "source": [
    "x = np.linspace(0, 5, 101)\n",
    "lambdas = [1, 5, 1 / 2]\n",
    "for lam in lambdas:\n",
    "    X = stats.expon(scale=1 / lam)\n",
    "    plt.plot(x, X.cdf(x), label=\"$\\lambda  = \" + str(lam) + \"$\")\n",
    "\n",
    "plt.legend()\n",
    "plt.title(\"CDFs of exponential random variables\");"
   ]
  },
  {
   "cell_type": "markdown",
   "metadata": {},
   "source": [
    "Again, note that the region in which the CDF is increasing from near 0 to near 1 represents the region where most of the probability is concentrated. This is particularly easy to see for exponential random variables: these regions all start at 0. We can then find a region of the form $[0,x]$ that contains 99\\% of the probability in two ways:\n",
    "* From the graph, if we look on the $y$ axis at 0.99 and then look right to see what value of $x$ intersects gives that value of $F_X(x)$.  Then that is the value of $x$ for which $F_X(x) = P(X \\le x) = P (X \\in [0,x]) =0.99.$  From the graph, the regions that contain approximately 99\\% of the probability are: $[0,1]$ for $\\lambda=5$ and $[0, 4.5]$ for $\\lambda=1$.  \n",
    "* We can also find these from the inverse CDF:\n",
    "\n",
    "````{panels}\n",
    ":column: col-lg-12\n",
    "\n",
    "DEFINITION\n",
    "^^^\n",
    "```{glossary}\n",
    "inverse CDF\n",
    "    If $X$ is a random variable with cumulative distribution function (CDF) $F_X(x) = P(X \\le x)$, then the *inverse CDF*, which is also called the *quantile function* or *percent-point function* given a value $p$, gives a value of $x$ such that $F_X(x)=p$. It is the inverse of the CDF, $F^{-1}(p)$. \n",
    "```\n",
    "````"
   ]
  },
  {
   "cell_type": "markdown",
   "metadata": {},
   "source": [
    "SciPy.stats calls the inverse CDF the percent-point function, and evaluates it as `ppf(p)`. Thus, the regions that contain 99\\% of the probability for the values of $\\lambda$ considered are:"
   ]
  },
  {
   "cell_type": "code",
   "execution_count": 6,
   "metadata": {},
   "outputs": [
    {
     "name": "stdout",
     "output_type": "stream",
     "text": [
      "lambda = 5: [0, 0.92]\n",
      "lambda = 1: [0, 4.61]\n",
      "lambda = 0.5: [0, 9.21]\n"
     ]
    }
   ],
   "source": [
    "lambdas = [5, 1, 1 / 2]\n",
    "for lam in lambdas:\n",
    "    X = stats.expon(scale=1 / lam)\n",
    "    upper = X.ppf(0.99)\n",
    "    print(f\"lambda = {lam}: [0, {upper :.2f}]\")"
   ]
  },
  {
   "cell_type": "markdown",
   "metadata": {},
   "source": [
    "**Example** An automotive company finds that 95% of its new LED headlights last more than 5 years. If the life of these headlights follows an exponential distribution, what is the probability that one of these headlights lasts more than 10 years?\n",
    "\n",
    "*Solution:* The challenge in this problem is that we know that the distribution is exponential, but we do not know the parameter $\\lambda$ that characterizes that distribution. However, we are given enough information to determine $\\lambda$.\n",
    "\n",
    "Let the life of one of these headlights in years be $X$, where $X \\sim$ exponential($\\lambda$). If 95% of the headlights last more than 5 years, then it must be that the probability that a particular headlight lasts more than 5 years is 0.95. In math, $P(X > 5) = 0.95$. \n",
    "\n",
    "Now, we can approach this in two ways. Let's start with the mathematical approach. \n",
    "\n",
    "\\begin{align}\n",
    "P(X > 5) & = 1 - P(X \\le 5) \\\\\n",
    "& = 1 - F_X(5) \\\\\n",
    "& = 1 - \\left( 1- e^{-\\lambda (5)} \\right) \\\\\n",
    "&=  e^{-5 \\lambda } = 0.95\n",
    "\\end{align}\n",
    "\n",
    "Now, take the natural log of both sides. We need to know the natural log of 0.95:\n"
   ]
  },
  {
   "cell_type": "code",
   "execution_count": 7,
   "metadata": {},
   "outputs": [
    {
     "data": {
      "text/plain": [
       "-0.05129329438755058"
      ]
     },
     "execution_count": 7,
     "metadata": {},
     "output_type": "execute_result"
    }
   ],
   "source": [
    "np.log(0.95)"
   ]
  },
  {
   "cell_type": "markdown",
   "metadata": {},
   "source": [
    "So,\n",
    "\n",
    "\\begin{align}\n",
    "- 5  \\lambda &\\approx -0.051 \\\\\n",
    "\\Rightarrow \\lambda \\approx 0.0102.\n",
    "\\end{align}\n",
    "\n",
    "The probability that a headlight lasts more than 10 years is then \n",
    "\n",
    "\\begin{align}\n",
    "P(X > 10 ) &= 1 - P(X \\le 10) \\\\\n",
    "&= 1 - F_X(10) \\\\\n",
    "& = e^{-0.0102(10)},\n",
    "\\end{align}\n",
    "which is approximately"
   ]
  },
  {
   "cell_type": "code",
   "execution_count": 8,
   "metadata": {},
   "outputs": [
    {
     "data": {
      "text/plain": [
       "0.9030295516688768"
      ]
     },
     "execution_count": 8,
     "metadata": {},
     "output_type": "execute_result"
    }
   ],
   "source": [
    "np.exp(-0.0102 * 10)"
   ]
  },
  {
   "cell_type": "markdown",
   "metadata": {},
   "source": [
    "Thus, about 90% of headlights will last over 10 years under these assumptions.\n",
    "\n",
    "```{note}\n",
    "\n",
    "There is something interesting in these results that might not be immediately obvious. The probability that a headlight still functions decreases with the number of years as expected. However, consider those 95% of bulbs that are still functioning after 5 years. If we apply the same 95% rule to those bulbs to see how many are still functioning after another 5 years, we get $(0.95)^2 = 0.902$, which is essentially the same as the result we got above. This would mean that **after 5 years of use, those bulbs have the same probability of lasting another 5 years as a brand new bulb has of lasting for 5 years.**\n",
    "\n",
    "We do not yet have the mathematical tools to analyze this, but it turns out that this is a special property, called the *memoryless property*, that is unique to the exponential distribution (among all continuous distributions).  We will investigate this property more in {doc}`conditioning-random-variables`.\n",
    "```"
   ]
  },
  {
   "cell_type": "markdown",
   "metadata": {},
   "source": [
    "**Applications:** As previously noted, the exponential random variable models the time until the first Poisson arrival. It also models the time between two consecutive Poisson arrivals. It is also used in a related application called *survival analysis* when there is a constant *hazard rate*. For example, it can be used to model the lifetime of electrical devices."
   ]
  },
  {
   "cell_type": "markdown",
   "metadata": {},
   "source": [
    "## Normal (Gaussian) Random Variable\n",
    "\n",
    "The Normal, or Gaussian, random variable is one of the most commonly used in statistical analyses. The term  *normal random variable* is more often used in statistics, whereas *Gaussian random variable* is more often used in electrical engineering. Either one is easily understood by the other community. Because this book is meant to be accessible to readers across engineering and the sciences and because SciPy.stats uses the term Normal, I will also use that terminology.\n",
    "\n",
    "Before we give a formal definition of the Normal random variable, let's consider some examples that shows how the Normal distribution can emerge. \n",
    "\n",
    "We start with a sequence of binomial random variables with equal probability of success $p$ but different numbers of trials. As a reminder a Binomial($N,p$) random variable is the same as the sum of $N$ Bernoulli($p$) random variables. Let's consider $p=0.2$ and $N = 20, 40,$ and $200$ trials. Then the PMFs for these random variables are shown below:"
   ]
  },
  {
   "cell_type": "code",
   "execution_count": 9,
   "metadata": {
    "tags": []
   },
   "outputs": [
    {
     "data": {
      "image/png": "[encoded data removed]",
      "text/plain": [
       "<Figure size 432x288 with 3 Axes>"
      ]
     },
     "metadata": {
      "needs_background": "light"
     },
     "output_type": "display_data"
    }
   ],
   "source": [
    "b = np.arange(0, 100)\n",
    "fig, ax = plt.subplots(3)\n",
    "for i, N in enumerate([20, 40, 200]):\n",
    "    B = stats.binom(N, 0.2)\n",
    "    ax[i].stem(b, B.pmf(b), use_line_collection=True)"
   ]
  },
  {
   "cell_type": "markdown",
   "metadata": {},
   "source": [
    "Note that each of these PMFs has a similar shape -- called a *bell shape*, and each of the PMFs is centered at $0.2N$; i.e., the centers are 4, 8, and 40, respectively. If we treated these as the sum of Bernoulli random variables, then they would all be centered at 0.2 if we divided by $N$; i.e., if we calculated the *average value* of the variables instead of the sum. We can plot them on the same axes if we also switch to line plots:"
   ]
  },
  {
   "cell_type": "code",
   "execution_count": 10,
   "metadata": {
    "tags": []
   },
   "outputs": [
    {
     "data": {
      "text/plain": [
       "(0.0, 1.0)"
      ]
     },
     "execution_count": 10,
     "metadata": {},
     "output_type": "execute_result"
    },
    {
     "data": {
      "image/png": "[encoded data removed]",
      "text/plain": [
       "<Figure size 432x288 with 1 Axes>"
      ]
     },
     "metadata": {
      "needs_background": "light"
     },
     "output_type": "display_data"
    }
   ],
   "source": [
    "b = np.arange(0, 100)\n",
    "for i, N in enumerate([20, 40, 200]):\n",
    "    B = stats.binom(N, 0.2)\n",
    "    scale_factor = N\n",
    "    plt.plot(b / scale_factor, B.pmf(b))\n",
    "\n",
    "plt.xlim(0, 1)"
   ]
  },
  {
   "cell_type": "markdown",
   "metadata": {},
   "source": [
    "When we scaled the $x$-axis values, that *compressed* the probability into a smaller range more for large $N$ than for small $N$. Let's scale the PMFs **up** by the same factor to compensate for that:"
   ]
  },
  {
   "cell_type": "code",
   "execution_count": 11,
   "metadata": {
    "tags": []
   },
   "outputs": [
    {
     "data": {
      "text/plain": [
       "(0.0, 1.0)"
      ]
     },
     "execution_count": 11,
     "metadata": {},
     "output_type": "execute_result"
    },
    {
     "data": {
      "image/png": "[encoded data removed]",
      "text/plain": [
       "<Figure size 432x288 with 1 Axes>"
      ]
     },
     "metadata": {
      "needs_background": "light"
     },
     "output_type": "display_data"
    }
   ],
   "source": [
    "b = np.arange(0, 100)\n",
    "for i, N in enumerate([20, 40, 200]):\n",
    "    B = stats.binom(N, 0.2)\n",
    "    scale_factor = N\n",
    "    plt.plot(b / N, B.pmf(b) * N)\n",
    "\n",
    "plt.xlim(0, 1)"
   ]
  },
  {
   "cell_type": "markdown",
   "metadata": {},
   "source": [
    "We can see these are all bell shapes with different amounts of spreading. "
   ]
  },
  {
   "cell_type": "markdown",
   "metadata": {},
   "source": [
    "Now suppose we started with a completely different distribution. What if we wanted to find the distribution for sums of continuous uniform random variables instead of Binomial random variables.  We don't have a random distribution for the sum of an arbitrary number of uniform random variables, so let's estimate the distribution using simulation. It will be sufficient to just consider the sum of 20 uniform random variables, but feel free to test this with more or fewer!\n",
    "\n",
    "We start by generating a matrix that contains 20 rows, each of which has 1,000,000 uniform[0,1] random variables:"
   ]
  },
  {
   "cell_type": "code",
   "execution_count": 12,
   "metadata": {},
   "outputs": [],
   "source": [
    "U = stats.uniform()\n",
    "u = U.rvs(size=(20, 1_000_000))"
   ]
  },
  {
   "cell_type": "markdown",
   "metadata": {},
   "source": [
    "Now let's compute the average value across the rows (axis 0) and plot a histogram:"
   ]
  },
  {
   "cell_type": "code",
   "execution_count": 13,
   "metadata": {},
   "outputs": [
    {
     "data": {
      "image/png": "[encoded data removed]",
      "text/plain": [
       "<Figure size 432x288 with 1 Axes>"
      ]
     },
     "metadata": {
      "needs_background": "light"
     },
     "output_type": "display_data"
    }
   ],
   "source": [
    "means = np.mean(u, axis=0)\n",
    "plt.hist(means, bins=100);"
   ]
  },
  {
   "cell_type": "markdown",
   "metadata": {},
   "source": [
    "Surprisingly, the histogram of the averages of this type of random variable **also has a bell shape**. "
   ]
  },
  {
   "cell_type": "markdown",
   "metadata": {},
   "source": [
    "It turns out that the average of almost any type of random variable converges to this bell shape under a set of very mild conditions. The shape is the shape of the Normal density:\n",
    "\n",
    "````{panels}\n",
    ":column: col-lg-12\n",
    "\n",
    "DEFINITION\n",
    "^^^\n",
    "```{glossary}\n",
    "Normal (Gaussian) random variable\n",
    "    If $X$ is a normal, or Gaussian, random variable with real parameters $\\mu$ and $\\sigma>0$,  then the probability density function $f_X(x)$ is \n",
    "    \\begin{align} f_X(x) = \n",
    "     \\frac{1}{\\sigma\\sqrt{2 \\pi }}\n",
    "      \\exp \\left\\{ - \\frac 1 2 \\left[\\frac{x-\\mu}{\\sigma}\\right]^2 \\right\\}, ~~ -\\infty < x < \\infty\n",
    "    \\end{align}.\n",
    "    The parameter $\\mu$ is called the *mean*, and the parameter $\\sigma$ is called the *standard deviation*.\n",
    "```\n",
    "````"
   ]
  },
  {
   "cell_type": "markdown",
   "metadata": {},
   "source": [
    "```{note}\n",
    "The Normal density is sometimes specified in terms of $\\sigma^2$ (the variance) instead of $\\sigma$ (the standard deviation) because it can be argued that variance is a more fundamental property of random variables.\n",
    "\n",
    "I have chosen to use $\\sigma$ for several reasons:\n",
    "1. The units of $\\sigma$ are the same as the units of $\\mu$. We will see that either $\\sigma$ or $\\sigma^2$ control the spread of the probability density, but $\\sigma$ has units that more directly translate to values we can understand and interpret on graphs. \n",
    "2. We will see that the term $(x-\\mu)/\\sigma$ arises in other aspects of working with Normal random variables and in other applications. \n",
    "3. SciPy.stats specifies Normal densities in terms of $\\mu$ and $\\sigma$, not $\\sigma^2$.\n",
    "\n",
    "In general, it is best to specify whether a parameter of a Normal random variable indicates standard deviation or variance. For instance, we might write $X \\sim$ Normal($\\mu=0$, $\\sigma=5$).\n",
    "\n",
    "```"
   ]
  },
  {
   "cell_type": "markdown",
   "metadata": {},
   "source": [
    "\n",
    "From the form of the pdf, we can make several observations:\n",
    "* The density is symmetric, and it is centered at $\\mu$.\n",
    "* The density rolls off double exponentially fast in the distance from $\\mu$.\n",
    "* The spread of the density away from the mean is controlled by the parameter $\\sigma$."
   ]
  },
  {
   "cell_type": "markdown",
   "metadata": {},
   "source": [
    "In SciPy.stats, we can create a Gaussian distribution using `stats.norm(mu, sigma)`.  Note that we have to pass $\\sigma$ (**NOT $\\sigma^2$**) to `stats.norm`. \n",
    "\n",
    "Below are plots of the pdf for different values of $\\mu$ and $\\sigma$."
   ]
  },
  {
   "cell_type": "code",
   "execution_count": 14,
   "metadata": {
    "tags": []
   },
   "outputs": [
    {
     "data": {
      "image/png": "[encoded data removed]",
      "text/plain": [
       "<Figure size 432x288 with 1 Axes>"
      ]
     },
     "metadata": {
      "needs_background": "light"
     },
     "output_type": "display_data"
    }
   ],
   "source": [
    "x = np.linspace(-8, 18, 1000)\n",
    "\n",
    "all_params = [(-5, 0.3), (0, 1), (10, 3)]\n",
    "\n",
    "for params in all_params:\n",
    "    N = stats.norm(params[0], params[1])\n",
    "    mylabel = f\"Normal({N.mean()}, $\\sigma=${N.std() :.1f})\"\n",
    "    plt.plot(x, N.pdf(x), label=mylabel)\n",
    "\n",
    "plt.legend()\n",
    "plt.title(\"pdfs for Normal densities\");"
   ]
  },
  {
   "cell_type": "markdown",
   "metadata": {},
   "source": [
    "Note that each density is centered on $\\mu$ and symmetric about $\\mu$. Note that larger $\\sigma$ translates to the density being spread out wider around $\\mu$ but also having a lower peak value. It should be somewhat intuitive that this would happen, as we know the pdf must integrate to 1.\n"
   ]
  },
  {
   "cell_type": "markdown",
   "metadata": {},
   "source": [
    "Now you may be wondering -- why isn't the CDF included in this defintion? We usually don't specify the CDF for the Normal random variable because **the CDF can only be written as an integral equation**:\n",
    "\n",
    "$$\n",
    "F_X(x) = \\int_{-\\infty}^{x}    \\frac{1}{\\sigma \\sqrt{2 \\pi }}\n",
    "      \\exp \\left\\{ - \\frac 1 2 \\left[\\frac{x-\\mu}{\\sigma}\\right]^2 \\right\\} ~ dx.\n",
    "$$\n",
    "\n",
    "The distribution function is the area under the pdf from $-\\infty$ to $x$, as shown by the shaded area in the figure below:\n"
   ]
  },
  {
   "cell_type": "code",
   "execution_count": 15,
   "metadata": {
    "tags": [
     "remove-input"
    ]
   },
   "outputs": [
    {
     "data": {
      "image/png": "[encoded data removed]",
      "text/plain": [
       "<Figure size 432x288 with 1 Axes>"
      ]
     },
     "metadata": {
      "needs_background": "light"
     },
     "output_type": "display_data"
    }
   ],
   "source": [
    "import matplotlib.ticker as mticker\n",
    "\n",
    "fig = plt.figure()\n",
    "N1 = stats.norm(0, 1)\n",
    "x = np.arange(-3, 3.1, 0.1)\n",
    "y = N1.pdf(x)\n",
    "\n",
    "ax = fig.add_subplot(111)\n",
    "x2 = np.arange(-3, 1.1, 0.1)\n",
    "y2 = N1.pdf(x2)\n",
    "plt.fill_between(x2, 0, y2, facecolor=\"red\", alpha=0.5)\n",
    "# ax.axes.xaxis.set_ticklabels(['','','$b$','$\\mu$','',''],fontsize=18)\n",
    "# ticks_loc = ax.get_yticks().tolist()\n",
    "# ax.yaxis.set_major_locator(mticker.FixedLocator(ticks_loc))\n",
    "ax.set_xticks(np.arange(-3, 3, 1))\n",
    "ax.set_xticklabels([\"\", \"\", \"\", \"$\\mu$\", \"$x$\", \"\"], fontsize=18)\n",
    "ax.set_frame_on(False)\n",
    "ax.axes.get_yaxis().set_visible(False)\n",
    "ax.plot(x, y)\n",
    "plt.xlim([-3, 3])\n",
    "xmin, xmax = ax.get_xaxis().get_view_interval()\n",
    "ymin, ymax = ax.get_yaxis().get_view_interval()\n",
    "ymin=0\n",
    "plt.ylim(ymin, ymax)\n",
    "ax.add_artist(plt.Line2D((xmin, xmax), (ymin, ymin), color=\"black\", linewidth=2))\n",
    "ax.get_xaxis().tick_bottom()"
   ]
  },
  {
   "cell_type": "markdown",
   "metadata": {},
   "source": [
    "We will refer to a normal distribution with $\\mu=0$ and $\\sigma=1$ as the *standard Normal* distribution. The CDF for the standard Normal random variable is often denote $\\Phi(x)$.\n",
    "\n",
    "We will often have the need to calculate the survival function, $1-F_X(x)$ for a Normal random variable. For a standard Normal random variable, the survival function is often denoted $Q(x)$ and is typically written as\n",
    "\n",
    "$$\n",
    "Q(x) =   \\frac{1}{\\sqrt{2 \\pi}} \\int_{x}^{\\infty}    \n",
    "      e^{ - \\frac{t^2}{2} } ~ dt.\n",
    "$$\n",
    "\n",
    "Note that we almost always evaluate $Q(x)$ for $x>0$ because we can exploit properties of the distribution to need to evaluate it for $-x$, as explained further in [](evaluating-gaussian-probs). The $Q$-function is the area from $x$ to $\\infty$ under the pdf of the standard Normal random variable, as shown in the figure below:"
   ]
  },
  {
   "cell_type": "code",
   "execution_count": 16,
   "metadata": {
    "tags": [
     "remove-input"
    ]
   },
   "outputs": [
    {
     "data": {
      "image/png": "[encoded data removed]",
      "text/plain": [
       "<Figure size 432x288 with 1 Axes>"
      ]
     },
     "metadata": {
      "needs_background": "light"
     },
     "output_type": "display_data"
    }
   ],
   "source": [
    "N2 = stats.norm(0, 1)\n",
    "x = np.arange(-3, 3.1, 0.1)\n",
    "y = N2.pdf(x)\n",
    "\n",
    "fig = plt.figure()\n",
    "ax = fig.add_subplot(111)\n",
    "x2 = np.arange(1, 3.1, 0.1)\n",
    "y2 = N2.pdf(x2)\n",
    "plt.fill_between(x2, 0, y2, facecolor=\"blue\", alpha=0.5)\n",
    "ax.set_xticks(np.arange(-3,3,1))\n",
    "ax.axes.xaxis.set_ticklabels([\"\", \"\", \"\", \"$0$\", \"$x$\", \"\"], fontsize=18)\n",
    "ax.set_frame_on(False)\n",
    "ax.axes.get_yaxis().set_visible(False)\n",
    "ax.plot(x, y)\n",
    "plt.xlim([-3, 3])\n",
    "\n",
    "xmin, xmax = ax.get_xaxis().get_view_interval()\n",
    "ymin, ymax = ax.get_yaxis().get_view_interval()\n",
    "ymin=0\n",
    "plt.ylim(ymin, ymax)\n",
    "ax.add_artist(plt.Line2D((xmin, xmax), (ymin, ymin), color=\"black\", linewidth=2))\n",
    "ax.get_xaxis().tick_bottom()"
   ]
  },
  {
   "cell_type": "markdown",
   "metadata": {
    "tags": [
     "hide-input"
    ]
   },
   "source": [
    "The CDF and survival function for a Gaussian$(\\mu,\\sigma^2)$ random variable are\n",
    "\n",
    "```{math}\n",
    ":label: general-gaussian-cdf\n",
    "\\Phi \\left(\\frac{x-\\mu}{\\sigma} \\right)\n",
    "```\n",
    "\n",
    "and\n",
    "```{math}\n",
    ":label: general-gaussian-sf\n",
    "\\operatorname{Q} \\left(\\frac{x-\\mu}{\\sigma} \\right).\n",
    "```\n",
    "\n",
    "```{warning}\n",
    "Note that the argument of these functions has the same form that we saw in the Normal pdf. The denominator is $\\sigma$, not $\\sigma^2$!\n",
    "```\n",
    "\n",
    "Since the $Q()$ function is the survival function of the standard Normal random variable, we can create a very simple function to evaluate it:"
   ]
  },
  {
   "cell_type": "code",
   "execution_count": 17,
   "metadata": {},
   "outputs": [],
   "source": [
    "def q(x):\n",
    "  return stats.norm.sf(x)"
   ]
  },
  {
   "cell_type": "markdown",
   "metadata": {},
   "source": [
    "\n",
    "For $x>0$, another convenient form for $Q(x)$  is\n",
    "\n",
    "$$\n",
    "Q(x) =   \\frac 1 \\pi \\int_{0}^{\\pi/2} \\exp \\left( - \\frac{x^2}{2 \\sin^2 \\theta} \\right) ~d \\theta.\n",
    "$$\n",
    "\n",
    "There are many good approximations and bounds for the $Q$ function that are appropriate for programming into an electronic calculator or for using in analysis when the integral forms are prevent further simplication of expressions. The [Wikipedia page on the Q-function](https://en.wikipedia.org/wiki/Q-function#Bounds_and_approximations) has an excellent list. One that is worth pointing out because of its simplicity and accuracy for large values of its argument is this one, which is known as an improved Chernoff bound:\n",
    "\n",
    "$$\n",
    "Q(x) \\le \\frac 1 2 e^{-x^2 / 2}.\n",
    "$$\n"
   ]
  },
  {
   "cell_type": "code",
   "execution_count": 18,
   "metadata": {
    "tags": [
     "hide-input"
    ]
   },
   "outputs": [
    {
     "data": {
      "image/png": "[encoded data removed]",
      "text/plain": [
       "<Figure size 432x288 with 1 Axes>"
      ]
     },
     "metadata": {
      "needs_background": "light"
     },
     "output_type": "display_data"
    }
   ],
   "source": [
    "x=np.linspace(0,6,61)\n",
    "plt.semilogy(x,q(x), label='$Q(x)$')\n",
    "plt.semilogy(x, 0.5 * np.exp(-x**2 / 2), label='\\u00BD$e^{-x^2/2}$' )\n",
    "plt.legend();"
   ]
  },
  {
   "cell_type": "markdown",
   "metadata": {},
   "source": [
    "\n",
    "In this book, I will assume that you have access to a computer and SciPy.stats, so I am not going to spend additional time on how to actually evaluate the $Q$ function. Note that the inverse $Q$ function is simply the inverse survival function, which in SciPy.stats is `norm.isf(p)`. For clarity of notation, we can define a `qinv()` function as"
   ]
  },
  {
   "cell_type": "code",
   "execution_count": 19,
   "metadata": {},
   "outputs": [],
   "source": [
    "def qinv(p):\n",
    "    return stats.norm.isf(p)"
   ]
  },
  {
   "cell_type": "markdown",
   "metadata": {},
   "source": [
    "The CDFs are shown below for the same set of parameters:"
   ]
  },
  {
   "cell_type": "code",
   "execution_count": 20,
   "metadata": {},
   "outputs": [
    {
     "data": {
      "image/png": "[encoded data removed]",
      "text/plain": [
       "<Figure size 432x288 with 1 Axes>"
      ]
     },
     "metadata": {
      "needs_background": "light"
     },
     "output_type": "display_data"
    }
   ],
   "source": [
    "x = np.linspace(-8, 18, 1000)\n",
    "\n",
    "all_params = [(-5, 0.3), (0, 1), (10, 3)]\n",
    "for params in all_params:\n",
    "    N = stats.norm(params[0], params[1])\n",
    "    mylabel = f\"Normal({N.mean()}, {N.std() :.1f})\"\n",
    "    plt.plot(x, N.cdf(x), label=mylabel)\n",
    "\n",
    "plt.plot([-10, 20], [0.5, 0.5], \"k:\")\n",
    "plt.vlines([0, 10, -5], ymin=0, ymax=0.5, linestyles=\"dotted\")\n",
    "plt.xlim(-8, 22)\n",
    "plt.ylim(0, 1)\n",
    "plt.legend(loc=4)\n",
    "plt.title(\"CDFs for Normal densities\");"
   ]
  },
  {
   "cell_type": "markdown",
   "metadata": {},
   "source": [
    "The dotted lines show that the point that achieves $F_X(x) =P(X \\le x) =0.5$ is $\\mu$ for each of these distributions. This should be expected from our previous observations: since the distribution is symmetric around $\\mu$, it must be that half of the probability is on each side of $\\mu$. \n",
    "\n",
    "Note that the steepness of the CDF curves depends on the value of $\\sigma$ (and not on the value of $\\mu$). Larger $\\sigma$ results in the CDF curve being less steep because the probability is spread out over a wider range."
   ]
  },
  {
   "cell_type": "markdown",
   "metadata": {
    "tags": []
   },
   "source": [
    "(evaluating-gaussian-probs)=\n",
    "### Evaluating Gaussian Probabilities\n",
    "\n",
    "For a Gaussian random variable, the probability of any interval can be written as a simple function involving the $Q$-function with positive arguments. Consider $X \\sim$Gaussian$(\\mu, \\sigma),$ where $\\sigma >0$. We consider several cases below.\n",
    "\n",
    "1. The easiest case is a \"right tail\", $P(X>x)$, where $x>\\mu$. This scenario is illustrated below:"
   ]
  },
  {
   "cell_type": "code",
   "execution_count": 21,
   "metadata": {
    "tags": [
     "remove-input"
    ]
   },
   "outputs": [
    {
     "data": {
      "image/png": "[encoded data removed]",
      "text/plain": [
       "<Figure size 432x288 with 1 Axes>"
      ]
     },
     "metadata": {
      "needs_background": "light"
     },
     "output_type": "display_data"
    }
   ],
   "source": [
    "N3 = stats.norm(0, 1)\n",
    "x = np.arange(-3, 3.1, 0.1)\n",
    "y = N3.pdf(x)\n",
    "realmax=y.max()\n",
    "\n",
    "fig = plt.figure()\n",
    "ax = fig.add_subplot(111)\n",
    "x2 = np.arange(1.5, 3.1, 0.1)\n",
    "y2 = N2.pdf(x2)\n",
    "\n",
    "plt.fill_between(x2, 0, y2, facecolor=\"blue\", alpha=0.5)\n",
    "ticks=[0, 1.5]\n",
    "ax.set_xticks(ticks)\n",
    "ax.axes.xaxis.set_ticklabels([ \"$\\mu$\",  \"$x$\"], fontsize=18)\n",
    "ax.set_frame_on(False)\n",
    "ax.axes.get_yaxis().set_visible(False)\n",
    "ax.plot(x, y)\n",
    "plt.xlim([-3, 3])\n",
    "\n",
    "xmin, xmax = ax.get_xaxis().get_view_interval()\n",
    "ymin, ymax = ax.get_yaxis().get_view_interval()\n",
    "ymin=0\n",
    "plt.ylim(ymin, ymax)\n",
    "ax.add_artist(plt.Line2D((xmin, xmax), (ymin, ymin), color=\"black\", linewidth=2))\n",
    "ax.get_xaxis().tick_bottom()\n",
    "height=ymax/6\n",
    "ax.annotate(\"\",\n",
    "            xy=(0, height), xycoords='data',\n",
    "            xytext=(1.5, height), textcoords='data',\n",
    "            arrowprops=dict(arrowstyle=\"<->\",\n",
    "                            connectionstyle=\"arc3\"),\n",
    "            )\n",
    "ax.annotate(\"$d$\",\n",
    "            xy=(0.7, height*1.15), xycoords='data',\n",
    "            xytext=(0.75, height*1.15), textcoords='data', fontsize=18\n",
    "            );\n",
    "plt.vlines(x=0, ymin=0, ymax=realmax, color='k', ls=':', lw=1);"
   ]
  },
  {
   "cell_type": "markdown",
   "metadata": {},
   "source": [
    "From {eq}`general-gaussian-sf`, \n",
    "\n",
    "$$\n",
    "P(X > x ) = Q \\left( \\frac{ x- \\mu}{\\sigma} \\right).\n",
    "$$\n",
    "\n",
    "Note that the distance between the threshold $x$ and the mean $\\mu$ is $d=x-\\mu$.  Then we can write\n",
    "\n",
    "$$\n",
    "P(X > x ) = Q \\left( \\frac d \\sigma \\right).\n",
    "$$\n",
    "\n",
    "Although introducing $d$ may seem like an unnecessary step at this point, we will soon show why this is useful.\n",
    "\n",
    "2. Now consider a \"left tail\", $P(X < y)$, where $y < \\mu$. This scenario is illustrated below:"
   ]
  },
  {
   "cell_type": "code",
   "execution_count": 22,
   "metadata": {
    "tags": [
     "remove-input"
    ]
   },
   "outputs": [
    {
     "data": {
      "image/png": "[encoded data removed]",
      "text/plain": [
       "<Figure size 432x288 with 1 Axes>"
      ]
     },
     "metadata": {
      "needs_background": "light"
     },
     "output_type": "display_data"
    }
   ],
   "source": [
    "import matplotlib.ticker as mticker\n",
    "\n",
    "fig = plt.figure()\n",
    "N1 = stats.norm(0, 1)\n",
    "x = np.arange(-3, 3.1, 0.1)\n",
    "y = N1.pdf(x)\n",
    "\n",
    "ax = fig.add_subplot(111)\n",
    "x2 = np.arange(-3, -1.1, 0.1)\n",
    "y2 = N1.pdf(x2)\n",
    "plt.fill_between(x2, 0, y2, facecolor=\"red\", alpha=0.5)\n",
    "# ax.axes.xaxis.set_ticklabels(['','','$b$','$\\mu$','',''],fontsize=18)\n",
    "# ticks_loc = ax.get_yticks().tolist()\n",
    "# ax.yaxis.set_major_locator(mticker.FixedLocator(ticks_loc))\n",
    "#ax.set_xticks(np.arange(-3, 3, 1))\n",
    "#ax.set_xticklabels([\"\", \"\", \"\", \"$\\mu$\", \"$x$\", \"\"], fontsize=18)\n",
    "ticks=[-1.2, 0]\n",
    "ax.set_xticks(ticks)\n",
    "ax.axes.xaxis.set_ticklabels([\"$y$\", \"$\\mu$\"], fontsize=18)\n",
    "ax.set_frame_on(False)\n",
    "ax.axes.get_yaxis().set_visible(False)\n",
    "ax.plot(x, y)\n",
    "plt.xlim([-3, 3])\n",
    "xmin, xmax = ax.get_xaxis().get_view_interval()\n",
    "ymin, ymax = ax.get_yaxis().get_view_interval()\n",
    "ymin=0\n",
    "plt.ylim(ymin, ymax)\n",
    "ax.add_artist(plt.Line2D((xmin, xmax), (ymin, ymin), color=\"black\", linewidth=2))\n",
    "ax.get_xaxis().tick_bottom()\n",
    "height=ymax/6\n",
    "ax.annotate(\"\",\n",
    "            xy=(-1.2, height), xycoords='data',\n",
    "            xytext=(0, height), textcoords='data',\n",
    "            arrowprops=dict(arrowstyle=\"<->\",\n",
    "                            connectionstyle=\"arc3\"),\n",
    "            )\n",
    "ax.annotate(\"$d$\",\n",
    "            xy=(-1, height*1.15), xycoords='data',\n",
    "            xytext=(-0.75, height*1.15), textcoords='data', fontsize=18\n",
    "            );\n",
    "plt.vlines(x=0, ymin=0, ymax=realmax, color='k', ls=':', lw=1);"
   ]
  },
  {
   "cell_type": "markdown",
   "metadata": {},
   "source": [
    "Note that \n",
    "\n",
    "$$\n",
    "P(Y \\le y) = F_Y(y) = \\Phi\\left( \\frac { y -\\mu}{\\sigma} \\right).\n",
    "$$\n",
    "\n",
    "However, we are going to use the standard that every Normal probability should be expressed in terms of $Q()$ instead of $\\Phi$. There are several ways to proceed. One is to use the mathematical relation $\\Phi(z) = 1 - Q(z)$. An alternative is to take advantage of the symmetry of the Normal density around the mean, $\\mu$. If we reflect the region $Y \\le y$ around an axis located at $\\mu$, then the probability of the reflected region will be equal to the $P(Y \\le y)$. To preserve the symmetry of the region, the reflected region must be at the same distance, $d = \\mu - y$, from $\\mu$. Thus, the reflected region is $X \\ge \\mu + d = 2 \\mu -y$. The result is shown in the dark shaded region below:"
   ]
  },
  {
   "cell_type": "code",
   "execution_count": 23,
   "metadata": {
    "tags": [
     "remove-input"
    ]
   },
   "outputs": [
    {
     "data": {
      "image/png": "[encoded data removed]",
      "text/plain": [
       "<Figure size 432x288 with 1 Axes>"
      ]
     },
     "metadata": {
      "needs_background": "light"
     },
     "output_type": "display_data"
    }
   ],
   "source": [
    "import matplotlib.ticker as mticker\n",
    "\n",
    "fig = plt.figure()\n",
    "N1 = stats.norm(0, 1)\n",
    "x = np.arange(-3, 3.1, 0.1)\n",
    "y = N1.pdf(x)\n",
    "\n",
    "ax = fig.add_subplot(111)\n",
    "x2 = np.arange(-3, -1.1, 0.1)\n",
    "y2 = N1.pdf(x2)\n",
    "plt.fill_between(x2, 0, y2, facecolor=\"red\", alpha=0.05)\n",
    "\n",
    "ticks=[-1.2, 0, 1.2]\n",
    "ax.set_xticks(ticks)\n",
    "ax.axes.xaxis.set_ticklabels([\"$y$\", \"$\\mu$\", \"$2\\mu -y$\"], fontsize=18)\n",
    "ax.set_frame_on(False)\n",
    "ax.axes.get_yaxis().set_visible(False)\n",
    "ax.plot(x, y)\n",
    "plt.xlim([-3, 3])\n",
    "xmin, xmax = ax.get_xaxis().get_view_interval()\n",
    "ymin, ymax = ax.get_yaxis().get_view_interval()\n",
    "ymin=0\n",
    "plt.ylim(ymin, ymax)\n",
    "ax.add_artist(plt.Line2D((xmin, xmax), (ymin, ymin), color=\"black\", linewidth=2))\n",
    "ax.get_xaxis().tick_bottom()\n",
    "height=ymax/6\n",
    "ax.annotate(\"\",\n",
    "            xy=(-1.2, height), xycoords='data',\n",
    "            xytext=(0, height), textcoords='data',\n",
    "            arrowprops=dict(arrowstyle=\"<->\",\n",
    "                            connectionstyle=\"arc3\"),\n",
    "            )\n",
    "ax.annotate(\"$d$\",\n",
    "            xy=(-1, height*1.15), xycoords='data',\n",
    "            xytext=(-0.75, height*1.15), textcoords='data', fontsize=18\n",
    "            );\n",
    "plt.vlines(x=0, ymin=0, ymax=realmax, color='k', ls=':', lw=1);\n",
    "\n",
    "x3 = np.arange(1.2, 3, 0.1)\n",
    "y3 = N1.pdf(x3)\n",
    "plt.fill_between(x3, 0, y3, facecolor=\"red\", alpha=0.5)\n",
    "\n",
    "ax.annotate(\"\",\n",
    "            xy=(0,height), xycoords='data',\n",
    "            xytext=(1.2, height), textcoords='data',\n",
    "            arrowprops=dict(arrowstyle=\"<->\",\n",
    "                            connectionstyle=\"arc3\"),\n",
    "            )\n",
    "ax.annotate(\"$d$\",\n",
    "            xy=(-1, height*1.15), xycoords='data',\n",
    "            xytext=(0.5, height*1.15), textcoords='data', fontsize=18\n",
    "            );\n",
    "\n",
    "ax.annotate(\"\",\n",
    "            xy=(-1.5, height*1.3), xycoords='data',\n",
    "            xytext=(1.5, height*1.3), textcoords='data', \n",
    "            arrowprops=dict(arrowstyle=\"<-\",\n",
    "                            connectionstyle=\"angle3,angleA=-30,angleB=-150\", lw=2)\n",
    "           );"
   ]
  },
  {
   "cell_type": "markdown",
   "metadata": {},
   "source": [
    "Then using {eq}`general-gaussian-sf`, the probabilty of the reflected region is\n",
    "\n",
    "\\begin{align}\n",
    "P(X \\ge 2 \\mu -y) &= Q \\left( \\frac{2\\mu -y -\\mu}{\\sigma} \\right) \\\\\n",
    "&= Q \\left( \\frac{\\mu -y}{\\sigma} \\right) \\\\\n",
    "&= Q \\left( \\frac{d}{\\sigma} \\right).\n",
    "\\end{align}\n",
    "\n",
    "**The probability in a tail of the Gaussian density that is at distance $d$ from the mean is $Q(d/\\sigma)$.**\n",
    "\n",
    "3. Consider next the probability of a region that does not include the mean. For example, $P(a < X \\le b),$ where $a> \\mu$.  The corresponding region of probability density is shown below:"
   ]
  },
  {
   "cell_type": "code",
   "execution_count": 24,
   "metadata": {
    "tags": [
     "hide-input",
     "remove-input"
    ]
   },
   "outputs": [
    {
     "data": {
      "image/png": "[encoded data removed]",
      "text/plain": [
       "<Figure size 432x288 with 1 Axes>"
      ]
     },
     "metadata": {
      "needs_background": "light"
     },
     "output_type": "display_data"
    }
   ],
   "source": [
    "N3 = stats.norm(0, 1)\n",
    "x = np.arange(-3, 3.1, 0.1)\n",
    "y = N3.pdf(x)\n",
    "realmax=y.max()\n",
    "\n",
    "fig = plt.figure()\n",
    "ax = fig.add_subplot(111)\n",
    "x2 = np.arange(.8, 2.02, 0.01)\n",
    "y2 = N2.pdf(x2)\n",
    "plt.fill_between(x2, 0, y2, facecolor=\"green\", alpha=0.3)\n",
    "\n",
    "ticks=[0, 0.8, 2]\n",
    "ax.set_xticks(ticks)\n",
    "ax.axes.xaxis.set_ticklabels([ \"$\\mu$\",  \"$a$\", '$b$'], fontsize=18)\n",
    "ax.set_frame_on(False)\n",
    "ax.axes.get_yaxis().set_visible(False)\n",
    "ax.plot(x, y)\n",
    "plt.xlim([-3, 3])\n",
    "\n",
    "xmin, xmax = ax.get_xaxis().get_view_interval()\n",
    "ymin, ymax = ax.get_yaxis().get_view_interval()\n",
    "ymin=0\n",
    "plt.ylim(ymin, ymax)\n",
    "ax.add_artist(plt.Line2D((xmin, xmax), (ymin, ymin), color=\"black\", linewidth=2))\n",
    "ax.get_xaxis().tick_bottom()\n",
    "height=ymax/6\n",
    "ax.annotate(\"\",\n",
    "            xy=(0, height*2), xycoords='data',\n",
    "            xytext=(0.8, height*2), textcoords='data',\n",
    "            arrowprops=dict(arrowstyle=\"<->\",\n",
    "                            connectionstyle=\"arc3\"),\n",
    "            )\n",
    "ax.annotate(\"$d_1$\",\n",
    "            xy=(0.4, height*2.2), xycoords='data',\n",
    "            xytext=(0.3, height*2.2), textcoords='data', fontsize=18\n",
    "            );\n",
    "plt.vlines(x=0, ymin=0, ymax=realmax, color='k', ls=':', lw=1);\n",
    "\n",
    "ax.annotate(\"\",\n",
    "            xy=(0, height*0.6), xycoords='data',\n",
    "            xytext=(2.02, height*0.6), textcoords='data',\n",
    "            arrowprops=dict(arrowstyle=\"<->\",\n",
    "                            connectionstyle=\"arc3\"),\n",
    "            )\n",
    "ax.annotate(\"$d_2$\",\n",
    "            xy=(0.4, height*0.8), xycoords='data',\n",
    "            xytext=(1, height*0.8), textcoords='data', fontsize=18\n",
    "            );"
   ]
  },
  {
   "cell_type": "markdown",
   "metadata": {},
   "source": [
    "Note that the event $Y >  a$ can be written as $a < Y \\le b \\cup Y > b$, where the events $\\{s | a < Y \\le b\\}$ and $\\{s |Y>b\\}$ are mutually exclusive. Then\n",
    "\n",
    "\\begin{align}\n",
    "P (Y > a) &= P( a < Y \\le b) + P(Y>b) \\\\\n",
    "\\Rightarrow P( a < Y \\le b) &= P(Y>a) - P(Y>b).\n",
    "\\end{align}\n",
    "Let $d_1$ and $d_2$ be the distances from the mean to $a$ and $b$, respectively; i.e., $d_1 =  a-\\mu$ and $d_2 = b-\\mu$. Then \n",
    "\n",
    "\\begin{align}\n",
    " P( a < Y \\le b) &= Q\\left( \\frac {d_1}{\\sigma} \\right) \n",
    " -Q\\left( \\frac {d_2}{\\sigma} \\right).\n",
    "\\end{align}\n",
    "\n"
   ]
  },
  {
   "cell_type": "markdown",
   "metadata": {},
   "source": [
    "4. For our final case, consider a region that includes the mean. For example, $P(g < X \\le h)$, where $g < \\mu < h$. The corresponding region of probability density is shown below: "
   ]
  },
  {
   "cell_type": "code",
   "execution_count": 25,
   "metadata": {
    "tags": [
     "hide-input",
     "remove-input"
    ]
   },
   "outputs": [
    {
     "data": {
      "image/png": "[encoded data removed]",
      "text/plain": [
       "<Figure size 432x288 with 1 Axes>"
      ]
     },
     "metadata": {
      "needs_background": "light"
     },
     "output_type": "display_data"
    }
   ],
   "source": [
    "N3 = stats.norm(0, 1)\n",
    "x = np.arange(-3, 3.1, 0.1)\n",
    "y = N3.pdf(x)\n",
    "realmax=y.max()\n",
    "\n",
    "fig = plt.figure()\n",
    "ax = fig.add_subplot(111)\n",
    "x2 = np.arange(-1, 2.02, 0.01)\n",
    "y2 = N3.pdf(x2)\n",
    "plt.fill_between(x2, 0, y2, facecolor=\"orange\", alpha=0.3)\n",
    "\n",
    "ticks=[-1, 0, 2]\n",
    "ax.set_xticks(ticks)\n",
    "ax.axes.xaxis.set_ticklabels(['$g$', '$\\mu$',  '$h$'], fontsize=18)\n",
    "ax.set_frame_on(False)\n",
    "ax.axes.get_yaxis().set_visible(False)\n",
    "ax.plot(x, y)\n",
    "plt.xlim([-3, 3])\n",
    "\n",
    "xmin, xmax = ax.get_xaxis().get_view_interval()\n",
    "ymin, ymax = ax.get_yaxis().get_view_interval()\n",
    "ymin=0\n",
    "plt.ylim(ymin, ymax)\n",
    "ax.add_artist(plt.Line2D((xmin, xmax), (ymin, ymin), color=\"black\", linewidth=2))\n",
    "ax.get_xaxis().tick_bottom()\n",
    "height=ymax/6\n",
    "ax.annotate(\"\",\n",
    "            xy=(0, height*2), xycoords='data',\n",
    "            xytext=(-1, height*2), textcoords='data',\n",
    "            arrowprops=dict(arrowstyle=\"<->\",\n",
    "                            connectionstyle=\"arc3\"),\n",
    "            )\n",
    "ax.annotate(\"$d_3$\",\n",
    "            xy=(0.4, height*2.2), xycoords='data',\n",
    "            xytext=(-0.7, height*2.2), textcoords='data', fontsize=18\n",
    "            );\n",
    "plt.vlines(x=0, ymin=0, ymax=realmax, color='k', ls=':', lw=1);\n",
    "\n",
    "ax.annotate(\"\",\n",
    "            xy=(0, height*0.6), xycoords='data',\n",
    "            xytext=(2.02, height*0.6), textcoords='data',\n",
    "            arrowprops=dict(arrowstyle=\"<->\",\n",
    "                            connectionstyle=\"arc3\"),\n",
    "            )\n",
    "ax.annotate(\"$d_4$\",\n",
    "            xy=(0.4, height*0.8), xycoords='data',\n",
    "            xytext=(1, height*0.8), textcoords='data', fontsize=18\n",
    "            );"
   ]
  },
  {
   "cell_type": "markdown",
   "metadata": {},
   "source": [
    "For this type of probability, the easiest way to write it in terms of $Q()$ functions is to consider the complimentary event. I.e., \n",
    "\n",
    "\\begin{align}\n",
    "P(g < X \\le h) &= 1 - P\\left( \\overline{g < X \\le h}\\right) \\\\\n",
    "&= 1 - \\left[ P\\left(X\\le g \\cup X>h \\right)\\right].\n",
    "\\end{align}\n",
    "\n",
    "The region of probability density for  $X\\le g \\cup X>h$ is shown below:"
   ]
  },
  {
   "cell_type": "code",
   "execution_count": 26,
   "metadata": {
    "tags": [
     "remove-input"
    ]
   },
   "outputs": [
    {
     "data": {
      "image/png": "[encoded data removed]",
      "text/plain": [
       "<Figure size 432x288 with 1 Axes>"
      ]
     },
     "metadata": {
      "needs_background": "light"
     },
     "output_type": "display_data"
    }
   ],
   "source": [
    "N3 = stats.norm(0, 1)\n",
    "x = np.arange(-3, 3.1, 0.1)\n",
    "y = N3.pdf(x)\n",
    "realmax=y.max()\n",
    "\n",
    "fig = plt.figure()\n",
    "ax = fig.add_subplot(111)\n",
    "x2 = np.arange(-3, -0.98, 0.01)\n",
    "y2 = N3.pdf(x2)\n",
    "plt.fill_between(x2, 0, y2, facecolor=\"purple\", alpha=0.3)\n",
    "\n",
    "x3 = np.arange(2, 3.01, 0.01)\n",
    "y3 = N3.pdf(x3)\n",
    "plt.fill_between(x3, 0, y3, facecolor=\"purple\", alpha=0.3)\n",
    "\n",
    "\n",
    "\n",
    "ticks=[-1, 0, 2]\n",
    "ax.set_xticks(ticks)\n",
    "ax.axes.xaxis.set_ticklabels(['$g$', '$\\mu$',  '$h$'], fontsize=18)\n",
    "ax.set_frame_on(False)\n",
    "ax.axes.get_yaxis().set_visible(False)\n",
    "ax.plot(x, y)\n",
    "plt.xlim([-3, 3])\n",
    "\n",
    "xmin, xmax = ax.get_xaxis().get_view_interval()\n",
    "ymin, ymax = ax.get_yaxis().get_view_interval()\n",
    "ymin=0\n",
    "plt.ylim(ymin, ymax)\n",
    "ax.add_artist(plt.Line2D((xmin, xmax), (ymin, ymin), color=\"black\", linewidth=2))\n",
    "ax.get_xaxis().tick_bottom()\n",
    "height=ymax/6\n",
    "ax.annotate(\"\",\n",
    "            xy=(0, height*2), xycoords='data',\n",
    "            xytext=(-1, height*2), textcoords='data',\n",
    "            arrowprops=dict(arrowstyle=\"<->\",\n",
    "                            connectionstyle=\"arc3\"),\n",
    "            )\n",
    "ax.annotate(\"$d_3$\",\n",
    "            xy=(0.4, height*2.2), xycoords='data',\n",
    "            xytext=(-0.7, height*2.2), textcoords='data', fontsize=18\n",
    "            );\n",
    "plt.vlines(x=0, ymin=0, ymax=realmax, color='k', ls=':', lw=1);\n",
    "\n",
    "ax.annotate(\"\",\n",
    "            xy=(0, height*0.6), xycoords='data',\n",
    "            xytext=(2.02, height*0.6), textcoords='data',\n",
    "            arrowprops=dict(arrowstyle=\"<->\",\n",
    "                            connectionstyle=\"arc3\"),\n",
    "            )\n",
    "ax.annotate(\"$d_4$\",\n",
    "            xy=(0.4, height*0.8), xycoords='data',\n",
    "            xytext=(1, height*0.8), textcoords='data', fontsize=18\n",
    "            );"
   ]
  },
  {
   "cell_type": "markdown",
   "metadata": {},
   "source": [
    "This probability can be calculated as the sum of two tail probabilities, which we already know how to calculated. The result is\n",
    "\n",
    "\\begin{align}\n",
    "P(g < X \\le h) &= 1 - Q\\left( \\frac{d_3}{\\sigma}\\right) - Q\\left( \\frac{d_4}{\\sigma}\\right) \\\\\n",
    "&= 1 - Q\\left( \\frac{\\mu -g }{\\sigma}\\right) - Q\\left( \\frac{h- \\mu}{\\sigma}\\right) .\n",
    "\\end{align}"
   ]
  },
  {
   "cell_type": "markdown",
   "metadata": {},
   "source": [
    "**Example**\n",
    "\n",
    "The plot below shows the heights for approximately 14,000 people in the [US National Health and Nutrition Examination Survey (NHANES) for 2017–March 2020](https://wwwn.cdc.gov/Nchs/Nhanes/Search/DataPage.aspx?Component=Examination&Cycle=2017-2020). The data comes from the Body Measures data set. Note that this data set includes both adults and children, so the combined data is clearly not Normal. However, there seems to be a strong Normal component in the higher height, which likely correspond to the adults in the survey.\n",
    "\n",
    "Using this data set, estimate the probability that an adult is over 7 feet tall. \n"
   ]
  },
  {
   "cell_type": "code",
   "execution_count": 27,
   "metadata": {},
   "outputs": [
    {
     "data": {
      "image/png": "[encoded data removed]",
      "text/plain": [
       "<Figure size 432x288 with 1 Axes>"
      ]
     },
     "metadata": {
      "needs_background": "light"
     },
     "output_type": "display_data"
    }
   ],
   "source": [
    "import pandas as pd\n",
    "df=pd.read_sas(\"https://wwwn.cdc.gov/Nchs/Nhanes/2017-2018/P_BMX.XPT\")\n",
    "counts, bins, plot = plt.hist(df['BMXHT']/2.54,bins=50);\n",
    "plt.xlabel('Height (in)');\n",
    "plt.ylabel('Counts');"
   ]
  },
  {
   "cell_type": "markdown",
   "metadata": {},
   "source": [
    "*Solution*\n",
    "\n",
    "This problem is very different from our previous problems because we cannot answer it directly from the data. Since this data set contains no heights that are greater than 7 feet, any resampling of the data will also have no heights greater than 7 feet. Thus, an estimate that uses only resampling will always estimate the probability of a person being over 7 feet tall as 0, which we know is not correct. \n",
    "\n",
    "One way to deal with this problem is to use a *model-based* approach. That is, we assume that we have a model for the data, and use this model to answer the question. Looking at the right-hand side of the histogram, we can choose to model the heights of adults in the US using a Normal distribution. We need to know two parameters to specify the Normal distribution: the mean $\\mu$ and the variance $\\sigma^2$.  We don't yet know how to estimate these parameters directly, and even if we did, the fact that the adult data is mixed with juvenile data would make this challenging. \n",
    "\n",
    "For now, we will estimate these parameters by manually searching for a good match between the Normal density and the normalized histogram. The interactive widget below can b used to experiment with fitting the density to the histogram by varying the mean and variance. There is also a third parameter, scale, which is used to reduce the density of the Normal model by a scaling factor to compensate for the fact that not all of the histogram data is associated with adults. \n",
    "\n",
    "**Adjust the parameters below so that the Normal density (the smooth curve) matches the main bell shape in the data as closely as possible:**\n"
   ]
  },
  {
   "cell_type": "code",
   "execution_count": 28,
   "metadata": {
    "tags": [
     "hide-input"
    ]
   },
   "outputs": [
    {
     "data": {
      "application/vnd.jupyter.widget-view+json": {
       "model_id": "58f27c2036c8442e9abf3dd0ebd885af",
       "version_major": 2,
       "version_minor": 0
      },
      "text/plain": [
       "interactive(children=(FloatSlider(value=62.0, description='$\\\\mu$', max=68.0, min=62.0, step=0.05, style=Slide…"
      ]
     },
     "metadata": {},
     "output_type": "display_data"
    }
   ],
   "source": [
    "import ipywidgets as widgets\n",
    "from ipywidgets import interact\n",
    "\n",
    "\n",
    "\n",
    "def plot_normal_density(mean, sdev, scale):\n",
    "\n",
    "\n",
    "  N=stats.norm(mean, scale=sdev)\n",
    "  n=np.linspace(50,80,31)\n",
    "\n",
    "  plt.clf()\n",
    "  counts, bins, plot = plt.hist(df['BMXHT']/2.54,bins=50, density=True);\n",
    "\n",
    "\n",
    "  plt.plot(n, scale*N.pdf(n) )\n",
    "  plt.show()\n",
    "\n",
    "\n",
    "interact(\n",
    "  plot_normal_density,\n",
    "  mean=widgets.FloatSlider(\n",
    "    min=62,\n",
    "    max=68,\n",
    "    step=0.05,\n",
    "    value=60,\n",
    "    description=\"$\\mu$\",\n",
    "    style={\"description_width\": \"initial\"},\n",
    "  ),\n",
    "  sdev=widgets.FloatSlider(\n",
    "    min=3,\n",
    "    max=6,\n",
    "    step=0.1,\n",
    "    value=3,\n",
    "    description=\"$\\sigma$\",\n",
    "    style={\"description_width\": \"initial\"},\n",
    "  ),\n",
    "  scale=widgets.FloatSlider(\n",
    "    min=0.5,\n",
    "    max=1,\n",
    "    step=0.01,\n",
    "    value=1,\n",
    "    description=\"scale\",\n",
    "    style={\"description_width\": \"initial\"},\n",
    "  )  \n",
    ");"
   ]
  },
  {
   "cell_type": "markdown",
   "metadata": {},
   "source": [
    "Your values may differ, but the values that I found to best match are:\n",
    "* $\\mu$ = 65.05\n",
    "* $\\sigma$=4.9\n",
    "* scale = 0.92\n",
    "\n",
    "Given these values, we can model the height of a random US adult as $H \\sim $Normal($\\mu = 65.1$, $\\sigma^2 = 23.2)$. Then the probability that a randomly chosen adult is over 7 feet (i.e., 84 inches) is $P(H>84)$. We can directly evaluate this using SciPy.stats as follows:\n"
   ]
  },
  {
   "cell_type": "code",
   "execution_count": 29,
   "metadata": {},
   "outputs": [
    {
     "data": {
      "text/plain": [
       "5.5012921622610294e-05"
      ]
     },
     "execution_count": 29,
     "metadata": {},
     "output_type": "execute_result"
    }
   ],
   "source": [
    "H = stats.norm(65.05, scale = 4.9 )\n",
    "H.sf(12*7)"
   ]
  },
  {
   "cell_type": "markdown",
   "metadata": {},
   "source": [
    "We can also easily express this using the $Q$ function by noting that the distance from the mean to the threshold is $d = 84-65.1 = 18.9$,  so\n",
    "\n",
    "$$\n",
    "P(H > 84 ) = Q \\left( \\frac{d}{\\sigma }\\right) \\approx Q \\left( \\frac{18.9}{4.9 }\\right)  \\approx Q (3.86),\n",
    "$$\n",
    "which is\n"
   ]
  },
  {
   "cell_type": "code",
   "execution_count": 30,
   "metadata": {},
   "outputs": [
    {
     "data": {
      "text/plain": [
       "5.669351253425653e-05"
      ]
     },
     "execution_count": 30,
     "metadata": {},
     "output_type": "execute_result"
    }
   ],
   "source": [
    "q(3.86)"
   ]
  },
  {
   "cell_type": "markdown",
   "metadata": {},
   "source": [
    "So the probability that a randomly chosen adult in the US is over 7 feet tall should be about $6 \\times 10^{-5}$. This estimate may be low because the data we used to generate this model also includes adolescents, which may skew the data toward lower heights. Fortunately, we can check this result using another data set. \n",
    "\n",
    "The Behavioral Risk Factor Surveillance System (BRFSS) Surve  is a telephone survey of US residents that is sponsored by the US Centers for Disease Control and other federal agencies. Here is a link to the [2020 BRFSS survey data](https://www.cdc.gov/brfss/annual_data/annual_2020.html), which includes over 400,000 respondents. The heights (in inches) are shown in the figure below:\n",
    "\n",
    "\n",
    "\n"
   ]
  },
  {
   "cell_type": "code",
   "execution_count": 31,
   "metadata": {
    "tags": [
     "remove-cell"
    ]
   },
   "outputs": [],
   "source": [
    "# import pandas as pd\n",
    "# df2=pd.read_sas(\"LLCP2020.XPT\")\n",
    "# heights=df2['HTIN4'].copy()\n",
    "# import pickle\n",
    "# with open('heights.pkl','wb') as f:\n",
    "#   pickle.dump(heights, f)\n",
    "# counts2, bins2, plot2 = plt.hist(heights,\n",
    "#                                  bins=np.arange(50,90,1))\n",
    "# plt.xlabel('Height (in)');\n",
    "# plt.ylabel('Counts');\n",
    "# plt.title('Histogram of Heights from the 2020 BRFSS Survey');"
   ]
  },
  {
   "cell_type": "code",
   "execution_count": 32,
   "metadata": {
    "tags": [
     "hide-input"
    ]
   },
   "outputs": [
    {
     "data": {
      "image/png": "[encoded data removed]",
      "text/plain": [
       "<Figure size 432x288 with 1 Axes>"
      ]
     },
     "metadata": {
      "needs_background": "light"
     },
     "output_type": "display_data"
    }
   ],
   "source": [
    "import pickle\n",
    "with open('data/heights.pkl','rb') as f:\n",
    "  heights = pickle.load(f)\n",
    "counts2, bins2, plot2 = plt.hist(heights,\n",
    "                                 bins=np.arange(50,90,1))\n",
    "plt.xlabel('Height (in)');\n",
    "plt.ylabel('Counts');\n",
    "plt.title('Histogram of Heights from the 2020 BRFSS Survey');"
   ]
  },
  {
   "cell_type": "markdown",
   "metadata": {},
   "source": [
    "In this data set, the relative frequency of heights over 7 feet is $5.5 \\times 10^{-5}$, which is extremely close to our estimate using the NHANES data set."
   ]
  },
  {
   "cell_type": "markdown",
   "metadata": {},
   "source": [
    "**Example**\n",
    "\n",
    "A professor asks her TA how the students did on an exam. The TA provided the following information:\n",
    "* The data looks like it follows a Normal distribution with mean $\\mu=83$.\n",
    "* 10% of the students got a C or lower (less than 70).\n",
    "\n",
    "If the threshold for an A is 90, what is the probablity that a randomly chosen student got an A?\n",
    "\n",
    "*Solution*\n",
    "\n",
    "As in the last example, we have a *model* for our data. This time, we do not have to estimate the parameters of the model from data, but we are also not directly given all the parameters. We know $\\mu=83$, but we will also need $\\sigma^2$ before we can answer the question.  To get $\\sigma^2$, we can use the second piece of information we were given: 10% of students got a C or lower.  If $G$ is the grade on the exam, then $P(G \\le 70) =0.1$. Thus,\n",
    "\n",
    "\\begin{align*}\n",
    "P(G \\le 70) &= 0.1 \\\\\n",
    "Q \\left( \\frac{ \\mu-70}{\\sigma} \\right) & =0.1 \\\\\n",
    " \\frac{ 83-70}{\\sigma}  & =Q^{-1} (0.1) \\\\\n",
    " \\sigma & = \\frac{13}{Q^{-1} (0.1)} \\\\\n",
    "\\end{align*}"
   ]
  },
  {
   "cell_type": "markdown",
   "metadata": {},
   "source": [
    "Thus, the standard deviation, $\\sigma$, is approximately"
   ]
  },
  {
   "cell_type": "code",
   "execution_count": 33,
   "metadata": {},
   "outputs": [
    {
     "data": {
      "text/plain": [
       "10.143953898940929"
      ]
     },
     "execution_count": 33,
     "metadata": {},
     "output_type": "execute_result"
    }
   ],
   "source": [
    "13/qinv(0.1)"
   ]
  },
  {
   "cell_type": "markdown",
   "metadata": {},
   "source": [
    "Now that our model is fully specified, we can answer the main question: what is the probability that a randomly chosen student got an A ($G \\ge 90$)?\n",
    "\n",
    "\\begin{align}\n",
    "P( G \\ge 90) &= Q \\left( \\frac{90-\\mu}{\\sigma} \\right)\\\\\n",
    " &= Q \\left( \\frac{90-83}{10.1} \\right),\n",
    "\\end{align}\n",
    "which is approximately"
   ]
  },
  {
   "cell_type": "code",
   "execution_count": 34,
   "metadata": {},
   "outputs": [
    {
     "data": {
      "text/plain": [
       "0.24413302914341584"
      ]
     },
     "execution_count": 34,
     "metadata": {},
     "output_type": "execute_result"
    }
   ],
   "source": [
    "q( (90-83)/10.1 )"
   ]
  },
  {
   "cell_type": "markdown",
   "metadata": {},
   "source": [
    "Thus, the probability that a randomly chosen student got an A is 24.4%.\n",
    "\n",
    "**JMS: Add questions to check understanding here.**"
   ]
  },
  {
   "cell_type": "markdown",
   "metadata": {
    "tags": []
   },
   "source": [
    "### Central Limit Theorem"
   ]
  },
  {
   "cell_type": "markdown",
   "metadata": {},
   "source": [
    "The Central Limit Theorem (CLT) says that the CDF function for the average of $M$ of almost any type of random variables will converge to a Normal CDF as $M$ goes to infinity. This is a remarkable result that is useful for two different reasons:\n",
    "1. Many phenomena can be modeled using the Normal distribution if they come from aggregating or averaging other phenomena.\n",
    "2. For many random models, such as Binomial or Poisson, with a large number of trials, it becomes difficult to calculate the probabilities. In such cases, we can approximate the probabilities using a Normal approximation and compute the probabilities using the $Q$-function.\n",
    "\n",
    "In reality, there are many different Central Limit Theorems, and the details of all of them are outside of the scope of this book. If you are interested in learning more, the [Wikipedia page on the Central limit theorem](https://en.wikipedia.org/wiki/Central_limit_theorem) is a good place to start.\n",
    "\n",
    "We will demonstrate how to apply the CLT to solve problems in **CHAPTER 9 REF (FIX)** once we introduce means and variances for random vraiables. "
   ]
  },
  {
   "cell_type": "markdown",
   "metadata": {},
   "source": [
    "**Applications of Normal Random Variables:** As mentioned above, many phenomena that come from aggregate effects of from averaging can be modeled using the Normal distribution. In statistics, an average of a large number of data points can be assumed to be Normal. The motion of electrons bumping around in the receivers of cell phones and other radio equipment cause thermal noise that is modeled as Normal noise in the received data. Many properties in populations of people or animals, such as height or weight, tend to follow a Normal distribution; this may be because there are many different physiological factors that affect these properties, and the resulting values are caused by the aggregate effects of these many factors."
   ]
  },
  {
   "cell_type": "markdown",
   "metadata": {},
   "source": [
    "## Chi-Squared Random Variable\n",
    "\n",
    "The chi-squared (sometimes written $\\xi^2$) random variable is nice because it ties together two of the distributions that we have already been working with.  Let's start with a definition but note that the form of the definition is a bit different than for the previous random variables:\n",
    "\n",
    "````{panels}\n",
    ":column: col-lg-12\n",
    "\n",
    "DEFINITION\n",
    "^^^\n",
    "```{glossary}\n",
    "chi-squared random variable\n",
    "    Let $N_i,~i=0,1,\\ldots, M-1$ be independent, standard Normal random variables with mean $\\mu=0$ and variance $\\sigma^2=1$. Then \n",
    "\n",
    "    $$\n",
    "    X = \\sum_{i=0}^{M-1} N_{i}^{2}\n",
    "    $$\n",
    "    is a chi-squared random variable with $M$ degrees of freedom (dof). The pdf of $X$ is\n",
    "    \\begin{align} f_X(x) = \n",
    "    \\begin{cases} \n",
    "    0, & x <0 \\\\\n",
    "    \\frac{x^{\\frac{M}{2}-1} e^{-\\frac{x}{2}}}{2^{\\frac M 2} \\Gamma\\left(\\frac M 2\\right)}, & x \\ge 0\n",
    "    \\end{cases}\n",
    "    \\end{align},\n",
    "    where $\\Gamma(M/2)$ is the [gamma function](https://en.wikipedia.org/wiki/Gamma_function). In general, $\\Gamma(x)$ is defined by an integral, but $\\Gamma(x) = (x-1)! if $x$ is an integer.\n",
    "  \n",
    "```\n",
    "````"
   ]
  },
  {
   "cell_type": "markdown",
   "metadata": {},
   "source": [
    "I am not giving the formula for the CDF because it depends on yet another function that is defined by an integral, and we will use SciPy.stats to compute the CDF.\n",
    "\n",
    "But note the form of the pdf when $M=2$. For $x\\ge 0$, the  pdf is \n",
    "\\begin{align} f_X(x) = \n",
    "    \\frac{x^{\\frac{2}{2}-1} e^{-\\frac{x}{2}}}{2^{\\frac 2 2} \\Gamma\\left(\\frac 2 2\\right)} = \\frac{1}{2 (0!)} e^{-x/2} = \\frac 1 2 e^{-x/2}.\n",
    "    \\end{align}\n",
    "    \n",
    "Hopefully, this form should look familiar. The chi-squared random variable with $M=2$ is an exponential random variable with $\\lambda=1/2$.\n",
    "\n",
    "If $X$ is chi-squared with $M$ degrees of freedom, we write $X \\sim$ chi-squared$(M)$ or $ X \\sim \\chi^2(M)$.\n",
    "\n",
    "We can use SciPy.stats to create a chi-squared distribution by using `stats.chi2(dof)`:\n",
    "\n"
   ]
  },
  {
   "cell_type": "code",
   "execution_count": 35,
   "metadata": {},
   "outputs": [],
   "source": [
    "X = stats.chi2(4)"
   ]
  },
  {
   "cell_type": "markdown",
   "metadata": {},
   "source": [
    "The graph below shows the pdf of chi-squared random variables with different degrees of freedom:"
   ]
  },
  {
   "cell_type": "code",
   "execution_count": 36,
   "metadata": {
    "tags": [
     "hide-input"
    ]
   },
   "outputs": [
    {
     "data": {
      "image/png": "[encoded data removed]",
      "text/plain": [
       "<Figure size 432x288 with 1 Axes>"
      ]
     },
     "metadata": {
      "needs_background": "light"
     },
     "output_type": "display_data"
    }
   ],
   "source": [
    "x = np.linspace(0, 16, 161)\n",
    "for d in [2, 4, 6, 8]:\n",
    "    X = stats.chi2(d)\n",
    "    plt.plot(x, X.pdf(x), label=str(d) + \" dof\")\n",
    "plt.legend()\n",
    "plt.title(\n",
    "    \"Densities of chi-squared random variables\\nwith different degrees of freedom\"\n",
    ")\n",
    "plt.xlabel(\"$x$\")\n",
    "plt.ylabel(\"$f_X(x)$\");"
   ]
  },
  {
   "cell_type": "markdown",
   "metadata": {},
   "source": [
    "Since a random variable that is $\\chi^2(M)$ can be created by summing the squares of $M$ standard normal random variables, it should be no surprise that the probability density shifts away from 0 as $M$ increases."
   ]
  },
  {
   "cell_type": "markdown",
   "metadata": {},
   "source": [
    "**Applications** Squaring is often used in engineering and sciences applications to compute power, energy, or squared error. When the items being squared have a standard normal distribution, then the resulting quantity has a chi-squared distribution. The chi-squared distribution also arises in contingency tests, which we introduce in {doc}`../12-categorical-data/outline.html`."
   ]
  },
  {
   "cell_type": "markdown",
   "metadata": {},
   "source": [
    "## Student's $t$ Random Variable\n",
    "\n",
    "The Student's $t$ random variable arises when estimating the mean $\\mu$ of data from a Normal distribution for which the variance $\\sigma^2$ is also not known. The distribution takes its name from a paper by William Sealy Gossett that was published under the pen name *Student*. The paper is linked here:\n",
    "\n",
    "[The Probable Error of a Mean by Student](https://www.york.ac.uk/depts/maths/histstat/student.pdf)\n",
    "\n",
    "Gosset was working at the Guiness Brewery in Dublin, Ireland when he published this paper. He developed the distribution to perform statistical tests on small samples in the brewery. Thus, his derivation of the $t$ distribution was motivated by practical consideration. \n",
    "\n",
    "```{note}\n",
    "Gosset also coined the term *Pearson's correlation* for a measure of statistical dependence of random variables, which will be introduced in {doc}`../11-matrix-vector-regression/outline.html`. \n",
    "\n",
    "A good discussion of Gosset's work is in the Biometrika article entitled ['\"Student\" as Statistician](https://www.jstor.org/stable/2332648?seq=1).\n",
    "```\n",
    "\n",
    "A brief definition of Student's $t$ distribution follows. More insight on Student's $t$ distribution and its application will be covered in **SECTION 9.5 JMS INSERT CORRECT LINK**.\n",
    "\n",
    "````{panels}\n",
    ":column: col-lg-12\n",
    "\n",
    "DEFINITION\n",
    "^^^\n",
    "```{glossary}\n",
    "Student's $t$ random variable\n",
    "    Like the chi-squared random variable, the Student's $t$ random variable depends on the sum of multiple other random variables, and it also has a degrees of freedom parameter, $\\nu$. If $T$ is a Student's $t$ random variable with $\\nu$ degrees of freedom, the pdf is\n",
    "   \\begin{equation}\n",
    "    f(t)=\\frac{\\Gamma\\left(\\frac{\\nu+1}{2}\\right)}{\\sqrt{\\nu \\pi} \n",
    "    \\Gamma\\left(\\frac{\\nu}{2}\\right)}\\left(1+\\frac{t^{2}}{\\nu}\\right)^{-(\\nu+1) / 2}\n",
    "    \\end{equation}\n",
    "    Also like the chi-squared random variable, the CDF for the Student's $t$ random variable can only be written in terms of standard integral functions.\n",
    "    When $\\nu \\rightarrow \\infty$, the Student's $t$ random variable converges to a normal random variable.\n",
    "```\n",
    "````"
   ]
  },
  {
   "cell_type": "markdown",
   "metadata": {},
   "source": [
    "We can use SciPy.stats to create a Student's $t$ distribution by using `stats.t(dof)`:"
   ]
  },
  {
   "cell_type": "code",
   "execution_count": 37,
   "metadata": {},
   "outputs": [],
   "source": [
    "T = stats.t(4)"
   ]
  },
  {
   "cell_type": "markdown",
   "metadata": {},
   "source": [
    "The graph below shows the pdf of Student's $t$ random variables with different degrees of freedom. Also shown is a standard Normal random variable for comparison purposes:"
   ]
  },
  {
   "cell_type": "code",
   "execution_count": 38,
   "metadata": {
    "tags": [
     "hide-input"
    ]
   },
   "outputs": [
    {
     "data": {
      "image/png": "[encoded data removed]",
      "text/plain": [
       "<Figure size 432x288 with 1 Axes>"
      ]
     },
     "metadata": {
      "needs_background": "light"
     },
     "output_type": "display_data"
    }
   ],
   "source": [
    "t = np.linspace(-6, 6, 121)\n",
    "for d in [1, 2, 4, 16]:\n",
    "    T = stats.t(d)\n",
    "    plt.plot(t, T.pdf(t), label=str(d) + \" dof\")\n",
    "\n",
    "N = stats.norm()\n",
    "plt.plot(t, N.pdf(t), color=\"k\", label=\"Normal\")\n",
    "plt.legend()\n",
    "plt.title(\n",
    "    \"Densities of Student's $t$ random variables\\nwith different degrees of freedom\"\n",
    ")\n",
    "plt.xlabel(\"$t$\")\n",
    "plt.ylabel(\"$f_T(t)$\");"
   ]
  },
  {
   "cell_type": "markdown",
   "metadata": {},
   "source": [
    "The densities for the Student's $t$ random variables are very similar to those for the standard Normal random variable. In fact, for $\\nu =16$, the density is almost identical to that of the standard Normal random variable. For lower dofs, the difference is that smaller dofs result in a greater spread of the density away from the mean. Let's check this by printing out the probability $P(|T| > 2) $ for different values of $\\nu$. Note that by symmetry, $P(|T|>2) = 2*P(T>2)."
   ]
  },
  {
   "cell_type": "code",
   "execution_count": 39,
   "metadata": {},
   "outputs": [
    {
     "name": "stdout",
     "output_type": "stream",
     "text": [
      "  DOFs |    P(|T|>2)\n",
      "     1 |      0.295\n",
      "     2 |      0.184\n",
      "     4 |      0.116\n",
      "    16 |      0.063\n"
     ]
    }
   ],
   "source": [
    "print(f'{\"DOFs\": >6} | {\"P(|T|>2)\" : >11}')\n",
    "for nu in [1, 2, 4, 16]:\n",
    "    T = stats.t(nu)\n",
    "    print(f'{nu :6} | {\"\":4}{2*T.sf(2) : .3f}')"
   ]
  },
  {
   "cell_type": "markdown",
   "metadata": {},
   "source": [
    "Thus, the Student's $t$ random variable is similar to a standard normal random variable except that more of its probability density is spread out away from 0."
   ]
  },
  {
   "cell_type": "markdown",
   "metadata": {
    "jp-MarkdownHeadingCollapsed": true,
    "tags": []
   },
   "source": [
    "## Discussion\n",
    "\n",
    "We introduced several important continuous random variables, with an emphasis on random variables that are common in statistical data or statistical tests. As we noted, SciPy.stats actually has classes for over 100 different types of continuous distributions, which can be used to model a wide variety of random phenomena.\n",
    "\n",
    "One of the first tools to use in determing whether data can be modeled using a particular distribution is visualizing the distribution of the data. This is the topic of the next section."
   ]
  },
  {
   "cell_type": "markdown",
   "metadata": {
    "tags": []
   },
   "source": [
    "## Terminology Review"
   ]
  },
  {
   "cell_type": "code",
   "execution_count": 40,
   "metadata": {
    "tags": [
     "remove-input"
    ]
   },
   "outputs": [
    {
     "data": {
      "text/html": [
       "<style>\n",
       ":root{\n",
       "--asparagus: #87a878ff;\n",
       "--terra-cotta: #e26d5aff;\n",
       "--cyan-process: #5bc0ebff;\n",
       "--dark-blue-gray: #666a86ff;\n",
       "--snow: #fffafbff;\n",
       "--rich-black-fogra-39: #090c08ff;\n",
       "}\n",
       "\n",
       "\n",
       "/* entire container, keeps perspective */\n",
       ".flip-container {\n",
       "\tperspective: 1000px;\n",
       "  touch-action: pinch-zoom pan-y;\n",
       "}\n",
       "\n",
       "\n",
       ".flip-container.flip .flipper {\n",
       "\ttransform: rotateY(180deg)  translateX(-10%);\n",
       "}\n",
       "\n",
       "\n",
       ".flip-container.slide .flipper.frontcard {\n",
       "    filter: brightness(90%);\n",
       "    position:absolute;\n",
       "    z-index: -20;\n",
       "}\n",
       "\n",
       ".flip-container.prepare .flipper.backcard {\n",
       "    opacity:1;\n",
       "    transform:  translateX(20px); \n",
       "    transition: display 0s;\n",
       "}\n",
       "\n",
       "\n",
       ".flip-container.slide .flipper.backcard {\n",
       "    filter: brightness(115%);\n",
       "    height: 360px;\n",
       "    opacity:1;\n",
       "\t  transform:  rotateY(3deg)  translateX(700px) translateZ(20px) scale(1, 1.05) rotate(3deg);\n",
       "    z-index: 20;\n",
       "}\n",
       "\n",
       "\n",
       "\n",
       "\n",
       ".flip-container.slideback .flipper.backcard {\n",
       "    filter: brightness(100%);\n",
       "    opacity: 1;\n",
       "\t  transform: translateX(0px) translateZ(20px) rotateY(0deg);\n",
       "    z-index: 10;\n",
       "}\n",
       "\n",
       ".flip-container.slideback .flipper.frontcard {\n",
       "    filter: brightness(90%);\n",
       "    transform: translateX(0px) translateZ(-20px);\n",
       "    z-index: -10;\n",
       "}\n",
       "\n",
       "\n",
       ".flip-container, .front, .back {\n",
       "\t  height: 300px;\n",
       "\t  width: 640px;\n",
       "}\n",
       "\n",
       ".flipper.frontcard {\n",
       "    position:absolute;\n",
       "\t  transform: translateX(0px) rotateY(0deg) translateZ(20px);\n",
       "    z-index: 10;\n",
       "}\n",
       "\n",
       ".flipper.backcard {\n",
       "    filter: brightness(90%);\n",
       "    opacity:0;\n",
       "    position:absolute;\n",
       "    transform: translateX(0px) translateZ(-20px);\n",
       "    z-index: -10;\n",
       "}\n",
       "\n",
       "\n",
       "\n",
       "\n",
       "/* flip speed goes here */\n",
       ".flipper {\n",
       "    cursor:pointer;\n",
       "\t  height: 200px;\n",
       "    margin-left:20px;\n",
       "\t  position: absolute;\n",
       "    top: 0;\n",
       "\t  transform-style: preserve-3d;\n",
       "\t  transition: 0.6s;\n",
       "    width: 600px;\n",
       "}\n",
       "\n",
       "/* hide back of pane during swap */\n",
       ".front, .back {\n",
       "    -webkit-backface-visibility: hidden;\n",
       "\t  backface-visibility: hidden;\n",
       "\t  left: 0;\n",
       "\t  position: absolute;\n",
       "\t  top: 0;\n",
       "}\n",
       "\n",
       "/* front pane, placed above back */\n",
       ".front {\n",
       "\t  backface-visibility: hidden;\n",
       "    background: var(--asparagus);\n",
       "    transform: rotateY(0deg);\n",
       "\t  z-index: 2;\n",
       "}\n",
       "\n",
       "/* back, initially hidden pane */\n",
       ".back {\n",
       "\t  backface-visibility: hidden;\n",
       "    background: var(--dark-blue-gray);\n",
       "\t  transform: rotateY(180deg);\n",
       "}\n",
       "\n",
       ".next {\n",
       "    color: var(--rich-black-fogra-39);\n",
       "    cursor:pointer;\n",
       "    font-size: 16pt;\n",
       "    left:600px;\n",
       "    opacity:0.3;\n",
       "    position:relative; \n",
       "    top:20px;\n",
       "}\n",
       "\n",
       ".next.flipped {\n",
       "    opacity:1;\n",
       "}\n",
       "\n",
       ".next.hide {\n",
       "    opacity:0;\n",
       "}\n",
       "\n",
       "\n",
       ".flashcard{\n",
       "    border-radius: 10px;\n",
       "    color: #fafafa;\n",
       "    display:block;\n",
       "    padding:10px;\n",
       "  \n",
       "}\n",
       ".flashcardtext{\n",
       "    color: var(--snow);\n",
       "    font-size: 20pt;\n",
       "    margin-left:3%;\n",
       "    position:absolute;\n",
       "    text-align:center;\n",
       "    top: 50%;\n",
       "    transform: translate(0, -50%);\n",
       "    width:90%;\n",
       "  }\n",
       "\n",
       "</style><script type=\"text/Javascript\">\n",
       "/*!\n",
       " * swiped-events.js - v1.1.4\n",
       " * Pure JavaScript swipe events\n",
       " * https://github.com/john-doherty/swiped-events\n",
       " * @inspiration https://stackoverflow.com/questions/16348031/disable-scrolling-when-touch-moving-certain-element\n",
       " * @author John Doherty <www.johndoherty.info>\n",
       " * @license MIT\n",
       " */\n",
       "!function(t,e){\"use strict\";\"function\"!=typeof t.CustomEvent&&(t.CustomEvent=function(t,n){n=n||{bubbles:!1,cancelable:!1,detail:void 0};var a=e.createEvent(\"CustomEvent\");return a.initCustomEvent(t,n.bubbles,n.cancelable,n.detail),a},t.CustomEvent.prototype=t.Event.prototype),e.addEventListener(\"touchstart\",function(t){if(\"true\"===t.target.getAttribute(\"data-swipe-ignore\"))return;s=t.target,r=Date.now(),n=t.touches[0].clientX,a=t.touches[0].clientY,u=0,i=0},!1),e.addEventListener(\"touchmove\",function(t){if(!n||!a)return;var e=t.touches[0].clientX,r=t.touches[0].clientY;u=n-e,i=a-r},!1),e.addEventListener(\"touchend\",function(t){if(s!==t.target)return;var e=parseInt(l(s,\"data-swipe-threshold\",\"20\"),10),o=parseInt(l(s,\"data-swipe-timeout\",\"500\"),10),c=Date.now()-r,d=\"\",p=t.changedTouches||t.touches||[];Math.abs(u)>Math.abs(i)?Math.abs(u)>e&&c<o&&(d=u>0?\"swiped-left\":\"swiped-right\"):Math.abs(i)>e&&c<o&&(d=i>0?\"swiped-up\":\"swiped-down\");if(\"\"!==d){var b={dir:d.replace(/swiped-/,\"\"),xStart:parseInt(n,10),xEnd:parseInt((p[0]||{}).clientX||-1,10),yStart:parseInt(a,10),yEnd:parseInt((p[0]||{}).clientY||-1,10)};s.dispatchEvent(new CustomEvent(\"swiped\",{bubbles:!0,cancelable:!0,detail:b})),s.dispatchEvent(new CustomEvent(d,{bubbles:!0,cancelable:!0,detail:b}))}n=null,a=null,r=null},!1);var n=null,a=null,u=null,i=null,r=null,s=null;function l(t,n,a){for(;t&&t!==e.documentElement;){var u=t.getAttribute(n);if(u)return u;t=t.parentNode}return a}}(window,document);\n",
       "\n",
       "function jaxify(string) {\n",
       "    var mystring = string;\n",
       "    console.log(mystring);\n",
       "\n",
       "    count = 0;\n",
       "    var loc = mystring.search(/([^\\\\]|^)(\\$)/);\n",
       "\n",
       "    count2 = 0;\n",
       "    var loc2 = mystring.search(/([^\\\\]|^)(\\$\\$)/);\n",
       "\n",
       "    //console.log(loc);\n",
       "\n",
       "    while ((loc >= 0) || (loc2 >= 0)) {\n",
       "\n",
       "        /* Have to replace all the double $$ first with current implementation */\n",
       "        if (loc2 >= 0) {\n",
       "            if (count2 % 2 == 0) {\n",
       "                mystring = mystring.replace(/([^\\\\]|^)(\\$\\$)/, \"$1\\\\[\");\n",
       "            } else {\n",
       "                mystring = mystring.replace(/([^\\\\]|^)(\\$\\$)/, \"$1\\\\]\");\n",
       "            }\n",
       "            count2++;\n",
       "        } else {\n",
       "            if (count % 2 == 0) {\n",
       "                mystring = mystring.replace(/([^\\\\]|^)(\\$)/, \"$1\\\\(\");\n",
       "            } else {\n",
       "                mystring = mystring.replace(/([^\\\\]|^)(\\$)/, \"$1\\\\)\");\n",
       "            }\n",
       "            count++;\n",
       "        }\n",
       "        loc = mystring.search(/([^\\\\]|^)(\\$)/);\n",
       "        loc2 = mystring.search(/([^\\\\]|^)(\\$\\$)/);\n",
       "        //console.log(mystring,\", loc:\",loc,\", loc2:\",loc2);\n",
       "    }\n",
       "\n",
       "    //console.log(mystring);\n",
       "    return mystring;\n",
       "}\n",
       "\n",
       "function flip(ths) {\n",
       "    console.log(ths);\n",
       "    console.log(ths.id);\n",
       "    ths.classList.toggle(\"flip\"); \n",
       "    var next=document.getElementById(ths.id+'-next');\n",
       "    next.style.pointerEvents='none';\n",
       "    next.classList.add('flipped');\n",
       "    if (typeof MathJax != 'undefined') {\n",
       "        var version = MathJax.version;\n",
       "        console.log('MathJax version', version);\n",
       "        if (version[0] == \"2\") {\n",
       "            MathJax.Hub.Queue([\"Typeset\", MathJax.Hub]);\n",
       "        } else if (version[0] == \"3\") {\n",
       "            MathJax.typeset([ths]);\n",
       "        }\n",
       "    } else {\n",
       "        console.log('MathJax not detected');\n",
       "    }\n",
       "\n",
       "\n",
       "    setTimeout(reenableNext, 700, next);\n",
       "}\n",
       "\n",
       "function reenableNext(next) {\n",
       "    next.style.pointerEvents='auto';\n",
       "}\n",
       "\n",
       "\n",
       "\n",
       "function slide2(containerId) {\n",
       "    var container = document.getElementById(containerId);\n",
       "    var next=document.getElementById(containerId+'-next');\n",
       "    var frontcard = container.children[0];\n",
       "    var backcard = container.children[1];\n",
       "    container.style.pointerEvents='none';\n",
       "    //backcard.style.pointerEvents='none';\n",
       "    next.style.pointerEvents='none';\n",
       "    next.classList.remove('flipped');\n",
       "    next.classList.add('hide');\n",
       "\n",
       "    //container.classList.add(\"prepare\");\n",
       "    \n",
       "    container.className=\"flip-container slide\";\n",
       "    backcard.parentElement.removeChild(frontcard);\n",
       "    backcard.parentElement.appendChild(frontcard);\n",
       "    setTimeout(slideback, 600, container, frontcard, backcard, next);\n",
       "    \n",
       "}\n",
       "\n",
       "\n",
       "function checkFlip(containerId) {\n",
       "    var container = document.getElementById(containerId);\n",
       "\n",
       "\n",
       "    if (container.classList.contains('flip')) {\n",
       "        container.classList.remove('flip');\n",
       "        setTimeout(slide2, 600, containerId);\n",
       "    } \n",
       "    else {\n",
       "        slide2(containerId);\n",
       "    }\n",
       "}\n",
       "\n",
       "\n",
       "function slideback(container, frontcard, backcard, next) {\n",
       "    container.className=\"flip-container slideback\";\n",
       "    setTimeout(cleanup, 600, container, frontcard, backcard, next);\n",
       "}\n",
       "\n",
       "function cleanup(container, frontcard, backcard, next) {\n",
       "    container.removeChild(frontcard);\n",
       "    backcard.className=\"flipper frontcard\";\n",
       "    container.className=\"flip-container\";\n",
       "\n",
       "    var cardnum=parseInt(container.dataset.cardnum);\n",
       "    var cards=eval('cards'+container.id);\n",
       "    var flipper=createOneCard(container, false, cards, cardnum);\n",
       "    container.append(flipper);\n",
       "    cardnum= (cardnum+1) % parseInt(container.dataset.numCards);\n",
       "    container.dataset.cardnum=cardnum;\n",
       "    if (cardnum != 1){\n",
       "        next.innerHTML=\"Next >\";\n",
       "    } else {\n",
       "        next.innerHTML=\"Reload \\\\(\\\\circlearrowleft\\\\) \";\n",
       "        if (typeof MathJax != 'undefined') {\n",
       "            var version = MathJax.version;\n",
       "            console.log('MathJax version', version);\n",
       "            if (version[0] == \"2\") {\n",
       "                MathJax.Hub.Queue([\"Typeset\", MathJax.Hub]);\n",
       "            } else if (version[0] == \"3\") {\n",
       "                MathJax.typeset([next]);\n",
       "            }\n",
       "        } else {\n",
       "            console.log('MathJax not detected');\n",
       "        }\n",
       "\n",
       "\n",
       "    }\n",
       "\n",
       "    if (typeof MathJax != 'undefined') {\n",
       "        var version = MathJax.version;\n",
       "        console.log('MathJax version', version);\n",
       "        if (version[0] == \"2\") {\n",
       "            MathJax.Hub.Queue([\"Typeset\", MathJax.Hub]);\n",
       "        } else if (version[0] == \"3\") {\n",
       "            MathJax.typeset();\n",
       "        }\n",
       "    } else {\n",
       "        console.log('MathJax not detected');\n",
       "    }\n",
       "\n",
       "\n",
       "    next.style.pointerEvents='auto';\n",
       "    container.style.pointerEvents='auto';\n",
       "    next.classList.remove('hide');\n",
       "    container.addEventListener('swiped-left', function(e) {\n",
       "        /*\n",
       "          console.log(e.detail);\n",
       "          console.log(id);\n",
       "        */\n",
       "        checkFlip(container.id);\n",
       "    }, {once: true });\n",
       "\n",
       "\n",
       "}\n",
       "\n",
       "\n",
       "function createOneCard  (mydiv, frontCard, cards, cardnum) {\n",
       "    colors=[\n",
       "        '--asparagus',\n",
       "        '--terra-cotta',\n",
       "        '--cyan-process'\n",
       "    ]\n",
       "\n",
       "    var flipper = document.createElement('div');\n",
       "    if (frontCard){\n",
       "        flipper.className=\"flipper frontcard\";    \n",
       "    }\n",
       "    else {\n",
       "        flipper.className=\"flipper backcard\";   \n",
       "    }\n",
       "\n",
       "    var front = document.createElement('div');\n",
       "    front.className='front flashcard';\n",
       "\n",
       "    var frontSpan= document.createElement('span');\n",
       "    frontSpan.className='flashcardtext';\n",
       "    frontSpan.innerHTML=jaxify(cards[cardnum]['front']);\n",
       "    //frontSpan.textContent=jaxify(cards[cardnum]['front']);\n",
       "    front.style.background='var(' + colors[cardnum % colors.length] + ')';\n",
       "\n",
       "\n",
       "    front.append(frontSpan);\n",
       "    flipper.append(front);\n",
       "\n",
       "    var back = document.createElement('div');\n",
       "    back.className='back flashcard';\n",
       "\n",
       "    var backSpan= document.createElement('span');\n",
       "    backSpan.className='flashcardtext';\n",
       "    backSpan.innerHTML=jaxify(cards[cardnum]['back']);\n",
       "    back.append(backSpan);\n",
       "\n",
       "    flipper.append(back);\n",
       "\n",
       "    return flipper;\n",
       "\n",
       "}\n",
       "\n",
       "\n",
       "\n",
       "\n",
       "\n",
       "function createCards(id) {\n",
       "    console.log(id);\n",
       "    \n",
       "    var mydiv=document.getElementById(id);\n",
       "    \n",
       "    var cards=eval('cards'+id);\n",
       "    mydiv.dataset.cardnum=0;\n",
       "    mydiv.dataset.numCards=cards.length;\n",
       "    mydiv.addEventListener('swiped-left', function(e) {\n",
       "        /*\n",
       "          console.log(e.detail);\n",
       "          console.log(id);\n",
       "        */\n",
       "        checkFlip(id);\n",
       "    }, {once: true});\n",
       "\n",
       "    var cardnum=0;\n",
       "    \n",
       "    for (var i=0; i<2; i++) {\n",
       "    \n",
       "        var flipper;\n",
       "        if (i==0){\n",
       "            flipper=createOneCard(mydiv, true, cards, cardnum);\n",
       "        }\n",
       "        else {\n",
       "            flipper=createOneCard(mydiv, false, cards, cardnum);\n",
       "        }\n",
       "\n",
       "        mydiv.append(flipper);\n",
       "        if (typeof MathJax != 'undefined') {\n",
       "            var version = MathJax.version;\n",
       "            if (typeof version == 'undefined') {\n",
       "                setTimeout(function(){\n",
       "                    var version = MathJax.version;\n",
       "                    console.log('After sleep, MathJax version', version);\n",
       "                    if (version[0] == \"2\") {\n",
       "                        MathJax.Hub.Queue([\"Typeset\", MathJax.Hub]);\n",
       "                    } else if (version[0] == \"3\") {\n",
       "                        MathJax.typeset([flipper]);\n",
       "                    }\n",
       "                }, 500);\n",
       "            } else{\n",
       "                console.log('MathJax version', version);\n",
       "                if (version[0] == \"2\") {\n",
       "                    MathJax.Hub.Queue([\"Typeset\", MathJax.Hub]);\n",
       "                } else if (version[0] == \"3\") {\n",
       "                    MathJax.typeset([flipper]);\n",
       "                }\n",
       "            }\n",
       "        } else {\n",
       "            console.log('MathJax not detected');\n",
       "        }\n",
       "\n",
       "\n",
       "        cardnum = (cardnum + 1) % mydiv.dataset.numCards;\n",
       "    }\n",
       "    mydiv.dataset.cardnum = cardnum;\n",
       "\n",
       "    var next=document.getElementById(id+'-next');\n",
       "    if (cards.length==1) {\n",
       "        // Don't show next if no other cards!\n",
       "        next.style.pointerEvents='none';\n",
       "        next.classList.add('hide');\n",
       "    } else {\n",
       "        next.innerHTML=\"Next >\";\n",
       "    }\n",
       "\n",
       "    return flipper;\n",
       "}\n",
       "\n",
       "\n",
       "\n",
       "\n",
       "\n",
       "</script><script type=\"text/Javascript\">\n",
       "    \n",
       "    cardspslHJErXcioX=[\n",
       "    {\n",
       "        \"front\": \"(Continuous) Uniform RV\",\n",
       "        \"back\": \"An RV on an interval $[a,b]$ that has the same probability density at every point in that interval, \\\\[f_U(u) = \\\\frac{1}{b-a}, ~~ u \\\\in [a,b] \\\\]\"\n",
       "    },\n",
       "    {\n",
       "        \"front\": \"Exponential RV\",\n",
       "        \"back\": \"RV with single parameter $\\\\lambda$ that controls exponential roll-off of density. The pdf is \\\\[ f_X(x) = \\\\lambda e^{-\\\\lambda x} u(x) \\\\] \"\n",
       "    },\n",
       "    {\n",
       "        \"front\": \"Inverse CDF\",\n",
       "        \"back\": \"Given probability $p$, returns value of $x$ such that $F_X(x)=p$. Can denote as $F_{X}^{-1}(p)$. Also called the <i>quantile function</i> of <i>percent-point function</i>.\"\n",
       "    },\n",
       "    {\n",
       "        \"front\": \"Normal (Gaussian) RV\",\n",
       "        \"back\": \"RV that often arises from aggregation of random effects. Has parameters $\\\\mu$ (mean) and $\\\\sigma$ (standard deviation) and pdf \\\\[f_X(x)  = \\\\frac{1}{\\\\sigma \\\\sqrt{ 2 \\\\pi }} \\\\exp \\\\left\\\\{ - \\\\frac {1} {2}\\\\left[\\\\frac{x-\\\\mu}{\\\\sigma}\\\\right]^2   \\\\right\\\\},\\\\]  \\\\[-\\\\infty < x < \\\\infty \\\\] \"\n",
       "    },\n",
       "    {\n",
       "        \"front\": \"Chi-squared RV\",\n",
       "        \"back\": \"A chi-squared random variable with $M$ degrees of freedom is equivalent to the sum of the squares of $M$ independent, standard Normal random variables.\"\n",
       "    },\n",
       "    {\n",
       "        \"front\": \"Student's $t$ RV\",\n",
       "        \"back\": \"RV similar to standard Normal but has probability spread further from the mean. Spread away from mean increases as degrees of freedom parameter decreases.\"\n",
       "    }\n",
       "]\n",
       ";\n",
       "    \n",
       "\n",
       "        {\n",
       "        const jmscontroller = new AbortController();\n",
       "        const signal = jmscontroller.signal;\n",
       "\n",
       "        setTimeout(() => jmscontroller.abort(), 5000);\n",
       "\n",
       "        fetch(\"https://raw.githubusercontent.com/jmshea/Foundations-of-Data-Science-with-Python/main/08-random-variables/flashcards/important-continuous-rvs.json\", {signal})\n",
       "        .then(response => response.json())\n",
       "        .then(json => createCards(\"pslHJErXcioX\"))\n",
       "        .catch(err => {\n",
       "        console.log(\"Fetch error or timeout\");\n",
       "        createCards(\"pslHJErXcioX\");\n",
       "        });\n",
       "        }\n",
       "        </script>\n",
       "        <div style=\"height:40px\"></div><div class=\"flip-container\" id=\"pslHJErXcioX\" onclick=\"flip(this)\"></div><div style=\"height:40px\"></div><div class=\"next\" id=\"pslHJErXcioX-next\" onclick=\"checkFlip('pslHJErXcioX')\"> </div> <div style=\"height:40px\"></div>"
      ],
      "text/plain": [
       "<IPython.core.display.HTML object>"
      ]
     },
     "metadata": {},
     "output_type": "display_data"
    }
   ],
   "source": [
    "from jupytercards import display_flashcards\n",
    "\n",
    "#display_flashcards('flashcards/'+'important-continuous-rvs.json')\n",
    "\n",
    "github='https://raw.githubusercontent.com/jmshea/Foundations-of-Data-Science-with-Python/main/'\n",
    "github+='08-random-variables/flashcards/'\n",
    "display_flashcards(github+'important-continuous-rvs.json')\n",
    "\n",
    "\n"
   ]
  }
 ],
 "metadata": {
  "kernelspec": {
   "display_name": "Python 3 (ipykernel)",
   "language": "python",
   "name": "python3"
  },
  "language_info": {
   "codemirror_mode": {
    "name": "ipython",
    "version": 3
   },
   "file_extension": ".py",
   "mimetype": "text/x-python",
   "name": "python",
   "nbconvert_exporter": "python",
   "pygments_lexer": "ipython3",
   "version": "3.9.12"
  }
 },
 "nbformat": 4,
 "nbformat_minor": 4
}
