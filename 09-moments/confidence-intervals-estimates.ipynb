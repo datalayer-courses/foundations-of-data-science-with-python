{
 "cells": [
  {
   "cell_type": "markdown",
   "metadata": {
    "tags": []
   },
   "source": [
    "# Confidence Intervals for Estimates\n",
    "\n",
    "If we estimate parameters of a distribution from a data set and only return the estimated values, those are called point estimates. Point estimates are limited in their usefulness because they do not give any indication of the reliability of those estimates. To provide more information, it is helpful to specify confidence intervals for the parameters."
   ]
  },
  {
   "cell_type": "markdown",
   "metadata": {},
   "source": [
    "## Bootstrap Confidence Intervals for Estimates"
   ]
  },
  {
   "cell_type": "markdown",
   "metadata": {},
   "source": [
    "Confidence intervals are easily generated for any parameter estimates by using bootstrap sampling. To generate a C% confidence interval, the bootstrap distribution of the estimator is generated and then a region containing the center C% of the probability is determined.  If you have been following along in the text, you are probably capable by now of generating a C% bootstrap confidence interval based on that brief description. If you feel less confident, you can reveal a more detailed description of the procedure below:\n",
    "\n",
    "```{admonition} Click to reveal algorithm for generating bootstrap confidence intervals\n",
    ":class: dropdown\n",
    "\n",
    "1. Choose a number of simulated values, which is the number of values in the bootstrap distribution.\n",
    "2. Create an empty array or empty list to store the values in the bootstrap distribution.\n",
    "2. For each simulated value:\n",
    "    1. Draw a bootstrap sample from the data. The bootstrap sample should be the same size as the original data and be drawn **with replacement**.\n",
    "    2. Compute the parameter estimate from the bootstrap sample.\n",
    "    3. Store the parameter estimate in the array of values for the bootstrap distribution.\n",
    "3. Determine the interval that contains the center C% probability of the data.\n",
    "```\n",
    "\n",
    "\n",
    "\n"
   ]
  },
  {
   "cell_type": "markdown",
   "metadata": {},
   "source": [
    "Let's illustrate this with an example. Start by importing some of the usual libraries we will need in this section:"
   ]
  },
  {
   "cell_type": "code",
   "execution_count": 1,
   "metadata": {},
   "outputs": [],
   "source": [
    "import numpy as np\n",
    "import numpy.random as npr\n",
    "import scipy.stats as stats\n",
    "import matplotlib.pyplot as plt"
   ]
  },
  {
   "cell_type": "markdown",
   "metadata": {},
   "source": [
    "The code below takes data and a confidence interval and provides a point estimate and a confidence interval for the mean of the distribution of the data: "
   ]
  },
  {
   "cell_type": "code",
   "execution_count": 2,
   "metadata": {},
   "outputs": [],
   "source": [
    "def find_mean_CI(x, C):\n",
    "\n",
    "  n = len(x)\n",
    "\n",
    "  alpha = (100 - C)/2\n",
    "\n",
    "  avg = x.mean()\n",
    "\n",
    "  # Now do bootstrap sampling\n",
    "  # Start by specifying the number of bootstrap values to simulate\n",
    "  num_bs_sims = 1000\n",
    "\n",
    "  # Create an array of zeros to store the bootstrap values\n",
    "  bs_averages = np.zeros(num_bs_sims)\n",
    "\n",
    "  for bs_sim in range(num_bs_sims):\n",
    "    bs_sample = npr.choice(x, n)\n",
    "    bs_avg = bs_sample.mean()\n",
    "    bs_averages[bs_sim] = bs_avg\n",
    "\n",
    "  # Now find the values that define the C%  \n",
    "  percentiles = np.percentile(bs_averages, [alpha, 100-alpha])\n",
    "\n",
    "  print(f'The mean estimate is {avg:.2f}')\n",
    "  print(f'A {C}% confidence interval for the average is [{percentiles[0]: .2f}, {percentiles[1]:.2f}]')"
   ]
  },
  {
   "cell_type": "markdown",
   "metadata": {},
   "source": [
    "Here are the 90%, 95%, and 99% confidence intervals for the mean estimate of a small example data set:"
   ]
  },
  {
   "cell_type": "code",
   "execution_count": 3,
   "metadata": {},
   "outputs": [
    {
     "name": "stdout",
     "output_type": "stream",
     "text": [
      "The mean estimate is 1.31\n",
      "A 90% confidence interval for the average is [ 1.19, 1.45]\n"
     ]
    }
   ],
   "source": [
    "x = np.array([ 1, 1.2, 1.4, 1.2, 1, 1.2, 1.5, 1.45, 1.05, 1.65, 1.8])\n",
    "find_mean_CI(x, 90)"
   ]
  },
  {
   "cell_type": "code",
   "execution_count": 4,
   "metadata": {},
   "outputs": [
    {
     "name": "stdout",
     "output_type": "stream",
     "text": [
      "The mean estimate is 1.31\n",
      "A 95% confidence interval for the average is [ 1.16, 1.48]\n"
     ]
    }
   ],
   "source": [
    "find_mean_CI(x, 95)"
   ]
  },
  {
   "cell_type": "code",
   "execution_count": 5,
   "metadata": {},
   "outputs": [
    {
     "name": "stdout",
     "output_type": "stream",
     "text": [
      "The mean estimate is 1.31\n",
      "A 99% confidence interval for the average is [ 1.13, 1.51]\n"
     ]
    }
   ],
   "source": [
    "find_mean_CI(x, 99)"
   ]
  },
  {
   "cell_type": "markdown",
   "metadata": {},
   "source": [
    "Note that the confidence interval will be larger for larger confidence C in order to ensure that C% of the bootstrap distribution is within the interval."
   ]
  },
  {
   "cell_type": "markdown",
   "metadata": {},
   "source": [
    "It is important to again remind ourselves of what a C% confidence interval means. In particular, it does not mean that there is a C% probability that a particular confidence interval contains the true mean. Rather, it means that over the long run, the true mean would lie in C% of the confidence intervals that are generated according to this procedure. \n",
    "\n",
    "For data sample sizes of less than approximately 100, the C% confidence intervals generated via bootstrap sampling are generally not wide enough to achieve the specified confidence. Let's illustrate this with an experiment:\n",
    "\n",
    "\n",
    "In the simulation below, a data sample of 10 random values is drawn from a Normal(1, 2) distribution. Then the sample mean is calculated, and bootstrap sampling is used to also generate a 95% confidence interval. This process is repeated to show the sample mean and the confidence interval for 25 different random samples. The star marker indicates the average (sample mean) of the data, and the vertical line indicates the true mean (1). Confidence intervals that contain the true mean are indicated as solid, green lines; confidence intervals that do not contain the true mean are indicated by dashed, red/orange lines.  \n",
    "\n"
   ]
  },
  {
   "cell_type": "code",
   "execution_count": 6,
   "metadata": {
    "tags": [
     "hide-input"
    ]
   },
   "outputs": [
    {
     "data": {
      "image/png": "[encoded data removed]",
      "text/plain": [
       "<Figure size 360x720 with 1 Axes>"
      ]
     },
     "metadata": {
      "needs_background": "light"
     },
     "output_type": "display_data"
    }
   ],
   "source": [
    "npr.seed(5678)\n",
    "\n",
    "num_data_samples = 25\n",
    "data_size = 10\n",
    "\n",
    "# The confidence, C:\n",
    "C = 95\n",
    "\n",
    "alpha = (100 - C)/2\n",
    "\n",
    "X = stats.norm(1,2 )\n",
    "\n",
    "plt.figure(figsize = (5,10) )\n",
    "for sim in range(num_data_samples):\n",
    "  Xvals = X.rvs(data_size)\n",
    "  avg = Xvals.mean()\n",
    "  \n",
    "  # Now do bootstrap sampling\n",
    "  # Start by specifying the number of bootstrap values to simulate\n",
    "  num_bs_sims = 1000\n",
    "  \n",
    "  # Create an array of zeros to store the bootstrap values\n",
    "  bs_averages = np.zeros(num_bs_sims)\n",
    "  \n",
    "  for bs_sim in range(num_bs_sims):\n",
    "    bs_sample = npr.choice(Xvals, data_size)\n",
    "    bs_avg = bs_sample.mean()\n",
    "    bs_averages[bs_sim] = bs_avg\n",
    "  \n",
    "  # Now find the values that define the C%  \n",
    "  percentiles = np.percentile(bs_averages, [alpha, 100-alpha])\n",
    "  if percentiles[0] <= 1 and percentiles[1] >=1:\n",
    "    plt.plot(percentiles, [sim, sim], color='C2')\n",
    "  else:\n",
    "    plt.plot(percentiles, [sim, sim], color='C1', linestyle='--')\n",
    "  plt.scatter(avg, sim, marker='*')\n",
    " \n",
    "plt.axvline(1, alpha=0.3)\n",
    "plt.ylabel('Data Set Number');\n",
    "plt.xlabel('Value');\n",
    "plt.title('Confidence Intervals for 25 Random Samples of Normal Data');\n"
   ]
  },
  {
   "cell_type": "markdown",
   "metadata": {},
   "source": [
    "For the seed I arbitrarily chose, 2 out of 25 confidence intervals did not contain the true mean, which is 8%. In the long run, we expect at least 5% of confidence intervals to not contain the true mean, and the bootstrap estimator for CIs is not conservative enough for small data, so 8% may be accurate. The following simulation provides a more accurate estimate of the probability that the CI contains the true mean by running 1,000 simulations:"
   ]
  },
  {
   "cell_type": "code",
   "execution_count": 7,
   "metadata": {},
   "outputs": [
    {
     "name": "stdout",
     "output_type": "stream",
     "text": [
      "The probabilty a bootstrap CI does not contain the true mean is 0.10\n"
     ]
    }
   ],
   "source": [
    "num_sims = 2000\n",
    "data_size = 10\n",
    "\n",
    "X = stats.norm(1,2 )\n",
    "\n",
    "num_miss_true_mean = 0\n",
    "for sim in range(num_sims):\n",
    "  Xvals = X.rvs(data_size)\n",
    "  avg = Xvals.mean()\n",
    "  \n",
    "  # Now do bootstrap sampling\n",
    "  num_bs_sims = 1000\n",
    "  bs_averages = np.zeros(num_bs_sims)\n",
    "  for bs_sim in range(num_bs_sims):\n",
    "    bs_sample = npr.choice(Xvals, data_size)\n",
    "    bs_avg = bs_sample.mean()\n",
    "    bs_averages[bs_sim] = bs_avg\n",
    "    \n",
    "  percentiles = np.percentile(bs_averages, [2.5, 97.5])\n",
    "  if percentiles[0] > 1 or percentiles[1] <1:\n",
    "    num_miss_true_mean += 1\n",
    "\n",
    "print('The probabilty a bootstrap CI does not contain the true mean is' \n",
    "      + f'{num_miss_true_mean/num_sims : 0.2f}')"
   ]
  },
  {
   "cell_type": "markdown",
   "metadata": {},
   "source": [
    "We see that the actual that a bootstrap CI does not contain the true mean for this distribution is around 11%, when our target was 5%. Below is a table that shows the probability[^ci_probs] that a bootstrap sample does not contain the true mean for this distribution as a function of $N$:\n",
    "\n",
    "| Data Size ($N$) | Probability CI does not contain true mean |\n",
    "| :-: | :-: |\n",
    "| 5 | 16.3% |\n",
    "| 10 | 10.0% |\n",
    "| 25 | 6.9% |\n",
    "| 50 | 5.9% |\n",
    "| 75 | 5.6% |\n",
    "| 100 | 5.5% |\n",
    "\n",
    "Based on this distribution, bootstrap confidence intervals can only be considered accurate if they are generated from more than 100 data samples. However, better confidence intervals can be generated through bootstrap sampling using algorithms such as the $\\mbox{BC}_\\alpha$ method or $\\mbox{ABC}$ method[^efron_book], which are available in the Python [bootstrap-stat library](https://pypi.org/project/bootstrap-stat/).\n",
    "\n",
    "We will continue to use percentile-based bootstrap confidence intervals in this book for simplicity, but readers who need more accurate results should use one of the two algorithms mentioned above.\n",
    "\n",
    "[^ci_probs]: These probabilities are approximations; they were estimated via simulations of 100,000 random samples of the data for each data size.\n",
    "\n",
    "[^efron_book]: See Chapter 14 of *An Introduction to the Bootstrap* by Bradley Efron and Robert J. Tibshirani, Chapman & Hall/CRC, 1993."
   ]
  },
  {
   "cell_type": "code",
   "execution_count": 8,
   "metadata": {
    "tags": [
     "remove-cell"
    ]
   },
   "outputs": [],
   "source": [
    "from numba import jit\n"
   ]
  },
  {
   "cell_type": "code",
   "execution_count": 9,
   "metadata": {
    "tags": [
     "remove-cell"
    ]
   },
   "outputs": [],
   "source": [
    "@jit\n",
    "def sim_ci(data_size=5, num_sims=100_000):\n",
    "\n",
    "  num_bs_sims = 1000\n",
    "  X = stats.norm(1,2 )\n",
    "\n",
    "  num_miss_true_mean = 0\n",
    "  Xvals = X.rvs((num_sims, data_size))\n",
    "  avgs = Xvals.mean(axis=1)\n",
    "  bs_averages = np.zeros(num_bs_sims)\n",
    "  for sim in range(num_sims):\n",
    "\n",
    "    # Do bootstrap sampling\n",
    "\n",
    "    for bs_sim in range(num_bs_sims):\n",
    "      bs_sample = npr.choice(Xvals[sim], data_size)\n",
    "      bs_avg = bs_sample.mean()\n",
    "      bs_averages[bs_sim] = bs_avg\n",
    "\n",
    "    percentiles = np.percentile(bs_averages, [2.5, 97.5])\n",
    "    if percentiles[0] > 1 or percentiles[1] <1:\n",
    "      num_miss_true_mean += 1\n",
    "\n",
    "  #print('The probabilty a bootstrap CI does not contain the true mean is' \n",
    "       # + f'{num_miss_true_mean/num_sims*100 : 0.2f}')\n",
    "  return num_miss_true_mean/num_sims*100"
   ]
  },
  {
   "cell_type": "code",
   "execution_count": 10,
   "metadata": {
    "tags": [
     "remove-cell"
    ]
   },
   "outputs": [
    {
     "name": "stderr",
     "output_type": "stream",
     "text": [
      "/var/folders/gz/d_8lq2wn23x2lmhfh63cfl3400010v/T/ipykernel_28282/4212116520.py:1: NumbaWarning: \u001b[1m\n",
      "Compilation is falling back to object mode WITH looplifting enabled because Function \"sim_ci\" failed type inference due to: \u001b[1m\u001b[1mUnknown attribute 'norm' of type Module(<module 'scipy.stats' from '/Applications/anaconda3/lib/python3.9/site-packages/scipy/stats/__init__.py'>)\n",
      "\u001b[1m\n",
      "File \"../../../../../../../../var/folders/gz/d_8lq2wn23x2lmhfh63cfl3400010v/T/ipykernel_28282/4212116520.py\", line 5:\u001b[0m\n",
      "\u001b[1m<source missing, REPL/exec in use?>\u001b[0m\n",
      "\u001b[0m\n",
      "\u001b[0m\u001b[1mDuring: typing of get attribute at /var/folders/gz/d_8lq2wn23x2lmhfh63cfl3400010v/T/ipykernel_28282/4212116520.py (5)\u001b[0m\n",
      "\u001b[1m\n",
      "File \"../../../../../../../../var/folders/gz/d_8lq2wn23x2lmhfh63cfl3400010v/T/ipykernel_28282/4212116520.py\", line 5:\u001b[0m\n",
      "\u001b[1m<source missing, REPL/exec in use?>\u001b[0m\n",
      "\u001b[0m\n",
      "  @jit\n",
      "/var/folders/gz/d_8lq2wn23x2lmhfh63cfl3400010v/T/ipykernel_28282/4212116520.py:1: NumbaWarning: \u001b[1m\n",
      "Compilation is falling back to object mode WITHOUT looplifting enabled because Function \"sim_ci\" failed type inference due to: \u001b[1m\u001b[1mCannot determine Numba type of <class 'numba.core.dispatcher.LiftedLoop'>\u001b[0m\n",
      "\u001b[1m\n",
      "File \"../../../../../../../../var/folders/gz/d_8lq2wn23x2lmhfh63cfl3400010v/T/ipykernel_28282/4212116520.py\", line 11:\u001b[0m\n",
      "\u001b[1m<source missing, REPL/exec in use?>\u001b[0m\n",
      "\u001b[0m\u001b[0m\n",
      "  @jit\n",
      "/Applications/anaconda3/lib/python3.9/site-packages/numba/core/object_mode_passes.py:151: NumbaWarning: \u001b[1mFunction \"sim_ci\" was compiled in object mode without forceobj=True, but has lifted loops.\n",
      "\u001b[1m\n",
      "File \"../../../../../../../../var/folders/gz/d_8lq2wn23x2lmhfh63cfl3400010v/T/ipykernel_28282/4212116520.py\", line 4:\u001b[0m\n",
      "\u001b[1m<source missing, REPL/exec in use?>\u001b[0m\n",
      "\u001b[0m\n",
      "  warnings.warn(errors.NumbaWarning(warn_msg,\n",
      "/Applications/anaconda3/lib/python3.9/site-packages/numba/core/object_mode_passes.py:161: NumbaDeprecationWarning: \u001b[1m\n",
      "Fall-back from the nopython compilation path to the object mode compilation path has been detected, this is deprecated behaviour.\n",
      "\n",
      "For more information visit https://numba.readthedocs.io/en/stable/reference/deprecation.html#deprecation-of-object-mode-fall-back-behaviour-when-using-jit\n",
      "\u001b[1m\n",
      "File \"../../../../../../../../var/folders/gz/d_8lq2wn23x2lmhfh63cfl3400010v/T/ipykernel_28282/4212116520.py\", line 4:\u001b[0m\n",
      "\u001b[1m<source missing, REPL/exec in use?>\u001b[0m\n",
      "\u001b[0m\n",
      "  warnings.warn(errors.NumbaDeprecationWarning(msg,\n"
     ]
    },
    {
     "name": "stdout",
     "output_type": "stream",
     "text": [
      "5  16.3\n",
      "10  9.9\n",
      "25  6.9\n",
      "50  6.0\n",
      "75  5.6\n",
      "100  5.5\n"
     ]
    }
   ],
   "source": [
    "for data_size in [5, 10, 25, 50, 75, 100]:\n",
    "  print(data_size, f'{sim_ci(data_size) : 0.1f}' )"
   ]
  },
  {
   "cell_type": "markdown",
   "metadata": {
    "tags": []
   },
   "source": [
    "## Analytical Confidence Intervals for Mean Estimates\n",
    "\n",
    "The mean is special because of the Central Limit Theorem (see {doc}`Section 8.7.3.2<../08-random-variables/important-continuous-rvs>`) -- regardless of the type of distribution of the underlying data[^clt], the distribution of the sample mean estimator will be approximately Normal if there are at least tens of data points. Given the distribution of the estimator, we can use analytical approaches as an alternative to bootstrap estimators. The first step is to characterize the parameters of the distribution of the sample mean estimator.\n",
    "\n",
    "[^clt]: Actually the distribution will have to satisfy some mild restrictions, such as having finite mean and variance."
   ]
  },
  {
   "cell_type": "markdown",
   "metadata": {
    "tags": []
   },
   "source": [
    "### Linear Combinations of Independent Gaussian RVs\n",
    "\n",
    "Suppose we have a  data sample $\\mathbf{X}=\\left[X_0,X_1,\\cdots,X_{n_X-1} \\right]$, where different values in the sample are assumed to be independent[^ci]. We know from above that the sample mean estimator is unbiased. Thus, the expected value of the sample mean estimator is the true mean. We will also need the variance of the sample mean estimator in our analysis. Let $\\sigma_{X}^2$ be the variance of the $X_i$. Then the variance of the sample mean estimator is \n",
    "\\begin{align*}\n",
    "\\operatorname{Var} \\left[ \\hat{\\mu}_X \\right] &= \\operatorname{Var} \\left[ \\frac 1 {n_X} \\sum_{i=0}^{n_X-1} X_i \\right] \\\\\n",
    "&= \\frac 1 {n_{X}^2} \\operatorname{Var} \\left[  \\sum_{i=0}^{n_X-1} X_i \\right], \\\\\n",
    "\\end{align*}\n",
    "where the second line of the equation follows from Property 3 of variance (see {doc}`Section 9.3.4<moments>`). Since the random variables in $\\mathbf{X}$ are independent, we can apply Property 4 of variance to get\n",
    "\\begin{align*}\n",
    "\\operatorname{Var} \\left[ \\hat{\\mu}_X \\right] &= \\frac 1 {n_{X}^2}  \\sum_{i=0}^{n_{X}-1} \\operatorname{Var} \\left[  X_i \\right] \\\\\n",
    "&= \\frac 1 {n_{X}^2}  \\sum_{i=0}^{n_{X}-1} \\sigma_{X}^2\\\\\n",
    "&= \\frac 1 {n_{X}^2}  n_{X} \\sigma_{X}^2\\\\\n",
    "&= \\frac {\\sigma_{X}^2} {n_{X}}  .\n",
    "\\end{align*}\n",
    "The variance of the sample mean estimator decreases linearly with the number of samples. (This can be used to show that the sample mean estimator converges to the true mean as $n_{X} \\rightarrow \\infty$ if $\\sigma_{X}^2$ is finite.)\n",
    "\n",
    "The analysis above is sufficient to characterize $\\hat{\\mu}_X$ :\n",
    "\\begin{align*}\n",
    "\\hat{\\mu}_X \\sim \\mbox{Normal} \\left(\\mu_X, \\frac{\\sigma_X}{\\sqrt{n_X}} \\right) .\n",
    "\\end{align*}\n",
    "\n",
    "\n",
    "Note however, that $\\mu_X$ is unknown (it is the parameter we are trying to estimate), and $\\sigma_X$ may be known but is more often also unknown and must be estimated from the data. The analysis of the confidence intervals is different depending on whether the standard deviation of the data is known or unknown."
   ]
  },
  {
   "cell_type": "markdown",
   "metadata": {},
   "source": [
    "### Confidence Intervals for Mean Estimate with Known Data Variance\n",
    "\n",
    "Recall that given a specified confidence $C$%, we wish to create a procedure that for each data sample $\\mathbf{x}$ will determine an interval $I_C$ such that $P( \\mu_X \\in I_C) = C\\%$, where $\\mu_X$ is the true mean, which is unknown. Then for a particular data sample $\\mathbf{x}$ with average $\\overline{\\mathbf{x}}$, we can calculate the probability of observing an average \"as extreme\" as $\\overline{\\mathbf{x}}$ for any given value of $\\mu_X$. \n",
    "\n",
    "\\begin{align*}\n",
    "P\\left( \\mu  \\in \\left( \\hat{\\mu}_X -d, \\hat{\\mu}_X +d \\right] \\right) \\\\\n",
    "P\\left(  \\hat{\\mu}_X -d \\le \\mu \\cap \\hat{\\mu}_X +d > \\mu \\right) \\\\\n",
    "P\\left(  \\hat{\\mu}_X  - \\mu \\le d \\cap \\hat{\\mu}_X -\\mu  > -d\\right) \\\\\n",
    "\\end{align*}\n",
    "\n",
    "Observing that $\\hat{\\mu}_X-\\mu$ has mean zero, we start by rewriting this expression in terms of tail probabilities:\n",
    "\\begin{align*}\n",
    "P\\left(  \\hat{\\mu}_X  - \\mu \\le d \\cap \\hat{\\mu}_X -\\mu  > -d\\right)  &= \n",
    "1 - P\\left(  \\hat{\\mu}_X  - \\mu > d \\cup \\hat{\\mu}_X -\\mu  \\le  -d\\right) \\\\\n",
    "&= 1 - P\\left(  \\hat{\\mu}_X  - \\mu > d \\right) + P\\left(\\hat{\\mu}_X -\\mu  \\le  -d\\right),\n",
    "\\end{align*}\n",
    "where the second line comes from the fact that we are asking about the probability that $\\hat{\\mu}_X -\\mu $ is in mutually exclusive regions of the real line, which results in mutually exclusive events. Next note that under the assumption that $\\hat{\\mu}_X - \\mu$ is normal with mean 0, the pdf of $\\hat{\\mu}_X - \\mu$  is symmetric around $x=0$. We can use this symmetry to write \n",
    "\\begin{align*}\n",
    " 1 - P\\left(  \\hat{\\mu}_X  - \\mu > d\\right) + P\\left(\\hat{\\mu}_X -\\mu  \\le  -d\\right) =  1 - 2 P\\left(  \\hat{\\mu}_X  - \\mu > d \\right).\n",
    "\\end{align*}\n",
    "\n",
    "Then for a given confidence C, we have \n",
    "\\begin{align*}\n",
    " 1 - 2 P\\left(  \\hat{\\mu}_X  - \\mu > d \\right) &= C \\\\\n",
    " P\\left(  \\hat{\\mu}_X  - \\mu > d \\right) = \\frac{1-C}{2}.\n",
    "\\end{align*}\n",
    "For future convenience, let $\\alpha = (1-C)/2$.\n",
    "\n",
    "We have several ways to proceed from here. One approach is to create a SciPy distribution for the random variable $\\hat{\\mu}_X  - \\mu$, which we know is Normal with mean 0. The variance of  $\\hat{\\mu}_X$ is $\\sigma_{X}^2/\\sqrt{n}$, and this is also the variance of  $\\hat{\\mu}_X  - \\mu$ by Property 2 of variance. Note that the probability is in the form of a survival function, which is the $Q$ function for a Normal random variable. Since we have SciPy available, the simplest and most direct way is to make a Normal distribution object with the appropriate mean and variance and use the inverse survival function method `isf()` to solve for the value of $d$. The code below shows hot to find the value of $d$ for a 95% confidence interval when $\\sigma=2$:"
   ]
  },
  {
   "cell_type": "code",
   "execution_count": 11,
   "metadata": {},
   "outputs": [
    {
     "data": {
      "text/plain": [
       "1.2395900646091231"
      ]
     },
     "execution_count": 11,
     "metadata": {},
     "output_type": "execute_result"
    }
   ],
   "source": [
    "x_var = np.var(x, ddof=1)\n",
    "n = 10\n",
    "alpha = (1-0.95)/2\n",
    "\n",
    "T = stats.norm(loc = 0, scale = 2 / np.sqrt(n) )\n",
    "T.isf(alpha)"
   ]
  },
  {
   "cell_type": "markdown",
   "metadata": {},
   "source": [
    "As an alternative to setting up a Normal random variable with the specified standard deviation and using the `isf()` function, we can express the probability analytically in terms of the $Q$ function as \n",
    "\\begin{align*}\n",
    " Q\\left(  \\hat{\\mu}_X  - \\mu > d \\right) &= \\alpha \\\\\n",
    " \\frac d {\\sigma_x/\\sqrt{n_x}}  &= Q^{-1} \\left(\\alpha \\right) \\\\\n",
    "d &= \\frac{\\sigma_x}{\\sqrt{n_x}} Q^{-1} \\left(\\alpha \\right) \\\\\n",
    "\\end{align*}\n",
    "\n"
   ]
  },
  {
   "cell_type": "markdown",
   "metadata": {},
   "source": [
    "Then we can use our usual definition of the $Q$ function in Python to calculate the value of $d$. The code below shows how the calculation for the same scenario of $C=95$% and $\\sigma_X=2$:"
   ]
  },
  {
   "cell_type": "code",
   "execution_count": 12,
   "metadata": {},
   "outputs": [],
   "source": [
    "def qinv(x):\n",
    "  return stats.norm.isf(x)"
   ]
  },
  {
   "cell_type": "code",
   "execution_count": 13,
   "metadata": {},
   "outputs": [
    {
     "data": {
      "text/plain": [
       "1.2395900646091231"
      ]
     },
     "execution_count": 13,
     "metadata": {},
     "output_type": "execute_result"
    }
   ],
   "source": [
    "sigma_x = 2\n",
    "n = 10\n",
    "alpha = (1-0.95)/2\n",
    "\n",
    "\n",
    "sigma_x / np.sqrt(n) * qinv(alpha)\n"
   ]
  },
  {
   "cell_type": "markdown",
   "metadata": {},
   "source": [
    "The figure below compares the bootstrap confidence interval to the analytical confidence interval for the same data as in the previous example, which considered only bootstrapping.\n"
   ]
  },
  {
   "cell_type": "code",
   "execution_count": 14,
   "metadata": {
    "tags": [
     "remove-input"
    ]
   },
   "outputs": [
    {
     "data": {
      "image/png": "[encoded data removed]",
      "text/plain": [
       "<Figure size 360x720 with 1 Axes>"
      ]
     },
     "metadata": {
      "needs_background": "light"
     },
     "output_type": "display_data"
    }
   ],
   "source": [
    "npr.seed(5678)\n",
    "\n",
    "num_sims = 25\n",
    "data_size = 10\n",
    "\n",
    "X = stats.norm(1,2 )\n",
    "d = 2 / np.sqrt(10) * qinv((1-0.95)/2)\n",
    "\n",
    "plt.figure(figsize = (5,10) )\n",
    "for sim in range(num_sims):\n",
    "  Xvals = X.rvs(data_size)\n",
    "  avg = Xvals.mean()\n",
    "  \n",
    "  # Now do bootstrap sampling\n",
    "  num_bs_sims = 1000\n",
    "  bs_averages = np.zeros(num_bs_sims)\n",
    "  for bs_sim in range(num_bs_sims):\n",
    "    bs_sample = npr.choice(Xvals, data_size)\n",
    "    bs_avg = bs_sample.mean()\n",
    "    bs_averages[bs_sim] = bs_avg\n",
    "    \n",
    "  percentiles = np.percentile(bs_averages, [2.5, 97.5])\n",
    "\n",
    "  if sim ==0:\n",
    "    plt.plot([avg-d, avg+d], [sim+0.3, sim+0.3], color='C3', linestyle='-.', label = 'Analytical')\n",
    "    plt.plot(percentiles, [sim, sim], color='C2', label = 'Bootstrap')\n",
    "  else:\n",
    "    plt.plot(percentiles, [sim, sim], color='C2')\n",
    "    plt.plot([avg-d, avg+d], [sim+0.3, sim+0.3], color='C3', linestyle='-.')\n",
    "    \n",
    "  plt.scatter(avg, sim, marker='*')\n",
    " \n",
    "plt.axvline(1, alpha=0.3)\n",
    "plt.ylabel('Data Sample Number');\n",
    "plt.xlabel('Value');\n",
    "plt.legend();\n",
    "plt.title('Confidence Intervals for 25 Random Samples of Normal Data');\n"
   ]
  },
  {
   "cell_type": "markdown",
   "metadata": {},
   "source": [
    "Note that for most of the results, the confidence intervals returned by the bootstrap algorithm and the analytical result are approximately equal. However, there are several important differences. In particular, the bootstrap algorithm produces two confidence intervals that are much narrower than the analytical confidence intervals and that do not include the true mean -- these are for data samples 11 and 15. The smaller bootstrap confidence intervals can be attributed to those data sample having a much smaller sample variance than the variance of the distribution from which they came. Recall that the data comes from a distribution with standard deviation of 2, corresponding to a variance of 4. The figure below shows the sample variances for each of the data samples in this example, with the values for samples 11 and 15 highlighted in orange:"
   ]
  },
  {
   "cell_type": "code",
   "execution_count": 15,
   "metadata": {
    "tags": [
     "remove-input"
    ]
   },
   "outputs": [
    {
     "data": {
      "image/png": "[encoded data removed]",
      "text/plain": [
       "<Figure size 432x288 with 1 Axes>"
      ]
     },
     "metadata": {
      "needs_background": "light"
     },
     "output_type": "display_data"
    }
   ],
   "source": [
    "npr.seed(5678)\n",
    "\n",
    "num_sims = 25\n",
    "data_size = 10\n",
    "\n",
    "X = stats.norm(1,2 )\n",
    "small_cis=[11, 15]\n",
    "\n",
    "plt.figure()#figsize = (5,10) )\n",
    "variances = []\n",
    "for sim in range(num_sims):\n",
    "  Xvals = X.rvs(data_size)\n",
    "  #avg = Xvals.mean()\n",
    "  var = Xvals.var(ddof=1)\n",
    "  variances += [var]\n",
    "      \n",
    "plt.scatter(range(num_sims), variances, marker='*', label='CI contains true mean')\n",
    "\n",
    "for sim in small_cis:\n",
    "  if sim == small_cis[0]:\n",
    "    plt.scatter(sim, variances[sim], marker='*', color='C1', label='CI does not contain true mean')\n",
    "  else:\n",
    "        plt.scatter(sim, variances[sim], marker='*', color='C1')\n",
    "plt.grid();\n",
    "\n",
    " \n",
    "# plt.axvline(1, alpha=0.3)\n",
    "plt.xlabel('Data Sample Number');\n",
    "plt.ylabel('Sample Variance');\n",
    "plt.legend();\n",
    "# plt.title('Confidence Intervals for 25 Random Samples of Normal Data');\n",
    "\n"
   ]
  },
  {
   "cell_type": "markdown",
   "metadata": {},
   "source": [
    "Note that having a low sample variance does not necessarily imply that the bootstrap confidence interval will be small. The sample variance for data sample 7 is similar to that of data sample 11, and yet the confidence interval for data sample 7 is not that smaller than the analytical result. This can be attributed to the fact that the bootstrap uses all of the information in the data rather than just the variance when creating the confidence intervals."
   ]
  },
  {
   "cell_type": "markdown",
   "metadata": {},
   "source": [
    "This example shows that analysis can produce better estimates of confidence intervals, but it **required that the standard deviation of the distribution be known**. In most practical examples, this is not the case, and the standard deviation or variance must be estimated from the data. "
   ]
  },
  {
   "cell_type": "markdown",
   "metadata": {
    "tags": []
   },
   "source": [
    "### Confidence Intervals for Mean Estimate with Unknown Data Variance\n",
    "\n",
    "If the standard deviation or variance of the distribution is not known, then we must estimate it. We will use the unbiased variance estimator, \n",
    "\\begin{align*}\n",
    "S_{n-1}^2 = \\frac{1}{n-1}\\sum_{i=0}^{n-1} \\left(X_i-\\hat{\\mu}_X \\right)^2.\n",
    "\\end{align*}\n"
   ]
  },
  {
   "cell_type": "markdown",
   "metadata": {},
   "source": [
    "Recall that if $\\hat{\\mu}_X$ is Normal( $\\mu_X, \\sigma_X)$ , then \n",
    "```{math}\n",
    ":label: normalized1\n",
    "\\frac{ X  - \\mu_X}{\\sigma_X} \\sim \\mbox{Normal}(0,1).\n",
    "```\n",
    "<!-- $$ \\frac{ X  - \\mu_X}{\\sigma_X} \\sim \\mbox{Normal}(0,1). $$-->\n",
    "\n",
    "If we have to replace the true variance by its estimator, then the distribution changes. Using the unbiased variance estimator instead of the true variance, the distribution of\n",
    "```{math}\n",
    ":label: normalized2\n",
    "\\frac{\\hat{\\mu}-\\mu_X }{S_{n-1}/\\sqrt{n}}\n",
    "```\n",
    "has a **Student’s $t$-distribution with $\\nu = n-1$ degrees of freedom (dof)**.  For convenience, we will denote this distribution by $t_\\nu$.\n",
    "\n",
    "\n",
    "The density and distribution functions are complicated and omitted here, but you can find them on the [Wikipedia page for Student's $t$-distribution](https://en.wikipedia.org/wiki/Student's_t-distribution). Fortunately for us, SciPy.stats has the functions we will need in our analysis built in. An additional point of good news is that unlike the Gaussian distribution, the distribution function for Student’s t-distribution is in closed form for several values of the dof parameter.\n",
    "\n",
    "```{note}\n",
    "Note that normalizing by the true mean and variance, as in  {eq}`normalized1` results in a random variable with mean 0 and variance 1. \n",
    "\n",
    "The normalization in {eq}`normalized2` results in a random variable with mean 0 and variance equal to $\\nu/(\\nu-2)$ for $\\nu>2$, where $\\nu=n-1$ is the number of degrees of freedom of the Student's $t$ distribution. Note that the variance of the Student's $t$ distribution is always greater than 1 but converges to 1 as $\\nu$ goes to $\\infty$.\n",
    "```\n",
    "\n",
    "From the increased variance of the Student's $t$ distribution, we expect that the Student's $t$ density is in some sense more spread out than the Normal distribution.  Let's compare the standard Normal(0,1) density to the Student's $t$ density with different dofs:"
   ]
  },
  {
   "cell_type": "code",
   "execution_count": 16,
   "metadata": {},
   "outputs": [],
   "source": [
    "\n",
    "norm=stats.norm()\n",
    "t1=stats.t(1)\n",
    "t2=stats.t(2)\n",
    "t5=stats.t(5)\n",
    "tinf=stats.t(100000)"
   ]
  },
  {
   "cell_type": "code",
   "execution_count": 17,
   "metadata": {},
   "outputs": [
    {
     "data": {
      "image/png": "[encoded data removed]",
      "text/plain": [
       "<Figure size 432x288 with 1 Axes>"
      ]
     },
     "metadata": {
      "needs_background": "light"
     },
     "output_type": "display_data"
    }
   ],
   "source": [
    "x=np.linspace(-4,4,1000)\n",
    "plt.plot(x,norm.pdf(x),label='Normal')\n",
    "plt.plot(x,t1.pdf(x),label='t (dof=1)')\n",
    "plt.legend();"
   ]
  },
  {
   "cell_type": "code",
   "execution_count": 18,
   "metadata": {},
   "outputs": [
    {
     "data": {
      "image/png": "[encoded data removed]",
      "text/plain": [
       "<Figure size 432x288 with 1 Axes>"
      ]
     },
     "metadata": {
      "needs_background": "light"
     },
     "output_type": "display_data"
    }
   ],
   "source": [
    "x=np.linspace(-4,4,1000)\n",
    "plt.plot(x,norm.pdf(x),label='Normal')\n",
    "plt.plot(x,t2.pdf(x),label='t (dof=2)')\n",
    "plt.plot(x,t5.pdf(x),label='t (dof=5)')\n",
    "plt.legend();"
   ]
  },
  {
   "cell_type": "code",
   "execution_count": 19,
   "metadata": {},
   "outputs": [
    {
     "data": {
      "image/png": "[encoded data removed]",
      "text/plain": [
       "<Figure size 432x288 with 1 Axes>"
      ]
     },
     "metadata": {
      "needs_background": "light"
     },
     "output_type": "display_data"
    }
   ],
   "source": [
    "x=np.linspace(-4,4,1000)\n",
    "plt.plot(x,norm.pdf(x),label='Normal')\n",
    "plt.plot(x,tinf.pdf(x),label='t (dof=$\\infty$)')\n",
    "plt.legend();"
   ]
  },
  {
   "cell_type": "markdown",
   "metadata": {},
   "source": [
    "For small dofs, the Student's $t$ density has much more probability in the tails of the distribution than the Normal density does. As $N \\rightarrow \\infty$, the Student's $t$ density converges to the Normal density."
   ]
  },
  {
   "cell_type": "markdown",
   "metadata": {},
   "source": [
    "**JMS: WORKING HERE**\n",
    "\n",
    "If we want to generate a SciPy distribution for a Student's $t$ variable of the form in {eq}`normalized2`, then we can generate a corresponding SciPy distribution by setting the following parameters:\n",
    "* the `df` parameter is set to the number of degrees of freedom, $\\nu=n-1$\n",
    "* the `loc` parameter is set to the true mean, $\\mu_X$, and\n",
    "* the `scale` parameter  is set to the observed value of $S^{2}_{n-1}/\\sqrt{n}$.\n",
    "\n",
    "For instance, we will often be working with a $t$ variable with mean 0. If we have data in a variable `x`, then we can generate a SciPy $t$-distribution as follows:"
   ]
  },
  {
   "cell_type": "code",
   "execution_count": 20,
   "metadata": {},
   "outputs": [],
   "source": [
    "# Some sample data\n",
    "x = [-9, -4, 1, 4, 9, 16]\n",
    "\n",
    "n = len(x)\n",
    "sigma_t = np.std(x, ddof=1) / np.sqrt(len(x))\n",
    "T = stats.t(df = n-1, scale = sigma_t)"
   ]
  },
  {
   "cell_type": "markdown",
   "metadata": {},
   "source": [
    "The average value is"
   ]
  },
  {
   "cell_type": "code",
   "execution_count": 21,
   "metadata": {},
   "outputs": [
    {
     "data": {
      "text/plain": [
       "2.8333333333333335"
      ]
     },
     "execution_count": 21,
     "metadata": {},
     "output_type": "execute_result"
    }
   ],
   "source": [
    "np.mean(x)"
   ]
  },
  {
   "cell_type": "markdown",
   "metadata": {},
   "source": [
    "If the true mean were 0, the probability of seeing such a large value of the mean can be computed using the `T` object as"
   ]
  },
  {
   "cell_type": "code",
   "execution_count": 22,
   "metadata": {},
   "outputs": [
    {
     "data": {
      "text/plain": [
       "0.23717425447353055"
      ]
     },
     "execution_count": 22,
     "metadata": {},
     "output_type": "execute_result"
    }
   ],
   "source": [
    "T.sf(np.mean(x))"
   ]
  },
  {
   "cell_type": "markdown",
   "metadata": {},
   "source": [
    "To create analytical confidence intervals with the standard deviation estimated from the data, we can again find a region $\\left(\\hat{\\mu}_X -d, \\hat{\\mu}_X+d \\right]$ that satisifies\n",
    "\\begin{align*}\n",
    " P\\left(  \\hat{\\mu}_X  - \\mu > d \\right) = \\alpha,\n",
    "\\end{align*}\n",
    "where $\\alpha = (1-C)/2$. However, $\\hat{\\mu}_X - \\mu$ is not longer Normal. It will have a Student's $t$ distribution if we normalize it by dividing by {S_{n-1}/\\sqrt{n}}. In practice, we perform this normalization using the *observed* standard deviation estimate, $s_{n-1}$ in place of the random estimator. Then we can use SciPy to create a Student's $t$ distribution with the appropriate degrees of freedom and scaling, and then use the `isf()` method to find the value of $d$.\n",
    "\n",
    "This will be most clear using an example. The data below is the first data sample from the confidence intervals above:\n"
   ]
  },
  {
   "cell_type": "code",
   "execution_count": 23,
   "metadata": {},
   "outputs": [
    {
     "data": {
      "text/plain": [
       "1.6046001899833675"
      ]
     },
     "execution_count": 23,
     "metadata": {},
     "output_type": "execute_result"
    }
   ],
   "source": [
    "# The data\n",
    "x= np.array([-0.41957876,  0.96561764,  1.63882274, -3.53066214, -1.75490733,\n",
    "        4.89996147, -0.12762015, -0.68747518,  1.44907716,  0.21724457])\n",
    "n=len(x)\n",
    "\n",
    "# Set C and calculate alpha\n",
    "C = 95/100\n",
    "alpha = (1-C)/2\n",
    "\n",
    "# Calculate the standard deviation estimate\n",
    "s = np.std(x, ddof=1)\n",
    "\n",
    "# Now create the scaled Student's t distribution object using SciPy\n",
    "T = stats.t(df = n - 1, scale=s/np.sqrt(n) )\n",
    "\n",
    "# And now find the value of d using the inverse survival function\n",
    "T.isf(alpha)"
   ]
  },
  {
   "cell_type": "markdown",
   "metadata": {},
   "source": [
    "This compares to a $d$ of 1.24 when the variance is known and we can use the Normal distribution. \n",
    "\n",
    "The figure below shows the confidence intervals for all three methods: bootstrap, analytical with  known variance, and analytical with unknown variance:"
   ]
  },
  {
   "cell_type": "code",
   "execution_count": 24,
   "metadata": {
    "tags": [
     "remove-input"
    ]
   },
   "outputs": [
    {
     "data": {
      "image/png": "[encoded data removed]",
      "text/plain": [
       "<Figure size 432x720 with 1 Axes>"
      ]
     },
     "metadata": {
      "needs_background": "light"
     },
     "output_type": "display_data"
    }
   ],
   "source": [
    "npr.seed(5678)\n",
    "\n",
    "num_sims = 25\n",
    "data_size = 10\n",
    "\n",
    "C=95\n",
    "alpha = (1-C/100)/2\n",
    "\n",
    "\n",
    "X = stats.norm(1,2 )\n",
    "d = 2 / np.sqrt(data_size) * qinv(alpha)\n",
    "\n",
    "plt.figure(figsize = (6,10) )\n",
    "for sim in range(num_sims):\n",
    "  Xvals = X.rvs(data_size)\n",
    "  avg = Xvals.mean()\n",
    "  \n",
    "  # Now do bootstrap sampling\n",
    "  num_bs_sims = 1000\n",
    "  bs_averages = np.zeros(num_bs_sims)\n",
    "  for bs_sim in range(num_bs_sims):\n",
    "    bs_sample = npr.choice(Xvals, data_size)\n",
    "    bs_avg = bs_sample.mean()\n",
    "    bs_averages[bs_sim] = bs_avg\n",
    "    \n",
    "  percentiles = np.percentile(bs_averages, [100*alpha, 100*(1-alpha)])\n",
    "\n",
    "  # Add Student's t approach\n",
    "  s = np.std(bs_sample, ddof=1)\n",
    "  T = stats.t(df = data_size-1, scale=s/np.sqrt(data_size) )\n",
    "  d2 = T.isf(alpha)\n",
    "  if sim ==0:\n",
    "    plt.plot([avg-d2, avg+d2], [sim+0.5, sim+0.5], color='C4', linestyle=':', label = 'Analytical (unknown $\\sigma$)')\n",
    "    plt.plot([avg-d, avg+d], [sim+0.2, sim+0.2], color='C3', linestyle='-.', label = 'Analytical (known $\\sigma$)')\n",
    "    plt.plot(percentiles, [sim, sim], color='C2', label = 'Bootstrap')\n",
    "  else:\n",
    "    plt.plot([avg-d2, avg+d2], [sim+0.5, sim+0.5], color='C4', linestyle=':')\n",
    "    plt.plot(percentiles, [sim, sim], color='C2')\n",
    "    plt.plot([avg-d, avg+d], [sim+0.25, sim+0.25], color='C3', linestyle='-.')\n",
    "    \n",
    "  plt.scatter(avg, sim, marker='*')\n",
    " \n",
    "plt.axvline(1, alpha=0.3)\n",
    "plt.ylabel('Data Sample Number');\n",
    "plt.xlabel('Value');\n",
    "plt.legend();\n",
    "plt.xlim(-3.6, 3);\n",
    "plt.title('Confidence Intervals for 25 Random Samples of Normal Data');\n"
   ]
  },
  {
   "cell_type": "markdown",
   "metadata": {},
   "source": [
    "Note that the confidence intervals produced using the Student's $t$ distribution are very similar to those produced by bootstrap sampling because the width of the confidence interval is now determined from the data. Data samples 11 and 15 both do not include the true mean for this analytical model. Just like the bootstrap confidence intervals, the Student's $t$ model does not provide conservative enough confidence intervals for small data samples. Various correction factors are available in the literature to provide better confidence intervals for small data samples."
   ]
  },
  {
   "cell_type": "markdown",
   "metadata": {},
   "source": [
    "In the next section, we consider how to apply some of these ideas to test if two data samples have different means."
   ]
  }
 ],
 "metadata": {
  "kernelspec": {
   "display_name": "Python 3 (ipykernel)",
   "language": "python",
   "name": "python3"
  },
  "language_info": {
   "codemirror_mode": {
    "name": "ipython",
    "version": 3
   },
   "file_extension": ".py",
   "mimetype": "text/x-python",
   "name": "python",
   "nbconvert_exporter": "python",
   "pygments_lexer": "ipython3",
   "version": "3.9.12"
  },
  "latex_envs": {
   "LaTeX_envs_menu_present": true,
   "autoclose": true,
   "autocomplete": true,
   "bibliofile": "biblio.bib",
   "cite_by": "apalike",
   "current_citInitial": 1,
   "eqLabelWithNumbers": true,
   "eqNumInitial": 1,
   "hotkeys": {
    "equation": "Ctrl-E",
    "itemize": "Ctrl-I"
   },
   "labels_anchors": false,
   "latex_user_defs": false,
   "report_style_numbering": false,
   "user_envs_cfg": false
  }
 },
 "nbformat": 4,
 "nbformat_minor": 4
}
