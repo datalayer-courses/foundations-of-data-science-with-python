{
 "cells": [
  {
   "cell_type": "markdown",
   "id": "099916c6-c26d-4416-8f9d-72674c02c88d",
   "metadata": {},
   "source": [
    "# Expected Value of a Continuous Random Variable with SymPy"
   ]
  },
  {
   "cell_type": "markdown",
   "id": "c85cc43f-f24e-4e1e-b03a-16f169c0b0fa",
   "metadata": {},
   "source": [
    "Consider a random variable $X$ with the simple density function shown below:"
   ]
  },
  {
   "cell_type": "code",
   "execution_count": 53,
   "id": "d7eb080d-2ab4-4b43-b988-d4223c609547",
   "metadata": {},
   "outputs": [
    {
     "data": {
      "image/png": "[encoded data removed]",
      "text/plain": [
       "<Figure size 432x288 with 1 Axes>"
      ]
     },
     "metadata": {
      "needs_background": "light"
     },
     "output_type": "display_data"
    }
   ],
   "source": [
    "import matplotlib.pyplot as plt\n",
    "import numpy as np\n",
    "\n",
    "x = np.linspace(0,3,31)\n",
    "plt.plot(x, 10*x, color='C0')\n",
    "plt.plot([2.999,3], [0,30], color='C0')\n",
    "\n",
    "plt.ylim(0,32)\n",
    "plt.yticks(ticks = [0,30], labels=['0', '$3m$']);\n",
    "plt.text(1.6, 22, '$f_X(x)$', size=14);"
   ]
  },
  {
   "cell_type": "markdown",
   "id": "22f5ad88-d1a6-4b14-8b72-44548709edb9",
   "metadata": {},
   "source": [
    "Note that I left a parameter $m$ in the density, where $m$ is the slope of the line.  We should be able to figure out $m$ from what we know about the pdf. In particular, the pdf must integrate to 1. Rather than carry out that integration by hand, let's use a library called SymPy. We will import it as `sp`:"
   ]
  },
  {
   "cell_type": "code",
   "execution_count": 50,
   "id": "6efdbde8-8497-485c-8005-00a7fea5713e",
   "metadata": {},
   "outputs": [],
   "source": [
    "import sympy as sp"
   ]
  },
  {
   "cell_type": "markdown",
   "id": "9ef0d0e7-13f2-4dc4-b996-ccdae136eebf",
   "metadata": {},
   "source": [
    "The first thing we will usually do when we work with SymPy is to tell it what our variables are. We do this by using either the `Symbol()` or `symbols()` methods. I recommend always using `symbols()` because it works for one or multiple symbols. The syntax is pretty straightforward. We pass it a string whose contents are a comma separated value of names of variables. The output is a tuple of SymPy variables that are usually passed to Python variables of the same name. It is confusing to write out but easy to understand in code. Let's create SymPy variables for $x$ (a value of $X$) and for $m$, the unknown constant:"
   ]
  },
  {
   "cell_type": "code",
   "execution_count": 55,
   "id": "529b8b41-e554-46ae-b872-5b28a4e127c0",
   "metadata": {},
   "outputs": [],
   "source": [
    "x, m = sp.symbols(\"x,m\")"
   ]
  },
  {
   "cell_type": "markdown",
   "id": "692482ea-b326-4299-ab53-c69698fb8628",
   "metadata": {},
   "source": [
    "Now we can define our function. For this first version, let's ignore the fact that the function really needs to be defined piecewise -- we will just do all our computation on $[0, 3]$. Since the function is linear in $x$ with slope $m$, it is just $f_X(x) = mx$ on $[0, 3]$. In SymPy, we can write"
   ]
  },
  {
   "cell_type": "code",
   "execution_count": 56,
   "id": "f279c1d3-772d-44f7-a3e0-e6877dccdef8",
   "metadata": {},
   "outputs": [],
   "source": [
    "fX1 = m*x"
   ]
  },
  {
   "cell_type": "markdown",
   "id": "6bdebbca-e95f-409f-b75c-ef302ac03158",
   "metadata": {},
   "source": [
    "Let's integrate the density function on $[0,10]$ to find the total probability as a function of $m$. Mathematically, we would write\n",
    "\n",
    "$$\n",
    "\\int_{0}^{3} f_X(x) ~dx = \\int_{0}^{3} mx ~dx =1.\n",
    "$$\n",
    "\n",
    "In SymPy, we can use the `integrate()` function. The first argument of `integrate()` is the function to be integrated. The second argument is either:\n",
    "* *For indefinite integrals:* the variable to be integrated, or\n",
    "* *For definite integrals:* a tuple containing the variable to be integrated, the lower limit of integration, and the upper limit of integration.\n",
    "To find the value of $m$, we need to calculate the definite integral as $x$ goes from 0 to 13, so the integral can be calculated using SymPy as"
   ]
  },
  {
   "cell_type": "code",
   "execution_count": 57,
   "id": "4fbe43b9-9bf5-4b57-af96-91e43e762c2c",
   "metadata": {},
   "outputs": [
    {
     "data": {
      "text/latex": [
       "$\\displaystyle \\frac{9 m}{2}$"
      ],
      "text/plain": [
       "9*m/2"
      ]
     },
     "execution_count": 57,
     "metadata": {},
     "output_type": "execute_result"
    }
   ],
   "source": [
    "sp.integrate(fX1, (x, 0, 3) )"
   ]
  },
  {
   "cell_type": "markdown",
   "id": "f5d24b53-fff1-4a0c-a137-a3ccda69d1f3",
   "metadata": {},
   "source": [
    "The result is $9m/2$. This is not hard to verify. We could calculate out the integral by hand, or we could simply observe that we are finding the area of a triangle with base $b=3$ and height $h=3m$. Since the area of a triangle is $bh/2$, the result is $9m/2$.\n",
    "\n",
    "We want $f_X(x)$ to be a valid pdf, so we require $9m/2=1$, or $m = 2/9$. Let's make a new version of $f_X(x)$ in SymPy with  this substitution. Rather than manually substituting it, I will show you how to let SymPy do the work for you.  We can put in `2/9` for the upper bound, but the result will be converted to a decimal. SymPy can work with fractions if instead of 2/9, we pass 'sp.Rational(2,9)' to tell SymPy to use the rational form of 2/9:"
   ]
  },
  {
   "cell_type": "code",
   "execution_count": 65,
   "id": "060849b0-028e-4297-a901-f5efe553bd2a",
   "metadata": {},
   "outputs": [
    {
     "data": {
      "text/latex": [
       "$\\displaystyle \\frac{2 x}{9}$"
      ],
      "text/plain": [
       "2*x/9"
      ]
     },
     "execution_count": 65,
     "metadata": {},
     "output_type": "execute_result"
    }
   ],
   "source": [
    "fX = fX1.subs(m, sp.Rational(2,9) )\n",
    "fX"
   ]
  },
  {
   "cell_type": "markdown",
   "id": "6f171af6-9d78-4af5-bbda-6d6d30fefbed",
   "metadata": {},
   "source": [
    "Let's confirm that `fX` now integrates to 1:"
   ]
  },
  {
   "cell_type": "code",
   "execution_count": 66,
   "id": "3efa8e82-d4e1-4889-93f0-f3dda45fa532",
   "metadata": {},
   "outputs": [
    {
     "data": {
      "text/latex": [
       "$\\displaystyle 1$"
      ],
      "text/plain": [
       "1"
      ]
     },
     "execution_count": 66,
     "metadata": {},
     "output_type": "execute_result"
    }
   ],
   "source": [
    "sp.integrate(fX, (x, 0, 3) )"
   ]
  },
  {
   "cell_type": "markdown",
   "id": "ca7be8ab-3e01-4ab7-bef9-05f2674624af",
   "metadata": {},
   "source": [
    "Now we are ready to find the expected value $E[X]$. From {doc}`expected-value`, the expected value of a continuous random variable $X$ is\n",
    "\n",
    "$$\n",
    "E[X] = \\int_{-\\infty}^{\\infty} x f_X(x)~dx.\n",
    "$$\n",
    "Again, we will ignore the parts of the integral where $f_X(x)=0$. Then this is easy to carry out in SymPy:"
   ]
  },
  {
   "cell_type": "code",
   "execution_count": 67,
   "id": "84eabae7-16af-4f51-9c48-364b7e3dd812",
   "metadata": {},
   "outputs": [
    {
     "data": {
      "text/latex": [
       "$\\displaystyle 2$"
      ],
      "text/plain": [
       "2"
      ]
     },
     "execution_count": 67,
     "metadata": {},
     "output_type": "execute_result"
    }
   ],
   "source": [
    "sp.integrate(x * fX, (x, 0, 3) )"
   ]
  },
  {
   "cell_type": "markdown",
   "id": "72d3ed70-1141-43a0-9308-e40fab476b0a",
   "metadata": {},
   "source": [
    "So the mean, or expected value of $X$ is 2. This seems reasonable, since it is in the middle of the variable's range but is skewed more toward the right, where there is more density."
   ]
  },
  {
   "cell_type": "markdown",
   "id": "ae6230e5-22bb-4e09-a3d0-a8e5a28baf74",
   "metadata": {},
   "source": [
    "## What Expected Value Does Not Mean\n",
    "\n",
    "**Or what the *mean* doesn't mean!**\n",
    "\n",
    "**1.** The mean is not the most likely value to occur. The value with the highest density is $3$. For a continuous random variable, all the values occur with probability 0, but the probability of getting values close to 3 is higher than the probability of getting values close to 2. \n",
    "\n",
    "The value 3 is the *mode* of $X$:\n",
    "\n",
    "````{card}\n",
    "DEFINITION\n",
    "^^^\n",
    "```{glossary}\n",
    "mode (of a random variable)\n",
    "    The value with the highest probability (for a discrete random variable) or the highest probability density (for a continuous random variable).\n",
    "```\n",
    "````\n",
    "\n",
    "\n",
    "**2.** The mean is not the value in the middle of the distribution. Since the range of $X$ is $[0,3]$, the value in the middle of the distribution is 1.5.\n",
    "\n",
    "**3.** The mean is not the value that splits the probability of the distribution equally. We can solve for that value using SymPy:\n",
    "\n",
    "First, note that we are looking for the point $c$ such that $P(X \\le c) = P(X>c)$. Since those two probabilities add to 1, we can simply find $c$ such that $P(X \\le c) = 1/2$. \n",
    "\n",
    "Second, note that $P(X \\le c)$ is in the form of the CDF, $F_X(x) = P(X \\le x)$. Let's find the CDF of $X$ using indefinite integration on the density function:\n",
    "\n"
   ]
  },
  {
   "cell_type": "code",
   "execution_count": 69,
   "id": "f0727645-7fe5-44c0-8833-1415fadbf1b0",
   "metadata": {},
   "outputs": [
    {
     "data": {
      "text/latex": [
       "$\\displaystyle \\frac{x^{2}}{9}$"
      ],
      "text/plain": [
       "x**2/9"
      ]
     },
     "execution_count": 69,
     "metadata": {},
     "output_type": "execute_result"
    }
   ],
   "source": [
    "FX = sp.integrate(fX, x)\n",
    "FX"
   ]
  },
  {
   "cell_type": "markdown",
   "id": "0b559533-64f6-4682-94f6-a56df1bdccf6",
   "metadata": {},
   "source": [
    "Note that the pdf is the derivative of the CDF, so if we ever have a CDF and need to get the pdf, we can take the derivative using SymPy's `sp.diff()` function. The arguments of `sp.diff()` are the function and the variable to differentiation:"
   ]
  },
  {
   "cell_type": "code",
   "execution_count": 72,
   "id": "64c075d8-bb22-4715-8944-db7df6350add",
   "metadata": {},
   "outputs": [
    {
     "data": {
      "text/latex": [
       "$\\displaystyle \\frac{2 x}{9}$"
      ],
      "text/plain": [
       "2*x/9"
      ]
     },
     "execution_count": 72,
     "metadata": {},
     "output_type": "execute_result"
    }
   ],
   "source": [
    "sp.diff(FX, x)"
   ]
  },
  {
   "cell_type": "markdown",
   "id": "a4e200ba-b6e7-404e-a1c2-c969af073f25",
   "metadata": {},
   "source": [
    "Note that $F_X(x)$ is a quadratic function. We can solve for the value by hand, or we can use SymPy's `sp.nonlinsolve()` function. The arguments of `sp.nonlinsolve()` are a list of functions that must evaluate to 0 and a list of arguments to be found. First we need to rewrite the function we are going to solve to get it in the right form:\n",
    "\n",
    "\\begin{align*}\n",
    "F_X(c) &= \\frac 1 2 \\\\\n",
    "F_X(c) - \\frac 1 2 &= 0\\\\\n",
    "\\end{align*}"
   ]
  },
  {
   "cell_type": "markdown",
   "id": "3b04d6fa-3d7e-4f60-8bf9-d2ebdb5663f4",
   "metadata": {},
   "source": [
    "Now we can use `sp.nonlinsolve()`:"
   ]
  },
  {
   "cell_type": "code",
   "execution_count": 76,
   "id": "d92dc739-7545-43f8-8053-4947417741d0",
   "metadata": {},
   "outputs": [
    {
     "data": {
      "text/latex": [
       "$\\displaystyle \\left\\{\\left( - \\frac{3 \\sqrt{2}}{2},\\right), \\left( \\frac{3 \\sqrt{2}}{2},\\right)\\right\\}$"
      ],
      "text/plain": [
       "{(-3*sqrt(2)/2,), (3*sqrt(2)/2,)}"
      ]
     },
     "execution_count": 76,
     "metadata": {},
     "output_type": "execute_result"
    }
   ],
   "source": [
    "solns = sp.nonlinsolve([FX.subs(x, c) - sp.Rational(1,2) ], [c])\n",
    "solns"
   ]
  },
  {
   "cell_type": "markdown",
   "id": "481435e5-e224-454a-bf97-8508bdfa31d8",
   "metadata": {},
   "source": [
    "Since this is a quadratic equation, there are two answers, but only one is in $[0,3]$. We can get the floating point values by iterating over `solns`, getting the first (and only) element of each returned tuple, and using `sp.N()` to convert the result to a float:"
   ]
  },
  {
   "cell_type": "code",
   "execution_count": 89,
   "id": "ff9d2117-f0a6-4752-b786-398cad817424",
   "metadata": {},
   "outputs": [
    {
     "name": "stdout",
     "output_type": "stream",
     "text": [
      "-2.12132034355964\n",
      "2.12132034355964\n"
     ]
    }
   ],
   "source": [
    "for x in solns:\n",
    "  print(sp.N(x[0]))"
   ]
  },
  {
   "cell_type": "markdown",
   "id": "e6d401a8-fddc-477f-afea-763b6219f95e",
   "metadata": {},
   "source": [
    "This is not the mean, this is the *median*:\n",
    "\n",
    "````{card}\n",
    "DEFINITION\n",
    "^^^\n",
    "```{glossary}\n",
    "median (of a random variable)\n",
    "    For a random variable $X$ with distribution function $F_X(x)$, the median is a value $\\tilde{X}$ such that $P\\left(X \\le \\tilde{X} \\right) = P\\left(X > \\tilde{X}\\right)$. An equivalent condition is $F_X\\left(\\tilde{X} \\right) = 1/2$. The median is not necessarily unique.\n",
    "```\n",
    "````\n",
    "\n",
    "\n",
    "\n",
    "\n"
   ]
  },
  {
   "cell_type": "markdown",
   "id": "6758462c-d820-4239-a9c0-3b38a0f5f508",
   "metadata": {},
   "source": [
    "So, the mean is not necessarily equal to the median."
   ]
  },
  {
   "cell_type": "markdown",
   "id": "4bf5f3fa-13a3-42b2-b366-65fa856f1ee1",
   "metadata": {},
   "source": [
    "Now that we have the tools to calculate expected values of continuous random variables, in the next section we study moments, which are expected values of powers of a random variable."
   ]
  }
 ],
 "metadata": {
  "kernelspec": {
   "display_name": "Python 3 (ipykernel)",
   "language": "python",
   "name": "python3"
  },
  "language_info": {
   "codemirror_mode": {
    "name": "ipython",
    "version": 3
   },
   "file_extension": ".py",
   "mimetype": "text/x-python",
   "name": "python",
   "nbconvert_exporter": "python",
   "pygments_lexer": "ipython3",
   "version": "3.9.12"
  }
 },
 "nbformat": 4,
 "nbformat_minor": 5
}
