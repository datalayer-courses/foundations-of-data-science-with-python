{
 "cells": [
  {
   "cell_type": "markdown",
   "id": "ff7594f3-206f-4ffd-adad-60d8a4d34827",
   "metadata": {},
   "source": [
    "# Moments, Parameter Estimation, and Binary Hypothesis Tests on Sample Means "
   ]
  },
  {
   "cell_type": "markdown",
   "id": "c002a15c-926e-428b-b374-a2201e73c817",
   "metadata": {},
   "source": [
    "In {doc}`Section 3.4<../03-first-data/summary-stats>`, we introduced summary statistics for data, such as the average/sample mean. Similar measures, called moments, can be created for a random variable, where the moments are computed from the random variable's distribution instead of observations of that random variable. We show the connections between the average of random values from a distribution and the moments of that distribution. Moments are often used to characterize the distribution of random variables, and we investigate techniques to estimate moments and characterize these estimates. Finally, we leverage this knowledge to revisit the discussion of sample distributions, bootstrap distributions,  confidence intervals, and power."
   ]
  }
 ],
 "metadata": {
  "kernelspec": {
   "display_name": "Python 3 (ipykernel)",
   "language": "python",
   "name": "python3"
  },
  "language_info": {
   "codemirror_mode": {
    "name": "ipython",
    "version": 3
   },
   "file_extension": ".py",
   "mimetype": "text/x-python",
   "name": "python",
   "nbconvert_exporter": "python",
   "pygments_lexer": "ipython3",
   "version": "3.9.12"
  }
 },
 "nbformat": 4,
 "nbformat_minor": 5
}
