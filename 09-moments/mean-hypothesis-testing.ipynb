{
 "cells": [
  {
   "cell_type": "markdown",
   "metadata": {},
   "source": [
    "# Testing a Difference of Means\n",
    "\n",
    "One of the most common statistical tests is whether two data sets come from distributions with the same means. The mean is special because of the Central Limit Theorem (see {doc}`Section 8.7.3.2<../08-random-variables/important-continuous-rvs>`) -- regardless of the type of distribution of the underlying data[^clt], the distribution of the sample mean will be approximately Normal if there are at least 10s of data points. This allows two approaches to conducting tests involving sample means: we can use bootstrap resampling or we can use analysis by applying the assumption that sample means are approximately Normal.  To understand how to apply the analytical approaches, we need to characterize the sample mean estimators and the test statistic, which is the difference between the sample mean estimators.\n",
    "\n",
    "[^clt]: Actually the distribution will have to satisfy some mild restrictions, such as having finite mean and variance."
   ]
  },
  {
   "cell_type": "markdown",
   "metadata": {
    "tags": []
   },
   "source": [
    "# Linear Combinations of Independent Gaussian RVs\n",
    "\n",
    "Suppose we have two  data samples from different groups $\\mathbf{X}=\\{X_0,X_1,\\cdots,X_{M-1}$ and $\\mathbf{Y}=\\{Y_0,Y_1,\\cdots,Y_{N-1}\\}$, where the data samples are assumed to be independent[^ci]. Let's first characterize the sample mean estimators. For conciseness, we present results for $\\hat{\\mu}_X$. The results for $\\hat{\\mu}_Y$ are analogous and are noted at the end of the analysis for $\\hat{\\mu}_X$.\n",
    "\n",
    "We know from {doc}`Section 9.4<parameter-estimation>` that the sample mean estimator is unbiased. Thus, the mean of the sample mean estimator is the true mean. We will also need the variance of the sample mean estimator in our analysis. Let $\\sigma_{X}^2$ be the variance of the $X_i$. Then the variance of the sample mean estimator is \n",
    "\\begin{align*}\n",
    "\\operatorname{Var} \\left[ \\hat{\\mu}_X \\right] &= \\operatorname{Var} \\left[ \\frac 1 M \\sum_{i=0}^{M-1} X_i \\right] \\\\\n",
    "&= \\frac 1 {M^2} \\operatorname{Var} \\left[  \\sum_{i=0}^{M-1} X_i \\right], \\\\\n",
    "\\end{align*}\n",
    "where the second line of the equation follows from Property 3 of variance (see {doc}`Section 9.3.4<moments>`). Since the random variables in $\\mathbf{X}$ are independent, we can apply Property 4 of variance to get\n",
    "\\begin{align*}\n",
    "\\operatorname{Var} \\left[ \\hat{\\mu}_X \\right] &= \\frac 1 {M^2}  \\sum_{i=0}^{M-1} \\operatorname{Var} \\left[  X_i \\right] \\\\\n",
    "&= \\frac 1 {M^2}  \\sum_{i=0}^{M-1} \\sigma_{X}^2\\\\\n",
    "&= \\frac 1 {M^2}  M \\sigma_{X}^2\\\\\n",
    "&= \\frac {\\sigma_{X}^2} {M}  .\n",
    "\\end{align*}\n",
    "The variance of the sample mean estimator decreases linearly with the number of samples. (This can be used to show that the sample mean estimator converges to the true mean as $M \\rightarrow \\infty$ if $\\sigma_{X}^2$ is finite.)\n",
    "\n",
    "The analysis above is sufficient to characterize $\\hat{mu}_X$ and $\\hat{\\mu}_Y$:\n",
    "\\begin{align*}\n",
    "\\hat{\\mu}_X \\sim \\mbox{Normal} \\left(\\mu_X, \\frac{\\sigma_X}{\\sqrt{M}} \\right) &&\n",
    "\\hat{\\mu}_Y \\sim \\mbox{Normal} \\left(\\mu_Y, \\frac{\\sigma_Y}{\\sqrt{N}} \\right) \n",
    "\\end{align*}\n",
    "\n",
    "\n",
    "[^ci]: Actually, the data within each group are only *conditionally independent* given the group it belongs to."
   ]
  },
  {
   "cell_type": "markdown",
   "metadata": {},
   "source": [
    "To assess a difference in means, we will create a test statistic that is the difference between sample mean estimators. For convenience, we will considerr the case $T = \\hat{\\mu}_X - \\hat{\\mu}_Y$, but the result for $T = \\hat{\\mu}_Y - \\hat{\\mu}_X$ is almost identical. The mean of the test statistic is \n",
    "\\begin{align*}\n",
    "E[T] & = E\\left[\\hat{\\mu}_X - \\hat{\\mu}_Y \\right] \\\\\n",
    "&= E\\left[\\hat{\\mu}_X\\right]  - E \\left[\\hat{\\mu}_Y \\right] && \\mbox{(by linearity)} \\\\\n",
    "&= \\mu_X - \\mu_Y &&\\mbox{(the estimators are unbiased)}.\n",
    "\\end{align*}\n",
    "\n",
    "\n",
    "\n",
    "To find the variance of $T$, we first rewrite the formula for the test statistic slightly, as $T = \\hat{\\mu}_X + (-1) \\hat{\\mu}_Y$. Since $\\mathbf{X}$ and $\\mathbf{Y}$ are independent, so are variables computed from them. Thus, \n",
    "\\begin{align*}\n",
    "\\sigma_{T}^2 &= \\operatorname{Var}[T] \\\\\n",
    "& = \\operatorname{Var}\\left[\\hat{\\mu}_X + (-1) \\hat{\\mu}_Y \\right] \\\\\n",
    "& = \\operatorname{Var}\\left[\\hat{\\mu}_X \\right] + \n",
    "\\operatorname{Var} \\left[(-1) \\hat{\\mu}_Y \\right] \n",
    "&& \\mbox{(by Property 4 of variance)}\\\\\n",
    "& = \\frac{\\sigma_{X}^2}{M} +  (-1)^2\\frac{\\sigma_{Y}^2}{N}\n",
    "&& \\mbox{(from above and Property 3)}\\\\\n",
    "& = \\frac{\\sigma_{X}^2}{M} +  \\frac{\\sigma_{Y}^2}{N} \\\\\n",
    "\\end{align*}\n",
    "\n",
    "Importantly, a linear combination of independent Normal random variables is also a Normal random variable. Thus we have a characterization of the test statistic:\n",
    "\\begin{equation*}\n",
    "T \\sim \\mbox{Normal} \\left( \\mu_X - \\mu_Y, \\sqrt{\\frac{\\sigma_{X}^2}{M} +  \\frac{\\sigma_{Y}^2}{N}} \\right)\n",
    "\\end{equation*}\n"
   ]
  },
  {
   "cell_type": "markdown",
   "metadata": {},
   "source": [
    "## Statistical Inference for a Difference of Sample Means *with Known and Equal Variances*\n",
    "\n",
    "Consider the case where we know that the data come from distributions with the same variance, $\\sigma^2$, which we know. Suppose we have samples from these distributions, \n",
    "\\begin{align*}\n",
    "\\mathbf{x} = \\left[ x_i, i=0,1,\\dots,M-1 \\right],\n",
    "\\end{align*}\n",
    "and\n",
    "\\begin{align*}\n",
    "\\mathbf{y} = \\left[ y_j, j=0,1,\\dots,N-1 \\right].\n",
    "\\end{align*}\n",
    "Let the averages of the data be denoted by $\\overline{\\mathbf{x}}$ and $\\overline{\\mathbf{y}}$, and denote the true (but unknown) means of the distributions be $\\mu_X$ and $\\mu_Y$.\n",
    "\n",
    "\n",
    "We can now easily conduct a NHST. The null hypothesis is that the data have the same mean and so $E[T]=0$.  The observed value of the test statistic $t = \\overline{\\mathbf{x}} - \\overline{\\mathbf{y}}$, which we assume below is greater than 0 -- if not, then interchange the role of $x$ and $y$.\n",
    "\n",
    "\n",
    "Under the assumption that variances of the $X_i$ and $Y_k$ are both equal to $\\sigma^2$, the variance of $T$ simplifies to \n",
    "\\begin{align*}\n",
    "\\sigma_{T}^2  & = \\frac{\\sigma^2}{M} +  \\frac{\\sigma^2}{N} \\\\\n",
    " & = \\sigma^2 \\left( \\frac{1}{M} +  \\frac{1}{N} \\right) \\\\\n",
    "\\end{align*}\n",
    "\n",
    "Once we know the mean and variance of $T$, then the NHST is straight-forward application of the results in {doc}`Chapter 8<../08-random-variables/intro>`:\n",
    "\n",
    "* For a one-sided hypothesis test, the $p$-value is\n",
    "    \n",
    "    $$\n",
    "    P(T \\geq t | H_0) = Q\\left(\\frac{t - \\mu_T}{\\sigma_T}\\right) = Q\\left(\\frac{t}{\\sigma \\sqrt{\\frac{1}{M}+\\frac{1}{N}}}\\right).\n",
    "    $$\n",
    "    \n",
    "* For a two-sided NHST, the $p$ value is\n",
    "    \n",
    "    $$\n",
    "    P(|T| \\geq t | H_0) = 2 Q\\left(\\frac{t}{\\sigma \\sqrt{\\frac{1}{M}+\\frac{1}{N}}}\\right).\n",
    "    $$\n",
    "Note that in both these cases, the only information that is needed is the observed value of the test statistic, the standard deviation of the data, and the number of samples in each group ($M$ and $N$).\n",
    "\n"
   ]
  },
  {
   "cell_type": "markdown",
   "metadata": {},
   "source": [
    "## Binary Hypothesis Tests with *Unknown Variance*\n",
    "\n",
    "In most cases, the variance(s) of the underlying distributions are not known and must be estimated from the data. The result of having to estimate the variance is that we can no longer treat the test statistic as Normal. Instead, the fact that we have to use an estimate for the variance will cause the distribution to spread out more than if we used a Normal distribution with that estimated variance, so that more of the probability is out towards the tails of the distribution."
   ]
  },
  {
   "cell_type": "markdown",
   "metadata": {},
   "source": [
    "Recall that if $\\hat{mu}_X$ is Normal( $\\mu_X, \\sigma_X)$ , then \n",
    "\\begin{align*}\n",
    "\\frac{ X  - \\mu_X}{\\sigma_X} \\sim \\mbox{Normal}(0,1).\n",
    "\\end{align*}\n",
    "\n",
    "If we have to replace the true mean and variance by their estimates, then the distribution changes. Consider a case where we have $N$ samples with an unbiased variance estimate, \n",
    "$S_{N-1}$. Then the distribution of\n",
    "\n",
    "$$\\frac{\\hat{\\mu}-\\mu}{S_{N-1}/\\sqrt{N}}$$\n",
    "\n",
    "has a **Student’s $t$-distribution with $\\nu = N-1$ degrees of freedom (dof)**.\n",
    "\n",
    "\n",
    "The density and distribution functions are complicated and omitted here, but you can find them on the [Wikipedia page for Student's $t$-distribution](https://en.wikipedia.org/wiki/Student's_t-distribution). Fortunately for us, SciPy.stats has the functions we will need in our analysis built in. An additional point of good news is that unlike the Gaussian distribution, the distribution function for Student’s t-distribution is in closed form for several values of the dof parameter.\n",
    "\n",
    "Let's compare the standard Normal(0,1) density to the Student's $t$ density with different dofs:"
   ]
  },
  {
   "cell_type": "code",
   "execution_count": 13,
   "metadata": {},
   "outputs": [],
   "source": [
    "import scipy.stats as stats\n",
    "import numpy as np\n",
    "import matplotlib.pyplot as plt\n",
    "\n",
    "norm=stats.norm()\n",
    "t1=stats.t(1)\n",
    "t2=stats.t(2)\n",
    "t5=stats.t(5)\n",
    "tinf=stats.t(100000)"
   ]
  },
  {
   "cell_type": "code",
   "execution_count": 17,
   "metadata": {},
   "outputs": [
    {
     "data": {
      "image/png": "[encoded data removed]",
      "text/plain": [
       "<Figure size 432x288 with 1 Axes>"
      ]
     },
     "metadata": {
      "needs_background": "light"
     },
     "output_type": "display_data"
    }
   ],
   "source": [
    "x=np.linspace(-4,4,1000)\n",
    "plt.plot(x,norm.pdf(x),label='Normal')\n",
    "plt.plot(x,t1.pdf(x),label='t (dof=1)')\n",
    "plt.legend();"
   ]
  },
  {
   "cell_type": "code",
   "execution_count": 18,
   "metadata": {},
   "outputs": [
    {
     "data": {
      "image/png": "[encoded data removed]",
      "text/plain": [
       "<Figure size 432x288 with 1 Axes>"
      ]
     },
     "metadata": {
      "needs_background": "light"
     },
     "output_type": "display_data"
    }
   ],
   "source": [
    "x=np.linspace(-4,4,1000)\n",
    "plt.plot(x,norm.pdf(x),label='Normal')\n",
    "plt.plot(x,t2.pdf(x),label='t (dof=2)')\n",
    "plt.plot(x,t5.pdf(x),label='t (dof=5)')\n",
    "plt.legend();"
   ]
  },
  {
   "cell_type": "code",
   "execution_count": 19,
   "metadata": {},
   "outputs": [
    {
     "data": {
      "image/png": "[encoded data removed]",
      "text/plain": [
       "<Figure size 432x288 with 1 Axes>"
      ]
     },
     "metadata": {
      "needs_background": "light"
     },
     "output_type": "display_data"
    }
   ],
   "source": [
    "x=np.linspace(-4,4,1000)\n",
    "plt.plot(x,norm.pdf(x),label='Normal')\n",
    "plt.plot(x,tinf.pdf(x),label='t (dof=$\\infty$)')\n",
    "plt.legend();"
   ]
  },
  {
   "cell_type": "markdown",
   "metadata": {},
   "source": [
    "For small dofs, the Student's $t$ density has much more probability in the tails of the distribution than the Normal density does. As $N \\rightarrow \\infty$, the Student's $t$ density converges to the Normal density."
   ]
  },
  {
   "cell_type": "markdown",
   "metadata": {},
   "source": [
    "**JMS: WORKING HERE***\n",
    "\n",
    "**Example: Analytical Test on Difference of Means (T-Test)**\n",
    "\n",
    "Conduct an **analytical** binary hypothesis test on whether urban and rural populations have different firearms mortality rates."
   ]
  },
  {
   "cell_type": "code",
   "execution_count": 1,
   "metadata": {},
   "outputs": [],
   "source": [
    "import pandas as pd"
   ]
  },
  {
   "cell_type": "code",
   "execution_count": 2,
   "metadata": {},
   "outputs": [
    {
     "data": {
      "text/html": [
       "<div>\n",
       "<style scoped>\n",
       "    .dataframe tbody tr th:only-of-type {\n",
       "        vertical-align: middle;\n",
       "    }\n",
       "\n",
       "    .dataframe tbody tr th {\n",
       "        vertical-align: top;\n",
       "    }\n",
       "\n",
       "    .dataframe thead th {\n",
       "        text-align: right;\n",
       "    }\n",
       "</style>\n",
       "<table border=\"1\" class=\"dataframe\">\n",
       "  <thead>\n",
       "    <tr style=\"text-align: right;\">\n",
       "      <th></th>\n",
       "      <th>STATE</th>\n",
       "      <th>RATE-2014</th>\n",
       "      <th>Percent Urban</th>\n",
       "    </tr>\n",
       "  </thead>\n",
       "  <tbody>\n",
       "    <tr>\n",
       "      <th>0</th>\n",
       "      <td>AL</td>\n",
       "      <td>16.9</td>\n",
       "      <td>59.0</td>\n",
       "    </tr>\n",
       "    <tr>\n",
       "      <th>1</th>\n",
       "      <td>AK</td>\n",
       "      <td>19.2</td>\n",
       "      <td>66.0</td>\n",
       "    </tr>\n",
       "    <tr>\n",
       "      <th>2</th>\n",
       "      <td>AZ</td>\n",
       "      <td>13.5</td>\n",
       "      <td>89.8</td>\n",
       "    </tr>\n",
       "    <tr>\n",
       "      <th>3</th>\n",
       "      <td>AR</td>\n",
       "      <td>16.6</td>\n",
       "      <td>56.2</td>\n",
       "    </tr>\n",
       "    <tr>\n",
       "      <th>4</th>\n",
       "      <td>CA</td>\n",
       "      <td>7.4</td>\n",
       "      <td>95.0</td>\n",
       "    </tr>\n",
       "  </tbody>\n",
       "</table>\n",
       "</div>"
      ],
      "text/plain": [
       "  STATE  RATE-2014  Percent Urban\n",
       "0    AL       16.9           59.0\n",
       "1    AK       19.2           66.0\n",
       "2    AZ       13.5           89.8\n",
       "3    AR       16.6           56.2\n",
       "4    CA        7.4           95.0"
      ]
     },
     "execution_count": 2,
     "metadata": {},
     "output_type": "execute_result"
    }
   ],
   "source": [
    "df=pd.read_csv(\"data/firearms-urban.csv\")\n",
    "df.head()"
   ]
  },
  {
   "cell_type": "markdown",
   "metadata": {},
   "source": [
    "Recall the data \"firearms-urban.csv\" where the columns of interest for this investigation are:\n",
    "\n",
    "* **RATE-2014**: The firearms mortality rate by state from 2014. \n",
    "\n",
    "* **Percent Urban**: The percentage of the total population in urban areas, from https://www.icip.iastate.edu/tables/population/urban-pct-states. Although this data is 2010, it should be sufficiently accurate for our purposes."
   ]
  },
  {
   "cell_type": "code",
   "execution_count": 3,
   "metadata": {},
   "outputs": [
    {
     "data": {
      "text/plain": [
       "RATE-2014        11.5\n",
       "Percent Urban    91.2\n",
       "Name: FL, dtype: float64"
      ]
     },
     "execution_count": 3,
     "metadata": {},
     "output_type": "execute_result"
    }
   ],
   "source": [
    "# Use the STATE column as the index\n",
    "df= df.set_index(\"STATE\")\n",
    "df.loc['FL']"
   ]
  },
  {
   "cell_type": "code",
   "execution_count": 6,
   "metadata": {},
   "outputs": [
    {
     "data": {
      "text/plain": [
       "73.59"
      ]
     },
     "execution_count": 6,
     "metadata": {},
     "output_type": "execute_result"
    }
   ],
   "source": [
    "df['Percent Urban'].mean()"
   ]
  },
  {
   "cell_type": "code",
   "execution_count": 18,
   "metadata": {},
   "outputs": [
    {
     "data": {
      "image/png": "[encoded data removed]",
      "text/plain": [
       "<Figure size 432x288 with 1 Axes>"
      ]
     },
     "metadata": {
      "needs_background": "light"
     },
     "output_type": "display_data"
    }
   ],
   "source": [
    "plt.scatter(df['Percent Urban'],df['RATE-2014'])\n",
    "plt.scatter(df.loc['FL']['Percent Urban'],df.loc['FL']['RATE-2014'])\n",
    "plt.xlabel('Percent of population in urban areas')\n",
    "plt.ylabel('Firearms mortality rate');"
   ]
  },
  {
   "cell_type": "code",
   "execution_count": 19,
   "metadata": {},
   "outputs": [],
   "source": [
    "urban=df[df['Percent Urban']>80]['RATE-2014']\n",
    "rural=df[df['Percent Urban']<=80]['RATE-2014']\n",
    "pooled=df['RATE-2014']"
   ]
  },
  {
   "cell_type": "code",
   "execution_count": 21,
   "metadata": {},
   "outputs": [
    {
     "data": {
      "text/plain": [
       "(8.677777777777777, 12.993750000000002)"
      ]
     },
     "execution_count": 21,
     "metadata": {},
     "output_type": "execute_result"
    }
   ],
   "source": [
    "urban.mean(),rural.mean()"
   ]
  },
  {
   "cell_type": "code",
   "execution_count": 23,
   "metadata": {},
   "outputs": [
    {
     "data": {
      "text/plain": [
       "(9.35, 12.8)"
      ]
     },
     "execution_count": 23,
     "metadata": {},
     "output_type": "execute_result"
    }
   ],
   "source": [
    "np.median(urban),np.median(rural)"
   ]
  },
  {
   "cell_type": "code",
   "execution_count": 22,
   "metadata": {},
   "outputs": [
    {
     "data": {
      "text/plain": [
       "4.315972222222225"
      ]
     },
     "execution_count": 22,
     "metadata": {},
     "output_type": "execute_result"
    }
   ],
   "source": [
    "diff=rural.mean()-urban.mean()\n",
    "diff"
   ]
  },
  {
   "cell_type": "code",
   "execution_count": 20,
   "metadata": {},
   "outputs": [
    {
     "data": {
      "image/png": "[encoded data removed]",
      "text/plain": [
       "<Figure size 432x288 with 1 Axes>"
      ]
     },
     "metadata": {
      "needs_background": "light"
     },
     "output_type": "display_data"
    }
   ],
   "source": [
    "counts,mybins,patches=plt.hist(urban,bins=20,alpha=0.5,label=\"Urban\")\n",
    "plt.hist(rural,bins=mybins,alpha=0.5,label=\"Rural\")\n",
    "plt.xlabel(\"Firearms Mortality Rate\");plt.ylabel(\"Counts\"); plt.legend();"
   ]
  },
  {
   "cell_type": "markdown",
   "metadata": {},
   "source": [
    "* Let's construct a **two-sided binary hypothesis test** using analytical techniques and determine the probability of such a large difference in means under the null hypothesis.\n",
    "\n",
    "The data comes from a single distribution, which implies same means and same variances.\n",
    "\n",
    "So, we will use the **T-random variable** to model this. We know: mean of $T$ is 0, and we need to calculate the variance from the data."
   ]
  },
  {
   "cell_type": "code",
   "execution_count": 24,
   "metadata": {},
   "outputs": [
    {
     "data": {
      "text/plain": [
       "11.440000000000003"
      ]
     },
     "execution_count": 24,
     "metadata": {},
     "output_type": "execute_result"
    }
   ],
   "source": [
    "pooled_mean=pooled.mean()\n",
    "pooled_mean"
   ]
  },
  {
   "cell_type": "code",
   "execution_count": 26,
   "metadata": {},
   "outputs": [
    {
     "data": {
      "text/plain": [
       "17.220408163265304"
      ]
     },
     "execution_count": 26,
     "metadata": {},
     "output_type": "execute_result"
    }
   ],
   "source": [
    "np.sum((pooled-pooled_mean)**2)/(len(pooled)-1)"
   ]
  },
  {
   "cell_type": "code",
   "execution_count": 27,
   "metadata": {},
   "outputs": [
    {
     "data": {
      "text/plain": [
       "17.22040816326531"
      ]
     },
     "execution_count": 27,
     "metadata": {},
     "output_type": "execute_result"
    }
   ],
   "source": [
    "pooled_var=np.var(pooled,ddof=1)\n",
    "pooled_var"
   ]
  },
  {
   "cell_type": "code",
   "execution_count": 28,
   "metadata": {},
   "outputs": [
    {
     "data": {
      "text/plain": [
       "1.4948270975056694"
      ]
     },
     "execution_count": 28,
     "metadata": {},
     "output_type": "execute_result"
    }
   ],
   "source": [
    "# We need to caLculate the variance of the difference of sample mean estimators\n",
    "sm_var=pooled_var*(1/len(urban)+1/len(rural))\n",
    "sm_var"
   ]
  },
  {
   "cell_type": "code",
   "execution_count": 29,
   "metadata": {},
   "outputs": [],
   "source": [
    "# Last parameter of T: degrees of freedom\n",
    "dof = len(pooled)-2\n",
    "dof = (len(urban)-1) + (len(rural)-1)"
   ]
  },
  {
   "cell_type": "code",
   "execution_count": 42,
   "metadata": {},
   "outputs": [],
   "source": [
    "myt=stats.t(dof,scale=np.sqrt(sm_var))\n",
    "# We set the variance of the T random variable here, rather than scaling in the .sf() method"
   ]
  },
  {
   "cell_type": "code",
   "execution_count": 43,
   "metadata": {},
   "outputs": [
    {
     "data": {
      "image/png": "[encoded data removed]",
      "text/plain": [
       "<Figure size 432x288 with 1 Axes>"
      ]
     },
     "metadata": {
      "needs_background": "light"
     },
     "output_type": "display_data"
    }
   ],
   "source": [
    "t=np.linspace(-4,4,100)\n",
    "plt.plot(t, myt.pdf(t));\n",
    "# Note that this is slightly different than before\n",
    "# because of the increased variance"
   ]
  },
  {
   "cell_type": "code",
   "execution_count": 44,
   "metadata": {},
   "outputs": [
    {
     "data": {
      "text/plain": [
       "0.0004639918961189169"
      ]
     },
     "execution_count": 44,
     "metadata": {},
     "output_type": "execute_result"
    }
   ],
   "source": [
    "# 1-sided test\n",
    "myt.sf(diff)\n",
    "# We don't need to scale diff any more!\n",
    "# I feel like this is easier to understand"
   ]
  },
  {
   "cell_type": "code",
   "execution_count": 45,
   "metadata": {},
   "outputs": [
    {
     "data": {
      "text/plain": [
       "0.0009279837922378338"
      ]
     },
     "execution_count": 45,
     "metadata": {},
     "output_type": "execute_result"
    }
   ],
   "source": [
    "# 2-sided test\n",
    "2*myt.sf(diff)"
   ]
  },
  {
   "cell_type": "code",
   "execution_count": 46,
   "metadata": {},
   "outputs": [
    {
     "data": {
      "text/plain": [
       "0.0004639918961189169"
      ]
     },
     "execution_count": 46,
     "metadata": {},
     "output_type": "execute_result"
    }
   ],
   "source": [
    "# other 1-sided\n",
    "myt.cdf(-diff)"
   ]
  },
  {
   "cell_type": "markdown",
   "metadata": {},
   "source": [
    "# In-Class Assignment\n",
    "\n",
    "Use the Student's $T$ random variable to determine a 95% confidence interval for the mean difference under the null hypothesis. Is the resulting confidence interval compatible with the observed difference of means?\n",
    "\n",
    "*Hint:* The inverse CDF function in ```scipy.stats``` is called the Percent point function (PPF) and is given by the ```ppf``` method of random variable objects."
   ]
  },
  {
   "cell_type": "code",
   "execution_count": null,
   "metadata": {},
   "outputs": [],
   "source": []
  }
 ],
 "metadata": {
  "kernelspec": {
   "display_name": "Python 3 (ipykernel)",
   "language": "python",
   "name": "python3"
  },
  "language_info": {
   "codemirror_mode": {
    "name": "ipython",
    "version": 3
   },
   "file_extension": ".py",
   "mimetype": "text/x-python",
   "name": "python",
   "nbconvert_exporter": "python",
   "pygments_lexer": "ipython3",
   "version": "3.9.12"
  },
  "latex_envs": {
   "LaTeX_envs_menu_present": true,
   "autoclose": true,
   "autocomplete": true,
   "bibliofile": "biblio.bib",
   "cite_by": "apalike",
   "current_citInitial": 1,
   "eqLabelWithNumbers": true,
   "eqNumInitial": 1,
   "hotkeys": {
    "equation": "Ctrl-E",
    "itemize": "Ctrl-I"
   },
   "labels_anchors": false,
   "latex_user_defs": false,
   "report_style_numbering": false,
   "user_envs_cfg": false
  }
 },
 "nbformat": 4,
 "nbformat_minor": 4
}
