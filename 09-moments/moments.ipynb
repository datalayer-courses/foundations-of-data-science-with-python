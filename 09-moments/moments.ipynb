{
 "cells": [
  {
   "cell_type": "markdown",
   "id": "1f271833-2c0a-4965-b1a2-7c13ebe1b4db",
   "metadata": {},
   "source": [
    "# Moments"
   ]
  },
  {
   "cell_type": "markdown",
   "id": "b98ccf2d-7ab5-4980-85b1-aafec7cfc8ac",
   "metadata": {},
   "source": [
    "The distribution of a random variable is often characterized not only in terms of the mean $\\mu_X = E[X]$, but also in terms of other types of expected values called *moments*. The two types of moments we will consider are defined below.\n",
    "\n",
    "````{card}\n",
    "DEFINITION\n",
    "^^^\n",
    "```{glossary}\n",
    "$n$th moment\n",
    "    The $n$th moment of a random variable $X$ is $E[X^n]$ for $n=1,2,\\ldots$.\n",
    "```\n",
    "````\n",
    "\n",
    "````{card}\n",
    "DEFINITION\n",
    "^^^\n",
    "```{glossary}\n",
    "$n$th central moment\n",
    "    Let $X$ be a random variable with mean $\\mu_X$. Then the $n$th *central moment* of $X$ is $E[(X-\\mu_X)^n]$ for $n=2,3,\\ldots$.\n",
    "```\n",
    "````\n",
    "\n",
    "Note that the mean is the first moment. The most comment moment after the mean is the variance:\n",
    "\n",
    "\n",
    "````{card}\n",
    "DEFINITION\n",
    "^^^\n",
    "```{glossary}\n",
    "variance, random variable\n",
    "    Let $X$ be a random variable with mean $\\mu_X$. The *variance* is the 2nd central moment and is denoted by $\\sigma_{X}^{2}$. I.e., $\\sigma_{X}^{2} = E \\left[ \\left( X - \\mu_X \\right)^2 \\right]$.\n",
    "```\n",
    "````\n",
    "\n",
    "\n",
    "\n",
    "Let's consider the moment $E[X^2]$. The first thing you should understand is that we are asking the expected value of a function of a random variable.  A function of a random variable is also a random variable. Let $Y=X^2$.  Then clearly $Y$ is non-negative, even if $X$ has non-zero density for negative values. Determining the density of $Y$ is beyond the scope of this class, but I do want to give you a feel for that. So let's make a normal random variable with mean 4 using Scipy.stats, draw 1,000 random values and then plot the histogram of the values and the histogram of the squares of the values:"
   ]
  },
  {
   "cell_type": "code",
   "execution_count": 17,
   "id": "a30f27c6-f459-4025-bd8c-e889a24a02d1",
   "metadata": {},
   "outputs": [
    {
     "data": {
      "image/png": "[encoded data removed]",
      "text/plain": [
       "<Figure size 432x288 with 1 Axes>"
      ]
     },
     "metadata": {
      "needs_background": "light"
     },
     "output_type": "display_data"
    },
    {
     "data": {
      "image/png": "[encoded data removed]",
      "text/plain": [
       "<Figure size 432x288 with 1 Axes>"
      ]
     },
     "metadata": {
      "needs_background": "light"
     },
     "output_type": "display_data"
    }
   ],
   "source": [
    "import scipy.stats as stats\n",
    "import matplotlib.pyplot as plt\n",
    "\n",
    "N=stats.norm(loc=4)\n",
    "Nvals = N.rvs(10_000)\n",
    "plt.hist(Nvals, 40)\n",
    "plt.title('Histogram of values of N')\n",
    "plt.figure()\n",
    "plt.title('Histogram of values of $N^2$')\n",
    "plt.hist(Nvals**2,40);"
   ]
  },
  {
   "cell_type": "markdown",
   "id": "0adb70df-4c96-4925-954a-6fdf051c144b",
   "metadata": {},
   "source": [
    "We can use the average of the data to estimate the expected values. Thus, the expected value of $N$ is approximately"
   ]
  },
  {
   "cell_type": "code",
   "execution_count": 18,
   "id": "b9f13702-740a-4739-a782-43aab4040744",
   "metadata": {},
   "outputs": [
    {
     "data": {
      "text/plain": [
       "3.9993473852270736"
      ]
     },
     "execution_count": 18,
     "metadata": {},
     "output_type": "execute_result"
    }
   ],
   "source": [
    "Nvals.mean()"
   ]
  },
  {
   "cell_type": "markdown",
   "id": "dfbd31d0-45a3-4267-945e-866a6e279e86",
   "metadata": {},
   "source": [
    "We get an average which is very close to the true mean of 4. \n",
    "\n",
    "Now, let's estimate $E[N^2]$ by the average of the `Nvals ** 2`:"
   ]
  },
  {
   "cell_type": "code",
   "execution_count": 19,
   "id": "b0b11171-6d7b-45f4-a6c2-dfd84b0a1a21",
   "metadata": {},
   "outputs": [
    {
     "data": {
      "text/plain": [
       "17.015090962972767"
      ]
     },
     "execution_count": 19,
     "metadata": {},
     "output_type": "execute_result"
    }
   ],
   "source": [
    "(Nvals ** 2).mean()"
   ]
  },
  {
   "cell_type": "markdown",
   "id": "0f90d91a-abd4-44e3-a7a9-0894341ea84d",
   "metadata": {},
   "source": [
    "The average is approximately 17. Note that $E[N^2] \\ne (E[N])^2$."
   ]
  },
  {
   "cell_type": "markdown",
   "id": "719e1660-f0f9-410f-af6f-ca072214e261",
   "metadata": {},
   "source": [
    "This seems like bad news because\n",
    "1. we can't get $E[N^2]$ from $E[N]$, and\n",
    "2. we don't know how to get the distribution of $Y=X^2$ from the distribution of $Y$.\n",
    "\n",
    "Fortunately, we can calculate moments without having to find the distribution of the random variable raised to some power using the LOTUS rule:\n",
    "\n",
    "````{card}\n",
    "DEFINITION\n",
    "^^^\n",
    "```{glossary}\n",
    "Law of the Unconscious Statistician (LOTUS)\n",
    "    Let $f(x)$ be a real function. If $X$ is a discrete random variable, then \\[ E\\left[ f(X) \\right] = \\sum_x f(x) p_X(x).\\] If $X$ is a continuous random variable, then \\[ E\\left[ f(X) \\right] = \\int_{-\\infty}^{\\infty} f(x) f_X(x)~dx.\\] \n",
    "```\n",
    "````"
   ]
  },
  {
   "cell_type": "markdown",
   "id": "b1e2fca5-5b04-4859-bd55-d13ed0c75996",
   "metadata": {},
   "source": [
    "It is called the \"Law of the Unconscious Statistician\" because it is what you might try if you didn't realize that $f(X)$ is itself a random variable with its own distribution that is different than that of $X$, and yet it can be proven to be correct."
   ]
  },
  {
   "cell_type": "code",
   "execution_count": null,
   "id": "904fe363-a3e1-4cfc-8523-2dba369cea32",
   "metadata": {},
   "outputs": [],
   "source": []
  }
 ],
 "metadata": {
  "kernelspec": {
   "display_name": "Python 3 (ipykernel)",
   "language": "python",
   "name": "python3"
  },
  "language_info": {
   "codemirror_mode": {
    "name": "ipython",
    "version": 3
   },
   "file_extension": ".py",
   "mimetype": "text/x-python",
   "name": "python",
   "nbconvert_exporter": "python",
   "pygments_lexer": "ipython3",
   "version": "3.9.12"
  }
 },
 "nbformat": 4,
 "nbformat_minor": 5
}
