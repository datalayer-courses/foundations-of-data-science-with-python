{
 "cells": [
  {
   "cell_type": "markdown",
   "id": "1f271833-2c0a-4965-b1a2-7c13ebe1b4db",
   "metadata": {},
   "source": [
    "# Moments"
   ]
  },
  {
   "cell_type": "markdown",
   "id": "b98ccf2d-7ab5-4980-85b1-aafec7cfc8ac",
   "metadata": {},
   "source": [
    "The distribution of a random variable is often characterized not only in terms of the mean $\\mu_X = E[X]$, but also in terms of other types of expected values called *moments*. The two types of moments we will consider are defined below.\n",
    "\n",
    "````{card}\n",
    "DEFINITION\n",
    "^^^\n",
    "```{glossary}\n",
    "$n$th moment\n",
    "    The $n$th moment of a random variable $X$ is $E[X^n]$ for $n=1,2,\\ldots$.\n",
    "```\n",
    "````\n",
    "\n",
    "````{card}\n",
    "DEFINITION\n",
    "^^^\n",
    "```{glossary}\n",
    "$n$th central moment\n",
    "    Let $X$ be a random variable with mean $\\mu_X$. Then the $n$th *central moment* of $X$ is $E[(X-\\mu_X)^n]$ for $n=2,3,\\ldots$.\n",
    "```\n",
    "````\n",
    "\n",
    "Note that the mean is the first moment. The most comment moment after the mean is the variance:\n",
    "\n",
    "\n",
    "````{card}\n",
    "DEFINITION\n",
    "^^^\n",
    "```{glossary}\n",
    "variance, random variable\n",
    "    Let $X$ be a random variable with mean $\\mu_X$. The *variance* is the 2nd central moment and is denoted by $\\sigma_{X}^{2}$. I.e., $\\sigma_{X}^{2} = E \\left[ \\left( X - \\mu_X \\right)^2 \\right]$.\n",
    "```\n",
    "````\n",
    "\n",
    "\n",
    "\n",
    "Let's consider the moment $E[X^2]$. The first thing you should understand is that we are asking the expected value of a function of a random variable.  A function of a random variable is also a random variable. Let $Y=X^2$.  Then clearly $Y$ is non-negative, even if $X$ has non-zero density for negative values. Determining the density of $Y$ is beyond the scope of this class, but I do want to give you a feel for that. So let's make a normal random variable with mean 4 using Scipy.stats, draw 1,000 random values and then plot the histogram of the values and the histogram of the squares of the values:"
   ]
  },
  {
   "cell_type": "code",
   "execution_count": 27,
   "id": "a30f27c6-f459-4025-bd8c-e889a24a02d1",
   "metadata": {},
   "outputs": [
    {
     "data": {
      "image/png": "[encoded data removed]",
      "text/plain": [
       "<Figure size 432x288 with 1 Axes>"
      ]
     },
     "metadata": {
      "needs_background": "light"
     },
     "output_type": "display_data"
    },
    {
     "data": {
      "image/png": "[encoded data removed]",
      "text/plain": [
       "<Figure size 432x288 with 1 Axes>"
      ]
     },
     "metadata": {
      "needs_background": "light"
     },
     "output_type": "display_data"
    }
   ],
   "source": [
    "import scipy.stats as stats\n",
    "import matplotlib.pyplot as plt\n",
    "\n",
    "X=stats.norm(loc=4)\n",
    "Xvals = X.rvs(10_000)\n",
    "plt.hist(Xvals, 40)\n",
    "plt.title('Histogram of values of X')\n",
    "plt.figure()\n",
    "plt.title('Histogram of values of $X^2$')\n",
    "plt.hist(Xvals**2,40);"
   ]
  },
  {
   "cell_type": "markdown",
   "id": "0adb70df-4c96-4925-954a-6fdf051c144b",
   "metadata": {},
   "source": [
    "We can use the average of the data to estimate the expected values. Thus, the expected value of $X$ is approximately"
   ]
  },
  {
   "cell_type": "code",
   "execution_count": 28,
   "id": "b9f13702-740a-4739-a782-43aab4040744",
   "metadata": {},
   "outputs": [
    {
     "data": {
      "text/plain": [
       "4.010151583168886"
      ]
     },
     "execution_count": 28,
     "metadata": {},
     "output_type": "execute_result"
    }
   ],
   "source": [
    "Xvals.mean() "
   ]
  },
  {
   "cell_type": "markdown",
   "id": "dfbd31d0-45a3-4267-945e-866a6e279e86",
   "metadata": {},
   "source": [
    "We get an average which is very close to the true mean of 4. \n",
    "\n",
    "Now, let's estimate $E[X^2]$ by the average of the `Xvals ** 2`:"
   ]
  },
  {
   "cell_type": "code",
   "execution_count": 29,
   "id": "b0b11171-6d7b-45f4-a6c2-dfd84b0a1a21",
   "metadata": {},
   "outputs": [
    {
     "data": {
      "text/plain": [
       "17.070232935696655"
      ]
     },
     "execution_count": 29,
     "metadata": {},
     "output_type": "execute_result"
    }
   ],
   "source": [
    "(Xvals ** 2).mean()"
   ]
  },
  {
   "cell_type": "markdown",
   "id": "0f90d91a-abd4-44e3-a7a9-0894341ea84d",
   "metadata": {},
   "source": [
    "The average is approximately 17. Note that $E[X^2] \\ne (E[X])^2$."
   ]
  },
  {
   "cell_type": "markdown",
   "id": "719e1660-f0f9-410f-af6f-ca072214e261",
   "metadata": {},
   "source": [
    "This seems like bad news because\n",
    "1. we can't get $E[X^2]$ from $E[Z]$, and\n",
    "2. we don't know how to get the distribution of $Y=X^2$ from the distribution of $Y$.\n",
    "\n",
    "Fortunately, we can calculate moments without having to find the distribution of the random variable raised to some power using the LOTUS rule:\n",
    "\n",
    "````{card}\n",
    "DEFINITION\n",
    "^^^\n",
    "```{glossary}\n",
    "Law of the Unconscious Statistician (LOTUS)\n",
    "    Let $g(x)$ be a real function. If $X$ is a discrete random variable, then \\[ E\\left[ g(X) \\right] = \\sum_x g(x) p_X(x).\\] If $X$ is a continuous random variable, then \\[ E\\left[ g(X) \\right] = \\int_{-\\infty}^{\\infty} g(x) f_X(x)~dx.\\] \n",
    "```\n",
    "````"
   ]
  },
  {
   "cell_type": "markdown",
   "id": "b1e2fca5-5b04-4859-bd55-d13ed0c75996",
   "metadata": {},
   "source": [
    "It is called the \"Law of the Unconscious Statistician\" because it is what you might try if you didn't realize that $f(X)$ is itself a random variable with its own distribution that is different than that of $X$, and yet it can be proven to be correct."
   ]
  },
  {
   "cell_type": "markdown",
   "id": "76d0f424-965c-4e30-8a94-80a526b99d5c",
   "metadata": {},
   "source": [
    "Let's see what this means for our example of $E[X^2]$. We are evaluating $E[f(X)]$ for the function $g(x) = x^2$. Thus, by the LOTUS rule\n",
    "\n",
    "\\begin{align*}\n",
    "E[X^2] &= \\int_{-\\infty} ^{\\infty} g(x) f_X(x)~dx \\\\\n",
    "&= \\int_{-\\infty} ^{\\infty} x^2 f_X(x)~dx . \\\\\n",
    "\\end{align*}"
   ]
  },
  {
   "cell_type": "markdown",
   "id": "1f5c7b6b-ca1f-458a-aae5-e859377350d5",
   "metadata": {},
   "source": [
    "## Examples"
   ]
  },
  {
   "cell_type": "markdown",
   "id": "9dde797c-dcc4-4978-9be6-446d96ca78af",
   "metadata": {},
   "source": [
    "**Example: Find the mean and variance of an exponential random variable.**\n",
    "\n",
    "Recall that the density of the exponential random variable is \n",
    "\n",
    "$$\n",
    "f_X(x) = \n",
    "\\begin{cases}\n",
    "0, & x < 0 \\\\\n",
    "\\lambda e^{-\\lambda x}, & x \\ge 0\n",
    "\\end{cases}.\n",
    "$$\n",
    "\n",
    "Remember that `lambda` is a keyword, so we will use 'L' in place of `lambda` Let's import SymPy and set up our variables and density function:"
   ]
  },
  {
   "cell_type": "code",
   "execution_count": 20,
   "id": "60183d5b-8c66-4704-84fa-ab3494ab2a5b",
   "metadata": {},
   "outputs": [],
   "source": [
    "import sympy as sp\n",
    "x, L = sp.symbols(\"x,L\")\n",
    "fX = L * sp.exp(- L * x)"
   ]
  },
  {
   "cell_type": "markdown",
   "id": "e2c3b429-002c-4657-81e1-c2a83be5558e",
   "metadata": {},
   "source": [
    "```{warning}\n",
    "\n",
    "Note that we had to use SymPy's `sp.exp()` function, not NumPy's `np.exp()` function so that SymPy will know how to integrate it. This also demonstrates the importance of importing libraries into their own namespaces because otherwise, we have a potential confusion between these two functions.\n",
    "```"
   ]
  },
  {
   "cell_type": "markdown",
   "id": "6de1017e-6964-43eb-b194-3e996114a762",
   "metadata": {},
   "source": [
    "We can first check that our pdf integrates to 1. To do that, we will need to learn that to  express $\\infty$ in SymPy, we can use `sp.oo` (because `oo` looks like $\\infty$)."
   ]
  },
  {
   "cell_type": "code",
   "execution_count": 25,
   "id": "612d4ba9-cb48-4511-922a-9980f8f198b2",
   "metadata": {},
   "outputs": [
    {
     "data": {
      "text/latex": [
       "$\\displaystyle \\begin{cases} 1 & \\text{for}\\: \\left|{\\arg{\\left(L \\right)}}\\right| < \\frac{\\pi}{2} \\\\\\int\\limits_{0}^{\\infty} L e^{- L x}\\, dx & \\text{otherwise} \\end{cases}$"
      ],
      "text/plain": [
       "Piecewise((1, Abs(arg(L)) < pi/2), (Integral(L*exp(-L*x), (x, 0, oo)), True))"
      ]
     },
     "execution_count": 25,
     "metadata": {},
     "output_type": "execute_result"
    }
   ],
   "source": [
    "sp.integrate(fX, (x, 0, sp.oo) )"
   ]
  },
  {
   "cell_type": "markdown",
   "id": "6acdc507-69b1-44ab-99ed-fcf24afde813",
   "metadata": {},
   "source": [
    "We see that `sp.integrate()` can actually handle complex integration, but we only have real integration, so the first result applies. The integral of the pdf is 1.\n",
    "\n",
    "Now let's compute the mean:"
   ]
  },
  {
   "cell_type": "code",
   "execution_count": 26,
   "id": "14c6682c-b7ce-4648-b927-4ed99ce4290c",
   "metadata": {},
   "outputs": [
    {
     "data": {
      "text/latex": [
       "$\\displaystyle \\begin{cases} \\frac{1}{L} & \\text{for}\\: \\left|{\\arg{\\left(L \\right)}}\\right| < \\frac{\\pi}{2} \\\\\\int\\limits_{0}^{\\infty} L x e^{- L x}\\, dx & \\text{otherwise} \\end{cases}$"
      ],
      "text/plain": [
       "Piecewise((1/L, Abs(arg(L)) < pi/2), (Integral(L*x*exp(-L*x), (x, 0, oo)), True))"
      ]
     },
     "execution_count": 26,
     "metadata": {},
     "output_type": "execute_result"
    }
   ],
   "source": [
    "sp.integrate(x*fX, (x, 0, sp.oo) )"
   ]
  },
  {
   "cell_type": "markdown",
   "id": "60233a50-d0a0-43b5-83cd-0e19d231f9fc",
   "metadata": {},
   "source": [
    "The mean is $1/\\lambda$. Many engineers have this integral memorized; otherwise you may need to look it up in a table or perform integration by parts if you don't use SymPy. \n",
    "\n",
    "Let's calculate the variance:"
   ]
  },
  {
   "cell_type": "code",
   "execution_count": 33,
   "id": "44388e46-0456-4bd2-9638-ce670690c253",
   "metadata": {},
   "outputs": [
    {
     "data": {
      "text/latex": [
       "$\\displaystyle \\begin{cases} \\frac{1}{L^{2}} & \\text{for}\\: \\left|{\\arg{\\left(L \\right)}}\\right| < \\frac{\\pi}{2} \\\\\\int\\limits_{0}^{\\infty} L \\left(x - \\frac{1}{L}\\right)^{2} e^{- L x}\\, dx & \\text{otherwise} \\end{cases}$"
      ],
      "text/plain": [
       "Piecewise((L**(-2), Abs(arg(L)) < pi/2), (Integral(L*(x - 1/L)**2*exp(-L*x), (x, 0, oo)), True))"
      ]
     },
     "execution_count": 33,
     "metadata": {},
     "output_type": "execute_result"
    }
   ],
   "source": [
    "muX = 1/L\n",
    "sp.integrate( (x- muX)**2 * fX, (x, 0, sp.oo) )"
   ]
  },
  {
   "cell_type": "markdown",
   "id": "1f99b36a-8d31-41ce-9179-297981534d1b",
   "metadata": {},
   "source": [
    "The variance of the exponential random variable is $\\sigma_{X}^{2} = 1/\\lambda^2$."
   ]
  },
  {
   "cell_type": "markdown",
   "id": "f3d72374-a105-441a-83c7-cf6ee2bcdd2f",
   "metadata": {},
   "source": [
    "Note that we often compute the variance using a simpler formula. Consider the definition of the variance and expand the quadratic term:\n",
    "\n",
    "$$\n",
    "E\\left[ \\left( X - \\mu_X \\right)^2 \\right] =\n",
    "E\\left[  X^2 - 2 \\mu_X X + \\mu_{X}^{2} \\right] .\n",
    "$$\n",
    "\n",
    "Note that $\\mu_X$ is some constant. Thus, we have a linear combination of terms, and expected value is a linear operator. We can thus rewrite this expression as \n",
    "$$\n",
    "E\\left[ \\left( X - \\mu_X \\right)^2 \\right] =\n",
    "E\\left[  X^2\\right] - 2 \\mu_X E \\left[X\\right]  + \\mu_{X}^{2} .\n",
    "$$\n",
    "\n",
    "In the second term, $E[X] = \\mu_X$. Then combining the second and third terms yields\n",
    "$$\n",
    "E\\left[ \\left( X - \\mu_X \\right)^2 \\right] =\n",
    "E\\left[  X^2\\right] -  \\mu_{X}^{2} .\n",
    "$$\n",
    "\n",
    "Let's test this for the exponential random variable. If we find the 2nd moment, we get"
   ]
  },
  {
   "cell_type": "code",
   "execution_count": 34,
   "id": "02d0a7d5-8086-44c6-a975-a919d54dc3a9",
   "metadata": {},
   "outputs": [
    {
     "data": {
      "text/latex": [
       "$\\displaystyle \\begin{cases} \\frac{2}{L^{2}} & \\text{for}\\: \\left|{\\arg{\\left(L \\right)}}\\right| < \\frac{\\pi}{2} \\\\\\int\\limits_{0}^{\\infty} L x^{2} e^{- L x}\\, dx & \\text{otherwise} \\end{cases}$"
      ],
      "text/plain": [
       "Piecewise((2/L**2, Abs(arg(L)) < pi/2), (Integral(L*x**2*exp(-L*x), (x, 0, oo)), True))"
      ]
     },
     "execution_count": 34,
     "metadata": {},
     "output_type": "execute_result"
    }
   ],
   "source": [
    "sp.integrate( x**2 * fX, (x, 0, sp.oo) )"
   ]
  },
  {
   "cell_type": "markdown",
   "id": "00f99d27-d7f8-4800-b036-22909e465e0b",
   "metadata": {},
   "source": [
    "The result is $E[X^2] = 2/\\lambda^2$.  Then the variance is \n",
    "\n",
    "$$\n",
    "\\sigma_{X}^{2} = E[X^2] - \\mu_{X}^{2} = \\frac{2}{\\lambda^2} - \\left(\\frac 1 \\lambda\\right) ^2 = \\frac{1}{\\lambda^2},\n",
    "$$\n",
    "which agrees with our previous result."
   ]
  },
  {
   "cell_type": "code",
   "execution_count": null,
   "id": "56ae84fe-50d4-4b41-a15f-214e6e9b6bde",
   "metadata": {},
   "outputs": [],
   "source": []
  }
 ],
 "metadata": {
  "kernelspec": {
   "display_name": "Python 3 (ipykernel)",
   "language": "python",
   "name": "python3"
  },
  "language_info": {
   "codemirror_mode": {
    "name": "ipython",
    "version": 3
   },
   "file_extension": ".py",
   "mimetype": "text/x-python",
   "name": "python",
   "nbconvert_exporter": "python",
   "pygments_lexer": "ipython3",
   "version": "3.9.12"
  }
 },
 "nbformat": 4,
 "nbformat_minor": 5
}
