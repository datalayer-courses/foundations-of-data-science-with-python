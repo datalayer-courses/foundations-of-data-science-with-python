{
 "cells": [
  {
   "cell_type": "markdown",
   "metadata": {},
   "source": [
    "# Parameter Estimation"
   ]
  },
  {
   "cell_type": "markdown",
   "metadata": {},
   "source": [
    "We often have the following problem: we observe data $x_0, x_1, \\ldots, x_{N-1}$ that come from some common underlying distribution, $F_X(x)$. However, the details of the underlying distribution are not completely known. In this section, we consider the problem of estimating parameters of the distribution, such as the mean and variance. Let $\\theta$ denote some parameter of the distribution that we wish to estimate. Then there are two different philosophies for how to treat $\\theta$, and these different philosophies result in different mathematical approaches:\n",
    "* $\\theta$ can be treated as constant, but unknown. The parameter $\\theta$ is not considered deterministic (not random). This is considered *classical parameter estimation* and is the approach taken in this section.\n",
    "* $\\theta$ can be considered to be random. This typically results in a Bayesian approach to parameter estimation in which the *a posteriori* distribution for $\\theta$ is determined from the data and some *a priori* distribution on $\\theta$. \n",
    "\n",
    "In this section, the discussion and examples use continuous random variables, so the mathematics will use density functions $f_X(x)$. In most cases the results generalize to discrete random variables if the pdf are replaced by PMFs.  It is helpful to make explicit the effect on the density function of the parameter(s) being estimated; i.e., we want to show that the density at some point $x$ depends on $\\theta$. We will use $f_X(x;\\theta)$ to make this effect clear. We do not use use a conditioning bar ($|$) here because $\\theta$ is not a value of a random variable.\n",
    "\n",
    "The correct way to interpret $f_X(x;\\theta)$ is that it represents a family of density functions for different values of $\\theta$. For instance, if $\\theta$ is the parameter of an exponential random variable, then some of the possible density functions are shown below:\n"
   ]
  },
  {
   "cell_type": "code",
   "execution_count": 7,
   "metadata": {},
   "outputs": [
    {
     "data": {
      "image/png": "[encoded data removed]",
      "text/plain": [
       "<Figure size 432x288 with 1 Axes>"
      ]
     },
     "metadata": {
      "needs_background": "light"
     },
     "output_type": "display_data"
    }
   ],
   "source": [
    "import matplotlib.pyplot as plt\n",
    "import numpy as np\n",
    "import scipy.stats as stats\n",
    "\n",
    "x = np.linspace(0,4, 101)\n",
    "\n",
    "for l in [0.5, 1, 3]:\n",
    "  X = stats.expon(scale=1/l)\n",
    "  plt.plot(x, X.pdf(x), label=f'$\\lambda={l}$' )\n",
    "  \n",
    "plt.title('Samples from family of exponential densities parameterized by $\\lambda$')\n",
    "plt.xlabel('$x$')\n",
    "plt.ylabel('$f_X(x;\\lambda)$')\n",
    "plt.legend();"
   ]
  },
  {
   "cell_type": "markdown",
   "metadata": {},
   "source": [
    "Now suppose we have samples from some exponential density $f_X(x;\\lambda)$? How should we estimate $\\lambda$? More generally, how should we estimate $\\theta$ from the observations $x_0, x_1, \\ldots, x_{N-1}$? First, let's simplify the notation for the observations by writing them as a *vector*:\n",
    "\n",
    "````{card}\n",
    "DEFINITION\n",
    "^^^\n",
    "```{glossary}\n",
    "vector\n",
    "    An ordered list of numbers, usually shown enclosed in square brackets and separated by commas.\n",
    "```\n",
    "````\n"
   ]
  },
  {
   "cell_type": "markdown",
   "metadata": {},
   "source": [
    "\n",
    "Vectors are similar to Python's lists and tuples. In this text, we will use bold, lower-case letters to denote vectors. For instance, we can write a vector of the squares of the first five  counting numbers as $\\mathbf{x} = \\left[ 1, 4, 9, 16, 25\\right]$. Since it is hard to handwrite bold letters, we will use underlined lower-case letters to represent vectors when we write them by hand. We will collect our observed data into a vector\n",
    "\n",
    "$$\n",
    "\\mathbf{x} = \\left[ x_0, x_1, \\ldots, x_{N-1} \\right].\n",
    "$$\n",
    "\n",
    "\n",
    "We wish to estimate $\\theta$ from $\\mathbf{x}$. We will use \"hats\" on an item to indicate that item is being estimated.\n",
    "\n",
    "````{card}\n",
    "DEFINITION\n",
    "^^^\n",
    "```{glossary}\n",
    "estimate\n",
    "    Given a vector of observed values $\\mathbf{x}$ from a common distribution, an *estimate* for a parameter $\\theta$ is a numerical value $\\hat{\\theta}$ that is a function of the observed data.\n",
    "```\n",
    "````\n",
    "\n"
   ]
  },
  {
   "cell_type": "markdown",
   "metadata": {},
   "source": [
    "Given the data $\\mathbf{x}$, let the estimate for $\\theta$ be the value of a function evaluated on the data, $\\hat{\\theta}= g(\\mathbf{x})$. Then the main problem of parameter estimation is how to choose a **good** function. Rather than choose a function for one specific set of data $\\mathbf{x}$, we want to choose a function that will have good properties for any data. In this case, the data itself becomes a vector of random variables, which we will denote by a bold upper-case letter. The random data is then $\\mathbf{X} = \\left[ X_0, X_1, \\ldots, X_{N-1} \\right].$ If we apply a function to the data to create an estimated value, its output will itself be a random variable, which we call an *estimator*:\n",
    "\n",
    "````{card}\n",
    "DEFINITION\n",
    "^^^\n",
    "```{glossary}\n",
    "estimate\n",
    "    Given a vector of random variables $\\mathbf{X}$ from a common distribution, an *estimator* for a parameter $\\theta$ of the distribution is a random variable $\\hat{\\Theta}$ that is a function of the random variables.\n",
    "```\n",
    "````\n",
    "\n"
   ]
  },
  {
   "cell_type": "markdown",
   "metadata": {},
   "source": [
    "If our estimator is $\\hat{\\Theta} = g(\\mathbf{X})$, then we wish to choose the function $g()$ such that the estimator has good properties. However, we need to define what we mean by \"good\". Our first step is to introduce some additional terminology.\n"
   ]
  },
  {
   "cell_type": "markdown",
   "metadata": {
    "jp-MarkdownHeadingCollapsed": true,
    "tags": []
   },
   "source": [
    "## Terminology\n",
    "\n",
    "Let $\\mathbf{X}$ be random variables from a common distribution with parameter $\\theta$ and let $\\hat{\\Theta}=g(\\mathbf{X})$ be an **estimator** for  $\\theta$. Then we define the following term:\n",
    "\n",
    "* The **estimator error** is  $\\hat{\\Theta} - \\theta$.\n",
    "\n",
    "\n",
    "* The **estimator bias** is the difference between the mean value of the estimator and the true value of the parameter, $ E[\\hat{\\Theta}] - \\theta$\n",
    "\n",
    "* An estimator is said to be **unbiased** if $E[\\hat{\\theta}] = \\theta$; i.e. if the estimator bias is zero.\n"
   ]
  },
  {
   "cell_type": "markdown",
   "metadata": {},
   "source": [
    "## Estimating Mean and Variance\n",
    "\n",
    "Suppose that $X=\\{X_1,X_2,\\cdots, X_N\\}$ are independent observations that come from a common distribution. For our purposes, we do not define provide a technical definition for independence of multiple random variables. Informally, independence generally means:\n",
    "* the randomness associated with different random variables came from separate random sources, and\n",
    "* knowing the value of one or more of the random variables does not change the distribution of any of the remaining random variables.\n",
    "\n",
    "### Estimating the Mean\n",
    "\n",
    "Let $\\mu_X$ denote the mean of the distribution of the random variables. Then $\\mu_X$ is usually estimated via the **sample mean**, \n",
    "\n",
    "$$\n",
    "\\hat{\\mu}_X = \\frac{1}{N} \\sum_{i=0}^{N-1} X_i\n",
    "$$\n",
    "\n",
    "The expected value of the sample mean estimator is \n",
    "\n",
    "\\begin{align*}\n",
    "E\\left[\\hat{\\mu}_X \\right]\n",
    "&= E \\left[\\frac{1}{N} \\sum_{i=0}^{N-1} X_i\\right]\\\\\n",
    "&=\\frac{1}{N} \\sum_{i=0}^{N-1} E \\left[ X_i\\right] ~~~(\\mbox{by linearity})\\\\\n",
    "&=\\frac{1}{N} \\sum_{i=0}^{N-1} \\mu_X \\\\\n",
    "&= \\mu_X\n",
    "\\end{align*}\n",
    "  \n",
    "Thus, this estimator is **unbiased**.\n",
    "\n",
    "In addition, the sample mean estimator can be shown to be the estimator that minimizes the sum of the mean-square errors to the data,\n",
    "\\begin{equation*}\n",
    "\\min_c E \\left[ \\sum_{i=0}^{N-1} (X_i -c)^2 \\right] = \\hat{\\mu}_X.\n",
    "\\end{equation*}\n",
    "\n",
    "(The derivation is not hard, but is outside the scope of this text. It follows by expanding the quadratic term, applying linearity of the expectation operator, taking the derivative of the left-hand side of the equation with respect to $c$, and setting the result to 0.)"
   ]
  },
  {
   "cell_type": "markdown",
   "metadata": {},
   "source": [
    "### Estimating the Variance\n",
    "\n",
    "\n",
    "\n",
    "The most natural estimator of $\\sigma^2_X$ is the **sample variance**: $\\hat{\\sigma}^2_X = \\frac{1}{N}\\sum_{i=1}^N (X_i-\\mu_X)^2$\n",
    "    \n",
    "This estimator is **biased**, since $E\\left[\\hat{\\sigma}^2_X\\right] = \\frac{N-1}{N}\\sigma_X^2$\n",
    "\n",
    "We can obtain an **unbiased variance estimator** after some suitable scaling. This is the estimator: $\\hat{\\sigma}^2_X = \\frac{1}{N-1}\\sum_{i=1}^N (X_i-\\mu_X)^2$"
   ]
  },
  {
   "cell_type": "markdown",
   "metadata": {},
   "source": [
    "# Sum of Independent Gaussian RVs\n",
    "\n",
    "Suppose now that we have two independent data samples, $X_1=\\{X_,X_2,\\cdots,X_N\\}$ and $Y=\\{Y_1,Y_2,\\cdots,Y_N\\}$, that we think can be modeled as coming from Gaussian distributions.\n",
    "\n",
    "* So both samples are **independent and identically distributed (i.i.d.)**.\n",
    "\n",
    "* If we observe a difference in the sample means for the two data sets, how can we determine analytically if the ensemble means are different?\n",
    "\n",
    "* Let's assume that distributions for the two data sets have a common variance and we know the variance, $\\sigma^2$.\n",
    "\n",
    "We need to know a few more facts about **sums of independent Gaussian random variables**:\n",
    "\n",
    "1. If $X$ and $Y$ are independent RVs, then\n",
    "\n",
    "$$Var[X +Y] = Var[X]+Var[Y]$$\n",
    "\n",
    "2. If $X$ and $Y$ are independent Gaussian random variables with\n",
    "\n",
    "$$X \\sim \\text{Gaussian}(\\mu_X, \\sigma_X^2)$$\n",
    "\n",
    "and\n",
    "\n",
    "$$Y \\sim \\text{Gaussian}(\\mu_Y, \\sigma_Y^2)$$\n",
    "\n",
    "Then\n",
    "\n",
    "$$Z = X+Y \\sim \\text{Gaussian}(\\mu_Z, \\sigma_Z^2)$$\n",
    "\n",
    "By linearity $\\mu_z = \\mu_X + \\mu_Y$, and by the previous property $\\sigma_Z^2 = \\sigma_X^2 + \\sigma_Y^2$.\n",
    "\n",
    "3. If $Z$ is a Gaussian random variable, $aZ + b$ is also a Gaussian random variable.\n",
    "\n",
    "Let's start by considering the statistics of a single sample mean,\n",
    "    \n",
    "$$\\hat{\\mu}_X = \\frac{1}{N} \\sum_{i=1}^N X_i$$"
   ]
  },
  {
   "cell_type": "markdown",
   "metadata": {},
   "source": [
    "By the properties above, we can see:\n",
    "\n",
    "* $\\hat{\\mu}_X$ is a Gaussian random variable\n",
    "\n",
    "* The mean of $\\hat{\\mu}_X$ is $E[\\hat{\\mu}_X] = \\mu_X$\n",
    "\n",
    "* The variance of $\\hat{\\mu}_X$ is \n",
    "\n",
    "\\begin{align}\n",
    "Var\\left[\\frac{1}{N}\\sum_{i=1}^N X_i\\right] &= \\frac{1}{N^2} Var\\left[\\sum_{i=1}^N X_i\\right]\\\\\n",
    "&= \\frac{1}{N^2} \\sum_{i=1}^N Var\\left[X_i\\right]\\\\\n",
    "&= \\frac{1}{N^2} \\sum_{i=1}^N \\sigma_X^2\\\\\n",
    "&= \\frac{\\sigma_X^2}{N}\n",
    "\\end{align}\n",
    "    \n",
    "(Note that the variance of the sample mean decreases linearly with the number of samples. This can be used to show that the sample mean converges to the true mean if the variance of the original random variable is finite.)"
   ]
  },
  {
   "cell_type": "markdown",
   "metadata": {},
   "source": [
    "# Binary Hypothesis Tests involving Sample Mean *with Known and Equal Variances*\n",
    "\n",
    "Suppose we have samples from two populations\n",
    "\n",
    "$$x_i, i=1,2,\\dots,M$$\n",
    "\n",
    "and\n",
    "\n",
    "$$y_j, j=1,2,\\dots,N$$\n",
    "\n",
    "where $x_i$ and $y_j$ are observed vaues of random variables $X$ and $Y$, which are assumed to have common variance $\\sigma^2$.\n",
    "\n",
    "* Let the averages of the data samples be\n",
    "\n",
    "$$\\bar{x} = \\frac{1}{M}\\sum_{i=1}^{M} x_i \\text{, and } \\bar{y} = \\frac{1}{N}\\sum_{j=1}^{N} y_j$$\n",
    "\n",
    "and denote the true means of the distributions $\\mu_X$ and $\\mu_Y$, respectively.\n",
    "\n",
    "* Note that if the number of samples from each population is relatively large ($\\geq 10$), then even if the original population does not have a Gaussian distribution, the averages will still be approximately Gaussian - Central Limit Theorem (TLC)\n",
    "\n",
    "* **If $\\bar{x} \\neq \\bar{y}$, how can we conduct a binary hypothesis test on whether the two populations have different means?**\n",
    "\n",
    "* What is the null hypothesis?\n",
    "\n",
    "**The means are the same: $\\mu_X = \\mu_Y$**\n",
    "\n",
    "* Under the null hypothesis, compute the difference in the sample averages and determine the probability that a difference that large would be observed under the null hypothesis.\n",
    "\n",
    "* Thus, our test statistic is the differentce in averages,\n",
    "\n",
    "$$t = \\bar{x} - \\bar{y}$$\n",
    "\n",
    "* Let $\\hat{\\mu}_X$ and $\\hat{\\mu}_Y$ be the sample means of random samples of sizes $M$ and $N$ from $f_X()$ and $f_Y()$, respectively. We can view $t$ as an instantiation of\n",
    "\n",
    "$$T = \\bar{\\mu}_X - \\bar{\\mu}_Y$$\n",
    "\n",
    "* If $\\mu_X = \\mu_Y = \\mu$, then $E[\\bar{\\mu}_X] = E[\\bar{\\mu}_Y] = \\mu$\n",
    "\n",
    "* Then, by linearity\n",
    "\n",
    "$$E[T] = E[\\bar{\\mu}_X - \\bar{\\mu}_Y] = E[\\bar{\\mu}_X] - E[\\bar{\\mu}_Y] = \\mu - \\mu = 0 = \\mu_T$$\n",
    "\n",
    "* We can compute the variance of $T$ under the null hypothesis as:\n",
    "\n",
    "\\begin{align}\n",
    "Var[T] &= Var[\\bar{\\mu}_X - \\bar{\\mu}_Y] \\\\\n",
    "&= Var[\\bar{\\mu}_X + (-\\bar{\\mu}_Y)] \\\\\n",
    "&= Var[\\bar{\\mu}_X] + Var[-\\bar{\\mu}_Y] \\\\\n",
    "&= Var[\\bar{\\mu}_X] + (-1)^2 Var[\\bar{\\mu}_Y] \\\\\n",
    "&= \\frac{\\sigma^2}{M} + \\frac{\\sigma^2}{N} \\\\\n",
    "& = \\left( \\frac{1}{M} + \\frac{1}{N} \\right) \\sigma^2 \\\\\n",
    "&= \\sigma_T^2\n",
    "\\end{align}\n",
    "\n",
    "* Finally, we can compute the probability of observing a difference in means as large as $t$. For convenience of discussion, assume $\\bar{x} > \\bar{y}$:\n",
    "\n",
    "Let $t$ be the observed difference $\\bar{x}-\\bar{y} > 0$\n",
    "\n",
    "Hypothesis test:\n",
    "\n",
    "* What is $P(\\text{see result as extreme under }H_0)$\n",
    "\n",
    "    * One-sided Hypothesis test: \n",
    "    \n",
    "    $$P(T \\geq t | H_0) = Q\\left(\\frac{t-\\mu_T}{\\sigma_T}\\right) = Q\\left(\\frac{t}{\\sigma \\sqrt{\\frac{1}{M}+\\frac{1}{N}}}\\right)$$\n",
    "    \n",
    "    * Two-sided Hypothesis test:\n",
    "    \n",
    "    $$P(|T| \\geq t | H_0) = 2 Q\\left(\\frac{t}{\\sigma \\sqrt{\\frac{1}{M}+\\frac{1}{N}}}\\right)$$"
   ]
  },
  {
   "cell_type": "markdown",
   "metadata": {},
   "source": [
    "## Example\n",
    "\n",
    "The city of Gainesville claims the mean commute time on SW 24th Ave from I-75 to UF is 23 minutes with a variance of 50. A friend traveled that route 10 times over the last two weeks and had an average commute time of 27 minutes. Conduct a hypothesis test to determine whether the City of Gainesville’s model is reasonable. Reject the null hypothesis if $p < 0.01$.\n",
    "\n",
    "**Null Hypothesis: city's model is correct**\n",
    "\n",
    "$$X_i \\sim \\text{Gaussian}(23, \\sigma_X^2 = 50)$$\n",
    "\n",
    "* What is the probability that we oberved a result this extreme, i.e., $\\hat{\\mu} = 27 $mins?\n",
    "\n",
    "$$\\hat{\\mu} = \\frac{1}{10} \\sum_{i=1}^{10} X_i\\text{, (sample mean estimator)}$$\n",
    "\n",
    "$$E[\\hat{\\mu}] = 23 = \\mu$$\n",
    "\n",
    "$$Var[\\hat{\\mu}] = \\sigma^2_{\\mu_X} = \\frac{\\sigma_X^2}{10} = \\frac{50}{10} = 5$$\n",
    "\n",
    "One-sided hypothesis test:\n",
    "\n",
    "$$P(\\hat{\\mu} \\geq 27) = P\\left(\\frac{\\hat{\\mu} - 23}{\\sigma_{\\mu_X}} \\geq \\frac{27 - 23}{\\sigma_{\\mu_X}}\\right) = P\\left( Z \\geq \\frac{27-23}{\\sqrt{5}} \\right) = Q\\left(\\frac{27-23}{\\sqrt{5}}\\right) = Q\\left(\\frac{4}{\\sqrt{5}}\\right)$$\n",
    "\n",
    "Two-sided hypothesis test:\n",
    "\n",
    "$$P(|\\hat{\\mu}| \\geq 27) = 2Q\\left(\\frac{4}{\\sqrt{5}}\\right)$$"
   ]
  },
  {
   "cell_type": "code",
   "execution_count": 7,
   "metadata": {},
   "outputs": [],
   "source": [
    "def q(x):\n",
    "    return stats.norm.sf(x)"
   ]
  },
  {
   "cell_type": "code",
   "execution_count": 8,
   "metadata": {},
   "outputs": [
    {
     "data": {
      "text/plain": [
       "0.03681913506015133"
      ]
     },
     "execution_count": 8,
     "metadata": {},
     "output_type": "execute_result"
    }
   ],
   "source": [
    "q(4/np.sqrt(5))"
   ]
  },
  {
   "cell_type": "code",
   "execution_count": 9,
   "metadata": {},
   "outputs": [
    {
     "data": {
      "text/plain": [
       "0.07363827012030266"
      ]
     },
     "execution_count": 9,
     "metadata": {},
     "output_type": "execute_result"
    }
   ],
   "source": [
    "2*q(4/np.sqrt(5))"
   ]
  },
  {
   "cell_type": "markdown",
   "metadata": {},
   "source": [
    "We cannot reject the null hypothesis because p>0.01."
   ]
  },
  {
   "cell_type": "markdown",
   "metadata": {},
   "source": [
    "# Binary Hypothesis Tests with *Unknown Variance*\n",
    "\n",
    "In many cases, the variance(s) of the underlying distributions are not known and must be estimated from the data.\n",
    "\n",
    "In this case, the underlying distribution is even more spread out from the mean than the Gaussian distribution. More of the probability is in the tails.\n",
    "\n",
    "The first step is to determine how to estimate the variance. Any ideas?\n",
    "\n",
    "* Let's generate 10 Gaussian random variables with mean 10 and variance 100. Find the sample variance. Let's do this for 10000 simulation steps, during each of which we redraw the 10 random variables and estimate the sample mean and variance. Using the average of the sample variance over the 10000 simulations as an estimator of the true variance, what do you observe?"
   ]
  },
  {
   "cell_type": "code",
   "execution_count": 14,
   "metadata": {},
   "outputs": [
    {
     "name": "stdout",
     "output_type": "stream",
     "text": [
      "mean is approximately  10.022526844732193\n",
      "variance is approximately  100.70572853104507\n"
     ]
    }
   ],
   "source": [
    "num_sims=10000\n",
    "num_vars=10\n",
    "sum_mux=0\n",
    "sum_varx=0\n",
    "for sim in range(num_sims):\n",
    "    x=stats.norm.rvs(loc=10,scale=10,size=num_vars)\n",
    "    # compute the mean and variance here and add to sum_mux and sum_varx\n",
    "    mux=np.sum(x)/len(x)\n",
    "    sum_mux+=mux\n",
    "    varx=np.sum((x-mux)**2)/(len(x)-1)\n",
    "    sum_varx+=varx\n",
    "    \n",
    "print('mean is approximately ',sum_mux/num_sims) \n",
    "print('variance is approximately ',sum_varx/num_sims) "
   ]
  },
  {
   "cell_type": "markdown",
   "metadata": {},
   "source": [
    "* If we use our *unbiased* estimator for the variance, then the distribution of\n",
    "\n",
    "$$\\frac{\\hat{\\mu}-\\mu}{S_{N-1}/\\sqrt{N}}$$\n",
    "\n",
    "has a **Student’s $t$-distribution with $N-1$ degrees of freedom (dof)**.\n",
    "\n",
    "* The density and distribution functions for the **Student's $t$-distribution** are shown on it's Wikipedia page: https://en.wikipedia.org/wiki/Student's_t-distribution\n",
    "\n",
    "* Unlike the Gaussian distribution, the distribution function for Student’s t-distribution is in closed form for several values of $\\nu$.\n",
    "\n",
    "* Compare the density function of the Gaussian random variable with $\\sigma^2=1$ with the Student's $t$ random variable with different degrees of freedom.\n",
    "     * Why does it behave this way?"
   ]
  },
  {
   "cell_type": "code",
   "execution_count": 9,
   "metadata": {},
   "outputs": [],
   "source": [
    "norm=stats.norm()\n",
    "t1=stats.t(1)\n",
    "t2=stats.t(2)\n",
    "t5=stats.t(5)\n",
    "tinf=stats.t(100000)"
   ]
  },
  {
   "cell_type": "code",
   "execution_count": 11,
   "metadata": {},
   "outputs": [
    {
     "data": {
      "image/png": "[encoded data removed]",
      "text/plain": [
       "<Figure size 432x288 with 1 Axes>"
      ]
     },
     "metadata": {
      "needs_background": "light"
     },
     "output_type": "display_data"
    }
   ],
   "source": [
    "x=np.linspace(-4,4,1000)\n",
    "plt.plot(x,norm.pdf(x),label='Gaussian')\n",
    "plt.plot(x,t1.pdf(x),label='t (dof=1)')\n",
    "plt.legend();"
   ]
  },
  {
   "cell_type": "code",
   "execution_count": 12,
   "metadata": {},
   "outputs": [
    {
     "data": {
      "image/png": "[encoded data removed]",
      "text/plain": [
       "<Figure size 432x288 with 1 Axes>"
      ]
     },
     "metadata": {
      "needs_background": "light"
     },
     "output_type": "display_data"
    }
   ],
   "source": [
    "x=np.linspace(-4,4,1000)\n",
    "plt.plot(x,norm.pdf(x),label='Gaussian')\n",
    "plt.plot(x,t2.pdf(x),label='t (dof=2)')\n",
    "plt.plot(x,t5.pdf(x),label='t (dof=5)')\n",
    "plt.legend();"
   ]
  },
  {
   "cell_type": "code",
   "execution_count": 13,
   "metadata": {},
   "outputs": [
    {
     "data": {
      "image/png": "[encoded data removed]",
      "text/plain": [
       "<Figure size 432x288 with 1 Axes>"
      ]
     },
     "metadata": {
      "needs_background": "light"
     },
     "output_type": "display_data"
    }
   ],
   "source": [
    "x=np.linspace(-4,4,1000)\n",
    "plt.plot(x,norm.pdf(x),label='Gaussian')\n",
    "plt.plot(x,tinf.pdf(x),label='t (dof=$\\infty$)')\n",
    "plt.legend();"
   ]
  },
  {
   "cell_type": "markdown",
   "metadata": {},
   "source": [
    "## Example: Analytical Test on Difference of Means (T-Test)\n",
    "\n",
    "Conduct an **analytical** binary hypothesis test on whether urban and rural populations have different firearms mortality rates."
   ]
  },
  {
   "cell_type": "code",
   "execution_count": 16,
   "metadata": {},
   "outputs": [],
   "source": [
    "import pandas as pd"
   ]
  },
  {
   "cell_type": "code",
   "execution_count": 17,
   "metadata": {},
   "outputs": [
    {
     "data": {
      "text/html": [
       "<div>\n",
       "<style scoped>\n",
       "    .dataframe tbody tr th:only-of-type {\n",
       "        vertical-align: middle;\n",
       "    }\n",
       "\n",
       "    .dataframe tbody tr th {\n",
       "        vertical-align: top;\n",
       "    }\n",
       "\n",
       "    .dataframe thead th {\n",
       "        text-align: right;\n",
       "    }\n",
       "</style>\n",
       "<table border=\"1\" class=\"dataframe\">\n",
       "  <thead>\n",
       "    <tr style=\"text-align: right;\">\n",
       "      <th></th>\n",
       "      <th>STATE</th>\n",
       "      <th>RATE-2014</th>\n",
       "      <th>Percent Urban</th>\n",
       "    </tr>\n",
       "  </thead>\n",
       "  <tbody>\n",
       "    <tr>\n",
       "      <th>0</th>\n",
       "      <td>AL</td>\n",
       "      <td>16.9</td>\n",
       "      <td>59.0</td>\n",
       "    </tr>\n",
       "    <tr>\n",
       "      <th>1</th>\n",
       "      <td>AK</td>\n",
       "      <td>19.2</td>\n",
       "      <td>66.0</td>\n",
       "    </tr>\n",
       "    <tr>\n",
       "      <th>2</th>\n",
       "      <td>AZ</td>\n",
       "      <td>13.5</td>\n",
       "      <td>89.8</td>\n",
       "    </tr>\n",
       "    <tr>\n",
       "      <th>3</th>\n",
       "      <td>AR</td>\n",
       "      <td>16.6</td>\n",
       "      <td>56.2</td>\n",
       "    </tr>\n",
       "    <tr>\n",
       "      <th>4</th>\n",
       "      <td>CA</td>\n",
       "      <td>7.4</td>\n",
       "      <td>95.0</td>\n",
       "    </tr>\n",
       "  </tbody>\n",
       "</table>\n",
       "</div>"
      ],
      "text/plain": [
       "  STATE  RATE-2014  Percent Urban\n",
       "0    AL       16.9           59.0\n",
       "1    AK       19.2           66.0\n",
       "2    AZ       13.5           89.8\n",
       "3    AR       16.6           56.2\n",
       "4    CA        7.4           95.0"
      ]
     },
     "execution_count": 17,
     "metadata": {},
     "output_type": "execute_result"
    }
   ],
   "source": [
    "df=pd.read_csv(\"firearms-urban.csv\")\n",
    "df.head()"
   ]
  },
  {
   "cell_type": "markdown",
   "metadata": {},
   "source": [
    "Recall the data \"firearms-urban.csv\" where the columns of interest for this investigation are:\n",
    "\n",
    "* **RATE-2014**: The firearms mortality rate by state from 2014. \n",
    "\n",
    "* **Percent Urban**: The percentage of the total population in urban areas, from https://www.icip.iastate.edu/tables/population/urban-pct-states. Although this data is 2010, it should be sufficiently accurate for our purposes."
   ]
  },
  {
   "cell_type": "code",
   "execution_count": 16,
   "metadata": {},
   "outputs": [
    {
     "data": {
      "text/plain": [
       "RATE-2014        11.5\n",
       "Percent Urban    91.2\n",
       "Name: FL, dtype: float64"
      ]
     },
     "execution_count": 16,
     "metadata": {},
     "output_type": "execute_result"
    }
   ],
   "source": [
    "# Use the STATE column as the index\n",
    "df= df.set_index(\"STATE\")\n",
    "df.loc['FL']"
   ]
  },
  {
   "cell_type": "code",
   "execution_count": 18,
   "metadata": {},
   "outputs": [
    {
     "data": {
      "image/png": "[encoded data removed]",
      "text/plain": [
       "<Figure size 432x288 with 1 Axes>"
      ]
     },
     "metadata": {
      "needs_background": "light"
     },
     "output_type": "display_data"
    }
   ],
   "source": [
    "plt.scatter(df['Percent Urban'],df['RATE-2014'])\n",
    "plt.scatter(df.loc['FL']['Percent Urban'],df.loc['FL']['RATE-2014'])\n",
    "plt.xlabel('Percent of population in urban areas')\n",
    "plt.ylabel('Firearms mortality rate');"
   ]
  },
  {
   "cell_type": "code",
   "execution_count": 19,
   "metadata": {},
   "outputs": [],
   "source": [
    "urban=df[df['Percent Urban']>80]['RATE-2014']\n",
    "rural=df[df['Percent Urban']<=80]['RATE-2014']\n",
    "pooled=df['RATE-2014']"
   ]
  },
  {
   "cell_type": "code",
   "execution_count": 21,
   "metadata": {},
   "outputs": [
    {
     "data": {
      "text/plain": [
       "(8.677777777777777, 12.993750000000002)"
      ]
     },
     "execution_count": 21,
     "metadata": {},
     "output_type": "execute_result"
    }
   ],
   "source": [
    "urban.mean(),rural.mean()"
   ]
  },
  {
   "cell_type": "code",
   "execution_count": 23,
   "metadata": {},
   "outputs": [
    {
     "data": {
      "text/plain": [
       "(9.35, 12.8)"
      ]
     },
     "execution_count": 23,
     "metadata": {},
     "output_type": "execute_result"
    }
   ],
   "source": [
    "np.median(urban),np.median(rural)"
   ]
  },
  {
   "cell_type": "code",
   "execution_count": 22,
   "metadata": {},
   "outputs": [
    {
     "data": {
      "text/plain": [
       "4.315972222222225"
      ]
     },
     "execution_count": 22,
     "metadata": {},
     "output_type": "execute_result"
    }
   ],
   "source": [
    "diff=rural.mean()-urban.mean()\n",
    "diff"
   ]
  },
  {
   "cell_type": "code",
   "execution_count": 20,
   "metadata": {},
   "outputs": [
    {
     "data": {
      "image/png": "[encoded data removed]",
      "text/plain": [
       "<Figure size 432x288 with 1 Axes>"
      ]
     },
     "metadata": {
      "needs_background": "light"
     },
     "output_type": "display_data"
    }
   ],
   "source": [
    "counts,mybins,patches=plt.hist(urban,bins=20,alpha=0.5,label=\"Urban\")\n",
    "plt.hist(rural,bins=mybins,alpha=0.5,label=\"Rural\")\n",
    "plt.xlabel(\"Firearms Mortality Rate\");plt.ylabel(\"Counts\"); plt.legend();"
   ]
  },
  {
   "cell_type": "markdown",
   "metadata": {},
   "source": [
    "* Let's construct a **two-sided binary hypothesis test** using analytical techniques and determine the probability of such a large difference in means under the null hypothesis.\n",
    "\n",
    "The data comes from a single distribution, which implies same means and same variances.\n",
    "\n",
    "So, we will use the **T-random variable** to model this. We know: mean of $T$ is 0, and we need to calculate the variance from the data."
   ]
  },
  {
   "cell_type": "code",
   "execution_count": 24,
   "metadata": {},
   "outputs": [
    {
     "data": {
      "text/plain": [
       "11.440000000000003"
      ]
     },
     "execution_count": 24,
     "metadata": {},
     "output_type": "execute_result"
    }
   ],
   "source": [
    "pooled_mean=pooled.mean()\n",
    "pooled_mean"
   ]
  },
  {
   "cell_type": "code",
   "execution_count": 26,
   "metadata": {},
   "outputs": [
    {
     "data": {
      "text/plain": [
       "17.220408163265304"
      ]
     },
     "execution_count": 26,
     "metadata": {},
     "output_type": "execute_result"
    }
   ],
   "source": [
    "np.sum((pooled-pooled_mean)**2)/(len(pooled)-1)"
   ]
  },
  {
   "cell_type": "code",
   "execution_count": 27,
   "metadata": {},
   "outputs": [
    {
     "data": {
      "text/plain": [
       "17.22040816326531"
      ]
     },
     "execution_count": 27,
     "metadata": {},
     "output_type": "execute_result"
    }
   ],
   "source": [
    "pooled_var=np.var(pooled,ddof=1)\n",
    "pooled_var"
   ]
  },
  {
   "cell_type": "code",
   "execution_count": 28,
   "metadata": {},
   "outputs": [
    {
     "data": {
      "text/plain": [
       "1.4948270975056694"
      ]
     },
     "execution_count": 28,
     "metadata": {},
     "output_type": "execute_result"
    }
   ],
   "source": [
    "# We need to caLculate the variance of the difference of sample mean estimators\n",
    "sm_var=pooled_var*(1/len(urban)+1/len(rural))\n",
    "sm_var"
   ]
  },
  {
   "cell_type": "code",
   "execution_count": 29,
   "metadata": {},
   "outputs": [],
   "source": [
    "# Last parameter of T: degrees of freedom\n",
    "dof = len(pooled)-2\n",
    "dof = (len(urban)-1) + (len(rural)-1)"
   ]
  },
  {
   "cell_type": "markdown",
   "metadata": {},
   "source": [
    "**Way 1:**"
   ]
  },
  {
   "cell_type": "code",
   "execution_count": 40,
   "metadata": {},
   "outputs": [],
   "source": [
    "myt=stats.t(dof)"
   ]
  },
  {
   "cell_type": "code",
   "execution_count": 41,
   "metadata": {},
   "outputs": [
    {
     "data": {
      "image/png": "[encoded data removed]",
      "text/plain": [
       "<Figure size 432x288 with 1 Axes>"
      ]
     },
     "metadata": {
      "needs_background": "light"
     },
     "output_type": "display_data"
    }
   ],
   "source": [
    "t=np.linspace(-4,4,100)\n",
    "plt.plot(t, myt.pdf(t));"
   ]
  },
  {
   "cell_type": "code",
   "execution_count": 34,
   "metadata": {},
   "outputs": [
    {
     "data": {
      "text/plain": [
       "3.530068720144798"
      ]
     },
     "execution_count": 34,
     "metadata": {},
     "output_type": "execute_result"
    }
   ],
   "source": [
    "diff/np.sqrt(sm_var)"
   ]
  },
  {
   "cell_type": "code",
   "execution_count": 35,
   "metadata": {},
   "outputs": [
    {
     "data": {
      "text/plain": [
       "0.0004639918961189169"
      ]
     },
     "execution_count": 35,
     "metadata": {},
     "output_type": "execute_result"
    }
   ],
   "source": [
    "#1-sided test\n",
    "myt.sf(diff/np.sqrt(sm_var))"
   ]
  },
  {
   "cell_type": "code",
   "execution_count": 36,
   "metadata": {},
   "outputs": [
    {
     "data": {
      "text/plain": [
       "0.0009279837922378338"
      ]
     },
     "execution_count": 36,
     "metadata": {},
     "output_type": "execute_result"
    }
   ],
   "source": [
    "# 2-sided test\n",
    "2*myt.sf(diff/np.sqrt(sm_var))"
   ]
  },
  {
   "cell_type": "code",
   "execution_count": 37,
   "metadata": {},
   "outputs": [
    {
     "data": {
      "text/plain": [
       "0.0004639918961189169"
      ]
     },
     "execution_count": 37,
     "metadata": {},
     "output_type": "execute_result"
    }
   ],
   "source": [
    "# other 1-sided\n",
    "myt.cdf(-diff/np.sqrt(sm_var))"
   ]
  },
  {
   "cell_type": "markdown",
   "metadata": {},
   "source": [
    "**Way 2:**"
   ]
  },
  {
   "cell_type": "code",
   "execution_count": 42,
   "metadata": {},
   "outputs": [],
   "source": [
    "myt=stats.t(dof,scale=np.sqrt(sm_var))\n",
    "# We set the variance of the T random variable here, rather than scaling in the .sf() method"
   ]
  },
  {
   "cell_type": "code",
   "execution_count": 43,
   "metadata": {},
   "outputs": [
    {
     "data": {
      "image/png": "[encoded data removed]",
      "text/plain": [
       "<Figure size 432x288 with 1 Axes>"
      ]
     },
     "metadata": {
      "needs_background": "light"
     },
     "output_type": "display_data"
    }
   ],
   "source": [
    "t=np.linspace(-4,4,100)\n",
    "plt.plot(t, myt.pdf(t));\n",
    "# Note that this is slightly different than before\n",
    "# because of the increased variance"
   ]
  },
  {
   "cell_type": "code",
   "execution_count": 44,
   "metadata": {},
   "outputs": [
    {
     "data": {
      "text/plain": [
       "0.0004639918961189169"
      ]
     },
     "execution_count": 44,
     "metadata": {},
     "output_type": "execute_result"
    }
   ],
   "source": [
    "# 1-sided test\n",
    "myt.sf(diff)\n",
    "# We don't need to scale diff any more!\n",
    "# I feel like this is easier to understand"
   ]
  },
  {
   "cell_type": "code",
   "execution_count": 45,
   "metadata": {},
   "outputs": [
    {
     "data": {
      "text/plain": [
       "0.0009279837922378338"
      ]
     },
     "execution_count": 45,
     "metadata": {},
     "output_type": "execute_result"
    }
   ],
   "source": [
    "# 2-sided test\n",
    "2*myt.sf(diff)"
   ]
  },
  {
   "cell_type": "code",
   "execution_count": 46,
   "metadata": {},
   "outputs": [
    {
     "data": {
      "text/plain": [
       "0.0004639918961189169"
      ]
     },
     "execution_count": 46,
     "metadata": {},
     "output_type": "execute_result"
    }
   ],
   "source": [
    "# other 1-sided\n",
    "myt.cdf(-diff)"
   ]
  },
  {
   "cell_type": "markdown",
   "metadata": {},
   "source": [
    "# In-Class Assignment\n",
    "\n",
    "Use the Student's $T$ random variable to determine a 95% confidence interval for the mean difference under the null hypothesis. Is the resulting confidence interval compatible with the observed difference of means?\n",
    "\n",
    "*Hint:* The inverse CDF function in ```scipy.stats``` is called the Percent point function (PPF) and is given by the ```ppf``` method of random variable objects."
   ]
  },
  {
   "cell_type": "code",
   "execution_count": null,
   "metadata": {},
   "outputs": [],
   "source": []
  }
 ],
 "metadata": {
  "kernelspec": {
   "display_name": "Python 3 (ipykernel)",
   "language": "python",
   "name": "python3"
  },
  "language_info": {
   "codemirror_mode": {
    "name": "ipython",
    "version": 3
   },
   "file_extension": ".py",
   "mimetype": "text/x-python",
   "name": "python",
   "nbconvert_exporter": "python",
   "pygments_lexer": "ipython3",
   "version": "3.9.12"
  },
  "latex_envs": {
   "LaTeX_envs_menu_present": true,
   "autoclose": true,
   "autocomplete": true,
   "bibliofile": "biblio.bib",
   "cite_by": "apalike",
   "current_citInitial": 1,
   "eqLabelWithNumbers": true,
   "eqNumInitial": 1,
   "hotkeys": {
    "equation": "Ctrl-E",
    "itemize": "Ctrl-I"
   },
   "labels_anchors": false,
   "latex_user_defs": false,
   "report_style_numbering": false,
   "user_envs_cfg": false
  }
 },
 "nbformat": 4,
 "nbformat_minor": 4
}
