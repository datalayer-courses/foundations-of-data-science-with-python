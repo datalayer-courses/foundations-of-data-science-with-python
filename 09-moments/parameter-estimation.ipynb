{
 "cells": [
  {
   "cell_type": "markdown",
   "metadata": {
    "tags": []
   },
   "source": [
    "# Parameter Estimation"
   ]
  },
  {
   "cell_type": "markdown",
   "metadata": {},
   "source": [
    "We often have the following problem: we observe data $x_0, x_1, \\ldots, x_{N-1}$ that come from some common underlying distribution, $F_X(x)$. However, the details of the underlying distribution are not completely known. In this section, we consider the problem of estimating parameters of the distribution, such as the mean and variance. Let $\\theta$ denote some parameter of the distribution that we wish to estimate. Then there are two different philosophies for how to treat $\\theta$, and these different philosophies result in different mathematical approaches:\n",
    "* $\\theta$ can be treated as constant, but unknown. The parameter $\\theta$ is not considered deterministic (not random). This is considered *classical parameter estimation* and is the approach taken in this section.\n",
    "* $\\theta$ can be considered to be random. This typically results in a Bayesian approach to parameter estimation in which the *a posteriori* distribution for $\\theta$ is determined from the data and some *a priori* distribution on $\\theta$. \n",
    "\n",
    "In this section, the discussion and examples use continuous random variables, so the mathematics will use density functions $f_X(x)$. In most cases the results generalize to discrete random variables if the pdf are replaced by PMFs.  It is helpful to make explicit the effect on the density function of the parameter(s) being estimated; i.e., we want to show that the density at some point $x$ depends on $\\theta$. We will use $f_X(x;\\theta)$ to make this effect clear. We do not use use a conditioning bar ($|$) here because $\\theta$ is not a value of a random variable.\n",
    "\n",
    "The correct way to interpret $f_X(x;\\theta)$ is that it represents a family of density functions for different values of $\\theta$. For instance, if $\\theta$ is the parameter of an exponential random variable, then some of the possible density functions are shown below:\n"
   ]
  },
  {
   "cell_type": "code",
   "execution_count": 1,
   "metadata": {},
   "outputs": [
    {
     "data": {
      "image/png": "[encoded data removed]",
      "text/plain": [
       "<Figure size 432x288 with 1 Axes>"
      ]
     },
     "metadata": {
      "needs_background": "light"
     },
     "output_type": "display_data"
    }
   ],
   "source": [
    "import matplotlib.pyplot as plt\n",
    "import numpy as np\n",
    "import scipy.stats as stats\n",
    "\n",
    "x = np.linspace(0,4, 101)\n",
    "\n",
    "for l in [0.5, 1, 3]:\n",
    "  X = stats.expon(scale=1/l)\n",
    "  plt.plot(x, X.pdf(x), label=f'$\\lambda={l}$' )\n",
    "  \n",
    "plt.title('Samples from family of exponential densities parameterized by $\\lambda$')\n",
    "plt.xlabel('$x$')\n",
    "plt.ylabel('$f_X(x;\\lambda)$')\n",
    "plt.legend();"
   ]
  },
  {
   "cell_type": "markdown",
   "metadata": {},
   "source": [
    "Now suppose we have samples from some exponential density $f_X(x;\\lambda)$? How should we estimate $\\lambda$? More generally, how should we estimate $\\theta$ from the observations $x_0, x_1, \\ldots, x_{N-1}$? First, let's simplify the notation for the observations by writing them as a *vector*:\n",
    "\n",
    "````{card}\n",
    "DEFINITION\n",
    "^^^\n",
    "```{glossary}\n",
    "vector\n",
    "    An ordered list of numbers, usually shown enclosed in square brackets and separated by commas.\n",
    "```\n",
    "````\n"
   ]
  },
  {
   "cell_type": "markdown",
   "metadata": {},
   "source": [
    "\n",
    "Vectors are similar to Python's lists and tuples. In this text, we will use bold, lower-case letters to denote vectors. For instance, we can write a vector of the squares of the first five  counting numbers as $\\mathbf{x} = \\left[ 1, 4, 9, 16, 25\\right]$. Since it is hard to handwrite bold letters, we will use underlined lower-case letters to represent vectors when we write them by hand. We will collect our observed data into a vector\n",
    "\n",
    "$$\n",
    "\\mathbf{x} = \\left[ x_0, x_1, \\ldots, x_{N-1} \\right].\n",
    "$$\n",
    "\n",
    "\n",
    "We wish to estimate $\\theta$ from $\\mathbf{x}$. We will use \"hats\" on an item to indicate that item is being estimated.\n",
    "\n",
    "````{card}\n",
    "DEFINITION\n",
    "^^^\n",
    "```{glossary}\n",
    "estimate\n",
    "    Given a vector of observed values $\\mathbf{x}$ from a common distribution, an *estimate* for a parameter $\\theta$ is a numerical value $\\hat{\\theta}$ that is a function of the observed data.\n",
    "```\n",
    "````\n",
    "\n"
   ]
  },
  {
   "cell_type": "markdown",
   "metadata": {},
   "source": [
    "Given the data $\\mathbf{x}$, let the estimate for $\\theta$ be the value of a function evaluated on the data, $\\hat{\\theta}= g(\\mathbf{x})$. Then the main problem of parameter estimation is how to choose a **good** function. Rather than choose a function for one specific set of data $\\mathbf{x}$, we want to choose a function that will have good properties for any data. In this case, the data itself becomes a vector of random variables, which we will denote by a bold upper-case letter. The random data is then $\\mathbf{X} = \\left[ X_0, X_1, \\ldots, X_{N-1} \\right].$ If we apply a function to the data to create an estimated value, its output will itself be a random variable, which we call an *estimator*:\n",
    "\n",
    "````{card}\n",
    "DEFINITION\n",
    "^^^\n",
    "```{glossary}\n",
    "estimate\n",
    "    Given a vector of random variables $\\mathbf{X}$ from a common distribution, an *estimator* for a parameter $\\theta$ of the distribution is a random variable $\\hat{\\Theta}$ that is a function of the random variables.\n",
    "```\n",
    "````\n",
    "\n"
   ]
  },
  {
   "cell_type": "markdown",
   "metadata": {},
   "source": [
    "If our estimator is $\\hat{\\Theta} = g(\\mathbf{X})$, then we wish to choose the function $g()$ such that the estimator has good properties. However, we need to define what we mean by \"good\". Our first step is to introduce some additional terminology.\n"
   ]
  },
  {
   "cell_type": "markdown",
   "metadata": {
    "jp-MarkdownHeadingCollapsed": true,
    "tags": []
   },
   "source": [
    "## Terminology\n",
    "\n",
    "Let $\\mathbf{X}$ be random variables from a common distribution with parameter $\\theta$ and let $\\hat{\\Theta}=g(\\mathbf{X})$ be an **estimator** for  $\\theta$. Then we define the following term:\n",
    "\n",
    "* The **estimator error** is  $\\hat{\\Theta} - \\theta$.\n",
    "\n",
    "\n",
    "* The **estimator bias** is the difference between the mean value of the estimator and the true value of the parameter, $ E[\\hat{\\Theta}] - \\theta$\n",
    "\n",
    "* An estimator is said to be **unbiased** if $E[\\hat{\\theta}] = \\theta$; i.e. if the estimator bias is zero.\n"
   ]
  },
  {
   "cell_type": "markdown",
   "metadata": {},
   "source": [
    "## Estimating Mean and Variance\n",
    "\n",
    "Suppose that $X=\\{X_1,X_2,\\cdots, X_N\\}$ are independent observations that come from a common distribution. For our purposes, we do not define provide a technical definition for independence of multiple random variables. Informally, independence generally means:\n",
    "* the randomness associated with different random variables came from separate random sources, and\n",
    "* knowing the value of one or more of the random variables does not change the distribution of any of the remaining random variables.\n",
    "\n",
    "### Estimating the Mean\n",
    "\n",
    "Let $\\mu_X$ denote the mean of the random variables. Then $\\mu_X$ is usually estimated via the **sample mean**, \n",
    "\n",
    "$$\n",
    "\\hat{\\mu}_X = \\frac{1}{N} \\sum_{i=0}^{N-1} X_i\n",
    "$$\n",
    "\n",
    "The expected value of the sample mean estimator is \n",
    "\n",
    "\\begin{align*}\n",
    "E\\left[\\hat{\\mu}_X \\right]\n",
    "&= E \\left[\\frac{1}{N} \\sum_{i=0}^{N-1} X_i\\right]\\\\\n",
    "&=\\frac{1}{N} \\sum_{i=0}^{N-1} E \\left[ X_i\\right] ~~~(\\mbox{by linearity})\\\\\n",
    "&=\\frac{1}{N} \\sum_{i=0}^{N-1} \\mu_X \\\\\n",
    "&= \\mu_X\n",
    "\\end{align*}\n",
    "  \n",
    "Thus, this estimator is **unbiased**.\n",
    "\n",
    "In addition, the sample mean estimator can be shown to be the estimator that minimizes the sum of the mean-square errors to the data,\n",
    "\\begin{equation*}\n",
    "\\min_c E \\left[ \\sum_{i=0}^{N-1} (X_i -c)^2 \\right] = \\hat{\\mu}_X.\n",
    "\\end{equation*}\n",
    "\n",
    "(The derivation is not hard, but is outside the scope of this text. It follows by expanding the quadratic term, applying linearity of the expectation operator, taking the derivative of the left-hand side of the equation with respect to $c$, setting the result to 0, and then solving for $c$.)\n",
    "\n",
    "The sample mean estimator converges to the true mean if the variance of the distribution is finite. Below is a graph that shows the sample mean estimate as a function of the number of random values used to create the estimate, when the sample mean estimate is computed on subsets of a set of 1,000 random values from a Normal(1, 2) distribution:"
   ]
  },
  {
   "cell_type": "code",
   "execution_count": 2,
   "metadata": {},
   "outputs": [
    {
     "data": {
      "image/png": "[encoded data removed]",
      "text/plain": [
       "<Figure size 432x288 with 1 Axes>"
      ]
     },
     "metadata": {
      "needs_background": "light"
     },
     "output_type": "display_data"
    }
   ],
   "source": [
    "seed =  1234\n",
    "np.random.seed(seed)\n",
    "X = stats.norm(1, 2)\n",
    "Xvals = X.rvs(1_000)\n",
    "sums = np.cumsum(Xvals)\n",
    "avgs = sums/np.arange(1, 1001)\n",
    "\n",
    "plt.plot(np.arange(1, 1001), avgs, label='Sample Mean')\n",
    "plt.xlabel('Number of values in average');\n",
    "plt.ylabel('Value');\n",
    "plt.plot(np.arange(1,1001), [0]*1000, label='True Mean');\n",
    "plt.legend();"
   ]
  },
  {
   "cell_type": "markdown",
   "metadata": {},
   "source": [
    "**Evaluating bias via simulation**\n",
    "\n",
    "Let's consider again what it means for the average (sample mean) to be an unbiased estimator. **It does not mean that the average converges to the true mean for large $N$ -- unbiased has nothing to do with the number of samples in the data.** Instead, it means that for any $N$, the expected value of the average is equal to the true mean. \n",
    "\n",
    "We can check estimate the expected value of an estimator through simulation by calculating the value of the estimator for many different random samples. Then the expected value of the estimator is the average over all of those samples. Below is a simulation that estimates the expected value of the sample mean estimator for $N=10$:"
   ]
  },
  {
   "cell_type": "code",
   "execution_count": 3,
   "metadata": {},
   "outputs": [
    {
     "name": "stdout",
     "output_type": "stream",
     "text": [
      "The estimated mean of the sample mean estimator is 1.00\n"
     ]
    }
   ],
   "source": [
    "num_sims = 100_000\n",
    "data_size = 10 # This is our N\n",
    "X = stats.norm(1, 2)\n",
    "\n",
    "total_avg = 0\n",
    "for sim in range(num_sims):\n",
    "  Xvals = X.rvs(data_size)\n",
    "  avg = Xvals.mean()\n",
    "  total_avg += avg\n",
    "  \n",
    "print('The estimated mean of the sample mean estimator is'\n",
    "      +f'{total_avg/num_sims: 0.2f}')"
   ]
  },
  {
   "cell_type": "markdown",
   "metadata": {},
   "source": [
    "The estimated mean of the sample mean estimator is equal to the true mean, so this matches our theoretical result: the sample mean estimator is unbiased."
   ]
  },
  {
   "cell_type": "markdown",
   "metadata": {
    "tags": []
   },
   "source": [
    "### Estimating the Variance\n",
    "\n",
    "Let $\\sigma_{X}^{2}$ denote the variance of the random variables. Then there are two cases that should be considered for estimating the variance. \n",
    "\n",
    "\n",
    "**Known Mean:** First consider the case where the mean of the random variables, $\\mu_X$, is known. Let the sample variance estimator for this case be defined by\n",
    "\n",
    "```{math}\n",
    ":label: sample_variance1\n",
    "\\hat{\\sigma^2_X} = \\frac{1}{N}\\sum_{i=1}^N (X_i-\\mu_X)^2.\n",
    "```\n",
    "\n",
    "The expected value of the sample variance estimator is \n",
    "\\begin{align*}\n",
    "E \\left[\\hat{\\sigma^2_X} \\right] &=E \\left[ \\frac{1}{N}\\sum_{i=1}^N (X_i-\\mu_X)^2 \\right] \\\\\n",
    "&=  \\frac{1}{N}\\sum_{i=1}^N E \\left[(X_i-\\mu_X)^2 \\right] ~~~ (\\mbox{by linearity})\\\\\n",
    "&= \\frac{1}{N}\\sum_{i=1}^N \\sigma_{X}^{2} \\\\\n",
    "&= \\sigma_{X}^2.\n",
    "\\end{align*}\n",
    "\n",
    "So if the mean is known, the sample variance estimator in {eq}`sample_variance1` is an unbiased estimator and is commonly used for this purpose.\n",
    "\n",
    "As with the sample mean estimator, let's conduct a simulation to confirm the result that the sample variance estimator is unbiased. "
   ]
  },
  {
   "cell_type": "code",
   "execution_count": 4,
   "metadata": {},
   "outputs": [
    {
     "name": "stdout",
     "output_type": "stream",
     "text": [
      "The estimated mean of the sample variance estimator is 4.00\n"
     ]
    }
   ],
   "source": [
    "num_sims = 100_000\n",
    "data_size = 10 # This is our N\n",
    "X = stats.norm(1, 2)\n",
    "\n",
    "total_var = 0\n",
    "for sim in range(num_sims):\n",
    "  Xvals = X.rvs(data_size)\n",
    "  var = ((Xvals-1)**2).mean()\n",
    "  total_var += var\n",
    "  \n",
    "print('The estimated mean of the sample variance estimator is' +\n",
    "      f'{total_var/num_sims: 0.2f}')"
   ]
  },
  {
   "cell_type": "markdown",
   "metadata": {},
   "source": [
    "The estimated mean of the sample variance estimator matches the true variance (4), so this confirms the theoretical result that the sample variance estimator is unbiased."
   ]
  },
  {
   "cell_type": "markdown",
   "metadata": {},
   "source": [
    "\n",
    "**Unknown Mean:** \n",
    "\n",
    "Now consider the case where the variance of the data is being estimated when the mean is unknown. If we want to apply the sample variance estimator of the form in {eq}`sample_variance1`, we will have to replace the true value of $\\mu_X$ with its estimator, giving \n",
    "\n",
    "```{math}\n",
    ":label: sample_variance2\n",
    "\\hat{\\sigma^2_X} = \\frac{1}{N}\\sum_{i=1}^N (X_i-\\hat{\\mu}_X)^2.\n",
    "```\n",
    "\n",
    "Let's run a simulation to check if this is an unbiased estimator:"
   ]
  },
  {
   "cell_type": "code",
   "execution_count": 5,
   "metadata": {},
   "outputs": [
    {
     "name": "stdout",
     "output_type": "stream",
     "text": [
      "The estimated mean of the sample variance estimator is 3.61\n"
     ]
    }
   ],
   "source": [
    "num_sims = 100_000\n",
    "\n",
    "data_size = 10 # This is our N\n",
    "X = stats.norm(1, 2)\n",
    "\n",
    "total_var = 0\n",
    "for sim in range(num_sims):\n",
    "  Xvals = X.rvs(data_size)\n",
    "  avg = Xvals.mean()\n",
    "  var = ((Xvals-avg)**2).mean()\n",
    "  total_var += var\n",
    "  \n",
    "print('The estimated mean of the sample variance estimator is' +\n",
    "      f'{total_var/num_sims: 0.2f}')"
   ]
  },
  {
   "cell_type": "markdown",
   "metadata": {},
   "source": [
    "The estimated mean of the sample variance estimator is now not close to the true mean! If you rerun this block, you may see different values, but each value should be close to 3.6. This may seem surprising, but to see if this estimator is unbiased, we would need to calculate\n",
    "```{math}\n",
    ":label: bias_sample_var\n",
    "E \\left[ \\frac{1}{N}\\sum_{i=0}^{N-1} \\left(X_i- \\sum_{k=0}^{N-1} X_k \\right)^2 \\right].\n",
    "```\n",
    "\n",
    "Evaluating this expectation is somewhat tricky, but it can be evaluated in closed form, and the value of {eq}`bias_sample_var` is $\\sigma^2 (N-1)/N$. That is, this estimator produces a value that is biased too low by a factor of $(N-1)/N$. This matches our simulation example, which for a sample size of 10 was biased too low by a factor $(10-1)/10= 0.9$. \n",
    "\n",
    "NumPy has a built in variance estimator called `np.var()`. Let's rerun our simulation using `np.var()` to see if we encounter the same issue:\n"
   ]
  },
  {
   "cell_type": "code",
   "execution_count": 6,
   "metadata": {},
   "outputs": [
    {
     "name": "stdout",
     "output_type": "stream",
     "text": [
      "The estimated mean of the sample variance estimator is 3.61\n"
     ]
    }
   ],
   "source": [
    "num_sims = 100_000\n",
    "\n",
    "data_size = 10 # This is our N\n",
    "X = stats.norm(1, 2)\n",
    "\n",
    "total_var = 0\n",
    "for sim in range(num_sims):\n",
    "  Xvals = X.rvs(data_size)\n",
    "  var = Xvals.var()\n",
    "  total_var += var\n",
    "  \n",
    "print('The estimated mean of the sample variance estimator is' +\n",
    "      f'{total_var/num_sims: 0.2f}')"
   ]
  },
  {
   "cell_type": "markdown",
   "metadata": {},
   "source": [
    "Again, we see that the result is biased too low by a factor of $(N-1)/N$. Fortunately, this is very easy to fix if we want an unbiased estimator. We just multiply the previous estimator by a factor of $N/(N-1)$, which yields the following unbiased estimator when the true mean is unknown:\n",
    "```{math}\n",
    ":label: sample_variance3\n",
    "\\hat{\\sigma^2_X} = \\frac{1}{N-1}\\sum_{i=1}^N (X_i-\\hat{\\mu}_X)^2.\n",
    "```\n",
    "The change in denominator is often referred to a *degrees of freedom (dof) correction*. A detailed discussion of dof is beyond the scope of this text, but we can basically think that we started with a number of dof equal to the size of our data and used one in calculating the sample mean. \n",
    "\n",
    "Because a dof correction is so common in calculating the sample variance, NumPy supports passing a `ddof` parameter to `np.var()`, where `ddof` is the \"Delta Degrees of Freedom\". In other words, we don't need to pass $N-1$, we only need to pass the difference from $N$, which is `ddof=1`. Let's test this via simulation:"
   ]
  },
  {
   "cell_type": "code",
   "execution_count": 7,
   "metadata": {},
   "outputs": [
    {
     "name": "stdout",
     "output_type": "stream",
     "text": [
      "The estimated mean of the sample variance estimator is 4.00\n"
     ]
    }
   ],
   "source": [
    "num_sims = 100_000\n",
    "\n",
    "data_size = 10 # This is our N\n",
    "X = stats.norm(1, 2)\n",
    "\n",
    "total_var = 0\n",
    "for sim in range(num_sims):\n",
    "  Xvals = X.rvs(data_size)\n",
    "  var = Xvals.var(ddof = 1)\n",
    "  total_var += var\n",
    "  \n",
    "print('The estimated mean of the sample variance estimator is' +\n",
    "      f'{total_var/num_sims: 0.2f}')"
   ]
  },
  {
   "cell_type": "markdown",
   "metadata": {},
   "source": [
    "The result is now unbiased. Note, however, that this is a price to pay for having an unbiased estimator of the variance. Let's compute the mean-square error for the  biased and unbiased estimators using simulation:"
   ]
  },
  {
   "cell_type": "code",
   "execution_count": 8,
   "metadata": {},
   "outputs": [
    {
     "name": "stdout",
     "output_type": "stream",
     "text": [
      "MSE of biased variance estimator is 3.04\n",
      "MSE of unbiased variance estimator is 3.55\n"
     ]
    }
   ],
   "source": [
    "num_sims = 100_000\n",
    "\n",
    "data_size = 10 # This is our N\n",
    "X = stats.norm(1, 2)\n",
    "\n",
    "total_error_biased = 0\n",
    "total_error_unbiased = 0\n",
    "\n",
    "for sim in range(num_sims):\n",
    "  Xvals = X.rvs(data_size)\n",
    "  \n",
    "  var_biased = Xvals.var()\n",
    "  total_error_biased += (var_biased - X.var())**2\n",
    "  \n",
    "  var_unbiased = Xvals.var(ddof = 1)\n",
    "  total_error_unbiased += (var_unbiased - X.var())**2\n",
    "\n",
    "\n",
    "  \n",
    "print('MSE of biased variance estimator is' +\n",
    "      f'{total_error_biased/num_sims: 0.2f}')\n",
    "print('MSE of unbiased variance estimator is' +\n",
    "      f'{total_error_unbiased/num_sims: 0.2f}')"
   ]
  },
  {
   "cell_type": "markdown",
   "metadata": {},
   "source": [
    "This is an example of a property called the bias-variance tradeoff that plays an important role in statistics and machine learning problems.  Even though the unbiased estimator produces a higher MSE, we will still use the unbiased variance estimator in {eq}`sample_variance3` whenever we need to estimate the variance of data."
   ]
  },
  {
   "cell_type": "markdown",
   "metadata": {},
   "source": [
    "## Bootstrap Confidence Intervals for Estimates"
   ]
  },
  {
   "cell_type": "markdown",
   "metadata": {},
   "source": [
    "If we estimate parameters of a distribution from a data set and only return the estimated values, those are called point estimates. Point estimates are limited in their usefulness because they do not give any indication of the reliability of those estimates. To provide more information, it is helpful to specify confidence intervals for the parameters. We will use bootstrap sampling to generate confidence intervals. \n",
    "\n",
    "In the simulation below, 20 random values are drawn from a Normal(1, 2) distribution. Then the sample mean is calculated, and bootstrap sampling is used to also generate a 95% confidence interval. This process is repeated to show the sample mean and the confidence interval for 25 different random samples. The star marker indicates the average (sample mean) of the data, and the vertical line indicates the true mean (1). Confidence intervals that contain the true mean are indicated as solid, green lines; confidence intervals that do not contain the true mean are indicated by dashed, red/orange lines.  \n"
   ]
  },
  {
   "cell_type": "code",
   "execution_count": 9,
   "metadata": {},
   "outputs": [
    {
     "data": {
      "text/plain": [
       "Text(0.5, 1.0, 'Confidence Intervals for 25 Random Samples of Normal Data')"
      ]
     },
     "execution_count": 9,
     "metadata": {},
     "output_type": "execute_result"
    },
    {
     "data": {
      "image/png": "[encoded data removed]",
      "text/plain": [
       "<Figure size 360x720 with 1 Axes>"
      ]
     },
     "metadata": {
      "needs_background": "light"
     },
     "output_type": "display_data"
    }
   ],
   "source": [
    "import numpy.random as npr\n",
    "npr.seed(5678)\n",
    "\n",
    "num_sims = 25\n",
    "data_size = 10\n",
    "\n",
    "X = stats.norm(1,2 )\n",
    "\n",
    "plt.figure(figsize = (5,10) )\n",
    "for sim in range(num_sims):\n",
    "  Xvals = X.rvs(data_size)\n",
    "  avg = Xvals.mean()\n",
    "  \n",
    "  # Now do bootstrap sampling\n",
    "  num_bs_sims = 1000\n",
    "  bs_averages = np.zeros(num_bs_sims)\n",
    "  for bs_sim in range(num_bs_sims):\n",
    "    bs_sample = npr.choice(Xvals, data_size)\n",
    "    bs_avg = bs_sample.mean()\n",
    "    bs_averages[bs_sim] = bs_avg\n",
    "    \n",
    "  percentiles = np.percentile(bs_averages, [2.5, 97.5])\n",
    "  if percentiles[0] <= 1 and percentiles[1] >=1:\n",
    "    plt.plot(percentiles, [sim, sim], color='C2')\n",
    "  else:\n",
    "    plt.plot(percentiles, [sim, sim], color='C1', linestyle='--')\n",
    "  plt.scatter(avg, sim, marker='*')\n",
    " \n",
    "plt.axvline(1, alpha=0.3)\n",
    "plt.ylabel('Data Set Number');\n",
    "plt.xlabel('Value');\n",
    "plt.title('Confidence Intervals for 25 Random Samples of Normal Data')\n"
   ]
  },
  {
   "cell_type": "markdown",
   "metadata": {},
   "source": [
    "For the seed I arbitrarily chose, 2 out of 25 confidence intervals did not contain the true mean, which is 8%. In the long run, we expect at least 5% of confidence intervals to not contain the true mean, and the bootstrap estimator for CIs is not conservative enough for small data, so 8% may be accurate. The following simulation provides a more accurate estimate of the probability that the CI contains the true mean by running 1,000 simulations:"
   ]
  },
  {
   "cell_type": "code",
   "execution_count": 10,
   "metadata": {},
   "outputs": [
    {
     "name": "stdout",
     "output_type": "stream",
     "text": [
      "The probabilty a bootstrap CI does not contain the true mean is 0.10\n"
     ]
    }
   ],
   "source": [
    "num_sims = 2000\n",
    "data_size = 10\n",
    "\n",
    "X = stats.norm(1,2 )\n",
    "\n",
    "num_miss_true_mean = 0\n",
    "for sim in range(num_sims):\n",
    "  Xvals = X.rvs(data_size)\n",
    "  avg = Xvals.mean()\n",
    "  \n",
    "  # Now do bootstrap sampling\n",
    "  num_bs_sims = 1000\n",
    "  bs_averages = np.zeros(num_bs_sims)\n",
    "  for bs_sim in range(num_bs_sims):\n",
    "    bs_sample = npr.choice(Xvals, data_size)\n",
    "    bs_avg = bs_sample.mean()\n",
    "    bs_averages[bs_sim] = bs_avg\n",
    "    \n",
    "  percentiles = np.percentile(bs_averages, [2.5, 97.5])\n",
    "  if percentiles[0] > 1 or percentiles[1] <1:\n",
    "    num_miss_true_mean += 1\n",
    "\n",
    "print('The probabilty a bootstrap CI does not contain the true mean is' \n",
    "      + f'{num_miss_true_mean/num_sims : 0.2f}')"
   ]
  },
  {
   "cell_type": "markdown",
   "metadata": {},
   "source": [
    "We see that the actual that a bootstrap CI does not contain the true mean for this distribution is around 11%, when our target was 5%. Below is a table that shows the probability[^ci_probs] that a bootstrap sample does not contain the true mean for this distribution as a function of $N$:\n",
    "\n",
    "| Data Size ($N$) | Probability CI does not contain true mean |\n",
    "| :-: | :-: |\n",
    "| 5 | 16.3% |\n",
    "| 10 | 10.0% |\n",
    "| 25 | 6.9% |\n",
    "| 50 | 5.9% |\n",
    "| 75 | 5.6% |\n",
    "| 100 | 5.5% |\n",
    "\n",
    "Based on this distribution, bootstrap confidence intervals can only be considered accurate if they are generated from more than 100 data samples. However, better confidence intervals can be generated through bootstrap sampling using algorithms such as the $\\mbox{BC}_\\alpha$ method or $\\mbox{ABC}$ method[^efron_book], which are available in the Python [bootstrap-stat library](https://pypi.org/project/bootstrap-stat/).\n",
    "\n",
    "We will continue to use percentile-based bootstrap confidence intervals in this book for simplicity, but readers who need more accurate results should use one of the two algorithms mentioned above.\n",
    "\n",
    "[^ci_probs]: These probabilities are approximations; they were estimated via simulations of 100,000 random samples of the data for each data size.\n",
    "\n",
    "[^efron_book]: See Chapter 14 of *An Introduction to the Bootstrap* by Bradley Efron and Robert J. Tibshirani, Chapman & Hall/CRC, 1993."
   ]
  },
  {
   "cell_type": "code",
   "execution_count": 20,
   "metadata": {
    "tags": [
     "remove-cell"
    ]
   },
   "outputs": [],
   "source": [
    "from numba import jit\n"
   ]
  },
  {
   "cell_type": "code",
   "execution_count": 21,
   "metadata": {
    "tags": [
     "remove-cell"
    ]
   },
   "outputs": [],
   "source": [
    "@jit\n",
    "def sim_ci(data_size=5, num_sims=100_000):\n",
    "\n",
    "  num_bs_sims = 1000\n",
    "  X = stats.norm(1,2 )\n",
    "\n",
    "  num_miss_true_mean = 0\n",
    "  Xvals = X.rvs((num_sims, data_size))\n",
    "  avgs = Xvals.mean(axis=1)\n",
    "  bs_averages = np.zeros(num_bs_sims)\n",
    "  for sim in range(num_sims):\n",
    "\n",
    "    # Do bootstrap sampling\n",
    "\n",
    "    for bs_sim in range(num_bs_sims):\n",
    "      bs_sample = npr.choice(Xvals[sim], data_size)\n",
    "      bs_avg = bs_sample.mean()\n",
    "      bs_averages[bs_sim] = bs_avg\n",
    "\n",
    "    percentiles = np.percentile(bs_averages, [2.5, 97.5])\n",
    "    if percentiles[0] > 1 or percentiles[1] <1:\n",
    "      num_miss_true_mean += 1\n",
    "\n",
    "  #print('The probabilty a bootstrap CI does not contain the true mean is' \n",
    "       # + f'{num_miss_true_mean/num_sims*100 : 0.2f}')\n",
    "  return num_miss_true_mean/num_sims*100"
   ]
  },
  {
   "cell_type": "code",
   "execution_count": 22,
   "metadata": {
    "tags": [
     "remove-cell"
    ]
   },
   "outputs": [
    {
     "name": "stderr",
     "output_type": "stream",
     "text": [
      "/var/folders/gz/d_8lq2wn23x2lmhfh63cfl3400010v/T/ipykernel_70531/4212116520.py:1: NumbaWarning: \u001b[1m\n",
      "Compilation is falling back to object mode WITH looplifting enabled because Function \"sim_ci\" failed type inference due to: \u001b[1m\u001b[1mUnknown attribute 'norm' of type Module(<module 'scipy.stats' from '/Applications/anaconda3/lib/python3.9/site-packages/scipy/stats/__init__.py'>)\n",
      "\u001b[1m\n",
      "File \"../../../../../../../../var/folders/gz/d_8lq2wn23x2lmhfh63cfl3400010v/T/ipykernel_70531/4212116520.py\", line 5:\u001b[0m\n",
      "\u001b[1m<source missing, REPL/exec in use?>\u001b[0m\n",
      "\u001b[0m\n",
      "\u001b[0m\u001b[1mDuring: typing of get attribute at /var/folders/gz/d_8lq2wn23x2lmhfh63cfl3400010v/T/ipykernel_70531/4212116520.py (5)\u001b[0m\n",
      "\u001b[1m\n",
      "File \"../../../../../../../../var/folders/gz/d_8lq2wn23x2lmhfh63cfl3400010v/T/ipykernel_70531/4212116520.py\", line 5:\u001b[0m\n",
      "\u001b[1m<source missing, REPL/exec in use?>\u001b[0m\n",
      "\u001b[0m\n",
      "  @jit\n",
      "/var/folders/gz/d_8lq2wn23x2lmhfh63cfl3400010v/T/ipykernel_70531/4212116520.py:1: NumbaWarning: \u001b[1m\n",
      "Compilation is falling back to object mode WITHOUT looplifting enabled because Function \"sim_ci\" failed type inference due to: \u001b[1m\u001b[1mCannot determine Numba type of <class 'numba.core.dispatcher.LiftedLoop'>\u001b[0m\n",
      "\u001b[1m\n",
      "File \"../../../../../../../../var/folders/gz/d_8lq2wn23x2lmhfh63cfl3400010v/T/ipykernel_70531/4212116520.py\", line 11:\u001b[0m\n",
      "\u001b[1m<source missing, REPL/exec in use?>\u001b[0m\n",
      "\u001b[0m\u001b[0m\n",
      "  @jit\n",
      "/Applications/anaconda3/lib/python3.9/site-packages/numba/core/object_mode_passes.py:151: NumbaWarning: \u001b[1mFunction \"sim_ci\" was compiled in object mode without forceobj=True, but has lifted loops.\n",
      "\u001b[1m\n",
      "File \"../../../../../../../../var/folders/gz/d_8lq2wn23x2lmhfh63cfl3400010v/T/ipykernel_70531/4212116520.py\", line 4:\u001b[0m\n",
      "\u001b[1m<source missing, REPL/exec in use?>\u001b[0m\n",
      "\u001b[0m\n",
      "  warnings.warn(errors.NumbaWarning(warn_msg,\n",
      "/Applications/anaconda3/lib/python3.9/site-packages/numba/core/object_mode_passes.py:161: NumbaDeprecationWarning: \u001b[1m\n",
      "Fall-back from the nopython compilation path to the object mode compilation path has been detected, this is deprecated behaviour.\n",
      "\n",
      "For more information visit https://numba.readthedocs.io/en/stable/reference/deprecation.html#deprecation-of-object-mode-fall-back-behaviour-when-using-jit\n",
      "\u001b[1m\n",
      "File \"../../../../../../../../var/folders/gz/d_8lq2wn23x2lmhfh63cfl3400010v/T/ipykernel_70531/4212116520.py\", line 4:\u001b[0m\n",
      "\u001b[1m<source missing, REPL/exec in use?>\u001b[0m\n",
      "\u001b[0m\n",
      "  warnings.warn(errors.NumbaDeprecationWarning(msg,\n"
     ]
    },
    {
     "name": "stdout",
     "output_type": "stream",
     "text": [
      "5  16.3\n",
      "10  10.0\n",
      "25  6.9\n",
      "50  5.9\n",
      "75  5.6\n",
      "100  5.5\n"
     ]
    }
   ],
   "source": [
    "for data_size in [5, 10, 25, 50, 75, 100]:\n",
    "  print(data_size, f'{sim_ci(data_size) : 0.1f}' )"
   ]
  },
  {
   "cell_type": "markdown",
   "metadata": {},
   "source": [
    "Now that we have a better understanding of parameter estimation, we  revisit hypothesis testing for a difference of means in the next section."
   ]
  },
  {
   "cell_type": "code",
   "execution_count": null,
   "metadata": {},
   "outputs": [],
   "source": []
  }
 ],
 "metadata": {
  "kernelspec": {
   "display_name": "Python 3 (ipykernel)",
   "language": "python",
   "name": "python3"
  },
  "language_info": {
   "codemirror_mode": {
    "name": "ipython",
    "version": 3
   },
   "file_extension": ".py",
   "mimetype": "text/x-python",
   "name": "python",
   "nbconvert_exporter": "python",
   "pygments_lexer": "ipython3",
   "version": "3.9.12"
  },
  "latex_envs": {
   "LaTeX_envs_menu_present": true,
   "autoclose": true,
   "autocomplete": true,
   "bibliofile": "biblio.bib",
   "cite_by": "apalike",
   "current_citInitial": 1,
   "eqLabelWithNumbers": true,
   "eqNumInitial": 1,
   "hotkeys": {
    "equation": "Ctrl-E",
    "itemize": "Ctrl-I"
   },
   "labels_anchors": false,
   "latex_user_defs": false,
   "report_style_numbering": false,
   "user_envs_cfg": false
  }
 },
 "nbformat": 4,
 "nbformat_minor": 4
}
